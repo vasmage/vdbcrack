{
 "cells": [
  {
   "cell_type": "code",
   "execution_count": 24,
   "metadata": {},
   "outputs": [],
   "source": [
    "import numpy as np\n",
    "import time\n",
    "\n",
    "def compare_and_reassign(Assignments, Distances, I, D):\n",
    "    # Vectorized comparison between current and new distances for selected points\n",
    "    reassignment_mask = D < Distances[0, I]  # Boolean mask for points to be reassigned\n",
    "    \n",
    "    # Reassignments: indices of points to be reassigned\n",
    "    reassignments = I[reassignment_mask]  # Points where D < Distances\n",
    "    \n",
    "    # d_reassignments: the new distances for reassigned points\n",
    "    d_reassignments = D[reassignment_mask]  # New distances for those points\n",
    "    \n",
    "    return reassignments, d_reassignments\n",
    "\n",
    "# Benchmarking function\n",
    "def benchmark(N, m):\n",
    "    \n",
    "    # Generate random inputs\n",
    "    Assignments = np.random.randint(0, 10, size=(1, N))  # Example random assignments (centroid IDs)\n",
    "    Distances = np.random.rand(1, N)  # Random distances of points to their current centroids\n",
    "    I = np.random.randint(0, N, size=(1, m))  # Random indices of m points to check\n",
    "    D = np.random.rand(1, m)  # New distances for the selected m points\n",
    "    \n",
    "    # Start the timer\n",
    "    start_time = time.perf_counter()\n",
    "\n",
    "    # Perform the comparison and reassignment\n",
    "    reassignments, d_reassignments = compare_and_reassign(Assignments, Distances, I, D)\n",
    "\n",
    "    # Stop the timer\n",
    "    end_time = time.perf_counter()\n",
    "\n",
    "    # Return the results and the time taken\n",
    "    return reassignments, d_reassignments, end_time - start_time\n",
    "\n"
   ]
  },
  {
   "cell_type": "code",
   "execution_count": 57,
   "metadata": {},
   "outputs": [
    {
     "name": "stdout",
     "output_type": "stream",
     "text": [
      "Reassignments: [ 25077 721555 645097 ... 276466 785713 710240]\n",
      "New distances for reassigned points: [0.67339574 0.01503862 0.17511773 ... 0.60708491 0.65357686 0.2381887 ]\n",
      "Time taken: 0.16450000111944973 ms\n"
     ]
    }
   ],
   "source": [
    "# Example usage:\n",
    "N = 1_000_000  # Total number of points\n",
    "m = 10000    # Number of points to check for reassignment\n",
    "\n",
    "reassignments, d_reassignments, time_taken = benchmark(N, m)\n",
    "print(f\"Reassignments: {reassignments}\")\n",
    "print(f\"New distances for reassigned points: {d_reassignments}\")\n",
    "print(f\"Time taken: {time_taken * 1000} ms\")\n"
   ]
  },
  {
   "cell_type": "code",
   "execution_count": 100,
   "metadata": {},
   "outputs": [
    {
     "name": "stdout",
     "output_type": "stream",
     "text": [
      "Time taken: 0.16404900088673458 ms\n"
     ]
    }
   ],
   "source": [
    "import numpy as np\n",
    "import time\n",
    "\n",
    "def compare_and_reassign(Assignments, Distances, I, D, j, N, m):\n",
    "    # Initialize arrays to store the reassignments and corresponding distances\n",
    "    reassignments = []\n",
    "    d_reassignments = []\n",
    "    c_reassignments = []\n",
    "\n",
    "    # Vectorized approach: Compare distances for each row\n",
    "    for row_idx in range(j):\n",
    "        # Get the relevant distances and indices for the current row\n",
    "        current_distances = Distances[row_idx]\n",
    "        current_indices = I[row_idx]\n",
    "        new_distances = D[row_idx]\n",
    "        \n",
    "        # Create a mask of where the new distance is smaller\n",
    "        reassignment_mask = new_distances < current_distances[current_indices]\n",
    "        \n",
    "        # Get the reassigned points and their new distances\n",
    "        reassigned_points = current_indices[reassignment_mask]\n",
    "        new_dists = new_distances[reassignment_mask]\n",
    "        \n",
    "        # Store the results\n",
    "        reassignments.append(reassigned_points)\n",
    "        d_reassignments.append(new_dists)\n",
    "        c_reassignments.append(np.full_like(reassigned_points, row_idx, dtype=int))\n",
    "    \n",
    "    # Convert the results into numpy arrays\n",
    "    reassignments = np.concatenate(reassignments)\n",
    "    d_reassignments = np.concatenate(d_reassignments)\n",
    "    c_reassignments = np.concatenate(c_reassignments)\n",
    "    \n",
    "    return reassignments, d_reassignments, c_reassignments\n",
    "\n",
    "# Benchmarking function\n",
    "def benchmark(N, m, j):\n",
    "    # Generate random inputs for j rows of assignments and distances\n",
    "    Assignments = np.random.randint(0, 10, size=(j, N))  # Random assignments for j rows\n",
    "    Distances = np.random.rand(j, N)  # Random distances to centroids for j rows\n",
    "    I = np.random.randint(0, N, size=(j, m))  # Random indices to check (m points per row)\n",
    "    D = np.random.rand(j, m)  # New distances for m points per row\n",
    "    \n",
    "    # Start the timer\n",
    "    start_time = time.perf_counter()\n",
    "\n",
    "    # Perform the comparison and reassignment\n",
    "    reassignments, d_reassignments, c_reassignments = compare_and_reassign(Assignments, Distances, I, D, j, N, m)\n",
    "\n",
    "    # Stop the timer\n",
    "    end_time = time.perf_counter()\n",
    "\n",
    "    # Return the results and the time taken\n",
    "    return reassignments, d_reassignments, c_reassignments, end_time - start_time\n",
    "\n",
    "# Example usage:\n",
    "N = 1_000_000  # Total number of points\n",
    "m = 100      # Number of points to check for reassignment\n",
    "j = 16         # Number of rows\n",
    "\n",
    "reassignments, d_reassignments, c_reassignments, time_taken = benchmark(N, m, j)\n",
    "# print(f\"Reassignments: {reassignments}\")\n",
    "# print(f\"New distances for reassigned points: {d_reassignments}\")\n",
    "# print(f\"Row indices for reassignments: {c_reassignments}\")\n",
    "print(f\"Time taken: {time_taken * 1000} ms\")\n"
   ]
  },
  {
   "cell_type": "code",
   "execution_count": null,
   "metadata": {},
   "outputs": [],
   "source": []
  }
 ],
 "metadata": {
  "kernelspec": {
   "display_name": "faiss-dev-env",
   "language": "python",
   "name": "python3"
  },
  "language_info": {
   "codemirror_mode": {
    "name": "ipython",
    "version": 3
   },
   "file_extension": ".py",
   "mimetype": "text/x-python",
   "name": "python",
   "nbconvert_exporter": "python",
   "pygments_lexer": "ipython3",
   "version": "3.12.7"
  }
 },
 "nbformat": 4,
 "nbformat_minor": 2
}
