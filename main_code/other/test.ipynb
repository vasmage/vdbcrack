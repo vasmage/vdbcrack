{
 "cells": [
  {
   "cell_type": "code",
   "execution_count": 1,
   "metadata": {},
   "outputs": [],
   "source": [
    "from vasili_helpers import *"
   ]
  },
  {
   "cell_type": "code",
   "execution_count": 14,
   "metadata": {},
   "outputs": [],
   "source": [
    "from IPython.core.interactiveshell import InteractiveShell\n",
    "InteractiveShell.ast_node_interactivity = \"all\"\n",
    "# InteractiveShell.ast_node_interactivity = \"last\""
   ]
  },
  {
   "cell_type": "code",
   "execution_count": 18,
   "metadata": {},
   "outputs": [],
   "source": [
    "from faiss.contrib.exhaustive_search import (\n",
    "    exponential_query_iterator,\n",
    "    knn,\n",
    "    knn_ground_truth,\n",
    "    range_ground_truth,\n",
    "    range_search_max_results,\n",
    ")"
   ]
  },
  {
   "cell_type": "code",
   "execution_count": 19,
   "metadata": {},
   "outputs": [
    {
     "name": "stderr",
     "output_type": "stream",
     "text": [
      "WARNING clustering 100 points to 5 centroids: please provide at least 195 training points\n"
     ]
    },
    {
     "data": {
      "text/plain": [
       "(200, 32)"
      ]
     },
     "execution_count": 19,
     "metadata": {},
     "output_type": "execute_result"
    }
   ],
   "source": [
    "d = 32\n",
    "index = faiss.index_factory(d, \"IVF5,Flat\")\n",
    "index.train(faiss.randn((100, d), 123))\n",
    "\n",
    "# reference reconstruction\n",
    "index.add(faiss.randn((100, d), 345))\n",
    "index.add(faiss.randn((100, d), 678))\n",
    "ref_recons = index.reconstruct_n(0, 200)\n",
    "\n",
    "ref_recons.shape\n",
    "\n",
    "# with lookup\n",
    "index.reset()\n",
    "rs = np.random.RandomState(123)\n",
    "ids = rs.choice(10000, size=200, replace=False)\n",
    "index.add_with_ids(faiss.randn((100, d), 345), ids[:100])\n",
    "index.set_direct_map_type(faiss.DirectMap.Hashtable)\n",
    "index.add_with_ids(faiss.randn((100, d), 678), ids[100:])\n",
    "\n",
    "# compare\n",
    "for i in range(0, 200, 13):\n",
    "    recons = index.reconstruct(int(ids[i]))\n",
    "    # self.assertTrue(np.all(recons == ref_recons[i]))\n",
    "\n",
    "# test I/O\n",
    "buf = faiss.serialize_index(index)\n",
    "index2 = faiss.deserialize_index(buf)\n",
    "\n",
    "# compare\n",
    "for i in range(0, 200, 13):\n",
    "    recons = index2.reconstruct(int(ids[i]))\n",
    "    # self.assertTrue(np.all(recons == ref_recons[i]))\n",
    "\n",
    "# remove\n",
    "toremove = np.ascontiguousarray(ids[0:200:3])\n",
    "\n",
    "sel = faiss.IDSelectorArray(50, faiss.swig_ptr(toremove[:50]))\n",
    "\n",
    "# test both ways of removing elements\n",
    "nremove = index2.remove_ids(sel)\n",
    "nremove += index2.remove_ids(toremove[50:])\n",
    "\n",
    "# self.assertEqual(nremove, len(toremove))"
   ]
  },
  {
   "cell_type": "code",
   "execution_count": 20,
   "metadata": {},
   "outputs": [],
   "source": [
    "from vasili_helpers import *"
   ]
  },
  {
   "cell_type": "code",
   "execution_count": 21,
   "metadata": {},
   "outputs": [
    {
     "name": "stdout",
     "output_type": "stream",
     "text": [
      "dataset shape:\n",
      "xb.shape=(1000000, 128)\n",
      "xq.shape=(10000, 128)\n"
     ]
    }
   ],
   "source": [
    "d = 128\n",
    "xb, xq = create_random_dataset_fast(d=d, nb=1000000, nq=10_000, seed=1234)"
   ]
  },
  {
   "cell_type": "code",
   "execution_count": 22,
   "metadata": {},
   "outputs": [
    {
     "data": {
      "text/plain": [
       "(1000000, 128)"
      ]
     },
     "execution_count": 22,
     "metadata": {},
     "output_type": "execute_result"
    },
    {
     "data": {
      "text/plain": [
       "(10000, 128)"
      ]
     },
     "execution_count": 22,
     "metadata": {},
     "output_type": "execute_result"
    }
   ],
   "source": [
    "xb.shape\n",
    "xq.shape"
   ]
  },
  {
   "cell_type": "code",
   "execution_count": 23,
   "metadata": {},
   "outputs": [
    {
     "name": "stdout",
     "output_type": "stream",
     "text": [
      "train time 3146.4835869992385 ms\n",
      "add time 1257.8279219997057 ms\n"
     ]
    }
   ],
   "source": [
    "import numpy as np\n",
    "import time\n",
    "\n",
    "index = faiss.index_factory(d, \"IVF1000,Flat\")\n",
    "s = time.perf_counter()\n",
    "index.train(xb)\n",
    "e =  time.perf_counter()\n",
    "print(f\"train time {(e-s)*1000} ms\")\n",
    "\n",
    "s = time.perf_counter()\n",
    "index.add(xb)\n",
    "e =  time.perf_counter()\n",
    "print(f\"add time {(e-s)*1000} ms\")"
   ]
  },
  {
   "cell_type": "code",
   "execution_count": 24,
   "metadata": {},
   "outputs": [
    {
     "name": "stdout",
     "output_type": "stream",
     "text": [
      "query 100 time 2.0201439983793534 ms\n",
      "(avg)num returned: 10000\n",
      "(100, 100)\n",
      "query 1 time 0.27494900132296607 ms\n",
      "(avg)num returned: 1\n",
      "(1, 1)\n",
      "query 10 time 0.2872589975595474 ms\n",
      "(avg)num returned: 10\n",
      "(1, 10)\n",
      "query 100 time 0.29419899874483235 ms\n",
      "(avg)num returned: 100\n",
      "(1, 100)\n",
      "query 1000 time 0.5053989989391994 ms\n",
      "(avg)num returned: 1000\n",
      "(1, 1000)\n",
      "query 2000 time 0.5737089995818678 ms\n",
      "(avg)num returned: 2000\n",
      "(1, 2000)\n",
      "query 5000 time 1.0209870015387423 ms\n",
      "(avg)num returned: 5000\n",
      "(1, 5000)\n",
      "query 10000 time 1.38815600075759 ms\n",
      "(avg)num returned: 10000\n",
      "(1, 10000)\n"
     ]
    }
   ],
   "source": [
    "import time\n",
    "import numpy as np\n",
    "\n",
    "nq = 1\n",
    "index.nprobe = 10\n",
    "\n",
    "# Function to count number of values not equal to -1 in the indices\n",
    "def count_non_negative_indices(indices):\n",
    "    return np.sum(indices != -1, axis=0)\n",
    "\n",
    "### warm up run\n",
    "# First query (k=10)\n",
    "k = 100\n",
    "s = time.perf_counter()\n",
    "distances, indices = index.search(xq[:100, :], k=k )\n",
    "e = time.perf_counter()\n",
    "print(f\"query {k} time {(e-s)*1000} ms\")\n",
    "print(f\"(avg)num returned: {count_non_negative_indices(indices.ravel()/ k )}\")\n",
    "print(indices.shape)\n",
    "\n",
    "#####\n",
    "\n",
    "\n",
    "\n",
    "# First query (k=10)\n",
    "k = 1\n",
    "s = time.perf_counter()\n",
    "distances, indices = index.search(xq[:nq, :], k=k )\n",
    "e = time.perf_counter()\n",
    "print(f\"query {k} time {(e-s)*1000} ms\")\n",
    "print(f\"(avg)num returned: {count_non_negative_indices(indices.ravel()/ k )}\")\n",
    "print(indices.shape)\n",
    "\n",
    "k = 10\n",
    "s = time.perf_counter()\n",
    "distances, indices = index.search(xq[:nq, :], k=k )\n",
    "e = time.perf_counter()\n",
    "print(f\"query {k} time {(e-s)*1000} ms\")\n",
    "print(f\"(avg)num returned: {count_non_negative_indices(indices.ravel()/ k )}\")\n",
    "print(indices.shape)\n",
    "\n",
    "k = 100\n",
    "s = time.perf_counter()\n",
    "distances, indices = index.search(xq[:nq, :], k=k )\n",
    "e = time.perf_counter()\n",
    "print(f\"query {k} time {(e-s)*1000} ms\")\n",
    "print(f\"(avg)num returned: {count_non_negative_indices(indices.ravel()/ k )}\")\n",
    "print(indices.shape)\n",
    "\n",
    "k = 1000\n",
    "s = time.perf_counter()\n",
    "distances, indices = index.search(xq[:nq, :], k=k )\n",
    "e = time.perf_counter()\n",
    "print(f\"query {k} time {(e-s)*1000} ms\")\n",
    "print(f\"(avg)num returned: {count_non_negative_indices(indices.ravel()/ k )}\")\n",
    "print(indices.shape)\n",
    "\n",
    "k = 2_000\n",
    "s = time.perf_counter()\n",
    "distances, indices = index.search(xq[:nq, :], k=k )\n",
    "e = time.perf_counter()\n",
    "print(f\"query {k} time {(e-s)*1000} ms\")\n",
    "print(f\"(avg)num returned: {count_non_negative_indices(indices.ravel()/ k )}\")\n",
    "print(indices.shape)\n",
    "\n",
    "k = 5_000\n",
    "s = time.perf_counter()\n",
    "distances, indices = index.search(xq[:nq, :], k=k )\n",
    "e = time.perf_counter()\n",
    "print(f\"query {k} time {(e-s)*1000} ms\")\n",
    "print(f\"(avg)num returned: {count_non_negative_indices(indices.ravel()/ k )}\")\n",
    "print(indices.shape)\n",
    "\n",
    "k = 10_000\n",
    "s = time.perf_counter()\n",
    "distances, indices = index.search(xq[:nq, :], k=k )\n",
    "e = time.perf_counter()\n",
    "print(f\"query {k} time {(e-s)*1000} ms\")\n",
    "print(f\"(avg)num returned: {count_non_negative_indices(indices.ravel()/ k )}\")\n",
    "print(indices.shape)"
   ]
  },
  {
   "cell_type": "code",
   "execution_count": 25,
   "metadata": {},
   "outputs": [],
   "source": [
    "import numpy as np"
   ]
  },
  {
   "cell_type": "code",
   "execution_count": 28,
   "metadata": {},
   "outputs": [
    {
     "data": {
      "text/plain": [
       "array([ 0,  1,  2,  3,  4,  5,  6,  7,  8,  9, 10, 11, 12, 13, 14, 15, 16,\n",
       "       17, 18, 19, 20, 21, 22, 23, 24, 25, 26, 27, 28, 29, 30, 31, 32, 33,\n",
       "       34, 35, 36, 37, 38, 39, 40, 41, 42, 43, 44, 45, 46, 47, 48, 49, 50,\n",
       "       51, 52, 53, 54, 55, 56, 57, 58, 59, 60, 61, 62, 63, 64, 65, 66, 67,\n",
       "       68, 69, 70, 71, 72, 73, 74, 75, 76, 77, 78, 79, 80, 81, 82, 83, 84,\n",
       "       85, 86, 87, 88, 89, 90, 91, 92, 93, 94, 95, 96, 97, 98, 99])"
      ]
     },
     "execution_count": 28,
     "metadata": {},
     "output_type": "execute_result"
    },
    {
     "data": {
      "text/plain": [
       "array([500, 501, 502, 503, 504, 505, 506, 507, 508, 509, 510, 511, 512,\n",
       "       513, 514, 515, 516, 517, 518, 519, 520, 521, 522, 523, 524, 525,\n",
       "       526, 527, 528, 529, 530, 531, 532, 533, 534, 535, 536, 537, 538,\n",
       "       539, 540, 541, 542, 543, 544, 545, 546, 547, 548, 549, 550, 551,\n",
       "       552, 553, 554, 555, 556, 557, 558, 559, 560, 561, 562, 563, 564,\n",
       "       565, 566, 567, 568, 569, 570, 571, 572, 573, 574, 575, 576, 577,\n",
       "       578, 579, 580, 581, 582, 583, 584, 585, 586, 587, 588, 589, 590,\n",
       "       591, 592, 593, 594, 595, 596, 597, 598, 599])"
      ]
     },
     "execution_count": 28,
     "metadata": {},
     "output_type": "execute_result"
    }
   ],
   "source": [
    "for step in range(1):\n",
    "    np.arange(100) + step * 100\n",
    "    np.arange(100) + step * 100 + 500"
   ]
  },
  {
   "cell_type": "markdown",
   "metadata": {},
   "source": [
    "Brute Force:"
   ]
  },
  {
   "cell_type": "code",
   "execution_count": 33,
   "metadata": {},
   "outputs": [
    {
     "name": "stdout",
     "output_type": "stream",
     "text": [
      "dataset shape:\n",
      "xb.shape=(1000000, 128)\n",
      "xq.shape=(10000, 128)\n"
     ]
    }
   ],
   "source": [
    "d = 128\n",
    "xb, xq = create_random_dataset_fast(d=d, nb=1000000, nq=10_000, seed=1234)"
   ]
  },
  {
   "cell_type": "code",
   "execution_count": 41,
   "metadata": {},
   "outputs": [],
   "source": [
    "faiss.omp_set_num_threads(1)"
   ]
  },
  {
   "cell_type": "code",
   "execution_count": 56,
   "metadata": {},
   "outputs": [
    {
     "name": "stdout",
     "output_type": "stream",
     "text": [
      "search time 136.3524159969529 ms\n"
     ]
    }
   ],
   "source": [
    "from faiss.contrib.exhaustive_search import knn_ground_truth\n",
    "# index = faiss.index_factory(d, \"Flat\") \n",
    "s = time.perf_counter()\n",
    "faiss.knn(\n",
    "    xq[0:1,:],\n",
    "    xb,\n",
    "    k=nb,\n",
    ")\n",
    "e =  time.perf_counter()\n",
    "print(f\"search time {(e-s)*1000} ms\")"
   ]
  },
  {
   "cell_type": "code",
   "execution_count": 58,
   "metadata": {},
   "outputs": [
    {
     "name": "stdout",
     "output_type": "stream",
     "text": [
      "train time 0.0638999990769662 ms\n",
      "add time 219.86944699892774 ms\n"
     ]
    }
   ],
   "source": [
    "import numpy as np\n",
    "import time\n",
    "\n",
    "xb.shape\n",
    "nb, d = xb.shape\n",
    "\n",
    "index = faiss.index_factory(d, \"Flat\") \n",
    "s = time.perf_counter()\n",
    "index.train(xb)\n",
    "e =  time.perf_counter()\n",
    "print(f\"train time {(e-s)*1000} ms\")\n",
    "\n",
    "s = time.perf_counter()\n",
    "index.add(xb)\n",
    "e =  time.perf_counter()\n",
    "print(f\"add time {(e-s)*1000} ms\")"
   ]
  },
  {
   "cell_type": "code",
   "execution_count": 59,
   "metadata": {},
   "outputs": [
    {
     "name": "stdout",
     "output_type": "stream",
     "text": [
      "train time 49.05525000503985 ms\n",
      "add time 490.9680650016526 ms\n"
     ]
    }
   ],
   "source": [
    "import numpy as np\n",
    "import time\n",
    "\n",
    "xb.shape\n",
    "nb, d = xb.shape\n",
    "\n",
    "index = faiss.index_factory(d, \"IVF1,Flat\") \n",
    "s = time.perf_counter()\n",
    "index.train(xb)\n",
    "e =  time.perf_counter()\n",
    "print(f\"train time {(e-s)*1000} ms\")\n",
    "\n",
    "s = time.perf_counter()\n",
    "index.add(xb)\n",
    "e =  time.perf_counter()\n",
    "print(f\"add time {(e-s)*1000} ms\")"
   ]
  },
  {
   "cell_type": "code",
   "execution_count": 45,
   "metadata": {},
   "outputs": [
    {
     "name": "stdout",
     "output_type": "stream",
     "text": [
      "train time 157.82671800116077 ms\n",
      "add time 595.5642119952245 ms\n"
     ]
    }
   ],
   "source": [
    "import numpy as np\n",
    "import time\n",
    "\n",
    "xb.shape\n",
    "nb, d = xb.shape\n",
    "\n",
    "index = faiss.index_factory(d, \"IVF100,Flat\") \n",
    "s = time.perf_counter()\n",
    "index.train(xb)\n",
    "e =  time.perf_counter()\n",
    "print(f\"train time {(e-s)*1000} ms\")\n",
    "\n",
    "s = time.perf_counter()\n",
    "index.add(xb)\n",
    "e =  time.perf_counter()\n",
    "print(f\"add time {(e-s)*1000} ms\")"
   ]
  },
  {
   "cell_type": "code",
   "execution_count": 46,
   "metadata": {},
   "outputs": [
    {
     "name": "stdout",
     "output_type": "stream",
     "text": [
      "train time 426.9496729975799 ms\n",
      "add time 880.6673369981581 ms\n"
     ]
    }
   ],
   "source": [
    "import numpy as np\n",
    "import time\n",
    "\n",
    "xb.shape\n",
    "nb, d = xb.shape\n",
    "\n",
    "index = faiss.index_factory(d, \"IVF200,Flat\") \n",
    "s = time.perf_counter()\n",
    "index.train(xb)\n",
    "e =  time.perf_counter()\n",
    "print(f\"train time {(e-s)*1000} ms\")\n",
    "\n",
    "s = time.perf_counter()\n",
    "index.add(xb)\n",
    "e =  time.perf_counter()\n",
    "print(f\"add time {(e-s)*1000} ms\")"
   ]
  },
  {
   "cell_type": "code",
   "execution_count": 63,
   "metadata": {},
   "outputs": [
    {
     "name": "stdout",
     "output_type": "stream",
     "text": [
      "train time 8184.486572004971 ms\n",
      "add time 3309.988193999743 ms\n"
     ]
    }
   ],
   "source": [
    "import numpy as np\n",
    "import time\n",
    "\n",
    "xb.shape\n",
    "nb, d = xb.shape\n",
    "\n",
    "index = faiss.index_factory(d, \"IVF1000,Flat\") \n",
    "s = time.perf_counter()\n",
    "index.train(xb)\n",
    "e =  time.perf_counter()\n",
    "print(f\"train time {(e-s)*1000} ms\")\n",
    "\n",
    "s = time.perf_counter()\n",
    "index.add(xb)\n",
    "e =  time.perf_counter()\n",
    "print(f\"add time {(e-s)*1000} ms\")"
   ]
  },
  {
   "cell_type": "code",
   "execution_count": 167,
   "metadata": {},
   "outputs": [
    {
     "data": {
      "text/plain": [
       "(1000000, 956)"
      ]
     },
     "execution_count": 167,
     "metadata": {},
     "output_type": "execute_result"
    }
   ],
   "source": [
    "xb.shape"
   ]
  },
  {
   "cell_type": "code",
   "execution_count": 62,
   "metadata": {},
   "outputs": [
    {
     "name": "stdout",
     "output_type": "stream",
     "text": [
      "query 100 time 2778.337627998553 ms\n",
      "(avg)num returned: 10000\n",
      "(100, 100)\n",
      "query 1 time 2845.899668005586 ms\n",
      "(avg)num returned: 100\n",
      "(100, 1)\n",
      "query 10 time 2865.438306995202 ms\n",
      "(avg)num returned: 1000\n",
      "(100, 10)\n",
      "query 100 time 2752.43580499955 ms\n",
      "(avg)num returned: 10000\n",
      "(100, 100)\n",
      "query 1000 time 2762.652632998652 ms\n",
      "(avg)num returned: 100000\n",
      "(100, 1000)\n",
      "query 333333 time 7939.658374998544 ms\n",
      "(avg)num returned: 33333300\n",
      "(100, 333333)\n",
      "query 500000 time 10694.775520001713 ms\n",
      "(avg)num returned: 50000000\n",
      "(100, 500000)\n",
      "query 1000000 time 19190.429387999757 ms\n",
      "(avg)num returned: 100000000\n",
      "(100, 1000000)\n"
     ]
    }
   ],
   "source": [
    "nq = 100\n",
    "index.nprobe = 1\n",
    "\n",
    "# Function to count number of values not equal to -1 in the indices\n",
    "def count_non_negative_indices(indices):\n",
    "    return np.sum(indices != -1, axis=0)\n",
    "\n",
    "### warm up run\n",
    "# First query (k=10)\n",
    "k = 100\n",
    "s = time.perf_counter()\n",
    "distances, indices = index.search(xq[:100, :], k=k )\n",
    "e = time.perf_counter()\n",
    "print(f\"query {k} time {(e-s)*1000} ms\")\n",
    "print(f\"(avg)num returned: {count_non_negative_indices(indices.ravel()/ nq )}\")\n",
    "print(indices.shape)\n",
    "\n",
    "#####\n",
    "# First query (k=10)\n",
    "k = 1\n",
    "s = time.perf_counter()\n",
    "distances, indices = index.search(xq[:nq, :], k=k )\n",
    "e = time.perf_counter()\n",
    "print(f\"query {k} time {(e-s)*1000} ms\")\n",
    "print(f\"(avg)num returned: {count_non_negative_indices(indices.ravel()/ nq )}\")\n",
    "print(indices.shape)\n",
    "\n",
    "k = 10\n",
    "s = time.perf_counter()\n",
    "distances, indices = index.search(xq[:nq, :], k=k )\n",
    "e = time.perf_counter()\n",
    "print(f\"query {k} time {(e-s)*1000} ms\")\n",
    "print(f\"(avg)num returned: {count_non_negative_indices(indices.ravel()/ nq )}\")\n",
    "print(indices.shape)\n",
    "\n",
    "k = 100\n",
    "s = time.perf_counter()\n",
    "distances, indices = index.search(xq[:nq, :], k=k )\n",
    "e = time.perf_counter()\n",
    "print(f\"query {k} time {(e-s)*1000} ms\")\n",
    "print(f\"(avg)num returned: {count_non_negative_indices(indices.ravel()/ nq )}\")\n",
    "print(indices.shape)\n",
    "\n",
    "k = 1000\n",
    "s = time.perf_counter()\n",
    "distances, indices = index.search(xq[:nq, :], k=k )\n",
    "e = time.perf_counter()\n",
    "print(f\"query {k} time {(e-s)*1000} ms\")\n",
    "print(f\"(avg)num returned: {count_non_negative_indices(indices.ravel()/ nq )}\")\n",
    "print(indices.shape)\n",
    "\n",
    "k = nb//3\n",
    "s = time.perf_counter()\n",
    "distances, indices = index.search(xq[:nq, :], k=k )\n",
    "e = time.perf_counter()\n",
    "print(f\"query {k} time {(e-s)*1000} ms\")\n",
    "print(f\"(avg)num returned: {count_non_negative_indices(indices.ravel()/ nq )}\")\n",
    "print(indices.shape)\n",
    "\n",
    "k = nb//2\n",
    "s = time.perf_counter()\n",
    "distances, indices = index.search(xq[:nq, :], k=k )\n",
    "e = time.perf_counter()\n",
    "print(f\"query {k} time {(e-s)*1000} ms\")\n",
    "print(f\"(avg)num returned: {count_non_negative_indices(indices.ravel()/ nq )}\")\n",
    "print(indices.shape)\n",
    "\n",
    "k = nb\n",
    "s = time.perf_counter()\n",
    "distances, indices = index.search(xq[:nq, :], k=k )\n",
    "e = time.perf_counter()\n",
    "print(f\"query {k} time {(e-s)*1000} ms\")\n",
    "print(f\"(avg)num returned: {count_non_negative_indices(indices.ravel()/ nq )}\")\n",
    "print(indices.shape)\n"
   ]
  },
  {
   "cell_type": "code",
   "execution_count": 65,
   "metadata": {},
   "outputs": [
    {
     "name": "stdout",
     "output_type": "stream",
     "text": [
      "query 100 time 50.503862999903504 ms\n",
      "(avg)num returned: 10000\n",
      "(100, 100)\n",
      "query 1 time 45.54741500032833 ms\n",
      "(avg)num returned: 100\n",
      "(100, 1)\n",
      "query 10 time 45.69512399757514 ms\n",
      "(avg)num returned: 1000\n",
      "(100, 10)\n",
      "query 100 time 47.40501999913249 ms\n",
      "(avg)num returned: 10000\n",
      "(100, 100)\n",
      "query 1000 time 53.863294000620954 ms\n",
      "(avg)num returned: 100000\n",
      "(100, 1000)\n",
      "query 333333 time 1679.7387300030096 ms\n",
      "(avg)num returned: 33333300\n",
      "(100, 333333)\n",
      "query 500000 time 2374.557087998255 ms\n",
      "(avg)num returned: 50000000\n",
      "(100, 500000)\n",
      "query 1000000 time 4654.148317000363 ms\n",
      "(avg)num returned: 100000000\n",
      "(100, 1000000)\n"
     ]
    }
   ],
   "source": [
    "nq = 100\n",
    "index.nprobe = 25\n",
    "\n",
    "# Function to count number of values not equal to -1 in the indices\n",
    "def count_non_negative_indices(indices):\n",
    "    return np.sum(indices != -1, axis=0)\n",
    "\n",
    "### warm up run\n",
    "# First query (k=10)\n",
    "k = 100\n",
    "s = time.perf_counter()\n",
    "distances, indices = index.search(xq[:100, :], k=k )\n",
    "e = time.perf_counter()\n",
    "print(f\"query {k} time {(e-s)*1000} ms\")\n",
    "print(f\"(avg)num returned: {count_non_negative_indices(indices.ravel()/ nq )}\")\n",
    "print(indices.shape)\n",
    "\n",
    "#####\n",
    "# First query (k=10)\n",
    "k = 1\n",
    "s = time.perf_counter()\n",
    "distances, indices = index.search(xq[:nq, :], k=k )\n",
    "e = time.perf_counter()\n",
    "print(f\"query {k} time {(e-s)*1000} ms\")\n",
    "print(f\"(avg)num returned: {count_non_negative_indices(indices.ravel()/ nq )}\")\n",
    "print(indices.shape)\n",
    "\n",
    "k = 10\n",
    "s = time.perf_counter()\n",
    "distances, indices = index.search(xq[:nq, :], k=k )\n",
    "e = time.perf_counter()\n",
    "print(f\"query {k} time {(e-s)*1000} ms\")\n",
    "print(f\"(avg)num returned: {count_non_negative_indices(indices.ravel()/ nq )}\")\n",
    "print(indices.shape)\n",
    "\n",
    "k = 100\n",
    "s = time.perf_counter()\n",
    "distances, indices = index.search(xq[:nq, :], k=k )\n",
    "e = time.perf_counter()\n",
    "print(f\"query {k} time {(e-s)*1000} ms\")\n",
    "print(f\"(avg)num returned: {count_non_negative_indices(indices.ravel()/ nq )}\")\n",
    "print(indices.shape)\n",
    "\n",
    "k = 1000\n",
    "s = time.perf_counter()\n",
    "distances, indices = index.search(xq[:nq, :], k=k )\n",
    "e = time.perf_counter()\n",
    "print(f\"query {k} time {(e-s)*1000} ms\")\n",
    "print(f\"(avg)num returned: {count_non_negative_indices(indices.ravel()/ nq )}\")\n",
    "print(indices.shape)\n",
    "\n",
    "k = nb//3\n",
    "s = time.perf_counter()\n",
    "distances, indices = index.search(xq[:nq, :], k=k )\n",
    "e = time.perf_counter()\n",
    "print(f\"query {k} time {(e-s)*1000} ms\")\n",
    "print(f\"(avg)num returned: {count_non_negative_indices(indices.ravel()/ nq )}\")\n",
    "print(indices.shape)\n",
    "\n",
    "k = nb//2\n",
    "s = time.perf_counter()\n",
    "distances, indices = index.search(xq[:nq, :], k=k )\n",
    "e = time.perf_counter()\n",
    "print(f\"query {k} time {(e-s)*1000} ms\")\n",
    "print(f\"(avg)num returned: {count_non_negative_indices(indices.ravel()/ nq )}\")\n",
    "print(indices.shape)\n",
    "\n",
    "k = nb\n",
    "s = time.perf_counter()\n",
    "distances, indices = index.search(xq[:nq, :], k=k )\n",
    "e = time.perf_counter()\n",
    "print(f\"query {k} time {(e-s)*1000} ms\")\n",
    "print(f\"(avg)num returned: {count_non_negative_indices(indices.ravel()/ nq )}\")\n",
    "print(indices.shape)\n"
   ]
  },
  {
   "cell_type": "code",
   "execution_count": 155,
   "metadata": {},
   "outputs": [
    {
     "data": {
      "text/plain": [
       "array([[ 296,  646,  196, ...,   -1,   -1,   -1],\n",
       "       [ 811, 1199,  965, ...,   -1,   -1,   -1],\n",
       "       [  60, 1738, 1040, ...,   -1,   -1,   -1],\n",
       "       ...,\n",
       "       [ 390,  616,  244, ...,   -1,   -1,   -1],\n",
       "       [ 344, 1243,  341, ...,   -1,   -1,   -1],\n",
       "       [ 295,  767,  624, ...,   -1,   -1,   -1]])"
      ]
     },
     "execution_count": 155,
     "metadata": {},
     "output_type": "execute_result"
    }
   ],
   "source": [
    "indices"
   ]
  },
  {
   "cell_type": "code",
   "execution_count": 50,
   "metadata": {},
   "outputs": [
    {
     "data": {
      "text/plain": [
       "array([[715, 286,  11, ...,  -1,  -1,  -1]])"
      ]
     },
     "execution_count": 50,
     "metadata": {},
     "output_type": "execute_result"
    }
   ],
   "source": [
    "indices"
   ]
  },
  {
   "cell_type": "code",
   "execution_count": 24,
   "metadata": {},
   "outputs": [
    {
     "data": {
      "text/plain": [
       "(1, 1, 16)"
      ]
     },
     "execution_count": 24,
     "metadata": {},
     "output_type": "execute_result"
    }
   ],
   "source": [
    "embeddings.shape"
   ]
  },
  {
   "cell_type": "markdown",
   "metadata": {},
   "source": [
    "# Other"
   ]
  },
  {
   "cell_type": "code",
   "execution_count": 2,
   "metadata": {},
   "outputs": [],
   "source": [
    "import faiss\n",
    "from vasili_helpers import *"
   ]
  },
  {
   "cell_type": "code",
   "execution_count": 3,
   "metadata": {},
   "outputs": [
    {
     "name": "stderr",
     "output_type": "stream",
     "text": [
      "Loading sift1M...done\n"
     ]
    },
    {
     "name": "stdout",
     "output_type": "stream",
     "text": [
      "dataset shape:\n",
      "xb.shape=(1000000, 128)\n",
      "gt.shape=(10000, 100)\n",
      "xq.shape=(10000, 128)\n"
     ]
    }
   ],
   "source": [
    "xb, xq, xt, gt, metric = load_sift1M(\"/pub/scratch/vmageirakos/datasets/ann-fvecs/sift-128-euclidean\")"
   ]
  },
  {
   "cell_type": "code",
   "execution_count": 4,
   "metadata": {},
   "outputs": [],
   "source": [
    "c_visited =  xb[:10,:]"
   ]
  },
  {
   "cell_type": "code",
   "execution_count": 5,
   "metadata": {},
   "outputs": [],
   "source": [
    "local_quantizer = faiss.IndexFlat(128, faiss.METRIC_L2)\n",
    "local_quantizer.add(c_visited)"
   ]
  },
  {
   "cell_type": "code",
   "execution_count": 6,
   "metadata": {},
   "outputs": [
    {
     "data": {
      "text/plain": [
       "(1, 1000000)"
      ]
     },
     "execution_count": 6,
     "metadata": {},
     "output_type": "execute_result"
    }
   ],
   "source": [
    "local_quantizer.assign(xb,k=1).shape\n",
    "local_quantizer.assign(xb,k=1).reshape(1,-1).shape"
   ]
  },
  {
   "cell_type": "code",
   "execution_count": 7,
   "metadata": {},
   "outputs": [
    {
     "data": {
      "text/plain": [
       "array([0, 1, 2, ..., 8, 6, 5])"
      ]
     },
     "execution_count": 7,
     "metadata": {},
     "output_type": "execute_result"
    }
   ],
   "source": [
    "local_quantizer.assign(xb,k=1).ravel()\n",
    "local_quantizer.assign(xb,k=1).reshape(1,-1).ravel()"
   ]
  },
  {
   "cell_type": "markdown",
   "metadata": {},
   "source": [
    "Check direct map "
   ]
  },
  {
   "cell_type": "code",
   "execution_count": 8,
   "metadata": {},
   "outputs": [],
   "source": [
    "from CrackIVF import *"
   ]
  },
  {
   "cell_type": "code",
   "execution_count": 9,
   "metadata": {},
   "outputs": [],
   "source": [
    "index = CrackIVF(nlist=1000, niter=10, seed=42)"
   ]
  },
  {
   "cell_type": "code",
   "execution_count": 10,
   "metadata": {},
   "outputs": [
    {
     "name": "stdout",
     "output_type": "stream",
     "text": [
      "Init Index... self.nlist=1000 self.niter=10 self.max_pts=256 self.seed=42 self.d=128\n",
      "Training level-1 quantizer\n",
      "Training level-1 quantizer on 1000000 vectors in 128D\n",
      "Training IVF residual\n",
      "IndexIVF: no residual training\n",
      "IndexIVFFlat::add_core: added 1000000 / 1000000 vectors\n",
      "\t---> Index Train Time = 4828.998528002558 ms | Add Time = 1538.697903000866 ms <---\n"
     ]
    },
    {
     "data": {
      "text/plain": [
       "(4.828998528002558, 1.538697903000866)"
      ]
     },
     "execution_count": 10,
     "metadata": {},
     "output_type": "execute_result"
    }
   ],
   "source": [
    "index.add(xb)"
   ]
  },
  {
   "cell_type": "code",
   "execution_count": 11,
   "metadata": {},
   "outputs": [
    {
     "data": {
      "text/plain": [
       "1782411427840"
      ]
     },
     "execution_count": 11,
     "metadata": {},
     "output_type": "execute_result"
    }
   ],
   "source": [
    "index.index.direct_map.get(0)"
   ]
  },
  {
   "cell_type": "code",
   "execution_count": 12,
   "metadata": {},
   "outputs": [
    {
     "data": {
      "text/plain": [
       "['PARALLEL_MODE_NO_HEAP_INIT',\n",
       " '__class__',\n",
       " '__delattr__',\n",
       " '__dict__',\n",
       " '__dir__',\n",
       " '__doc__',\n",
       " '__eq__',\n",
       " '__format__',\n",
       " '__ge__',\n",
       " '__getattribute__',\n",
       " '__getstate__',\n",
       " '__gt__',\n",
       " '__hash__',\n",
       " '__init__',\n",
       " '__init_subclass__',\n",
       " '__le__',\n",
       " '__lt__',\n",
       " '__module__',\n",
       " '__ne__',\n",
       " '__new__',\n",
       " '__reduce__',\n",
       " '__reduce_ex__',\n",
       " '__repr__',\n",
       " '__setattr__',\n",
       " '__setstate__',\n",
       " '__sizeof__',\n",
       " '__str__',\n",
       " '__subclasshook__',\n",
       " '__swig_destroy__',\n",
       " '__weakref__',\n",
       " 'add',\n",
       " 'add_c',\n",
       " 'add_core',\n",
       " 'add_sa_codes',\n",
       " 'add_sa_codes_c',\n",
       " 'add_with_ids',\n",
       " 'add_with_ids_c',\n",
       " 'assign',\n",
       " 'assign_c',\n",
       " 'by_residual',\n",
       " 'check_compatible_for_merge',\n",
       " 'check_ids_sorted',\n",
       " 'clustering_index',\n",
       " 'coarse_code_size',\n",
       " 'code_size',\n",
       " 'compute_residual',\n",
       " 'compute_residual_n',\n",
       " 'copy_subset_to',\n",
       " 'cp',\n",
       " 'd',\n",
       " 'decode_listno',\n",
       " 'direct_map',\n",
       " 'encode_listno',\n",
       " 'encode_vectors',\n",
       " 'get_CodePacker',\n",
       " 'get_InvertedListScanner',\n",
       " 'get_distance_computer',\n",
       " 'get_list_size',\n",
       " 'invlists',\n",
       " 'is_trained',\n",
       " 'make_direct_map',\n",
       " 'max_codes',\n",
       " 'merge_from',\n",
       " 'metric_arg',\n",
       " 'metric_type',\n",
       " 'nlist',\n",
       " 'nprobe',\n",
       " 'ntotal',\n",
       " 'own_fields',\n",
       " 'own_invlists',\n",
       " 'parallel_mode',\n",
       " 'quantizer',\n",
       " 'quantizer_trains_alone',\n",
       " 'range_search',\n",
       " 'range_search_c',\n",
       " 'range_search_preassigned',\n",
       " 'range_search_preassigned_c',\n",
       " 'reconstruct',\n",
       " 'reconstruct_batch',\n",
       " 'reconstruct_batch_c',\n",
       " 'reconstruct_c',\n",
       " 'reconstruct_from_offset',\n",
       " 'reconstruct_n',\n",
       " 'reconstruct_n_c',\n",
       " 'referenced_objects',\n",
       " 'remove_ids',\n",
       " 'remove_ids_c',\n",
       " 'replace_invlists',\n",
       " 'reset',\n",
       " 'sa_code_size',\n",
       " 'sa_decode',\n",
       " 'sa_decode_c',\n",
       " 'sa_encode',\n",
       " 'sa_encode_c',\n",
       " 'search',\n",
       " 'search_and_reconstruct',\n",
       " 'search_and_reconstruct_c',\n",
       " 'search_and_return_codes',\n",
       " 'search_and_return_codes_c',\n",
       " 'search_c',\n",
       " 'search_preassigned',\n",
       " 'search_preassigned_c',\n",
       " 'set_direct_map_type',\n",
       " 'this',\n",
       " 'thisown',\n",
       " 'train',\n",
       " 'train_c',\n",
       " 'train_encoder',\n",
       " 'train_encoder_num_vectors',\n",
       " 'train_q1',\n",
       " 'update_vectors',\n",
       " 'update_vectors_c',\n",
       " 'verbose']"
      ]
     },
     "execution_count": 12,
     "metadata": {},
     "output_type": "execute_result"
    }
   ],
   "source": [
    "dir(index.index)"
   ]
  },
  {
   "cell_type": "code",
   "execution_count": 15,
   "metadata": {},
   "outputs": [
    {
     "data": {
      "text/plain": [
       "1000000"
      ]
     },
     "execution_count": 15,
     "metadata": {},
     "output_type": "execute_result"
    },
    {
     "data": {
      "text/plain": [
       "1000"
      ]
     },
     "execution_count": 15,
     "metadata": {},
     "output_type": "execute_result"
    }
   ],
   "source": [
    "index.index.ntotal\n",
    "index.index.nlist"
   ]
  },
  {
   "cell_type": "code",
   "execution_count": 17,
   "metadata": {},
   "outputs": [],
   "source": [
    "# dir(index.index)"
   ]
  },
  {
   "cell_type": "code",
   "execution_count": 23,
   "metadata": {},
   "outputs": [
    {
     "name": "stdout",
     "output_type": "stream",
     "text": [
      "IndexIVFFlat::add_core: added 1 / 1 vectors\n"
     ]
    }
   ],
   "source": [
    "index.index.add_with_ids(xb[0:1,:], 1000000)\n",
    "# index.index.remove_ids(np.array([1000000]))"
   ]
  },
  {
   "cell_type": "code",
   "execution_count": 24,
   "metadata": {},
   "outputs": [
    {
     "data": {
      "text/plain": [
       "1782411428619"
      ]
     },
     "execution_count": 24,
     "metadata": {},
     "output_type": "execute_result"
    },
    {
     "data": {
      "text/plain": [
       "1782411427840"
      ]
     },
     "execution_count": 24,
     "metadata": {},
     "output_type": "execute_result"
    }
   ],
   "source": [
    "index.index.direct_map.get(999999+1)\n",
    "index.index.direct_map.get(0)"
   ]
  },
  {
   "cell_type": "code",
   "execution_count": 55,
   "metadata": {},
   "outputs": [
    {
     "data": {
      "text/plain": [
       "1"
      ]
     },
     "execution_count": 55,
     "metadata": {},
     "output_type": "execute_result"
    }
   ],
   "source": [
    "# index.index.add_with_ids(xb[0:1,:], 1000000)\n",
    "\n",
    "index.index.remove_ids(np.array([1000000]))"
   ]
  },
  {
   "cell_type": "code",
   "execution_count": 70,
   "metadata": {},
   "outputs": [
    {
     "data": {
      "text/plain": [
       "1782411427840"
      ]
     },
     "execution_count": 70,
     "metadata": {},
     "output_type": "execute_result"
    },
    {
     "data": {
      "text/plain": [
       "1782411428620"
      ]
     },
     "execution_count": 70,
     "metadata": {},
     "output_type": "execute_result"
    }
   ],
   "source": [
    "index.index.direct_map.get(0)\n",
    "index.index.direct_map.get(999999+1)"
   ]
  },
  {
   "cell_type": "code",
   "execution_count": 69,
   "metadata": {},
   "outputs": [
    {
     "name": "stdout",
     "output_type": "stream",
     "text": [
      "IndexIVFFlat::add_core: added 1 / 1 vectors\n"
     ]
    }
   ],
   "source": [
    "add_preassigned(index.index, xb[0:1,:], np.array([415]).ravel(), ids=np.array([1000000]))"
   ]
  },
  {
   "cell_type": "code",
   "execution_count": 54,
   "metadata": {},
   "outputs": [
    {
     "data": {
      "text/plain": [
       "array([[415]])"
      ]
     },
     "execution_count": 54,
     "metadata": {},
     "output_type": "execute_result"
    }
   ],
   "source": [
    "index.index.quantizer.assign(xb[:1,:],k=1)"
   ]
  },
  {
   "cell_type": "markdown",
   "metadata": {},
   "source": [
    "All these need to match to assert that add_preassigned() works with ids "
   ]
  },
  {
   "cell_type": "code",
   "execution_count": 65,
   "metadata": {},
   "outputs": [
    {
     "data": {
      "text/plain": [
       "array([[  0.,  16.,  35.,   5.,  32.,  31.,  14.,  10.,  11.,  78.,  55.,\n",
       "         10.,  45.,  83.,  11.,   6.,  14.,  57., 102.,  75.,  20.,   8.,\n",
       "          3.,   5.,  67.,  17.,  19.,  26.,   5.,   0.,   1.,  22.,  60.,\n",
       "         26.,   7.,   1.,  18.,  22.,  84.,  53.,  85., 119., 119.,   4.,\n",
       "         24.,  18.,   7.,   7.,   1.,  81., 106., 102.,  72.,  30.,   6.,\n",
       "          0.,   9.,   1.,   9., 119.,  72.,   1.,   4.,  33., 119.,  29.,\n",
       "          6.,   1.,   0.,   1.,  14.,  52., 119.,  30.,   3.,   0.,   0.,\n",
       "         55.,  92., 111.,   2.,   5.,   4.,   9.,  22.,  89.,  96.,  14.,\n",
       "          1.,   0.,   1.,  82.,  59.,  16.,  20.,   5.,  25.,  14.,  11.,\n",
       "          4.,   0.,   0.,   1.,  26.,  47.,  23.,   4.,   0.,   0.,   4.,\n",
       "         38.,  83.,  30.,  14.,   9.,   4.,   9.,  17.,  23.,  41.,   0.,\n",
       "          0.,   2.,   8.,  19.,  25.,  23.,   1.]], dtype=float32)"
      ]
     },
     "execution_count": 65,
     "metadata": {},
     "output_type": "execute_result"
    }
   ],
   "source": [
    "xb[0:1,:]"
   ]
  },
  {
   "cell_type": "code",
   "execution_count": 64,
   "metadata": {},
   "outputs": [
    {
     "data": {
      "text/plain": [
       "array([  0.,  16.,  35.,   5.,  32.,  31.,  14.,  10.,  11.,  78.,  55.,\n",
       "        10.,  45.,  83.,  11.,   6.,  14.,  57., 102.,  75.,  20.,   8.,\n",
       "         3.,   5.,  67.,  17.,  19.,  26.,   5.,   0.,   1.,  22.,  60.,\n",
       "        26.,   7.,   1.,  18.,  22.,  84.,  53.,  85., 119., 119.,   4.,\n",
       "        24.,  18.,   7.,   7.,   1.,  81., 106., 102.,  72.,  30.,   6.,\n",
       "         0.,   9.,   1.,   9., 119.,  72.,   1.,   4.,  33., 119.,  29.,\n",
       "         6.,   1.,   0.,   1.,  14.,  52., 119.,  30.,   3.,   0.,   0.,\n",
       "        55.,  92., 111.,   2.,   5.,   4.,   9.,  22.,  89.,  96.,  14.,\n",
       "         1.,   0.,   1.,  82.,  59.,  16.,  20.,   5.,  25.,  14.,  11.,\n",
       "         4.,   0.,   0.,   1.,  26.,  47.,  23.,   4.,   0.,   0.,   4.,\n",
       "        38.,  83.,  30.,  14.,   9.,   4.,   9.,  17.,  23.,  41.,   0.,\n",
       "         0.,   2.,   8.,  19.,  25.,  23.,   1.], dtype=float32)"
      ]
     },
     "execution_count": 64,
     "metadata": {},
     "output_type": "execute_result"
    }
   ],
   "source": [
    "index.index.reconstruct(0)"
   ]
  },
  {
   "cell_type": "code",
   "execution_count": 71,
   "metadata": {},
   "outputs": [
    {
     "data": {
      "text/plain": [
       "array([  0.,  16.,  35.,   5.,  32.,  31.,  14.,  10.,  11.,  78.,  55.,\n",
       "        10.,  45.,  83.,  11.,   6.,  14.,  57., 102.,  75.,  20.,   8.,\n",
       "         3.,   5.,  67.,  17.,  19.,  26.,   5.,   0.,   1.,  22.,  60.,\n",
       "        26.,   7.,   1.,  18.,  22.,  84.,  53.,  85., 119., 119.,   4.,\n",
       "        24.,  18.,   7.,   7.,   1.,  81., 106., 102.,  72.,  30.,   6.,\n",
       "         0.,   9.,   1.,   9., 119.,  72.,   1.,   4.,  33., 119.,  29.,\n",
       "         6.,   1.,   0.,   1.,  14.,  52., 119.,  30.,   3.,   0.,   0.,\n",
       "        55.,  92., 111.,   2.,   5.,   4.,   9.,  22.,  89.,  96.,  14.,\n",
       "         1.,   0.,   1.,  82.,  59.,  16.,  20.,   5.,  25.,  14.,  11.,\n",
       "         4.,   0.,   0.,   1.,  26.,  47.,  23.,   4.,   0.,   0.,   4.,\n",
       "        38.,  83.,  30.,  14.,   9.,   4.,   9.,  17.,  23.,  41.,   0.,\n",
       "         0.,   2.,   8.,  19.,  25.,  23.,   1.], dtype=float32)"
      ]
     },
     "execution_count": 71,
     "metadata": {},
     "output_type": "execute_result"
    }
   ],
   "source": [
    "index.index.reconstruct(1000000)"
   ]
  }
 ],
 "metadata": {
  "kernelspec": {
   "display_name": "faiss-dev-env",
   "language": "python",
   "name": "python3"
  },
  "language_info": {
   "codemirror_mode": {
    "name": "ipython",
    "version": 3
   },
   "file_extension": ".py",
   "mimetype": "text/x-python",
   "name": "python",
   "nbconvert_exporter": "python",
   "pygments_lexer": "ipython3",
   "version": "3.12.7"
  }
 },
 "nbformat": 4,
 "nbformat_minor": 2
}
