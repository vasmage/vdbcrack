{
 "cells": [
  {
   "cell_type": "code",
   "execution_count": 1,
   "metadata": {},
   "outputs": [],
   "source": [
    "from IPython.core.interactiveshell import InteractiveShell\n",
    "InteractiveShell.ast_node_interactivity = \"all\"\n",
    "\n",
    "import sys \n",
    "import numpy as np"
   ]
  },
  {
   "cell_type": "markdown",
   "metadata": {},
   "source": [
    "Load it "
   ]
  },
  {
   "cell_type": "code",
   "execution_count": 2,
   "metadata": {},
   "outputs": [],
   "source": [
    "PATH_SIFT = \"/pub/scratch/vmageirakos/datasets/parlay-ann/sift\""
   ]
  },
  {
   "cell_type": "code",
   "execution_count": 3,
   "metadata": {},
   "outputs": [],
   "source": [
    "def ivecs_read(fname):\n",
    "    a = np.fromfile(fname, dtype='int32')\n",
    "    d = a[0]\n",
    "    return a.reshape(-1, d + 1)[:, 1:].copy()\n",
    "\n",
    "def fvecs_read(fname):\n",
    "    return ivecs_read(fname).view('float32')\n",
    "\n",
    "def load_sift1M(PATH):\n",
    "    print(\"Loading sift1M...\", end='', file=sys.stderr)\n",
    "    xt = fvecs_read(f\"{PATH}/sift_learn.fvecs\")\n",
    "    xb = fvecs_read(f\"{PATH}/sift_base.fvecs\")\n",
    "    xq = fvecs_read(f\"{PATH}/sift_query.fvecs\")\n",
    "    gt = ivecs_read(f\"{PATH}/sift_groundtruth.ivecs\")\n",
    "    print(\"done\", file=sys.stderr)\n",
    "\n",
    "    return xb, xq, xt, gt"
   ]
  },
  {
   "cell_type": "code",
   "execution_count": 4,
   "metadata": {},
   "outputs": [
    {
     "name": "stderr",
     "output_type": "stream",
     "text": [
      "Loading sift1M...done\n"
     ]
    }
   ],
   "source": [
    "xb, xq, xt, gt = load_sift1M(PATH_SIFT)"
   ]
  },
  {
   "cell_type": "code",
   "execution_count": 5,
   "metadata": {},
   "outputs": [
    {
     "data": {
      "text/plain": [
       "(1000000, 128)"
      ]
     },
     "execution_count": 5,
     "metadata": {},
     "output_type": "execute_result"
    },
    {
     "data": {
      "text/plain": [
       "(10000, 128)"
      ]
     },
     "execution_count": 5,
     "metadata": {},
     "output_type": "execute_result"
    },
    {
     "data": {
      "text/plain": [
       "(100000, 128)"
      ]
     },
     "execution_count": 5,
     "metadata": {},
     "output_type": "execute_result"
    },
    {
     "data": {
      "text/plain": [
       "(10000, 100)"
      ]
     },
     "execution_count": 5,
     "metadata": {},
     "output_type": "execute_result"
    }
   ],
   "source": [
    "xb.shape\n",
    "xq.shape\n",
    "xt.shape\n",
    "gt.shape"
   ]
  },
  {
   "cell_type": "markdown",
   "metadata": {},
   "source": [
    "Turn it into format iRangeGraph expects:\n",
    "\n",
    "Data:\n",
    "- The data points over which the index is built, in .bin format. The first 4 bytes represent number of points as integer. The next 4 bytes represent the dimension of data as integer. The following `n*d*sizeof(float)` bytes contain the contents of the data one data point in a time.\n",
    "There is no need to pre-sort the data points by any attribute. Just make sure data points and attribute1 and attribute2 match one by one in order.\n",
    "\n",
    "Query:\n",
    "- The query vectors, in .bin format. The first 4 bytes represent number of points as integer. The next 4 bytes represent the dimension of data as integer. The following `n*d*sizeof(float)` bytes contain the contents of the query one query point in a time.\n"
   ]
  },
  {
   "cell_type": "code",
   "execution_count": 30,
   "metadata": {},
   "outputs": [],
   "source": [
    "import numpy as np\n",
    "import struct\n",
    "\n",
    "def convert_to_bin_format(data):\n",
    "    # NUMPY\n",
    "    num_points, dim = data.shape\n",
    "    # Convert number of points and dimension to 4-byte integers\n",
    "    header = np.int32(num_points).tobytes() + np.int32(dim).tobytes()\n",
    "    # Convert data to float32 and to binary format\n",
    "    data_bytes = data.astype(np.float32).tobytes()\n",
    "    # Concatenate header and data bytes\n",
    "    return header + data_bytes\n",
    "    \n",
    "def convert_to_bin_format(data):\n",
    "    # Ensure the input data is a NumPy array\n",
    "    \n",
    "    # Get number of points and dimensions\n",
    "    num_points, dim = data.shape\n",
    "    \n",
    "    # Create the header using struct to pack num_points and dim as 4-byte integers\n",
    "    header = struct.pack('ii', num_points, dim)  # 'ii' means two signed integers (4 bytes each)\n",
    "    \n",
    "    # Convert data to float32 and ensure it's contiguous, then pack as bytes\n",
    "    data_bytes = struct.pack(f'{num_points * dim}f', *data.astype(np.float32).flatten())\n",
    "    \n",
    "    # Concatenate header and data bytes\n",
    "    return header + data_bytes\n",
    "\n",
    "def save_data(data, filename):\n",
    "    with open(filename, 'wb') as f:\n",
    "        f.write(data)"
   ]
  },
  {
   "cell_type": "code",
   "execution_count": 26,
   "metadata": {},
   "outputs": [
    {
     "data": {
      "text/plain": [
       "1000000"
      ]
     },
     "execution_count": 28,
     "metadata": {},
     "output_type": "execute_result"
    },
    {
     "data": {
      "text/plain": [
       "128"
      ]
     },
     "execution_count": 28,
     "metadata": {},
     "output_type": "execute_result"
    },
    {
     "data": {
      "text/plain": [
       "b'@B\\x0f\\x00\\x80\\x00\\x00\\x00'"
      ]
     },
     "execution_count": 28,
     "metadata": {},
     "output_type": "execute_result"
    },
    {
     "data": {
      "text/plain": [
       "(1000000, 128)"
      ]
     },
     "execution_count": 28,
     "metadata": {},
     "output_type": "execute_result"
    }
   ],
   "source": [
    "num_points, dim = xb.shape\n",
    "num_points\n",
    "dim\n",
    "header = struct.pack('ii', num_points, dim)\n",
    "header\n",
    "struct.unpack('ii', header)"
   ]
  },
  {
   "cell_type": "code",
   "execution_count": 17,
   "metadata": {},
   "outputs": [],
   "source": [
    "# Convert and save xb and xq to .bin files\n",
    "xb_bin = convert_to_bin_format(xb)\n",
    "xq_bin = convert_to_bin_format(xq)"
   ]
  },
  {
   "cell_type": "code",
   "execution_count": 17,
   "metadata": {},
   "outputs": [],
   "source": [
    "save_data(xb_bin, 'sift_base.bin')\n",
    "save_data(xq_bin, 'sift_query.bin')"
   ]
  },
  {
   "cell_type": "code",
   "execution_count": null,
   "metadata": {},
   "outputs": [],
   "source": []
  },
  {
   "cell_type": "code",
   "execution_count": null,
   "metadata": {},
   "outputs": [],
   "source": []
  },
  {
   "cell_type": "code",
   "execution_count": null,
   "metadata": {},
   "outputs": [],
   "source": []
  }
 ],
 "metadata": {
  "kernelspec": {
   "display_name": ".venv",
   "language": "python",
   "name": "python3"
  },
  "language_info": {
   "codemirror_mode": {
    "name": "ipython",
    "version": 3
   },
   "file_extension": ".py",
   "mimetype": "text/x-python",
   "name": "python",
   "nbconvert_exporter": "python",
   "pygments_lexer": "ipython3",
   "version": "3.10.12"
  }
 },
 "nbformat": 4,
 "nbformat_minor": 2
}
