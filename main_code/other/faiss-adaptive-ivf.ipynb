{
 "cells": [
  {
   "cell_type": "markdown",
   "metadata": {},
   "source": [
    "# SOS:\n",
    "- I definitely have a memory leak somewhere and I need to figure out where. Because swap space only increases as I run the code.\n",
    "\n",
    "# Immediate Goals:\n",
    "- Forget about memory leak, work around it for now\n",
    "- [X] Make sure operations are correct and indeed I have the algorithm as I want it ( add local inter stop )\n",
    "\n",
    "As soon as the algorithm is \"correct\" no matter the performance, I can run my tests and see what the paper is about. Then a good c++ implementation will just make cracking work.\n",
    "\n",
    "- [ ] Create skewed dataset & non-skewed dataset:\n",
    "    - [ ] QPS before crack? QPS after crack? QPS full train?\n",
    "    - if I \"freeze\" it after crack and re-run I can check if the crack was useful and I achieve comparable QPS will full training\n",
    "- [ ] Estimate analytically what I save from training, what QPS do I need to achieve for this to be a good idea"
   ]
  },
  {
   "cell_type": "markdown",
   "metadata": {},
   "source": [
    "- Examples: https://github.com/facebookresearch/faiss/wiki/Python-C---code-snippets\n",
    "\n",
    "- replace invlists:\n",
    "    - (!--SLOW) How can I replace invlist content: https://gist.github.com/mdouze/aef2078afdb12c027ed93672d9801399#file-demo_replace_invlists-ipynb\n",
    "    - (!--FASTER i think) implement evolving dataset (update/delets) : https://github.com/facebookresearch/faiss/wiki/Case-studies#implementing-an-evolving-ivf-dataset\n",
    "    - (!) how to add_preassigned, to add points to specific invlists: use https://gist.github.com/mdouze/8c5ab227c0f7d9d7c15cf92a391dcbe5#file-demo_independent_ivf_dimension-ipynb\n",
    "    - clear and re-add pts to specific invlist: https://github.com/facebookresearch/faiss/issues/2311\n",
    "        - use add_preassigned to re-add to specific list (make sure you change quantizer as well)\n",
    "        - doing this on GPU: https://github.com/facebookresearch/faiss/issues/3908\n",
    "- kmeans inner iter:\n",
    "    - (!) How to force k-means initializations: https://gist.github.com/mdouze/9eb96d941c94ef59482a069e5862a650 \n",
    "    - To avoid copies of the data, eg IndexFlat there is brute force search to run directly on data (without creating index): https://github.com/facebookresearch/faiss/wiki/\n",
    "    - (!) how to warm start centroid training when you have drifts: \n",
    "        - https://gist.github.com/mdouze/fd0e3e1f20a3d530d96b0e017050df43#file-warm_start_ivf_centroids-ipynb \n",
    "        - https://github.com/facebookresearch/faiss/wiki/FAQ#how-can-i-warm-start-the-centroid-training-for-an-ivf-index\n",
    "\n",
    "- other:\n",
    "    - (!) How to get content of inverted lists? https://github.com/facebookresearch/faiss/wiki/Python-C---code-snippets#how-can-i-get-the-content-of-inverted-lists\n",
    "        - data is not copied with get_invlist (https://gist.github.com/mdouze/b0a65aba70a64b00d6425b0e268a4c80)\n",
    "    - (!) how to replace quantizer: https://github.com/facebookresearch/faiss/blob/697b6ddf558ef4ecb60e72e828c25a69723639c1/contrib/ivf_tools.py#L98\n",
    "    - get number of distance computations: https://github.com/facebookresearch/faiss/wiki/Implementation-notes#statistics-for-non-exhaustive-search\n",
    "    - how to run queries with different nprobe for each etc: https://github.com/facebookresearch/faiss/wiki/Setting-search-parameters-for-one-query\n",
    "    - how to do constraint k-means (~balanced): https://github.com/facebookresearch/faiss/wiki/Case-studies#limited-size-clustering\n"
   ]
  },
  {
   "cell_type": "markdown",
   "metadata": {},
   "source": [
    "Q: why does sa_encode in IndexFlatL2 return 1 byte more "
   ]
  },
  {
   "cell_type": "code",
   "execution_count": 1,
   "metadata": {},
   "outputs": [],
   "source": [
    "from IPython.core.interactiveshell import InteractiveShell\n",
    "InteractiveShell.ast_node_interactivity = \"all\"\n",
    "# InteractiveShell.ast_node_interactivity = \"last\""
   ]
  },
  {
   "cell_type": "code",
   "execution_count": 9,
   "metadata": {},
   "outputs": [
    {
     "name": "stdout",
     "output_type": "stream",
     "text": [
      "The autoreload extension is already loaded. To reload it, use:\n",
      "  %reload_ext autoreload\n"
     ]
    }
   ],
   "source": [
    "%load_ext autoreload\n",
    "%autoreload 2"
   ]
  },
  {
   "cell_type": "code",
   "execution_count": 12,
   "metadata": {},
   "outputs": [],
   "source": [
    "from vasili_helpers import *\n",
    "faiss.omp_set_num_threads(1)"
   ]
  },
  {
   "cell_type": "code",
   "execution_count": null,
   "metadata": {},
   "outputs": [],
   "source": [
    "DATASET = \"sift-128-euclidean\"\n",
    "# DATASET = \"synthetic-small\"\n",
    "# DATASET = \"synthetic-large\""
   ]
  },
  {
   "cell_type": "code",
   "execution_count": 77,
   "metadata": {},
   "outputs": [
    {
     "name": "stderr",
     "output_type": "stream",
     "text": [
      "Loading sift1M...done\n"
     ]
    },
    {
     "name": "stdout",
     "output_type": "stream",
     "text": [
      "dataset shape:\n",
      "xb.shape=(1000000, 128)\n",
      "gt.shape=(10000, 100)\n",
      "xq.shape=(10000, 128)\n"
     ]
    }
   ],
   "source": [
    "if DATASET == \"sift-128-euclidean\":\n",
    "    DATA_PATH = \"/Users/mageirakos/Documents/projects/crack-vdb/data/\" # local path\n",
    "    DATA_PATH = \"/pub/scratch/vmageirakos/datasets/ann-fvecs/sift-128-euclidean\" # sys server pub/sratch\n",
    "    xb, xq, _, gt, _ = load_sift1M(DATA_PATH)\n",
    "    num_centroids = 1000\n",
    "elif DATASET == \"synthetic-small\":\n",
    "    _, xb, gt, xq, _ = create_synthetic_dataset(d=3,nt=10,nb=100,nq=2,metric='L2')\n",
    "    num_centroids = 10\n",
    "elif DATASET == \"synthetic-large\":\n",
    "    _, xb, gt, xq, _ = create_synthetic_dataset(d=100, nt=10, nb=1_000_000, nq=10, metric='L2')\n",
    "    num_centroids = 1000\n",
    "    # _, xb, gt, xq, _ = create_synthetic_dataset(d=128, nt=256_000, nb=1_000_000, nq=10_000, metric='L2') # ~SIFT1M"
   ]
  },
  {
   "cell_type": "code",
   "execution_count": 78,
   "metadata": {},
   "outputs": [
    {
     "data": {
      "text/plain": [
       "1000"
      ]
     },
     "execution_count": 78,
     "metadata": {},
     "output_type": "execute_result"
    }
   ],
   "source": [
    "num_centroids"
   ]
  },
  {
   "cell_type": "code",
   "execution_count": 18,
   "metadata": {},
   "outputs": [
    {
     "name": "stdout",
     "output_type": "stream",
     "text": [
      "[1] Train K-means for 0 iterations on 100 points...\n",
      "Clustering 100 points in 3D to 10 clusters, redo 1 times, 0 iterations\n",
      "  Preprocessing in 0.00 s\n",
      "[2] Initialize quantizer of 3 dimensions, with 10 centroids...\n",
      "[3] IndexIVFFLat: Adding 100 points of 3 dimensions, to 10 centroids from the quantizer...\n",
      "\n",
      "Training level-1 quantizer\n",
      "IVF quantizer does not need training.\n",
      "Training IVF residual\n",
      "IndexIVF: no residual training\n",
      "\n",
      "[-] Finished get_faiss_ivfflatL2_from_individual_components\n",
      "- TRAIN: K-means took 0.001 s\n",
      "- ADD: centroids to quantizer 0.0 s\n",
      "- ADD: points to index took 0.04 s\n",
      "- TOTAL time: 0.042 s\n",
      "- Invlist Imbalance Factor: 1.13\n",
      "\n",
      "[1] Train K-means for 10 iterations on 100 points...\n",
      "IndexIVFFlat::add_core: added 100 / 100 vectors\n",
      "Clustering 100 points in 3D to 10 clusters, redo 1 times, 10 iterations\n",
      "  Preprocessing in 0.00 s\n",
      "  Iteration 9 (0.00 s, search 0.00 s): objective=25.1457 imbalance=1.130 nsplit=0       \n",
      "[2] Initialize quantizer of 3 dimensions, with 10 centroids...\n",
      "[3] IndexIVFFLat: Adding 100 points of 3 dimensions, to 10 centroids from the quantizer...\n",
      "Training level-1 quantizer\n",
      "IVF quantizer does not need training.\n",
      "Training IVF residual\n",
      "IndexIVF: no residual training\n",
      "\n",
      "[-] Finished get_faiss_ivfflatL2_from_individual_components\n",
      "- TRAIN: K-means took 0.002 s\n",
      "- ADD: centroids to quantizer 0.0 s\n",
      "- ADD: points to index took 0.0 s\n",
      "- TOTAL time: 0.002 s\n",
      "- Invlist Imbalance Factor: 1.13\n",
      "\n",
      "IndexIVFFlat::add_core: added 100 / 100 vectors\n"
     ]
    },
    {
     "name": "stderr",
     "output_type": "stream",
     "text": [
      "WARNING clustering 100 points to 10 centroids: please provide at least 390 training points\n",
      "WARNING clustering 100 points to 10 centroids: please provide at least 390 training points\n"
     ]
    }
   ],
   "source": [
    "outer_index = get_faiss_ivfflatL2_from_individual_components(xb, \\\n",
    "                                                            nlist=num_centroids, \n",
    "                                                            km_n_iter=0, \n",
    "                                                            km_max_pts=256, \n",
    "                                                            verbose=True)\n",
    "\n",
    "trained_outer_index = get_faiss_ivfflatL2_from_individual_components(xb, \\\n",
    "                                                            nlist=num_centroids, \n",
    "                                                            km_n_iter=10, \n",
    "                                                            km_max_pts=256, \n",
    "                                                            verbose=True)\n",
    "# print(\"UNTRAINED: \")\n",
    "# plot_hist_invlists_faiss_index(outer_index)\n",
    "# print(f\"Imbalance factor = {outer_index.invlists.imbalance_factor()}\")\n",
    "# print(\"TRAINED: \")\n",
    "# plot_hist_invlists_faiss_index(trained_outer_index)\n",
    "# print(f\"Imbalance factor = {trained_outer_index.invlists.imbalance_factor()}\")"
   ]
  },
  {
   "cell_type": "markdown",
   "metadata": {},
   "source": [
    "##### Algo\n",
    "While Queries:\n",
    "1) .search() for the query\n",
    "    - a) get results\n",
    "    - b) get recall\n",
    "    - c) get nprobe closest centroids -> \"c_visited\"\n",
    "2) any(c_visited.iter < max_local_iter ) ? CRACK : NO_CRACK\n",
    "    - a) If NO_CRACK: return results\n",
    "3) if CRACK:\n",
    "    - a) get all points in c_visited -> \"p_visited\"\n",
    "    - b) use IDMap to keep track of -> point_ids & centroid_ids (outer<->inner)\n",
    "    - c) initialize new inner_quantizer w/ c_visited centroids\n",
    "        - single iteration of .train() on c_visited with p_visited\n",
    "        - add(p_visited) using innuer_quantizer and get inner_invlists\n",
    "    - d) update outer_index for the next query, to use the new:\n",
    "        - inner_quantizer\n",
    "        - inner_invlists \n",
    "    \n",
    "------\n",
    "\n",
    "Notes on the above:\n",
    "- 1c) there's not cheap way to get it in python, there is a smart pointer that poitns to object which holds c_visited (called idx) when sub_search_func() is called in indexivf.cpp search\n",
    "    -  I would have to change internals to optionally return this to have it \"for free\""
   ]
  },
  {
   "cell_type": "markdown",
   "metadata": {},
   "source": [
    "NOTE:\n",
    "- Timings in fdr3 are highly unstable ( at least on the small dataset )"
   ]
  },
  {
   "cell_type": "code",
   "execution_count": 19,
   "metadata": {},
   "outputs": [],
   "source": [
    "#NOTE: create full copy of outer_index because run_crack_ivf changes it inplace\n",
    "OUTER_INDEX_CLONE = faiss.clone_index(outer_index)"
   ]
  },
  {
   "cell_type": "markdown",
   "metadata": {},
   "source": [
    "Default testing cracking:\n"
   ]
  },
  {
   "cell_type": "code",
   "execution_count": 61,
   "metadata": {},
   "outputs": [
    {
     "name": "stdout",
     "output_type": "stream",
     "text": [
      "\n",
      "[-] Finished run_crack_ivf:\n",
      "--- Median Timings for Each Section ---\n",
      "- search: 0.000160 seconds\n",
      "- get_c_visited: 0.000069 seconds\n",
      "- get_p_visited: 0.0 seconds\n",
      "- inner_km_train: 0.0 seconds\n",
      "- inner_point_assignments: 0.0 seconds\n",
      "- replace_quantizer: 0.0 seconds\n",
      "- update_invlists: 0.0 seconds\n",
      "\n",
      "--- Total Timings for Each Section ---\n",
      "- search: 0.000319 seconds\n",
      "- get_c_visited: 0.000139 seconds\n",
      "- get_p_visited: 0.0 seconds\n",
      "- inner_km_train: 0.0 seconds\n",
      "- inner_point_assignments: 0.0 seconds\n",
      "- replace_quantizer: 0.0 seconds\n",
      "- update_invlists: 0.0 seconds\n",
      "- Invlist Imbalance Factor : 1.13\n",
      "- Recalls@10: np.median(recalls)=0.9 - np.mean(recalls)=0.9 - round(np.std(recalls),3)=0.1\n",
      "-% points scanned : nan (median) - nan (mean) \n",
      "CPU times: user 602 μs, sys: 3.46 ms, total: 4.07 ms\n",
      "Wall time: 3.22 ms\n"
     ]
    }
   ],
   "source": [
    "%%time\n",
    "run_crack_ivf(outer_index, xq, gt, \\\n",
    "    nprobe=2, \n",
    "    k=10, \n",
    "    inner_km_niter=1, \n",
    "    # limit_query=100,\n",
    "    # CRACK=True, \n",
    "    # plot_boxplot=True, \n",
    "    # limit_crack=1,\n",
    "    # dynamic_nprobe=True,\n",
    "    # DEBUG=True,\n",
    ")"
   ]
  },
  {
   "cell_type": "code",
   "execution_count": 75,
   "metadata": {},
   "outputs": [
    {
     "name": "stdout",
     "output_type": "stream",
     "text": [
      "IndexIVFFlat::add_core: added 24 / 24 vectors\n",
      "\n",
      "[-] Finished run_crack_ivf:\n",
      "--- Median Timings for Each Section ---\n",
      "IndexIVFFlat::add_core: added 29 / 29 vectors\n",
      "- search: 0.000351 seconds\n",
      "- get_c_visited: 0.000085 seconds\n",
      "- get_p_visited: 0.000173 seconds\n",
      "- inner_km_train: 0.000454 seconds\n",
      "- inner_point_assignments: 0.000061 seconds\n",
      "- replace_quantizer: 0.000277 seconds\n",
      "- update_invlists: 0.000124 seconds\n",
      "\n",
      "--- Total Timings for Each Section ---\n",
      "- search: 0.000701 seconds\n",
      "- get_c_visited: 0.000169 seconds\n",
      "- get_p_visited: 0.000347 seconds\n",
      "- inner_km_train: 0.000908 seconds\n",
      "- inner_point_assignments: 0.000122 seconds\n",
      "- replace_quantizer: 0.000555 seconds\n",
      "- update_invlists: 0.000248 seconds\n",
      "- Invlist Imbalance Factor : 1.146\n",
      "- Recalls@10: np.median(recalls)=0.85 - np.mean(recalls)=0.85 - round(np.std(recalls),3)=0.15\n",
      "-% points scanned : 0.265 (median) - 0.265 (mean) \n",
      "CPU times: user 8.67 ms, sys: 118 μs, total: 8.78 ms\n",
      "Wall time: 6.97 ms\n"
     ]
    },
    {
     "name": "stderr",
     "output_type": "stream",
     "text": [
      "WARNING clustering 24 points to 2 centroids: please provide at least 78 training points\n",
      "WARNING clustering 29 points to 2 centroids: please provide at least 78 training points\n"
     ]
    }
   ],
   "source": [
    "%%time\n",
    "#NOTE: create full copy of outer_index because run_crack_ivf changes it inplace\n",
    "# OUTER_INDEX_CLONE = faiss.clone_index(outer_index)\n",
    "\n",
    "run_crack_ivf(OUTER_INDEX_CLONE, xq, gt, \\\n",
    "    nprobe=2, \n",
    "    k=10, \n",
    "    inner_km_niter=1, \n",
    "    # limit_query=100,\n",
    "    CRACK=True, \n",
    "    # plot_boxplot=True, \n",
    "    # limit_crack=1,\n",
    "    # dynamic_nprobe=True,\n",
    "    # DEBUG=True,\n",
    ")"
   ]
  },
  {
   "cell_type": "code",
   "execution_count": null,
   "metadata": {},
   "outputs": [],
   "source": []
  },
  {
   "cell_type": "code",
   "execution_count": null,
   "metadata": {},
   "outputs": [],
   "source": []
  },
  {
   "cell_type": "markdown",
   "metadata": {},
   "source": [
    "Testing what would happen if we have very skewed query set:"
   ]
  },
  {
   "cell_type": "code",
   "execution_count": 14,
   "metadata": {},
   "outputs": [],
   "source": [
    "xq_shuffled, gt_shuffled = shuffle_queries(xq, gt, seed=42)"
   ]
  },
  {
   "cell_type": "code",
   "execution_count": 646,
   "metadata": {},
   "outputs": [
    {
     "name": "stdout",
     "output_type": "stream",
     "text": [
      "- Total number of unique centroids visited: 171\n",
      "- % of total centroids: 17.0 %\n"
     ]
    },
    {
     "data": {
      "image/png": "[encoded data removed]",
      "text/plain": [
       "<Figure size 640x480 with 1 Axes>"
      ]
     },
     "metadata": {},
     "output_type": "display_data"
    }
   ],
   "source": [
    "nprobe=10\n",
    "xq_shuffled, gt_shuffled = shuffle_queries(xq, gt, seed=42)\n",
    "limit_queries=20\n",
    "factor_of_duplication=100\n",
    "subset_xq = xq_shuffled[:limit_queries].reshape(limit_queries,-1)\n",
    "subset_gt = gt_shuffled[:limit_queries].reshape(limit_queries,-1)\n",
    "subset_DUPLICATED, gt_DUPLICATED = increase_queries_by_duplicates(subset_xq, subset_gt, factor=factor_of_duplication)\n",
    "get_centroid_ids_per_query(\n",
    "    outer_index, \n",
    "    subset_DUPLICATED, \n",
    "    nprobe=10, \n",
    "    plot_hist=True\n",
    "    )"
   ]
  },
  {
   "cell_type": "code",
   "execution_count": 705,
   "metadata": {},
   "outputs": [],
   "source": [
    "NPROBE = 10"
   ]
  },
  {
   "cell_type": "code",
   "execution_count": 706,
   "metadata": {},
   "outputs": [
    {
     "name": "stdout",
     "output_type": "stream",
     "text": [
      "\n",
      "[-] Finished run_crack_ivf:\n",
      "--- Median Timings for Each Section ---\n",
      "- search: 0.000959 seconds\n",
      "- get_c_visited: 0.000065 seconds\n",
      "- get_p_visited: 0.0 seconds\n",
      "- inner_km_train: 0.0 seconds\n",
      "- inner_point_assignments: 0.0 seconds\n",
      "- replace_quantizer: 0.0 seconds\n",
      "- update_invlists: 0.0 seconds\n",
      "\n",
      "--- Total Timings for Each Section ---\n",
      "- search: 2.013371 seconds\n",
      "- get_c_visited: 0.137494 seconds\n",
      "- get_p_visited: 0.0 seconds\n",
      "- inner_km_train: 0.0 seconds\n",
      "- inner_point_assignments: 0.0 seconds\n",
      "- replace_quantizer: 0.0 seconds\n",
      "- update_invlists: 0.0 seconds\n",
      "- Invlist Imbalance Factor : 1.808352322\n",
      "- Recalls@100: np.median(recalls)=0.78 - np.mean(recalls)=0.78 - round(np.std(recalls),3)=0.132\n",
      "-% points scanned : nan (median) - nan (mean) \n",
      "CPU times: user 2.67 s, sys: 3.7 ms, total: 2.67 s\n",
      "Wall time: 2.66 s\n"
     ]
    }
   ],
   "source": [
    "%%time\n",
    "## UNTRAINED outer index\n",
    "run_crack_ivf(\n",
    "    # OUTER_INDEX_CLONE,  #THE ONE BEING CRACKED (COPY)\n",
    "    outer_index, #BEFORE (NO CRACK)\n",
    "    # xq, \n",
    "    subset_DUPLICATED,\n",
    "    # gt,\n",
    "    gt_DUPLICATED,\n",
    "    nprobe=NPROBE, \n",
    "    k=100, \n",
    "    inner_km_niter=1, \n",
    "    # limit_query=100,\n",
    "    # CRACK=True, \n",
    "    # plot_boxplot=True, \n",
    "    # DEBUG=True,\n",
    "    )"
   ]
  },
  {
   "cell_type": "code",
   "execution_count": 707,
   "metadata": {},
   "outputs": [
    {
     "name": "stdout",
     "output_type": "stream",
     "text": [
      "\n",
      "[-] Finished run_crack_ivf:\n",
      "--- Median Timings for Each Section ---\n",
      "- search: 0.000586 seconds\n",
      "- get_c_visited: 0.000064 seconds\n",
      "- get_p_visited: 0.0 seconds\n",
      "- inner_km_train: 0.0 seconds\n",
      "- inner_point_assignments: 0.0 seconds\n",
      "- replace_quantizer: 0.0 seconds\n",
      "- update_invlists: 0.0 seconds\n",
      "\n",
      "--- Total Timings for Each Section ---\n",
      "- search: 1.275593 seconds\n",
      "- get_c_visited: 0.133411 seconds\n",
      "- get_p_visited: 0.0 seconds\n",
      "- inner_km_train: 0.0 seconds\n",
      "- inner_point_assignments: 0.0 seconds\n",
      "- replace_quantizer: 0.0 seconds\n",
      "- update_invlists: 0.0 seconds\n",
      "- Invlist Imbalance Factor : 1.124995972\n",
      "- Recalls@100: np.median(recalls)=0.8200000000000001 - np.mean(recalls)=0.799 - round(np.std(recalls),3)=0.154\n",
      "-% points scanned : nan (median) - nan (mean) \n",
      "CPU times: user 1.91 s, sys: 7.47 ms, total: 1.92 s\n",
      "Wall time: 1.91 s\n"
     ]
    }
   ],
   "source": [
    "%%time\n",
    "## UNTRAINED outer index\n",
    "run_crack_ivf(\n",
    "    # OUTER_INDEX_CLONE,  #THE ONE BEING CRACKED (COPY)\n",
    "    trained_outer_index, #BEFORE (NO CRACK)\n",
    "    # xq, \n",
    "    subset_DUPLICATED,\n",
    "    # gt,\n",
    "    gt_DUPLICATED,\n",
    "    nprobe=NPROBE, \n",
    "    k=100, \n",
    "    inner_km_niter=1, \n",
    "    # limit_query=100,\n",
    "    # CRACK=True, \n",
    "    # plot_boxplot=True, \n",
    "    # DEBUG=True,\n",
    "    )"
   ]
  },
  {
   "cell_type": "markdown",
   "metadata": {},
   "source": [
    "Testing if training locally helps at all..."
   ]
  },
  {
   "cell_type": "code",
   "execution_count": 712,
   "metadata": {},
   "outputs": [],
   "source": [
    "#NOTE: create full copy of outer_index because run_crack_ivf changes it inplace\n",
    "OUTER_INDEX_CLONE = faiss.clone_index(outer_index)"
   ]
  },
  {
   "cell_type": "code",
   "execution_count": 715,
   "metadata": {},
   "outputs": [
    {
     "name": "stdout",
     "output_type": "stream",
     "text": [
      "IndexIVFFlat::add_core: added 27015 / 27015 vectors\n",
      "IndexIVFFlat::add_core: added 43322 / 43322 vectors\n",
      "IndexIVFFlat::add_core: added 40305 / 40305 vectors\n",
      "IndexIVFFlat::add_core: added 44743 / 44743 vectors\n",
      "IndexIVFFlat::add_core: added 39889 / 39889 vectors\n",
      "IndexIVFFlat::add_core: added 23674 / 23674 vectors\n",
      "IndexIVFFlat::add_core: added 46930 / 46930 vectors\n",
      "IndexIVFFlat::add_core: added 48272 / 48272 vectors\n",
      "IndexIVFFlat::add_core: added 29823 / 29823 vectors\n",
      "IndexIVFFlat::add_core: added 33794 / 33794 vectors\n",
      "IndexIVFFlat::add_core: added 42999 / 42999 vectors\n",
      "IndexIVFFlat::add_core: added 38957 / 38957 vectors\n",
      "IndexIVFFlat::add_core: added 49099 / 49099 vectors\n",
      "IndexIVFFlat::add_core: added 39749 / 39749 vectors\n",
      "IndexIVFFlat::add_core: added 30429 / 30429 vectors\n",
      "IndexIVFFlat::add_core: added 35279 / 35279 vectors\n",
      "IndexIVFFlat::add_core: added 28485 / 28485 vectors\n",
      "IndexIVFFlat::add_core: added 48683 / 48683 vectors\n",
      "IndexIVFFlat::add_core: added 46400 / 46400 vectors\n",
      "IndexIVFFlat::add_core: added 37107 / 37107 vectors\n",
      "\n",
      "[-] Finished run_crack_ivf:\n",
      "--- Median Timings for Each Section ---\n",
      "- search: 0.001022 seconds\n",
      "- get_c_visited: 0.000066 seconds\n",
      "- get_p_visited: 0.017589 seconds\n",
      "- inner_km_train: 0.009708 seconds\n",
      "- inner_point_assignments: 0.015010 seconds\n",
      "- replace_quantizer: 0.000374 seconds\n",
      "- update_invlists: 0.024058 seconds\n",
      "\n",
      "--- Total Timings for Each Section ---\n",
      "- search: 2.030076 seconds\n",
      "- get_c_visited: 0.136220 seconds\n",
      "- get_p_visited: 0.360984 seconds\n",
      "- inner_km_train: 0.194542 seconds\n",
      "- inner_point_assignments: 0.300969 seconds\n",
      "- replace_quantizer: 0.007573 seconds\n",
      "- update_invlists: 0.482315 seconds\n",
      "- Invlist Imbalance Factor : 1.718892572\n",
      "- Recalls@100: np.median(recalls)=0.82 - np.mean(recalls)=0.79867 - round(np.std(recalls),3)=0.167\n",
      "-% points scanned : 0.04 (median) - 0.039 (mean) \n",
      "CPU times: user 4.04 s, sys: 23.5 ms, total: 4.06 s\n",
      "Wall time: 4.04 s\n"
     ]
    }
   ],
   "source": [
    "%%time\n",
    "## UNTRAINED outer index &&&& CRACKING\n",
    "run_crack_ivf(\n",
    "    OUTER_INDEX_CLONE,  #THE ONE BEING CRACKED (COPY)\n",
    "    # xq, \n",
    "    subset_DUPLICATED,\n",
    "    # gt,\n",
    "    gt_DUPLICATED,\n",
    "    nprobe=NPROBE, \n",
    "    k=100, \n",
    "    inner_km_niter=1,\n",
    "    # limit_query=1,\n",
    "    limit_crack=1*len(subset_DUPLICATED)//factor_of_duplication,\n",
    "    CRACK=True, \n",
    "    dynamic_nprobe=True,\n",
    "    # plot_boxplot=True, \n",
    "    # DEBUG=True,\n",
    "    )"
   ]
  },
  {
   "cell_type": "code",
   "execution_count": null,
   "metadata": {},
   "outputs": [],
   "source": []
  },
  {
   "cell_type": "code",
   "execution_count": null,
   "metadata": {},
   "outputs": [],
   "source": []
  },
  {
   "cell_type": "code",
   "execution_count": null,
   "metadata": {},
   "outputs": [],
   "source": []
  },
  {
   "cell_type": "code",
   "execution_count": null,
   "metadata": {},
   "outputs": [],
   "source": []
  },
  {
   "cell_type": "code",
   "execution_count": null,
   "metadata": {},
   "outputs": [],
   "source": []
  },
  {
   "cell_type": "code",
   "execution_count": null,
   "metadata": {},
   "outputs": [],
   "source": []
  },
  {
   "cell_type": "code",
   "execution_count": null,
   "metadata": {},
   "outputs": [],
   "source": []
  },
  {
   "cell_type": "code",
   "execution_count": null,
   "metadata": {},
   "outputs": [],
   "source": []
  },
  {
   "cell_type": "code",
   "execution_count": null,
   "metadata": {},
   "outputs": [],
   "source": []
  },
  {
   "cell_type": "markdown",
   "metadata": {},
   "source": [
    "# Debugging"
   ]
  },
  {
   "cell_type": "code",
   "execution_count": 485,
   "metadata": {},
   "outputs": [
    {
     "ename": "NameError",
     "evalue": "name 'nprobe' is not defined",
     "output_type": "error",
     "traceback": [
      "\u001b[0;31m---------------------------------------------------------------------------\u001b[0m",
      "\u001b[0;31mNameError\u001b[0m                                 Traceback (most recent call last)",
      "Cell \u001b[0;32mIn[485], line 9\u001b[0m\n\u001b[1;32m      7\u001b[0m start_time \u001b[38;5;241m=\u001b[39m time\u001b[38;5;241m.\u001b[39mperf_counter()  \u001b[38;5;66;03m# Timer starts\u001b[39;00m\n\u001b[1;32m      8\u001b[0m q \u001b[38;5;241m=\u001b[39m q\u001b[38;5;241m.\u001b[39mreshape(\u001b[38;5;241m1\u001b[39m, \u001b[38;5;241m-\u001b[39m\u001b[38;5;241m1\u001b[39m)\n\u001b[0;32m----> 9\u001b[0m outer_index\u001b[38;5;241m.\u001b[39mnprobe \u001b[38;5;241m=\u001b[39m \u001b[43mnprobe\u001b[49m  \n\u001b[1;32m     10\u001b[0m D_p, I_p \u001b[38;5;241m=\u001b[39m outer_index\u001b[38;5;241m.\u001b[39msearch(q, k)\n\u001b[1;32m     11\u001b[0m end_time \u001b[38;5;241m=\u001b[39m time\u001b[38;5;241m.\u001b[39mperf_counter()  \u001b[38;5;66;03m# Timer ends\u001b[39;00m\n",
      "\u001b[0;31mNameError\u001b[0m: name 'nprobe' is not defined"
     ]
    }
   ],
   "source": [
    "import time\n",
    "import numpy as np\n",
    "import faiss\n",
    "\n",
    "for q in xq[:1, :]:\n",
    "    # 1. search\n",
    "    start_time = time.perf_counter()  # Timer starts\n",
    "    q = q.reshape(1, -1)\n",
    "    outer_index.nprobe = nprobe  \n",
    "    D_p, I_p = outer_index.search(q, k)\n",
    "    end_time = time.perf_counter()  # Timer ends\n",
    "    print(f\"Time for '.search()': {end_time - start_time:.6f} seconds\")\n",
    "    \n",
    "    # 1c. get c_visited\n",
    "    start_time = time.perf_counter()  # Timer starts\n",
    "    c_visited_ids = outer_index.quantizer.search(q, nprobe)[1][0]  # Get nprobe nearest centroids to query\n",
    "    c_visited = outer_centroids[c_visited_ids]\n",
    "    end_time = time.perf_counter()  # Timer ends\n",
    "    print(f\"Time for 'get c_visited': {end_time - start_time:.6f} seconds\")\n",
    "\n",
    "    if not CRACK:\n",
    "        continue\n",
    "    else:\n",
    "        # CRACK: \n",
    "\n",
    "        # 2a) get p_visited\n",
    "        start_time = time.perf_counter()  # Timer starts\n",
    "        tmp_pids, tmp_codes = [], []\n",
    "        for cid in c_visited_ids:\n",
    "            pids, codes = get_invlist(outer_index.invlists, int(cid)) \n",
    "            tmp_pids.append(pids)\n",
    "            tmp_codes.append(codes)\n",
    "        pids_visited = np.concatenate(tmp_pids, axis=0)\n",
    "        p_visited = np.concatenate(tmp_codes, axis=0).view(\"float32\")  # Convert uint8 bytes to float32 \n",
    "        end_time = time.perf_counter()  # Timer ends\n",
    "        print(f\"Time for 'get p_visited': {end_time - start_time:.6f} seconds\")\n",
    "\n",
    "        # 2c) initialize new inner_quantizer w/ c_visited centroids\n",
    "        start_time = time.perf_counter()  # Timer starts\n",
    "        assert len(c_visited_ids) == nprobe\n",
    "        inner_km = faiss.Kmeans(d, nprobe, niter=1) \n",
    "        inner_km.train(p_visited, init_centroids=c_visited)  # Train single iteration on correct subsets\n",
    "        end_time = time.perf_counter()  # Timer ends\n",
    "        print(f\"Time for 'inner_km.train()': {end_time - start_time:.6f} seconds\")\n",
    "\n",
    "        # inner_point_assignments\n",
    "        start_time = time.perf_counter()  # Timer starts\n",
    "        inner_point_assignments = inner_km.index.assign(p_visited, k=1).reshape(1, -1)\n",
    "        inner_point_assignments = c_visited_ids[inner_point_assignments]  # Convert inner cid to outer cid\n",
    "        prev_assignments = outer_index.quantizer.assign(p_visited, k=1).reshape(1, -1)\n",
    "        end_time = time.perf_counter()  # Timer ends\n",
    "        print(f\"Time for 'inner_point_assignments': {end_time - start_time:.6f} seconds\")\n",
    "\n",
    "        print(f\"{inner_point_assignments=}\")\n",
    "        print(f\"{prev_assignments=}\")\n",
    "\n",
    "        # Skip replacement if no new assignment\n",
    "        if np.array_equal(inner_point_assignments, prev_assignments):\n",
    "            print(\"HEEEEEERE\")\n",
    "            break\n",
    "\n",
    "        # 2d) Replace quantizer\n",
    "        start_time = time.perf_counter()  # Timer starts\n",
    "        outer_centroids[c_visited_ids] = inner_km.centroids #NOTE SOS: Replace outer centroids with inner centroids correctly\n",
    "        new_quantizer = faiss.IndexFlatL2(d)\n",
    "        new_quantizer.add(outer_centroids)\n",
    "        old_quantizer = replace_ivf_quantizer(outer_index, new_quantizer)\n",
    "        end_time = time.perf_counter()  # Timer ends\n",
    "        print(f\"Time for 'replace inner to outer quantizer': {end_time - start_time:.6f} seconds\")\n",
    "\n",
    "        # Clear and update invlists\n",
    "        start_time = time.perf_counter()  # Timer starts\n",
    "        for list_no in c_visited_ids:\n",
    "            outer_index.invlists.resize(int(list_no), 0)\n",
    "        add_preassigned(index_ivf=outer_index, x=p_visited, a=inner_point_assignments.ravel(), ids=pids_visited.ravel())\n",
    "        end_time = time.perf_counter()  # Timer ends\n",
    "        print(f\"Time for 'update inner to outer invlists': {end_time - start_time:.6f} seconds\")\n"
   ]
  },
  {
   "cell_type": "code",
   "execution_count": null,
   "metadata": {},
   "outputs": [],
   "source": [
    "inner_km.centroids\n",
    "\n",
    "outer_centroids\n",
    "# new_quantizer.reconstruct_n()\n",
    "# outer_index.quantizer.reconstruct_n()\n",
    "np.array_equal(outer_index.quantizer.reconstruct_n(), new_quantizer.reconstruct_n())"
   ]
  },
  {
   "cell_type": "code",
   "execution_count": null,
   "metadata": {},
   "outputs": [],
   "source": []
  },
  {
   "cell_type": "markdown",
   "metadata": {},
   "source": [
    "# Tests "
   ]
  },
  {
   "cell_type": "markdown",
   "metadata": {},
   "source": [
    "1) Get the nprobe nearest centroids:"
   ]
  },
  {
   "cell_type": "code",
   "execution_count": null,
   "metadata": {},
   "outputs": [],
   "source": [
    "k = 2\n",
    "nprobe = 2\n",
    "outer_index.nprobe = nprobe\n",
    "test_q = xq[1,:].reshape(1,-1)\n",
    "_, Ipts = outer_index.search(q, k)\n",
    "# 3 ways to do it ()\n",
    "outer_index.quantizer.search(xb[Ipts[0]], 1)[1] # centroids belonging to k nearest neighbors (subset of c_visited)\n",
    "outer_index.quantizer.search(test_q,nprobe)[1] # get nprobe nearest centroids to query\n",
    "outer_km_quantizer.search(test_q,nprobe)[1] # get nprobe nearest centroids to query (from outer km)"
   ]
  },
  {
   "cell_type": "code",
   "execution_count": null,
   "metadata": {},
   "outputs": [],
   "source": [
    "c_visited_ids[0].item() # like cast to int, used when get_invlists()"
   ]
  },
  {
   "cell_type": "markdown",
   "metadata": {},
   "source": [
    "Convert inner centroids ids, to the outer centroid ids:\n",
    "- inner_point_assignments = c_visited_ids[inner_point_assignments] # convert inner cid to outer cid"
   ]
  },
  {
   "cell_type": "code",
   "execution_count": null,
   "metadata": {},
   "outputs": [],
   "source": [
    "c_visited_ids\n",
    "inner_point_assignments"
   ]
  },
  {
   "cell_type": "code",
   "execution_count": null,
   "metadata": {},
   "outputs": [],
   "source": [
    "inner_point_assignments.shape\n",
    "inner_point_assignments = inner_point_assignments.reshape(1,-1) # cid for each point\n",
    "inner_point_assignments\n",
    "pids_visited\n",
    "len(pids_visited)\n",
    "c_visited_ids\n",
    "inner_point_assignments = c_visited_ids[inner_point_assignments] # convert inner cid to outer cid\n",
    "inner_point_assignments"
   ]
  },
  {
   "cell_type": "markdown",
   "metadata": {},
   "source": [
    "Make sure replace quantizer does not change point assignments"
   ]
  },
  {
   "cell_type": "code",
   "execution_count": null,
   "metadata": {},
   "outputs": [],
   "source": [
    "# point assignments before:\n",
    "for i in range(outer_index.nlist):\n",
    "    ids, _ = get_invlist(outer_index.invlists, i)\n",
    "    ids\n",
    "    \n",
    "# print(f\"BEFORE {outer_centroids}\")\n",
    "outer_centroids[c_visited_ids] = inner_km.centroids\n",
    "# print(f\"AFTER {outer_centroids}\")\n",
    "\n",
    "new_quantizer = faiss.IndexFlatL2(d)\n",
    "new_quantizer.add(outer_centroids)\n",
    "# print(f\"BEFORE {outer_index.quantizer.reconstruct_n()=}\")\n",
    "old_quantizer = replace_ivf_quantizer(outer_index, new_quantizer)\n",
    "c_visited_ids  # what we visit (ids)\n",
    "print(f\"BEFORE {old_quantizer.reconstruct_n()=}\")\n",
    "print(f\"AFTER {new_quantizer.reconstruct_n()=}\")\n",
    "\n",
    "# point assignments before:\n",
    "for i in range(outer_index.nlist):\n",
    "    ids, _ = get_invlist(outer_index.invlists, i)\n",
    "    ids"
   ]
  },
  {
   "cell_type": "code",
   "execution_count": null,
   "metadata": {},
   "outputs": [],
   "source": []
  },
  {
   "cell_type": "markdown",
   "metadata": {},
   "source": [
    "# Individual Pieces"
   ]
  },
  {
   "cell_type": "markdown",
   "metadata": {},
   "source": [
    "<!-- untrained k-means/ivf index ( get general structure of faiss code) -->"
   ]
  },
  {
   "cell_type": "code",
   "execution_count": null,
   "metadata": {},
   "outputs": [],
   "source": [
    "nlist = 100\n",
    "k = 4\n",
    "quantizer = faiss.IndexFlatL2(d)  #NOTE: what is used to search centroids?\n",
    "trained_index = faiss.IndexIVFFlat(quantizer, d, nlist, faiss.METRIC_L2)\n",
    "# Set clustering parameters before training\n",
    "n_iter = 0 #CHEF NOTE: This avoid doing any k-means iterations in clustering.cpp train_encoded() for (int i = 0; i < niter; i++) {\n",
    "trained_index.cp.niter = n_iter\n",
    "trained_index.cp.verbose = True\n",
    "\n",
    "# here we specify METRIC_L2, by default it performs inner-product search\n",
    "\n",
    "assert not trained_index.is_trained\n",
    "# CHEF NOTE: in IndexIVF void Level1Quantizer::train_q1 \n",
    "trained_index.train(xb) # train index should take no time\n",
    "assert trained_index.is_trained\n",
    "\n",
    "trained_index.add(xb)                  # NOTE: this is the \"expensive\" part?\n",
    "D, I = trained_index.search(xq, k)     # actual search\n",
    "print(I[-5:])                        # neighbors of the 5 last queries\n",
    "trained_index.nprobe = 10              # default nprobe is 1, try a few more\n",
    "D, I = trained_index.search(xq, k)\n",
    "print(I[-5:])                        # neighbors of the 5 last queries\n",
    "trained_index.invlists.imbalance_factor() # figure out imbalance across inverted lists\n",
    "trained_index.invlists.print_stats() # counts number of lists that fall in different bins "
   ]
  },
  {
   "cell_type": "markdown",
   "metadata": {},
   "source": [
    "<!-- Approximately what we want:\n",
    "\n",
    "1) random init centroids\n",
    "2) index object with .search_cracked() function\n",
    "- 2.1) uses normal .search() to answer query\n",
    "- 2.3) also hash a .crack() to update invlists assignments and centroids for future uses of .search_cracked() -->"
   ]
  },
  {
   "cell_type": "markdown",
   "metadata": {},
   "source": [
    "<!-- \"Official\" way to do it -->"
   ]
  },
  {
   "cell_type": "code",
   "execution_count": null,
   "metadata": {},
   "outputs": [],
   "source": [
    "###### Step 1) Random initial Index\n",
    "# nlist = 5\n",
    "# k = 10\n",
    "quantizer = faiss.IndexFlatL2(d)  #NOTE: what is used to search centroids?\n",
    "faiss_index = faiss.IndexIVFFlat(quantizer, d, nlist, faiss.METRIC_L2)\n",
    "# Set clustering parameters before training\n",
    "n_iter = 0 #CHEF NOTE: This avoid doing any k-means iterations in clustering.cpp train_encoded() for (int i = 0; i < niter; i++) {\n",
    "faiss_index.cp.niter = n_iter\n",
    "faiss_index.cp.verbose = True\n",
    "faiss_index.cp.max_points_per_centroid = 1_000_000 # NOTE: no sub-sampling\n",
    "\n",
    "# here we specify METRIC_L2, by default it performs inner-product search\n",
    "\n",
    "assert not faiss_index.is_trained\n",
    "# CHEF NOTE: in IndexIVF void Level1Quantizer::train_q1 \n",
    "faiss_index.train(xb) # train index should take no time\n",
    "assert faiss_index.is_trained\n",
    "\n",
    "print(f\"Adding points {nb} of {d} dimensions, to {nlist} centroids...\")\n",
    "faiss_index.add(xb)                  # NOTE: this is the \"expensive\" part??\n",
    "print(\"Done\")"
   ]
  },
  {
   "cell_type": "markdown",
   "metadata": {},
   "source": [
    "<!-- \"Alternative\" way to do it ~same thing, but you need to manually handle nprobe/and invlist scanner etc. -->"
   ]
  },
  {
   "cell_type": "code",
   "execution_count": null,
   "metadata": {},
   "outputs": [],
   "source": [
    "nlist = 100\n",
    "k = 10\n",
    "n_iter = 0 #CHEF NOTE: This avoid doing any k-means iterations in clustering.cpp train_encoded() for (int i = 0; i < niter; i++) {\n",
    "max_pts =1_000_000 # NOTE: no sub-sampling"
   ]
  },
  {
   "cell_type": "markdown",
   "metadata": {},
   "source": [
    "<!-- Step 1) Random initial Index -->"
   ]
  },
  {
   "cell_type": "code",
   "execution_count": null,
   "metadata": {},
   "outputs": [],
   "source": [
    "# total_start = time.time()\n",
    "\n",
    "# ## A) train K-means\n",
    "# kmeans = faiss.Kmeans(d=d, k=nlist, niter=n_iter, verbose=True, max_points_per_centroid=max_pts)\n",
    "\n",
    "# # print(f\"Training K-means for {n_iter} iterations...\")\n",
    "# # assert not kmeans.is_trained\n",
    "\n",
    "# start_time_train = time.time()\n",
    "# kmeans.train(xb)  # Train with specified number of iterations\n",
    "# end_time_train = time.time()\n",
    "# # assert kmeans.is_trained\n",
    "\n",
    "# ## B) K-means quantizer ( to search the centroids )\n",
    "# # print(f\"Init quantizer of {d} dimensions, with {nlist} centroids...\")\n",
    "# kmeans_quantizer = faiss.IndexFlatL2(d)\n",
    "# kmeans_quantizer.verbose = True\n",
    "\n",
    "# quant_start_time_add = time.time()\n",
    "# assert kmeans_quantizer.is_trained == True\n",
    "# kmeans_quantizer.add(kmeans.centroids)  # Add centroids directly to quantizer\n",
    "# quant_end_time_add = time.time()\n",
    "\n",
    "# ## C) Create a new IVF index with the fresh quantizer\n",
    "# # print(f\"Adding points {nb} of {d} dimensions, to {nlist} centroids...\")\n",
    "# k_means_ivf_index = faiss.IndexIVFFlat(kmeans_quantizer, d, nlist, faiss.METRIC_L2)\n",
    "# k_means_ivf_index.verbose = True\n",
    "\n",
    "# k_means_ivf_index.train(xb)\n",
    "# start_time_add = time.time()\n",
    "# k_means_ivf_index.add(xb)    # Add data to index\n",
    "# end_time_add = time.time()\n",
    "\n",
    "# total_end = time.time()\n",
    "# print(f\"TRAIN: K-means took {round(end_time_train - start_time_train, 3)} s\")\n",
    "# print(f\"ADD: centroids to quantizer {round(quant_end_time_add - quant_start_time_add, 3)} s\")\n",
    "# print(f\"ADD: points to index took {round(end_time_add - start_time_add, 3)} s\")\n",
    "# print(f\"TOTAL time: {round(total_end - total_start, 3)} s\")"
   ]
  },
  {
   "cell_type": "markdown",
   "metadata": {},
   "source": [
    "<!-- This is how to get nprobe closest centroid ids for each query -->"
   ]
  },
  {
   "cell_type": "code",
   "execution_count": null,
   "metadata": {},
   "outputs": [],
   "source": [
    "# ## Get nprobe nearest centroid_ids per query\n",
    "# # nprobe = 10\n",
    "# D_nprobe, I_nprobe = kmeans_quantizer.search(xq[0,:].reshape(1,-1), nprobe)\n",
    "# I_nprobe\n",
    "# ## Get the centroids\n",
    "# kmeans.centroids.shape\n",
    "# cent_subset = kmeans.centroids[I_nprobe[0]]\n",
    "# cent_subset.shape"
   ]
  },
  {
   "cell_type": "markdown",
   "metadata": {},
   "source": [
    "<!-- TODO: \n",
    "- [ ] assert that nprobe centroids retrieved are the same indexes as in the invlists\n",
    "- [ ] handle case where large cluster is split, what happens then? -->"
   ]
  },
  {
   "cell_type": "code",
   "execution_count": null,
   "metadata": {},
   "outputs": [],
   "source": [
    "# #TODO: Get points for those centroids\n",
    "# k_means_ivf_index.invlists.code_size\n",
    "# k_means_ivf_index.invlists.list_size(3) # num pts in cluster \n",
    "# k_means_ivf_index.invlists.get_ids(3) # ids of pts -//-\n",
    "# k_means_ivf_index.invlists.get_codes(3) # codes of pts -//-\n",
    "# #HACK TODO: I think I might need to use the \"slicer\" to get invlists I want\n",
    "\n",
    "# # k_means_ivf_index.invlists\n",
    "# # faiss.downcast_InvertedLists(k_means_ivf_index.invlists) # turn to array i think"
   ]
  },
  {
   "cell_type": "markdown",
   "metadata": {},
   "source": [
    "<!-- (TESTING): How to change specific centroid assignments? -->"
   ]
  },
  {
   "cell_type": "code",
   "execution_count": null,
   "metadata": {},
   "outputs": [],
   "source": [
    "# from faiss.contrib.inspect_tools import get_invlist\n",
    "# k_means_ivf_index.invlists\n",
    "# inv_list_id_you_want = 2\n",
    "\n",
    "# #TODO: loop over nprobe and get invlist for each, keep track of centroid \"index\" \n",
    "# inv_ids, inv_codes = get_invlist(k_means_ivf_index.invlists, inv_list_id_you_want)\n",
    "# inv_ids\n",
    "# inv_ids.shape\n",
    "# inv_codes.view(\"float32\").shape # NOTE: this is how to view codes as float instead of bytes\n",
    "# inv_codes.view(\"float32\")\n",
    "# #TODO: throw error in case if num centroids after != num centroids before\n",
    "# #TODO: subset_index : assign points to their nearest centroids ( keep track of external point id) \n",
    "# #       - this should craete invlists for the subsets \n",
    "# #TODO: merge ^ to the original centroids, maybe with replace_invlists?"
   ]
  },
  {
   "cell_type": "code",
   "execution_count": null,
   "metadata": {},
   "outputs": [],
   "source": [
    "# xb[inv_ids,:]"
   ]
  },
  {
   "cell_type": "code",
   "execution_count": null,
   "metadata": {},
   "outputs": [],
   "source": [
    "# # quantizer.search(xb[:, :20].copy(), 1)[1].ravel()\n",
    "# # above we got some pts assigne to some cluster now we want to overwrite ?? add_preassigned\n",
    "# from faiss.contrib.ivf_tools import add_preassigned\n",
    "\n",
    "# pts_to_add = xb[:2,:] # add fisrt couple pts\n",
    "# pts_to_add\n",
    "# # NOTE: add them to 2nd centroid\n",
    "# cent_id_to_add = np.array([2,2]).ravel() # which cent to add pts to num len here == num pts being added\n",
    "# cent_id_to_add\n",
    "\n",
    "# # CHEF NOTE: \n",
    "# #   - by default it will increment the id of the pts, if I want to keep track of original ids I need a DirectMap\n",
    "# add_preassigned(k_means_ivf_index, pts_to_add, cent_id_to_add, ids=None)"
   ]
  },
  {
   "cell_type": "markdown",
   "metadata": {},
   "source": [
    "<!-- How to force k-means initializations:\n",
    "- https://gist.github.com/mdouze/9eb96d941c94ef59482a069e5862a650  -->"
   ]
  },
  {
   "cell_type": "markdown",
   "metadata": {},
   "source": [
    "<!-- check if they were added correctly ( TODO: handle unique ids of points) -->"
   ]
  },
  {
   "cell_type": "code",
   "execution_count": null,
   "metadata": {},
   "outputs": [],
   "source": [
    "# from faiss.contrib.inspect_tools import get_invlist\n",
    "# k_means_ivf_index.invlists\n",
    "# inv_list_id_you_want = 2\n",
    "\n",
    "# #TODO: loop over nprobe and get invlist for each, keep track of centroid \"index\" \n",
    "# inv_ids, inv_codes = get_invlist(k_means_ivf_index.invlists, inv_list_id_you_want)\n",
    "# inv_ids\n",
    "# inv_ids.shape\n",
    "# inv_codes.view(\"float32\").shape # NOTE: this is how to view codes as float instead of bytes\n",
    "# inv_codes.view(\"float32\")\n",
    "# #TODO: throw error in case if num centroids after != num centroids before\n",
    "# #TODO: subset_index : assign points to their nearest centroids ( keep track of external point id) \n",
    "# #       - this should craete invlists for the subsets \n",
    "# #TODO: merge ^ to the original centroids, maybe with replace_invlists?"
   ]
  },
  {
   "cell_type": "code",
   "execution_count": null,
   "metadata": {},
   "outputs": [],
   "source": [
    "# "
   ]
  },
  {
   "cell_type": "markdown",
   "metadata": {},
   "source": [
    "<!-- Replace quantizer?\n",
    "- replace_ivf_quantizer ( contrib tools ) -->"
   ]
  },
  {
   "cell_type": "code",
   "execution_count": null,
   "metadata": {},
   "outputs": [],
   "source": [
    "# # This is to add points to a specific inverted list:\n",
    "# from faiss.contrib.ivf_tools import add_preassigned\n",
    "\n",
    "# add_preassigned()"
   ]
  },
  {
   "cell_type": "markdown",
   "metadata": {},
   "source": [
    "<!-- How to get copies of poitns in invlists (i.e. xb_subset): -->"
   ]
  },
  {
   "cell_type": "code",
   "execution_count": null,
   "metadata": {},
   "outputs": [],
   "source": [
    "# from faiss.contrib.inspect_tools import get_invlist, get_flat_data\n",
    "# #TODO: loop over nprobe and get invlist for each, keep track of centroid \"index\" \n",
    "# inv_ids, inv_codes = get_invlist(k_means_ivf_index.invlists, 79)\n",
    "# inv_ids.shape\n",
    "# inv_codes.shape\n",
    "# inv_codes.view(\"float32\").shape # NOTE: this is how to view codes as float instead of bytes\n",
    "# #TODO: throw error in case if num centroids after != num centroids before\n",
    "# #TODO: subset_index : assign points to their nearest centroids ( keep track of external point id) \n",
    "# #       - this should craete invlists for the subsets \n",
    "# #TODO: merge ^ to the original centroids, maybe with replace_invlists?"
   ]
  },
  {
   "cell_type": "code",
   "execution_count": null,
   "metadata": {},
   "outputs": [],
   "source": [
    "# # NOTE: If I do all this stuff do the ids the fucked?\n",
    "# inv_ids\n",
    "# inv_codes\n",
    "# inv_codes[0].view(\"float32\") # HACK NOTE: this is how to view codes as float"
   ]
  },
  {
   "cell_type": "markdown",
   "metadata": {},
   "source": [
    "<!-- Assert that you are setting stuff correctly.\n",
    "Second assert should fail -->"
   ]
  },
  {
   "cell_type": "code",
   "execution_count": null,
   "metadata": {},
   "outputs": [],
   "source": [
    "# n_iter = 0\n",
    "# n_centroids_inner = cent_subset.shape[0]\n",
    "\n",
    "# new_kmeans = faiss.Kmeans(d=d, k=n_centroids_inner, niter=n_iter, verbose=True, max_points_per_centroid=max_pts)\n",
    "# new_kmeans.train(xb_subset, weights=None, init_centroids=cent_subset) \n",
    "# new_kmeans_no_init = faiss.Kmeans(d=d, k=n_centroids_inner, niter=n_iter, verbose=True, max_points_per_centroid=max_pts)\n",
    "# new_kmeans_no_init.train(xb_subset, weights=None) \n",
    "# # # NOTE: assert initialization was correct \n",
    "# # np.testing.assert_array_equal(new_kmeans.centroids, cent_subset)\n",
    "# # np.testing.assert_array_equal(new_kmeans_no_init.centroids, cent_subset) # NOTE: Should fail\n",
    "\n",
    "# np.testing.assert_array_equal(new_kmeans.centroids, cent_subset)\n",
    "\n",
    "# # Handle the second assertion gracefully\n",
    "# try:\n",
    "#     np.testing.assert_array_equal(new_kmeans_no_init.centroids, cent_subset)\n",
    "#     print(\"ERRORRRRR: THIS SHOULD NOT HAVE PASSED`\")\n",
    "# except AssertionError:\n",
    "#     print(\"Assertion failed (expected): `new_kmeans_no_init.centroids` does not match `cent_subset`\")\n"
   ]
  },
  {
   "cell_type": "markdown",
   "metadata": {},
   "source": [
    "<!-- Do a single iteration of K-means on the xb_subset and cent_subset -->"
   ]
  },
  {
   "cell_type": "code",
   "execution_count": null,
   "metadata": {},
   "outputs": [],
   "source": [
    "# n_iter = 1\n",
    "# n_centroids_inner = cent_subset.shape[0]\n",
    "\n",
    "# new_kmeans = faiss.Kmeans(d=d, k=n_centroids_inner, niter=n_iter, verbose=True, max_points_per_centroid=max_pts)\n",
    "# new_kmeans.train(xb_subset, weights=None, init_centroids=cent_subset) \n",
    "# # NOTE: assert initialization was correct \n",
    "# # np.testing.assert_array_equal(new_kmeans.centroids, cent_subset)\n",
    "\n",
    "# cent_subset = new_kmeans.centroids # NOTE: this is the updated/trained points\n",
    "# # TODO HACK: update invlists in original outer index correctly"
   ]
  },
  {
   "cell_type": "code",
   "execution_count": null,
   "metadata": {},
   "outputs": [],
   "source": [
    "# kmeans.compute_centroids()"
   ]
  },
  {
   "cell_type": "markdown",
   "metadata": {},
   "source": [
    "<!-- I need to do 1 iter of kmeans on the above centroids and all points in those centroids -->"
   ]
  },
  {
   "cell_type": "code",
   "execution_count": null,
   "metadata": {},
   "outputs": [],
   "source": [
    "# #TODO: Get points for those centroids\n",
    "# k_means_ivf_index.invlists.code_size\n",
    "# faiss_index.invlists.list_size(79) # num pts in cluster \n",
    "# faiss_index.invlists.get_ids(79) # ids of pts -//-\n",
    "# k_means_ivf_index.invlists.get_codes(79) # codes of pts -//-\n",
    "# #HACK TODO: I think I might need to use the \"slicer\" to get invlists I want"
   ]
  },
  {
   "cell_type": "code",
   "execution_count": null,
   "metadata": {},
   "outputs": [],
   "source": [
    "# faiss.vecor"
   ]
  },
  {
   "cell_type": "code",
   "execution_count": null,
   "metadata": {},
   "outputs": [],
   "source": [
    "# "
   ]
  },
  {
   "cell_type": "code",
   "execution_count": null,
   "metadata": {},
   "outputs": [],
   "source": [
    "# # kNN \n",
    "# D, I = k_means_ivf_index.search(xq, k)\n",
    "# I"
   ]
  },
  {
   "cell_type": "code",
   "execution_count": null,
   "metadata": {},
   "outputs": [],
   "source": [
    "# faiss_index.search(xq, k)"
   ]
  },
  {
   "cell_type": "code",
   "execution_count": null,
   "metadata": {},
   "outputs": [],
   "source": [
    "# "
   ]
  },
  {
   "cell_type": "code",
   "execution_count": null,
   "metadata": {},
   "outputs": [],
   "source": [
    "# # STEP 2) Loop through queries and crack\n",
    "# D, I = faiss_index.search(xq, k)\n",
    "# I"
   ]
  },
  {
   "cell_type": "code",
   "execution_count": null,
   "metadata": {},
   "outputs": [],
   "source": [
    "# # index\n",
    "# faiss_index.d\n",
    "# faiss_index.nlist\n",
    "# # faiss_index.get_InvertedListScanner\n",
    "\n",
    "# # index quantizer (kmeans l1)\n",
    "# faiss_index.quantizer.d\n",
    "# faiss_index.quantizer.ntotal\n",
    "# # faiss_index.quantizer.verbose\n",
    "# faiss_index.quantizer.is_trained\n",
    "# faiss_index.quantizer.metric_type\n",
    "\n",
    "# # index inverted lists\n",
    "# faiss_index.invlists.nlist\n",
    "# faiss_index.invlists.code_size # code size per vector in bytes (4 bytes per dim, 64 dims, 256 bytes)\n",
    "# # faiss_index.invlists.use_iterator # Q: request to use iterator rather than get_codes / get_ides???\n",
    "# # for centr_id in range(faiss_index.invlists.nlist):\n",
    "# #     if centr_id > 10: break\n",
    "# #     print(f\"centroid {centr_id} has {faiss_index.invlists.list_size(centr_id)} points\")\n",
    "# #     print(f\"centroid {centr_id} has codes {faiss_index.invlists.get_codes(centr_id)}\")\n",
    "# faiss_index.invlists.get_codes(0) # pointer to start of codes\n",
    "# faiss_index.invlists.get_ids(0) # pointer to start of codes\n",
    "# faiss_index.invlists.imbalance_factor() # figure out imbalance across inverted lists\n",
    "# faiss_index.invlists.print_stats() # counts number of lists that fall in different bins \n",
    "# faiss_index.invlists.compute_ntotal() # total poitns in inverted lists"
   ]
  },
  {
   "cell_type": "code",
   "execution_count": null,
   "metadata": {},
   "outputs": [],
   "source": [
    "# faiss_index.invlists.get_ids(0)\n",
    "# faiss_index.invlists.get_iterator(0).get_id_and_codes()\n",
    "# # faiss_index.invlists.get_iterator(0).next()\n",
    "# faiss_index.invlists.get_iterator(0).get_id_and_codes()"
   ]
  },
  {
   "cell_type": "markdown",
   "metadata": {},
   "source": [
    "<!-- - SliceInvertedLists: Creates a \"view\" of the inverted lists that focuses on a specific range of coarse centroids.\n",
    "- Here, the inverted lists are divided into 3 slices, each handling 10 centroids:\n",
    "    - Slice 1: Centroids 0–9.\n",
    "    - Slice 2: Centroids 10–19.\n",
    "    - Slice 3: Centroids 20–29.\n",
    "- ilv.push_back(il): Adds each sliced inverted list to the FAISS vector container.\n",
    "- VStackInvertedLists: Stacks multiple inverted lists (ilv) into a new composite inverted list.\n",
    "- The resulting il2 contains all the original data but now organized in slices.\n",
    " -->\n"
   ]
  },
  {
   "cell_type": "code",
   "execution_count": null,
   "metadata": {},
   "outputs": [],
   "source": [
    "# def get_dataset_2(d, nt, nb, nq):\n",
    "#     \"\"\"A dataset that is not completely random but still challenging to\n",
    "#     index\n",
    "#     \"\"\"\n",
    "#     d1 = 10     # intrinsic dimension (more or less)\n",
    "#     n = nb + nt + nq\n",
    "#     rs = np.random.RandomState(1338)\n",
    "#     x = rs.normal(size=(n, d1))\n",
    "#     x = np.dot(x, rs.rand(d1, d))\n",
    "#     # now we have a d1-dim ellipsoid in d-dimensional space\n",
    "#     # higher factor (>4) -> higher frequency -> less linear\n",
    "#     x = x * (rs.rand(d) * 4 + 0.1)\n",
    "#     x = np.sin(x)\n",
    "#     x = x.astype('float32')\n",
    "#     return x[:nt], x[nt:nt + nb], x[nt + nb:]\n",
    "\n",
    "\n",
    "# def test_slice_vstack():\n",
    "#     d = 10\n",
    "#     nb = 1000\n",
    "#     nq = 100\n",
    "#     nt = 200\n",
    "\n",
    "#     xt, xb, xq = get_dataset_2(d, nt, nb, nq)\n",
    "\n",
    "#     quantizer = faiss.IndexFlatL2(d)\n",
    "#     index = faiss.IndexIVFFlat(quantizer, d, 30)\n",
    "\n",
    "#     index.train(xt)\n",
    "#     index.add(xb)\n",
    "#     Dref, Iref = index.search(xq, 10)\n",
    "\n",
    "#     # faiss.wait()\n",
    "\n",
    "#     il0 = index.invlists\n",
    "#     ils = []\n",
    "#     ilv = faiss.InvertedListsPtrVector()\n",
    "#     for sl in 0, 1, 2:\n",
    "#         il = faiss.SliceInvertedLists(il0, sl * 10, sl * 10 + 10)\n",
    "#         ils.append(il)\n",
    "#         ilv.push_back(il)\n",
    "\n",
    "#     il2 = faiss.VStackInvertedLists(ilv.size(), ilv.data())\n",
    "\n",
    "#     index2 = faiss.IndexIVFFlat(quantizer, d, 30)\n",
    "#     index2.replace_invlists(il2)\n",
    "#     index2.ntotal = index.ntotal\n",
    "\n",
    "#     D, I = index2.search(xq, 10)\n",
    "#     assert np.all(D == Dref)\n",
    "#     assert np.all(I == Iref)\n"
   ]
  },
  {
   "cell_type": "code",
   "execution_count": null,
   "metadata": {},
   "outputs": [],
   "source": [
    "# #####\n",
    "# test_slice_vstack()"
   ]
  },
  {
   "cell_type": "code",
   "execution_count": null,
   "metadata": {},
   "outputs": [],
   "source": [
    "# nlist = 100\n",
    "# k = 4\n",
    "# quantizer = faiss.IndexFlatL2(d)  #NOTE: what is used to search centroids?\n",
    "# faiss_index = faiss.IndexIVFFlat(quantizer, d, nlist, faiss.METRIC_L2)\n",
    "# # Set clustering parameters before training\n",
    "# n_iter = 0 #CHEF NOTE: This avoid doing any k-means iterations in clustering.cpp train_encoded() for (int i = 0; i < niter; i++) {\n",
    "# faiss_index.cp.niter = n_iter\n",
    "# faiss_index.cp.verbose = True\n",
    "\n",
    "# # here we specify METRIC_L2, by default it performs inner-product search\n",
    "\n",
    "# assert not faiss_index.is_trained\n",
    "# # CHEF NOTE: in IndexIVF void Level1Quantizer::train_q1 \n",
    "# faiss_index.train(xb) # train index should take no time\n",
    "# assert faiss_index.is_trained\n",
    "\n",
    "# faiss_index.add(xb)  # NOTE: this is the \"expensive\" part??"
   ]
  }
 ],
 "metadata": {
  "kernelspec": {
   "display_name": "faiss-dev-env",
   "language": "python",
   "name": "python3"
  },
  "language_info": {
   "codemirror_mode": {
    "name": "ipython",
    "version": 3
   },
   "file_extension": ".py",
   "mimetype": "text/x-python",
   "name": "python",
   "nbconvert_exporter": "python",
   "pygments_lexer": "ipython3",
   "version": "3.12.7"
  }
 },
 "nbformat": 4,
 "nbformat_minor": 2
}
