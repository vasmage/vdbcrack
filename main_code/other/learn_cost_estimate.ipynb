{
 "cells": [
  {
   "cell_type": "code",
   "execution_count": 20,
   "metadata": {},
   "outputs": [
    {
     "name": "stdout",
     "output_type": "stream",
     "text": [
      "The autoreload extension is already loaded. To reload it, use:\n",
      "  %reload_ext autoreload\n"
     ]
    }
   ],
   "source": [
    "import numpy as np\n",
    "import faiss\n",
    "import time\n",
    "from vasili_helpers import *\n",
    "from tqdm import tqdm\n",
    "\n",
    "# NOTE: I copied code here instead of importing\n",
    "# from faiss.contrib.inspect_tools import get_invlist\n",
    "# from faiss.contrib.ivf_tools import replace_ivf_quantizer, add_preassigned\n",
    "import numpy as np\n",
    "from sklearn.linear_model import LinearRegression\n",
    "from sklearn.metrics import r2_score\n",
    "import matplotlib.pyplot as plt\n",
    "\n",
    "from IPython.core.interactiveshell import InteractiveShell\n",
    "InteractiveShell.ast_node_interactivity = \"all\"\n",
    "# InteractiveShell.ast_node_interactivity = \"last\"\n",
    "\n",
    "%load_ext autoreload\n",
    "%autoreload 2\n",
    "\n",
    "\n",
    "from CrackIVF import *\n",
    "import numpy as np\n",
    "from sklearn.preprocessing import PolynomialFeatures\n",
    "from sklearn.linear_model import LinearRegression\n",
    "from sklearn.metrics import mean_absolute_error\n",
    "import matplotlib.pyplot as plt\n",
    "from sklearn.metrics import mean_squared_error\n"
   ]
  },
  {
   "cell_type": "code",
   "execution_count": null,
   "metadata": {},
   "outputs": [],
   "source": [
    "ANN_DATASETS = [\n",
    "    \"deep-image-96-angular\",\n",
    "    \"glove-25-angular\",\n",
    "    \"glove-50-angular\",\n",
    "    \"glove-100-angular\",\n",
    "    \"sift-128-euclidean\",\n",
    "    \"lastfm-64-dot\",\n",
    "]"
   ]
  },
  {
   "cell_type": "code",
   "execution_count": null,
   "metadata": {},
   "outputs": [
    {
     "name": "stdout",
     "output_type": "stream",
     "text": [
      "Loading Dataset = sift-128-euclidean\n",
      "File already exists at /pub/scratch/vmageirakos/vdb-project-data/data/datasets/sift-128-euclidean.hdf5. Skipping download.\n"
     ]
    }
   ],
   "source": [
    "dbname = \"sift-128-euclidean\"\n",
    "# dbname = \"SIFT10M\"\n",
    "# dbname = \"deep-image-96-angular\"\n",
    "# xb, xq, gt, metric = load_dataset(\"SIFT1M\")\n",
    "xb, xq, gt, metric = load_dataset(dbname)\n",
    "NUM_THREADS = 16\n",
    "faiss.omp_set_num_threads(NUM_THREADS)\n",
    "\n",
    "# nlist = 10000\n",
    "# real_crack_index = CrackIVF(\n",
    "#     nlist=nlist, \n",
    "#     niter=0,\n",
    "#     max_pts=256, # faiss default\n",
    "#     seed=1,\n",
    "#     metric=metric\n",
    "# )\n",
    "# real_crack_index.add(xb) # add 1M points"
   ]
  },
  {
   "cell_type": "code",
   "execution_count": 22,
   "metadata": {},
   "outputs": [],
   "source": [
    "def fit_and_evaluate_model(X_data, y_data):\n",
    "    \"\"\"\n",
    "    Fits a linear regression model to the input data and evaluates it using Mean Absolute Error (MAE).\n",
    "    \n",
    "    Args:\n",
    "    - X_data (numpy array): Input features (shape: num_samples x num_features)\n",
    "    - y_data (numpy array): Target variable (shape: num_samples,)\n",
    "    \n",
    "    Returns:\n",
    "    - w1 (float): Coefficient for X1\n",
    "    - w2 (float): Coefficient for X2\n",
    "    - b (float): Intercept\n",
    "    - mae (float): Mean Absolute Error (MAE)\n",
    "    \"\"\"\n",
    "    # Step 1: Initialize the Linear Regression model\n",
    "    model = LinearRegression()\n",
    "\n",
    "    # Step 2: Train the model on the collected data\n",
    "    model.fit(X_data, y_data)\n",
    "\n",
    "    # Step 3: Get the fitted coefficients (w1, w2) and intercept (b)\n",
    "    w1, w2 = model.coef_\n",
    "    b = model.intercept_\n",
    "\n",
    "    # Step 4: Make predictions based on the input data\n",
    "    y_pred = model.predict(X_data)\n",
    "\n",
    "    # Step 5: Evaluate the model using Mean Absolute Error (MAE)\n",
    "    mae = mean_absolute_error(y_data, y_pred)\n",
    "    print(f\"Fitted model: T = w1 * X1 + w2 * X2 + b\")\n",
    "    print(f\"w1 = {w1}, w2 = {w2}, b = {b}\")\n",
    "    print(f\"Mean Absolute Error (MAE): {mae} ms\")\n",
    "\n",
    "    # Step 6: Visualize the results (Measured vs Predicted Latency)\n",
    "    plt.figure(figsize=(8, 6))\n",
    "    plt.scatter(y_data, y_pred, label=\"Measured vs Predicted\", color='blue')\n",
    "    plt.plot([min(y_data), max(y_data)], [min(y_data), max(y_data)], color='red', linestyle='--')\n",
    "    plt.xlabel(\"Measured Latency (ms)\")\n",
    "    plt.ylabel(\"Predicted Latency (ms)\")\n",
    "    plt.title(\"Measured vs Predicted Latency\")\n",
    "    plt.legend()\n",
    "    plt.show()\n",
    "\n",
    "    y_pred = model.predict(X_data)\n",
    "    mse = mean_squared_error(y_data, y_pred)\n",
    "    rmse = np.sqrt(mse)\n",
    "    print(\"MSE (in ms^2):\", mse)\n",
    "    print(\"RMSE (in ms):\", rmse)\n",
    "    r2 = r2_score(y_data, y_pred)\n",
    "    print(\"R2 Score:\", r2)\n",
    "\n",
    "    return w1, w2, b, mae, model # make sure you return the model....\n",
    "\n",
    "\n",
    "def fit_and_evaluate_second_order_model(X_data, y_data, model_type=\"linear\", degree=2):\n",
    "    \"\"\"\n",
    "    Fits a regression model (linear or polynomial) to the input data and evaluates it using Mean Absolute Error (MAE).\n",
    "    \n",
    "    Args:\n",
    "    - X_data (numpy array): Input features (shape: num_samples x num_features)\n",
    "    - y_data (numpy array): Target variable (shape: num_samples,)\n",
    "    - model_type (str): Type of model (\"linear\", \"polynomial\", \"log\", \"interaction\")\n",
    "    - degree (int): Degree for polynomial regression\n",
    "    \n",
    "    Returns:\n",
    "    - model: Trained regression model\n",
    "    - mae (float): Mean Absolute Error (MAE)\n",
    "    \"\"\"\n",
    "    \n",
    "    # Step 1: Transform X_data based on the chosen model\n",
    "    if model_type == \"polynomial\":\n",
    "        # NOTE: this works fine for init cents?\n",
    "        poly = PolynomialFeatures(degree=degree, include_bias=False)\n",
    "        X_data = poly.fit_transform(X_data)\n",
    "        # for degree = 2 it expands X1,X2 to X1,X2,X1^2,X2^2,X1X2, to capture non-linear effects\n",
    "\n",
    "    elif model_type == \"log\":\n",
    "        X_data = np.log1p(X_data)  # log(1 + X) to avoid log(0)\n",
    "\n",
    "    elif model_type == \"interaction\":\n",
    "        X1, X2 = X_data[:, 0], X_data[:, 1]\n",
    "        X_data = np.column_stack((X1, X2, X1 * X2))  # Add interaction term\n",
    "\n",
    "    # Step 2: Train the model\n",
    "    model = LinearRegression()\n",
    "    model.fit(X_data, y_data)\n",
    "\n",
    "    # Step 3: Get model coefficients\n",
    "    coefficients = model.coef_\n",
    "    intercept = model.intercept_\n",
    "\n",
    "    # Step 4: Make predictions\n",
    "    y_pred = model.predict(X_data)\n",
    "\n",
    "    # Step 5: Evaluate the model\n",
    "    mae = mean_absolute_error(y_data, y_pred)\n",
    "    print(f\"Model Type: {model_type}, Degree: {degree}\")\n",
    "    print(f\"Coefficients: {coefficients}, Intercept: {intercept}\")\n",
    "    print(f\"Mean Absolute Error (MAE): {mae} ms\")\n",
    "\n",
    "    # Step 6: Visualize results\n",
    "    plt.figure(figsize=(8, 6))\n",
    "    plt.scatter(y_data, y_pred, label=\"Measured vs Predicted\", color='blue')\n",
    "    plt.plot([min(y_data), max(y_data)], [min(y_data), max(y_data)], color='red', linestyle='--')\n",
    "    plt.xlabel(\"Measured Latency (ms)\")\n",
    "    plt.ylabel(\"Predicted Latency (ms)\")\n",
    "    plt.title(f\"Measured vs Predicted Latency ({model_type})\")\n",
    "    plt.legend()\n",
    "    plt.show()\n",
    "\n",
    "    return coefficients, intercept, mae, model\n",
    "\n",
    "\n",
    "# def fit_and_evaluate_second_order_model(X_data, y_data, degree=2):\n",
    "#     \"\"\"\n",
    "#     Fits a second-order polynomial regression model without storing it.\n",
    "    \n",
    "#     Args:\n",
    "#     - X_data (numpy array): Input features (num_samples x num_features)\n",
    "#     - y_data (numpy array): Target variable (num_samples, )\n",
    "\n",
    "#     Returns:\n",
    "#     - coefficients (numpy array): Learned polynomial regression coefficients\n",
    "#     - intercept (float): Intercept of the model\n",
    "#     - mae (float): Mean Absolute Error (MAE)\n",
    "#     \"\"\"\n",
    "    \n",
    "#     # Manually expand features: X1, X2 → X1, X2, X1^2, X2^2, X1 * X2\n",
    "#     X1, X2 = X_data[:, 0], X_data[:, 1]\n",
    "#     X_expanded = np.column_stack((X1, X2, X1**2, X2**2, X1 * X2))\n",
    "\n",
    "#     # Train the polynomial regression model\n",
    "#     model = LinearRegression()\n",
    "#     model.fit(X_expanded, y_data)\n",
    "\n",
    "#     # Extract learned coefficients\n",
    "#     coefficients = model.coef_\n",
    "#     intercept = model.intercept_\n",
    "\n",
    "#     # Predictions & Error Evaluation\n",
    "#     y_pred = model.predict(X_expanded)\n",
    "#     mae = mean_absolute_error(y_data, y_pred)\n",
    "    \n",
    "#     print(f\"Trained Polynomial Model (Degree=2):\")\n",
    "#     print(f\"Equation: T = w1*X1 + w2*X2 + w3*X1^2 + w4*X2^2 + w5*(X1*X2) + b\")\n",
    "#     print(f\"Coefficients: {coefficients}\")\n",
    "#     print(f\"Intercept: {intercept}\")\n",
    "#     print(f\"Mean Absolute Error (MAE): {mae} ms\")\n",
    "\n",
    "#     # Visualization\n",
    "#     plt.figure(figsize=(8, 6))\n",
    "#     plt.scatter(y_data, y_pred, label=\"Measured vs Predicted\", color='blue')\n",
    "#     plt.plot([min(y_data), max(y_data)], [min(y_data), max(y_data)], color='red', linestyle='--')\n",
    "#     plt.xlabel(\"Measured Latency (ms)\")\n",
    "#     plt.ylabel(\"Predicted Latency (ms)\")\n",
    "#     plt.title(f\"Measured vs Predicted Latency (Polynomial)\")\n",
    "#     plt.legend()\n",
    "#     plt.show()\n",
    "\n",
    "#     return coefficients, intercept, mae\n",
    "\n",
    "\n",
    "def evaluate_existing_model(model, X_new, y_true, dbname):\n",
    "    \"\"\"\n",
    "    Evaluates an already trained model on new datasets.\n",
    "\n",
    "    Args:\n",
    "    - model: The pre-trained regression model.\n",
    "    - X_new (numpy array): Input features for the new dataset (shape: num_samples x num_features).\n",
    "    - y_true (numpy array): Actual target latencies (shape: num_samples,).\n",
    "\n",
    "    Returns:\n",
    "    - mae (float): Mean Absolute Error (MAE) on the new dataset.\n",
    "    \"\"\"\n",
    "    \n",
    "    y_pred = model.predict(X_new)\n",
    "\n",
    "    mae = mean_absolute_error(y_true, y_pred)\n",
    "    print(f\"Mean Absolute Error (MAE) on new dataset: {mae} ms\")\n",
    "\n",
    "    # Step 4: Visualize results\n",
    "    plt.figure(figsize=(8, 6))\n",
    "    plt.scatter(y_true, y_pred, label=\"Measured vs Predicted\", color='blue')\n",
    "    plt.plot([min(y_true), max(y_true)], [min(y_true), max(y_true)], color='red', linestyle='--')\n",
    "    plt.xlabel(\"Measured Latency (ms)\")\n",
    "    plt.ylabel(\"Predicted Latency (ms)\")\n",
    "    plt.title(f\"Measured vs Predicted Latency - {dbname}\")\n",
    "    plt.legend()\n",
    "    plt.show()\n",
    "    mse = mean_squared_error(y_true, y_pred)\n",
    "    rmse = np.sqrt(mse)\n",
    "    print(f\"{dbname=}\")\n",
    "    print(\"MSE (in ms^2):\", mse)\n",
    "    print(\"RMSE (in ms):\", rmse)\n",
    "    r2 = r2_score(y_true, y_pred)\n",
    "    print(\"R2 Score:\", r2)\n",
    "\n",
    "    return mae\n"
   ]
  },
  {
   "cell_type": "markdown",
   "metadata": {},
   "source": [
    "##  Get Local Region\n",
    "- `def __get_local_region(self, crack_locations, refine_region_nprobe = 20)`\n",
    "\n",
    "- T_get_local_region = w1 * (N_crack_locs * Nc) + w2 * ( N_vis * D) +b\n",
    "- `w1 = 9.792029439425269e-07, w2 = 8.848264329863606e-07, b = 3.587780694965886` <-------\n"
   ]
  },
  {
   "cell_type": "markdown",
   "metadata": {},
   "source": [
    "``` python\n",
    "    def __get_local_region(self, crack_locations, refine_region_nprobe = 20):\n",
    "        _, local_partitions = self.index.quantizer.search(crack_locations, refine_region_nprobe)\n",
    "\n",
    "        c_visited_ids = np.unique(local_partitions.ravel())\n",
    "        \n",
    "        c_visited_ids = c_visited_ids[c_visited_ids != -1]  # Remove -1 [ if present ]\n",
    "        # print(f\"{c_visited_ids.shape=}\") # DEBUG\n",
    "        c_visited = self.cracks[c_visited_ids]\n",
    "        # 3) get points in the region and reassign them\n",
    "        pids_visited, p_visited = get_points_in_invlists(index=self.index, invlists=c_visited_ids, DEBUG=False)\n",
    "        return c_visited_ids, c_visited, pids_visited, p_visited\n",
    "\n",
    "```"
   ]
  },
  {
   "cell_type": "markdown",
   "metadata": {},
   "source": [
    "\n",
    "T = w1 * Compute + w2 * Data Movement + intercept\n",
    "  = w1 * ( N_crack_locs * Nc) + w2 * (N_vis * D ) + b"
   ]
  },
  {
   "cell_type": "code",
   "execution_count": null,
   "metadata": {},
   "outputs": [],
   "source": [
    "import numpy as np\n",
    "import time\n",
    "from tqdm import tqdm\n",
    "\n",
    "# Assuming the necessary imports and definitions for CrackIVF, metric, xb, xq, etc.\n",
    "\n",
    "def get_N_visited(index, c_visited_ids):\n",
    "    N_visited = 0\n",
    "    D = index.d\n",
    "    # in case it's multiple\n",
    "    for cid in c_visited_ids:\n",
    "        N_visited += index.invlists.list_size(int(cid))\n",
    "    return N_visited, D\n",
    "\n",
    "input_features = []  # To store X1 and X2 for each measurement\n",
    "target_variable_y_ms = []  # To store measured latency (T)\n",
    "\n",
    "# Iterate over different values of Nc (number of centroids)\n",
    "for Nc in [100, 200, 500, 1000, 2000, 5000, 10000, 15000]:\n",
    "    # Create new index as you vary Nc\n",
    "    real_crack_index = CrackIVF(\n",
    "        nlist=Nc, \n",
    "        niter=0,\n",
    "        max_pts=256,  # faiss default\n",
    "        seed=1,\n",
    "        metric=metric\n",
    "    )\n",
    "    real_crack_index.add(xb)  # Add 1M points to the index\n",
    "    real_crack_index.refine_nprobe = 1  # Control the number of invlists accessed by ncracks\n",
    "\n",
    "    # For varying N_crack_locs (number of crack locations)\n",
    "    num_points = 10  # Desired number of data points\n",
    "    step = max(1, real_crack_index.nlist // num_points)  # Ensure step is at least 1\n",
    "\n",
    "    for N_crack_locs in tqdm(range(1, real_crack_index.nlist, step)):\n",
    "        # Take the first N_crack_locs crack locations\n",
    "        crack_locations = xq[:N_crack_locs, :]\n",
    "\n",
    "        # Measure the time for the local region function\n",
    "        start_t = time.perf_counter()\n",
    "        c_visited_ids, c_visited, pids_visited, p_visited = real_crack_index._CrackIVF__get_local_region(crack_locations, 1)\n",
    "        end_t = time.perf_counter()\n",
    "\n",
    "        # Get the number of visited points (N_vis) and dimensions (D)\n",
    "        N_vis, D = get_N_visited(real_crack_index.index, c_visited_ids)\n",
    "\n",
    "        # Store input features and target variable\n",
    "        X1 = N_crack_locs * Nc  # Compute term: O(N_crack_locs * Nc)\n",
    "        X2 = N_vis * D  # Data movement term: O(N_vis * D bytes for float32)\n",
    "        \n",
    "        # Append to input features and target latency\n",
    "        input_features.append([X1, X2])\n",
    "        target_variable_y_ms.append((end_t - start_t) * 1000)  # Latency in milliseconds\n",
    "\n",
    "# Convert input features and target variable to np.array\n",
    "X_data = np.array(input_features)  # Shape: (num_samples, 2)\n",
    "y_data = np.array(target_variable_y_ms)  # Shape: (num_samples, )\n",
    "\n",
    "# Now you can use X_data and y_data in the linear regression model"
   ]
  },
  {
   "cell_type": "markdown",
   "metadata": {},
   "source": [
    "Now fit the model:\n",
    "- TODO: run the above across multiple datasets and see if model fits \n",
    "- TODO: run the evaluation across multiple datasets and see if the fit we have here on SIFT1M is enough"
   ]
  },
  {
   "cell_type": "code",
   "execution_count": null,
   "metadata": {},
   "outputs": [],
   "source": [
    "import numpy as np\n",
    "from sklearn.linear_model import LinearRegression\n",
    "from sklearn.metrics import mean_absolute_error\n",
    "import matplotlib.pyplot as plt\n",
    "\n",
    "# Assuming you have X_data and y_data from the previous steps\n",
    "\n",
    "# Step 1: Initialize the Linear Regression model\n",
    "model = LinearRegression()\n",
    "\n",
    "# Step 2: Train the model on the collected data\n",
    "model.fit(X_data, y_data)\n",
    "\n",
    "# Step 3: Get the fitted coefficients (w1, w2) and intercept (b)\n",
    "w1, w2 = model.coef_\n",
    "b = model.intercept_\n",
    "\n",
    "# Step 4: Make predictions based on the input data\n",
    "y_pred = model.predict(X_data)\n",
    "\n",
    "# Step 5: Evaluate the model using Mean Absolute Error (MAE)\n",
    "mae = mean_absolute_error(y_data, y_pred)\n",
    "print(f\"Fitted model: T = w1 * X1 + w2 * X2 + b\")\n",
    "print(f\"w1 = {w1}, w2 = {w2}, b = {b}\")\n",
    "print(f\"Mean Absolute Error (MAE): {mae} ms\")\n",
    "\n",
    "# Step 6: Visualize the results (Measured vs Predicted Latency)\n",
    "plt.figure(figsize=(8, 6))\n",
    "plt.scatter(y_data, y_pred, label=\"Measured vs Predicted\", color='blue')\n",
    "plt.plot([min(y_data), max(y_data)], [min(y_data), max(y_data)], color='red', linestyle='--')\n",
    "plt.xlabel(\"Measured Latency (ms)\")\n",
    "plt.ylabel(\"Predicted Latency (ms)\")\n",
    "plt.title(\"Measured vs Predicted Latency\")\n",
    "plt.legend()\n",
    "plt.show()\n"
   ]
  },
  {
   "cell_type": "markdown",
   "metadata": {},
   "source": [
    "w1 = 9.792029439425269e-07, w2 = 8.848264329863606e-07, b = 3.587780694965886"
   ]
  },
  {
   "cell_type": "markdown",
   "metadata": {},
   "source": [
    "Let's evaluate the above learned model on different datasets and nlist sizes:"
   ]
  },
  {
   "cell_type": "code",
   "execution_count": 21,
   "metadata": {},
   "outputs": [],
   "source": [
    "# Function to evaluate the learned model on the new dataset\n",
    "def evaluate_model_on_new_dataset(dbname, model, nlist_values):\n",
    "    # Load dataset\n",
    "    xb, xq, gt, metric = load_dataset(dbname)\n",
    "\n",
    "    input_features = []  # To store X1 and X2 for each measurement\n",
    "    target_variable_y_ms = []  # To store measured latency (T)\n",
    "\n",
    "    # Iterate over different values of Nc (number of centroids)\n",
    "    for Nc in nlist_values:\n",
    "        # Create new index as you vary Nc\n",
    "        real_crack_index = CrackIVF(\n",
    "            nlist=Nc, \n",
    "            niter=0,\n",
    "            max_pts=256,\n",
    "            seed=1,\n",
    "            metric=metric\n",
    "        )\n",
    "        real_crack_index.add(xb)  # Add 1M points to the index\n",
    "        real_crack_index.refine_nprobe = 1  # Control the number of invlists accessed by ncracks\n",
    "\n",
    "        # For varying N_crack_locs (number of crack locations)\n",
    "        num_points = 10  # Desired number of data points\n",
    "        step = max(1, real_crack_index.nlist // num_points)  # Ensure step is at least 1\n",
    "\n",
    "        for N_crack_locs in tqdm(range(1, real_crack_index.nlist, step)):\n",
    "            # Take the first N_crack_locs crack locations\n",
    "            crack_locations = xq[:N_crack_locs, :]\n",
    "\n",
    "            # Measure the time for the local region function\n",
    "            start_t = time.perf_counter()\n",
    "            c_visited_ids, c_visited, pids_visited, p_visited = real_crack_index._CrackIVF__get_local_region(crack_locations, 1)\n",
    "            end_t = time.perf_counter()\n",
    "\n",
    "            # Get the number of visited points (N_vis) and dimensions (D)\n",
    "            N_vis, D = get_N_visited(real_crack_index.index, c_visited_ids)\n",
    "\n",
    "            # Store input features and target variable\n",
    "            # NOTE: Here is the important bit for the get_local_region function <-------\n",
    "            X1 = N_crack_locs * Nc  # Compute term: O(N_crack_locs * Nc)\n",
    "            X2 = N_vis * D * 4  # Data movement term: O(N_vis * D * 4 bytes for float32)\n",
    "            \n",
    "            # Append to input features and target latency\n",
    "            input_features.append([X1, X2])\n",
    "            target_variable_y_ms.append((end_t - start_t) * 1000)  # Latency in milliseconds\n",
    "\n",
    "    # Convert input features and target variable to np.array\n",
    "    X_data = np.array(input_features)  # Shape: (num_samples, 2)\n",
    "    y_data = np.array(target_variable_y_ms)  # Shape: (num_samples, )\n",
    "\n",
    "    # Step 1: Use the trained model to predict latencies\n",
    "    y_pred = model.predict(X_data)\n",
    "\n",
    "    # Step 2: Calculate the Mean Absolute Error (MAE)\n",
    "    mae = mean_absolute_error(y_data, y_pred)\n",
    "    print(f\"Evaluating model on {dbname} dataset with nlist values {nlist_values}:\")\n",
    "    print(f\"Mean Absolute Error (MAE): {mae:.4f} ms\")\n",
    "\n",
    "    # Step 3: Visualize the results (Measured vs Predicted Latency)\n",
    "    plt.figure(figsize=(8, 6))\n",
    "    plt.scatter(y_data, y_pred, label=\"Measured vs Predicted\", color='blue')\n",
    "    plt.plot([min(y_data), max(y_data)], [min(y_data), max(y_data)], color='red', linestyle='--')\n",
    "    plt.xlabel(\"Measured Latency (ms)\")\n",
    "    plt.ylabel(\"Predicted Latency (ms)\")\n",
    "    plt.title(f\"Measured vs Predicted Latency for {dbname}\")\n",
    "    plt.legend()\n",
    "    plt.show()\n"
   ]
  },
  {
   "cell_type": "code",
   "execution_count": null,
   "metadata": {},
   "outputs": [],
   "source": [
    "# Load the dataset\n",
    "dbname = \"sift-128-euclidean\"  # Change the dataset name as needed\n",
    "NUM_THREADS = 16\n",
    "faiss.omp_set_num_threads(NUM_THREADS)\n",
    "\n",
    "# Assuming the trained model (with coefficients w1, w2, b) is already available\n",
    "# We can directly use this model for evaluation\n",
    "# Assuming: model = LinearRegression() and has been trained on the previous data\n",
    "\n",
    "# Define the nlist values for evaluation\n",
    "nlist_values = [100, 200, 500, 1000, 2000, 5000, 10000, 15000]\n",
    "# Evaluate the model on the chosen dataset\n",
    "evaluate_model_on_new_dataset(dbname, model, nlist_values)"
   ]
  },
  {
   "cell_type": "code",
   "execution_count": null,
   "metadata": {},
   "outputs": [],
   "source": [
    "# Load the dataset\n",
    "dbname = \"lastfm-64-dot\"  # Change the dataset name as needed\n",
    "xb, xq, gt, metric = load_dataset(dbname)\n",
    "NUM_THREADS = 16\n",
    "faiss.omp_set_num_threads(NUM_THREADS)\n",
    "\n",
    "# Assuming the trained model (with coefficients w1, w2, b) is already available\n",
    "# We can directly use this model for evaluation\n",
    "# Assuming: model = LinearRegression() and has been trained on the previous data\n",
    "\n",
    "# Define the nlist values for evaluation\n",
    "nlist_values = [100, 200, 500, 1000, 2000, 5000, 10000, 15000]\n",
    "# Evaluate the model on the chosen dataset\n",
    "evaluate_model_on_new_dataset(dbname, model, nlist_values)"
   ]
  },
  {
   "cell_type": "code",
   "execution_count": null,
   "metadata": {},
   "outputs": [],
   "source": [
    "# dbname = \"lastfm-64-dot\"\n",
    "# dbname = \"mnist-784-euclidean\"\n",
    "# dbname = \"SIFT10M\"\n",
    "# dbname = \"glove-200-angular\"\n",
    "# dbname = \"gist-960-euclidean\"\n",
    "# dbname = \"deep-image-96-angular\"\n",
    "# xb, xq, gt, metric = load_dataset(\"SIFT1M\")\n",
    "\n",
    "# Load the dataset\n",
    "dbname = \"SIFT10M\"  # Change the dataset name as needed\n",
    "NUM_THREADS = 16\n",
    "faiss.omp_set_num_threads(NUM_THREADS)\n",
    "\n",
    "# Assuming the trained model (with coefficients w1, w2, b) is already available\n",
    "# We can directly use this model for evaluation\n",
    "# Assuming: model = LinearRegression() and has been trained on the previous data\n",
    "\n",
    "# Define the nlist values for evaluation\n",
    "nlist_values = [100, 200, 500, 1000, 2000, 5000, 10000, 15000]\n",
    "# Evaluate the model on the chosen dataset\n",
    "evaluate_model_on_new_dataset(dbname, model, nlist_values)"
   ]
  },
  {
   "cell_type": "markdown",
   "metadata": {},
   "source": [
    "## commit reorg\n",
    "- `def __commit_reorg(self, quantizer, c_visited_ids, pids_visited, p_visited, use_running_assignments=True)`\n",
    "- `use_running_assignments=True` <------ for reorg we are using running assignments\n",
    "- T_commit_reorg = w1 * (Nc) + w2 * ( N_vis+D ) +b\n",
    "- `w1 = 4.257400629274415e-05, w2 = 3.3919302537771467e-07, b = 0.7444031045620599`\n"
   ]
  },
  {
   "cell_type": "markdown",
   "metadata": {},
   "source": [
    "```python\n",
    "    def __commit_reorg(self, quantizer, c_visited_ids, pids_visited, p_visited, use_running_assignments=False):\n",
    "        '''\n",
    "        This is the function that moves points around.\n",
    "        When you move points you need to update the assignments...\n",
    "        '''\n",
    "        sass = time.perf_counter()\n",
    "        if use_running_assignments:\n",
    "            new_assignments = self.running_assignments[pids_visited]\n",
    "        else:\n",
    "            new_distances, new_assignments = quantizer.search(p_visited, k=1)\n",
    "            new_assignments = c_visited_ids[new_assignments.reshape(1,-1)]\n",
    "            self.running_assignments[pids_visited] = new_assignments\n",
    "            self.running_distances[pids_visited] = new_distances.reshape(-1)\n",
    "        eass = time.perf_counter()\n",
    "        sremove = time.perf_counter()\n",
    "        for list_no in c_visited_ids:\n",
    "            self.index.invlists.resize(int(list_no), 0) \n",
    "        self.index.ntotal -= len(p_visited) \n",
    "        eremove = time.perf_counter()\n",
    "        sadd = time.perf_counter()\n",
    "        add_preassigned(index_ivf=self.index, x=p_visited, a=new_assignments.ravel(), ids=pids_visited.ravel()) \n",
    "        eadd = time.perf_counter()\n",
    "        self.assignment_histogram = np.bincount(self.running_assignments.flatten(), minlength=self.MAX_CRACKS)\n",
    "        self.actual_assignment_histogram = self.assignment_histogram.copy()\n",
    "        return (eass - sass), (eadd - sadd), (eremove - sremove)\n",
    "````"
   ]
  },
  {
   "cell_type": "markdown",
   "metadata": {},
   "source": [
    "T_commit_reorg = w1 * (Nc) + w2 * ( N_vis+D ) +b"
   ]
  },
  {
   "cell_type": "code",
   "execution_count": null,
   "metadata": {},
   "outputs": [],
   "source": [
    "import numpy as np\n",
    "import time\n",
    "from tqdm import tqdm\n",
    "\n",
    "# Assuming the necessary imports and definitions for CrackIVF, metric, xb, xq, etc.\n",
    "\n",
    "def get_N_visited(index, c_visited_ids):\n",
    "    N_visited = 0\n",
    "    D = index.d\n",
    "    # in case it's multiple\n",
    "    for cid in c_visited_ids:\n",
    "        N_visited += index.invlists.list_size(int(cid))\n",
    "    return N_visited, D\n",
    "\n",
    "input_features = []  # To store X1 and X2 for each measurement\n",
    "target_variable_y_ms = []  # To store measured latency (T)\n",
    "\n",
    "# Iterate over different values of Nc (number of centroids)\n",
    "for Nc in [100, 200, 500, 1000, 2000, 5000, 10000, 15000]:\n",
    "    # Create new index as you vary Nc\n",
    "    real_crack_index = CrackIVF(\n",
    "        nlist=Nc, \n",
    "        niter=0,\n",
    "        max_pts=256,  # faiss default\n",
    "        seed=1,\n",
    "        metric=metric\n",
    "    )\n",
    "    real_crack_index.add(xb)  # Add 1M points to the index\n",
    "    real_crack_index.refine_nprobe = 1  # Control the number of invlists accessed by ncracks\n",
    "\n",
    "    # For varying N_crack_locs (number of crack locations)\n",
    "    num_points = 10  # Desired number of data points\n",
    "    step = max(1, real_crack_index.nlist // num_points)  # Ensure step is at least 1\n",
    "\n",
    "    for N_crack_locs in tqdm(range(1, real_crack_index.nlist, step)):\n",
    "        # Take the first N_crack_locs crack locations\n",
    "        crack_locations = xq[:N_crack_locs, :]\n",
    "\n",
    "        c_visited_ids, c_visited, pids_visited, p_visited = real_crack_index._CrackIVF__get_local_region(crack_locations, 1)\n",
    "        \n",
    "        # get some random assignments\n",
    "        RANDOM_running_assignments = np.random.randint(0, real_crack_index.nlist-1, size=pids_visited.shape[0], dtype=int) # if \"real\"\n",
    "        # needed \n",
    "        local_quantizer = faiss.IndexFlat(real_crack_index.index.d, real_crack_index.metric)\n",
    "        local_quantizer.add(c_visited)\n",
    "\n",
    "        # measure commit reorg\n",
    "        start_t = time.perf_counter()\n",
    "        _, _, _ = real_crack_index._CrackIVF__commit_reorg(\n",
    "            local_quantizer, \n",
    "            c_visited_ids, \n",
    "            pids_visited, \n",
    "            p_visited, \n",
    "            use_running_assignments=True,\n",
    "    )\n",
    "        end_t = time.perf_counter()\n",
    "\n",
    "        # Get the number of visited points (N_vis) and dimensions (D)\n",
    "        N_vis, D = get_N_visited(real_crack_index.index, c_visited_ids)\n",
    "        \n",
    "        # Store input features and target variable\n",
    "        X1 = Nc  # I don't worry about Compute term on commit reorg\n",
    "        X2 = N_vis * D  # Data movement term: O(N_vis * D * 4 bytes for float32)\n",
    "        \n",
    "        # Append to input features and target latency\n",
    "        input_features.append([X1, X2])\n",
    "        target_variable_y_ms.append((end_t - start_t) * 1000)  # Latency in milliseconds\n",
    "\n",
    "# Convert input features and target variable to np.array\n",
    "X_data = np.array(input_features)  # Shape: (num_samples, 2)\n",
    "y_data = np.array(target_variable_y_ms)  # Shape: (num_samples, )\n",
    "\n",
    "# Now you can use X_data and y_data in the linear regression model"
   ]
  },
  {
   "cell_type": "markdown",
   "metadata": {},
   "source": [
    "- `w1 = 4.257400629274415e-05, w2 = 3.3919302537771467e-07, b = 0.7444031045620599` : <- first run"
   ]
  },
  {
   "cell_type": "code",
   "execution_count": null,
   "metadata": {},
   "outputs": [],
   "source": [
    "w1, w2, b, mae, model = fit_and_evaluate_model(X_data, y_data)\n",
    "w1\n",
    "w2\n",
    "b"
   ]
  },
  {
   "cell_type": "code",
   "execution_count": 23,
   "metadata": {},
   "outputs": [],
   "source": [
    "import numpy as np\n",
    "import time\n",
    "from tqdm import tqdm\n",
    "from sklearn.metrics import mean_absolute_error\n",
    "import matplotlib.pyplot as plt\n",
    "\n",
    "def get_N_visited(index, c_visited_ids):\n",
    "    N_visited = 0\n",
    "    D = index.d\n",
    "    for cid in c_visited_ids:\n",
    "        N_visited += index.invlists.list_size(int(cid))\n",
    "    return N_visited, D\n",
    "\n",
    "def evaluate_commit_reorg_model(dbname, model, nlist_values, xb, xq, metric):\n",
    "    \"\"\"\n",
    "    Evaluates the commit reorganization model for the given dataset using the learned model.\n",
    "    \n",
    "    Args:\n",
    "    - dbname (str): The name of the dataset.\n",
    "    - model: The trained model.\n",
    "    - nlist_values (list): List of nlist values to evaluate.\n",
    "    - xb (np.array): The dataset for building the index.\n",
    "    - xq (np.array): The query set for measurement.\n",
    "    - metric: The distance metric for the index.\n",
    "    \n",
    "    Returns:\n",
    "    - mae (float): Mean Absolute Error (MAE) for the model on the new dataset.\n",
    "    \"\"\"\n",
    "    input_features = []  # To store X1 and X2 for each measurement\n",
    "    target_variable_y_ms = []  # To store measured latency (T)\n",
    "\n",
    "    # Iterate over different values of Nc (number of centroids)\n",
    "    for Nc in nlist_values:\n",
    "        # Create new index as you vary Nc\n",
    "        real_crack_index = CrackIVF(\n",
    "            nlist=Nc, \n",
    "            niter=0,\n",
    "            max_pts=256,  # faiss default\n",
    "            seed=1,\n",
    "            metric=metric\n",
    "        )\n",
    "        real_crack_index.verbose=False\n",
    "        real_crack_index.add(xb)  # Add 1M points to the index\n",
    "        real_crack_index.refine_nprobe = 1  # Control the number of invlists accessed by ncracks\n",
    "\n",
    "        # For varying N_crack_locs (number of crack locations)\n",
    "        num_points = 10  # Desired number of data points\n",
    "        step = max(1, real_crack_index.nlist // num_points)  # Ensure step is at least 1\n",
    "\n",
    "        for N_crack_locs in tqdm(range(1, real_crack_index.nlist, step)):\n",
    "            # Take the first N_crack_locs crack locations\n",
    "            crack_locations = xq[:N_crack_locs, :]\n",
    "\n",
    "            # Get the visited points for commit reorganization\n",
    "            c_visited_ids, c_visited, pids_visited, p_visited = real_crack_index._CrackIVF__get_local_region(crack_locations, 1)\n",
    "            \n",
    "            # Measure commit reorg\n",
    "            RANDOM_running_assignments = np.random.randint(0, real_crack_index.nlist-1, size=pids_visited.shape[0], dtype=int)  # random assignments for real\n",
    "            local_quantizer = faiss.IndexFlat(real_crack_index.index.d, real_crack_index.metric)\n",
    "            local_quantizer.add(c_visited)\n",
    "\n",
    "            # Start measuring time for commit reorganization\n",
    "            start_t = time.perf_counter()\n",
    "            _, _, _ = real_crack_index._CrackIVF__commit_reorg(\n",
    "                local_quantizer, \n",
    "                c_visited_ids, \n",
    "                pids_visited, \n",
    "                p_visited, \n",
    "                use_running_assignments=True\n",
    "            )\n",
    "            end_t = time.perf_counter()\n",
    "\n",
    "            # Get the number of visited points (N_vis) and dimensions (D)\n",
    "            N_vis, D = get_N_visited(real_crack_index.index, c_visited_ids)\n",
    "\n",
    "            # Store input features and target variable\n",
    "            X1 = Nc  # No computation for commit reorg in this case\n",
    "            X2 = N_vis * D  # Data movement term: O(N_vis * D * 4 bytes for float32)\n",
    "\n",
    "            # Append to input features and target latency\n",
    "            input_features.append([X1, X2])\n",
    "            target_variable_y_ms.append((end_t - start_t) * 1000)  # Latency in milliseconds\n",
    "\n",
    "    # Convert input features and target variable to np.array\n",
    "    X_data = np.array(input_features)  # Shape: (num_samples, 2)\n",
    "    y_data = np.array(target_variable_y_ms)  # Shape: (num_samples, )\n",
    "\n",
    "    # Step 1: Use the trained model to predict latencies\n",
    "    y_pred = model.predict(X_data)\n",
    "\n",
    "    # Step 2: Calculate the Mean Absolute Error (MAE)\n",
    "    mae = mean_absolute_error(y_data, y_pred)\n",
    "    print(f\"Evaluating commit reorganization model on {dbname} dataset with nlist values {nlist_values}:\")\n",
    "    print(f\"Mean Absolute Error (MAE): {mae:.4f} ms\")\n",
    "\n",
    "    # Step 3: Visualize the results (Measured vs Predicted Latency)\n",
    "    plt.figure(figsize=(8, 6))\n",
    "    plt.scatter(y_data, y_pred, label=\"Measured vs Predicted\", color='blue')\n",
    "    plt.plot([min(y_data), max(y_data)], [min(y_data), max(y_data)], color='red', linestyle='--')\n",
    "    plt.xlabel(\"Measured Latency (ms)\")\n",
    "    plt.ylabel(\"Predicted Latency (ms)\")\n",
    "    plt.title(f\"Measured vs Predicted Latency for {dbname}\")\n",
    "    plt.legend()\n",
    "    plt.show()\n",
    "\n",
    "    return mae\n",
    "\n",
    "def manual_predict_evaluate_commit_reorg_model(dbname, w1, w2, b, nlist_values, xb, xq, metric):\n",
    "    \"\"\"\n",
    "    Evaluates the commit reorganization model for the given dataset using the learned model.\n",
    "    \n",
    "    Args:\n",
    "    - dbname (str): The name of the dataset.\n",
    "    - model: The trained model.\n",
    "    - nlist_values (list): List of nlist values to evaluate.\n",
    "    - xb (np.array): The dataset for building the index.\n",
    "    - xq (np.array): The query set for measurement.\n",
    "    - metric: The distance metric for the index.\n",
    "    \n",
    "    Returns:\n",
    "    - mae (float): Mean Absolute Error (MAE) for the model on the new dataset.\n",
    "    \"\"\"\n",
    "    input_features = []  # To store X1 and X2 for each measurement\n",
    "    target_variable_y_ms = []  # To store measured latency (T)\n",
    "\n",
    "    # Iterate over different values of Nc (number of centroids)\n",
    "    for Nc in nlist_values:\n",
    "        # Create new index as you vary Nc\n",
    "        real_crack_index = CrackIVF(\n",
    "            nlist=Nc, \n",
    "            niter=0,\n",
    "            max_pts=256,  # faiss default\n",
    "            seed=1,\n",
    "            metric=metric,\n",
    "        )\n",
    "        real_crack_index.verbose=False\n",
    "        real_crack_index.add(xb)  # Add 1M points to the index\n",
    "        real_crack_index.refine_nprobe = 1  # Control the number of invlists accessed by ncracks\n",
    "\n",
    "        # For varying N_crack_locs (number of crack locations)\n",
    "        num_points = 10  # Desired number of data points\n",
    "        step = max(1, real_crack_index.nlist // num_points)  # Ensure step is at least 1\n",
    "\n",
    "        for N_crack_locs in tqdm(range(1, real_crack_index.nlist, step)):\n",
    "            # Take the first N_crack_locs crack locations\n",
    "            crack_locations = xq[:N_crack_locs, :]\n",
    "\n",
    "            # Get the visited points for commit reorganization\n",
    "            c_visited_ids, c_visited, pids_visited, p_visited = real_crack_index._CrackIVF__get_local_region(crack_locations, 1)\n",
    "            \n",
    "            # Measure commit reorg\n",
    "            RANDOM_running_assignments = np.random.randint(0, real_crack_index.nlist-1, size=pids_visited.shape[0], dtype=int)  # random assignments for real\n",
    "            local_quantizer = faiss.IndexFlat(real_crack_index.index.d, real_crack_index.metric)\n",
    "            local_quantizer.add(c_visited)\n",
    "\n",
    "            # Start measuring time for commit reorganization\n",
    "            start_t = time.perf_counter()\n",
    "            _, _, _ = real_crack_index._CrackIVF__commit_reorg(\n",
    "                local_quantizer, \n",
    "                c_visited_ids, \n",
    "                pids_visited, \n",
    "                p_visited, \n",
    "                use_running_assignments=True\n",
    "            )\n",
    "            end_t = time.perf_counter()\n",
    "\n",
    "            # Get the number of visited points (N_vis) and dimensions (D)\n",
    "            N_vis, D = get_N_visited(real_crack_index.index, c_visited_ids)\n",
    "\n",
    "            # Store input features and target variable\n",
    "            X1 = Nc  # No computation for commit reorg in this case\n",
    "            X2 = N_vis * D  # Data movement term: O(N_vis * D * 4 bytes for float32)\n",
    "\n",
    "            # Append to input features and target latency\n",
    "            input_features.append([X1, X2])\n",
    "            target_variable_y_ms.append((end_t - start_t) * 1000)  # Latency in milliseconds\n",
    "\n",
    "    # Convert input features and target variable to np.array\n",
    "    X_data = np.array(input_features)  # Shape: (num_samples, 2)\n",
    "    y_data = np.array(target_variable_y_ms)  # Shape: (num_samples, )\n",
    "\n",
    "    # Step 1: MANUALLY predict using w1, w2 and b trained\n",
    "    y_pred = w1 * X_data[:, 0] + w2 * X_data[:, 1] + b\n",
    "\n",
    "\n",
    "    # Step 2: Calculate the Mean Absolute Error (MAE)\n",
    "    mae = mean_absolute_error(y_data, y_pred)\n",
    "    print(f\"Evaluating commit reorganization model on {dbname} dataset with nlist values {nlist_values}:\")\n",
    "    print(f\"Mean Absolute Error (MAE): {mae:.4f} ms\")\n",
    "\n",
    "    # Step 3: Visualize the results (Measured vs Predicted Latency)\n",
    "    plt.figure(figsize=(8, 6))\n",
    "    plt.scatter(y_data, y_pred, label=\"Measured vs Predicted\", color='blue')\n",
    "    plt.plot([min(y_data), max(y_data)], [min(y_data), max(y_data)], color='red', linestyle='--')\n",
    "    plt.xlabel(\"Measured Latency (ms)\")\n",
    "    plt.ylabel(\"Predicted Latency (ms)\")\n",
    "    plt.title(f\"Measured vs Predicted Latency for {dbname}\")\n",
    "    plt.legend()\n",
    "    plt.show()\n",
    "\n",
    "    return mae"
   ]
  },
  {
   "cell_type": "code",
   "execution_count": null,
   "metadata": {},
   "outputs": [],
   "source": [
    "manual_predict_evaluate_commit_reorg_model(dbname, 4.257400629274415e-05, 3.3919302537771467e-07, 0.7444031045620599, nlist_values, xb, xq, metric)"
   ]
  },
  {
   "cell_type": "code",
   "execution_count": 24,
   "metadata": {},
   "outputs": [],
   "source": [
    "# manual_predict_evaluate_commit_reorg_model(dbname, w1, w2, b, nlist_values, xb, xq, metric)"
   ]
  },
  {
   "cell_type": "code",
   "execution_count": null,
   "metadata": {},
   "outputs": [],
   "source": [
    "dbname = \"SIFT10M\"\n",
    "# dbname = \"gist-960-euclidean\"\n",
    "# dbname = \"deep-image-96-angular\"\n",
    "# xb, xq, gt, metric = load_dataset(\"SIFT1M\")\n",
    "\n",
    "# Load the dataset\n",
    "NUM_THREADS = 16\n",
    "faiss.omp_set_num_threads(NUM_THREADS)\n",
    "xb, xq, gt, metric = load_dataset(dbname)\n",
    "# Assuming the trained model (with coefficients w1, w2, b) is already available\n",
    "# We can directly use this model for evaluation\n",
    "# Assuming: model = LinearRegression() and has been trained on the previous data\n",
    "\n",
    "# Define the nlist values for evaluation\n",
    "nlist_values = [100, 200, 500, 1000, 2000, 5000, 10000, 15000]\n",
    "# Evaluate the model on the chosen dataset\n",
    "evaluate_commit_reorg_model(dbname, model, nlist_values, xb, xq, metric)\n",
    "manual_predict_evaluate_commit_reorg_model(dbname, 4.257400629274415e-05, 3.3919302537771467e-07, 0.7444031045620599, nlist_values, xb, xq, metric)"
   ]
  },
  {
   "cell_type": "code",
   "execution_count": null,
   "metadata": {},
   "outputs": [],
   "source": [
    "dbname = \"deep-image-96-angular\"\n",
    "# xb, xq, gt, metric = load_dataset(\"SIFT1M\")\n",
    "\n",
    "# Load the dataset\n",
    "NUM_THREADS = 16\n",
    "faiss.omp_set_num_threads(NUM_THREADS)\n",
    "xb, xq, gt, metric = load_dataset(dbname)\n",
    "# Assuming the trained model (with coefficients w1, w2, b) is already available\n",
    "# We can directly use this model for evaluation\n",
    "# Assuming: model = LinearRegression() and has been trained on the previous data\n",
    "\n",
    "# Define the nlist values for evaluation\n",
    "nlist_values = [100, 200, 500, 1000, 2000, 5000, 10000, 15000]\n",
    "# Evaluate the model on the chosen dataset\n",
    "evaluate_commit_reorg_model(dbname, model, nlist_values, xb, xq, metric)\n",
    "manual_predict_evaluate_commit_reorg_model(dbname, 4.257400629274415e-05, 3.3919302537771467e-07, 0.7444031045620599, nlist_values, xb, xq, metric)"
   ]
  },
  {
   "cell_type": "code",
   "execution_count": null,
   "metadata": {},
   "outputs": [],
   "source": []
  },
  {
   "cell_type": "markdown",
   "metadata": {},
   "source": [
    "## init_centroids_after_assignments()\n",
    "- TODO: This function can be improved. Because it loops over ENTIRE dataset, to update centroids, even though it might not be needed. But for now leave as is.\n",
    "- T ∼= w1*(N * D) + w2*(N * D + Nc * D) +  b\n",
    "- `w1 = -1.5951860751448968e-05, w2 = 1.7196139945158915e-05, b = 33.150811931567546`\n"
   ]
  },
  {
   "cell_type": "markdown",
   "metadata": {},
   "source": [
    "``` python\n",
    "def init_centroids_after_assignments(index, debug=False, metric='euclidean', centroids=None):\n",
    "    invlists = np.arange(index.nlist)\n",
    "    dims = index.d\n",
    "    if centroids is None:\n",
    "        centroids = np.full((len(invlists), dims), np.nan, dtype=np.float32)\n",
    "    for invlist_id in invlists:\n",
    "        point_ids, codes = get_invlist(index.invlists, int(invlist_id))\n",
    "        points = codes.view(\"float32\")\n",
    "        if points.size > 0:\n",
    "            centroids[invlist_id] = np.mean(points, axis=0)\n",
    "        if debug:\n",
    "            print(f\"In {invlist_id=} => {point_ids=}, {points.shape=}\")        \n",
    "    if metric == \"euclidean\" or metric == faiss.METRIC_L2:\n",
    "        new_quantizer = faiss.IndexFlatL2(dims)\n",
    "    elif metric == \"angular\" or metric == faiss.METRIC_INNER_PRODUCT or metric == \"dot\":\n",
    "        new_quantizer = faiss.IndexFlatIP(dims)\n",
    "    new_quantizer.add(centroids)\n",
    "    replace_ivf_quantizer(index, new_quantizer)\n",
    "\n",
    "    return centroids\n",
    "```"
   ]
  },
  {
   "cell_type": "code",
   "execution_count": 7,
   "metadata": {},
   "outputs": [
    {
     "name": "stdout",
     "output_type": "stream",
     "text": [
      "Loading Dataset = SIFT1M\n"
     ]
    }
   ],
   "source": [
    "dbname = 'SIFT1M'\n",
    "xb, xq, gt, metric = load_dataset(dbname)"
   ]
  },
  {
   "cell_type": "code",
   "execution_count": 8,
   "metadata": {},
   "outputs": [
    {
     "ename": "NameError",
     "evalue": "name 'Nc' is not defined",
     "output_type": "error",
     "traceback": [
      "\u001b[0;31m---------------------------------------------------------------------------\u001b[0m",
      "\u001b[0;31mNameError\u001b[0m                                 Traceback (most recent call last)",
      "Cell \u001b[0;32mIn[8], line 2\u001b[0m\n\u001b[1;32m      1\u001b[0m real_crack_index \u001b[38;5;241m=\u001b[39m CrackIVF(\n\u001b[0;32m----> 2\u001b[0m         nlist\u001b[38;5;241m=\u001b[39m\u001b[43mNc\u001b[49m, \n\u001b[1;32m      3\u001b[0m         niter\u001b[38;5;241m=\u001b[39m\u001b[38;5;241m0\u001b[39m,\n\u001b[1;32m      4\u001b[0m         max_pts\u001b[38;5;241m=\u001b[39m\u001b[38;5;241m256\u001b[39m,\n\u001b[1;32m      5\u001b[0m         seed\u001b[38;5;241m=\u001b[39m\u001b[38;5;241m1\u001b[39m,\n\u001b[1;32m      6\u001b[0m         metric\u001b[38;5;241m=\u001b[39mmetric\n\u001b[1;32m      7\u001b[0m     )\n",
      "\u001b[0;31mNameError\u001b[0m: name 'Nc' is not defined"
     ]
    }
   ],
   "source": [
    "# nlist=1000\n",
    "# real_crack_index = CrackIVF(\n",
    "#         nlist=nlist, \n",
    "#         niter=0,\n",
    "#         max_pts=256,\n",
    "#         seed=1,\n",
    "#         metric=metric\n",
    "#     )"
   ]
  },
  {
   "cell_type": "code",
   "execution_count": null,
   "metadata": {},
   "outputs": [],
   "source": [
    "import numpy as np\n",
    "import time\n",
    "from tqdm import tqdm\n",
    "\n",
    "input_features = []\n",
    "target_variable_y_ms = []\n",
    "\n",
    "# Load the dataset\n",
    "NUM_THREADS = 16\n",
    "faiss.omp_set_num_threads(NUM_THREADS)\n",
    "\n",
    "for dbname in ['SIFT1M','mnist-784-euclidean']:\n",
    "    # go over a couple of datasets \n",
    "    xb, xq, gt, metric = load_dataset(dbname)\n",
    "\n",
    "    # Iterate over different values of Nc (number of centroids)\n",
    "    for Nc in [100, 15000]: # taking only the 2 extremes, it's enough data points\n",
    "        # Create new index as you vary Nc\n",
    "        real_crack_index = CrackIVF(\n",
    "            nlist=Nc, \n",
    "            niter=0,\n",
    "            max_pts=256,\n",
    "            seed=1,\n",
    "            metric=metric\n",
    "        )\n",
    "        \n",
    "        # For varying N_crack_locs (number of crack locations)\n",
    "        num_steps = 3  # Desired number of data points\n",
    "        step = max(1, xb.shape[0] // num_steps)  # Ensure step is at least 1\n",
    "        for subset in tqdm(range(Nc, xb.shape[0], step)):\n",
    "            real_crack_index.add(xb[:subset, :])  # Add points to the index\n",
    "\n",
    "            start_t = time.perf_counter()\n",
    "            _ = init_centroids_after_assignments(real_crack_index.index, debug=False, metric=metric)\n",
    "            end_t = time.perf_counter()\n",
    "            \n",
    "            N, D = subset, real_crack_index.index.d\n",
    "            # Store input features and target variable\n",
    "            X1 = N * D\n",
    "            X2 = N * D + Nc * D # +Nc*D for writing the new centroids to the quantizer\n",
    "            \n",
    "            # Append to input features and target latency\n",
    "            input_features.append([X1, X2])\n",
    "            target_variable_y_ms.append((end_t - start_t) * 1000)  # Latency in milliseconds\n",
    "\n",
    "    # Convert input features and target variable to np.array\n",
    "    X_data = np.array(input_features)  # Shape: (num_samples, 2)\n",
    "    y_data = np.array(target_variable_y_ms)  # Shape: (num_samples, )"
   ]
  },
  {
   "cell_type": "markdown",
   "metadata": {},
   "source": [
    "- `w1 = -1.5951860751448968e-05, w2 = 1.7196139945158915e-05, b = 33.150811931567546`\n"
   ]
  },
  {
   "cell_type": "code",
   "execution_count": 10,
   "metadata": {},
   "outputs": [
    {
     "name": "stdout",
     "output_type": "stream",
     "text": [
      "Fitted model: T = w1 * X1 + w2 * X2 + b\n",
      "w1 = 1.2383201928366484e-06, w2 = 1.8324006757016397e-05, b = 32.43707660867432\n",
      "Mean Absolute Error (MAE): 62.34742404820951 ms\n"
     ]
    },
    {
     "data": {
      "image/png": "[encoded data removed]",
      "text/plain": [
       "<Figure size 800x600 with 1 Axes>"
      ]
     },
     "metadata": {},
     "output_type": "display_data"
    }
   ],
   "source": [
    "# NC movement only:\n",
    "w1, w2, b, mae, model = fit_and_evaluate_model(X_data, y_data)"
   ]
  },
  {
   "cell_type": "code",
   "execution_count": 11,
   "metadata": {},
   "outputs": [
    {
     "name": "stdout",
     "output_type": "stream",
     "text": [
      "[[   12800    12800]\n",
      " [42679424    12800]\n",
      " [85346048    12800]\n",
      " [ 1920000  1920000]\n",
      " [44586624  1920000]\n",
      " [87253248  1920000]\n",
      " [   78400    78400]\n",
      " [15758400    78400]\n",
      " [31438400    78400]\n",
      " [11760000 11760000]\n",
      " [27440000 11760000]\n",
      " [43120000 11760000]]\n",
      "[  2.19178799  29.29049998  46.79151298 199.39035003 271.31224802\n",
      " 267.424758     2.357708    10.80856705  14.93138197 266.94228902\n",
      " 248.19279002 271.31199301]\n"
     ]
    }
   ],
   "source": [
    "print(X_data)\n",
    "print(y_data)"
   ]
  },
  {
   "cell_type": "markdown",
   "metadata": {},
   "source": [
    "If polynomial degree 2:\n",
    "`Coefficients: [-1.38776775e-04  1.39750922e-04 -1.00092592e-11  2.00601740e-11\n",
    " -1.00540817e-11], Intercept: -12.16466420296274]`"
   ]
  },
  {
   "cell_type": "code",
   "execution_count": 15,
   "metadata": {},
   "outputs": [
    {
     "name": "stdout",
     "output_type": "stream",
     "text": [
      "Model Type: polynomial, Degree: 2\n",
      "Coefficients: [-1.38776775e-04  1.39750922e-04 -1.00092592e-11  2.00601740e-11\n",
      " -1.00540817e-11], Intercept: -12.16466420296274\n",
      "Mean Absolute Error (MAE): 6.1179003825107685 ms\n"
     ]
    },
    {
     "data": {
      "image/png": "[encoded data removed]",
      "text/plain": [
       "<Figure size 800x600 with 1 Axes>"
      ]
     },
     "metadata": {},
     "output_type": "display_data"
    }
   ],
   "source": [
    "coefficients, intercept, mae, poly_model = fit_and_evaluate_second_order_model(X_data, y_data, model_type=\"polynomial\", degree=2)"
   ]
  },
  {
   "cell_type": "code",
   "execution_count": 148,
   "metadata": {},
   "outputs": [],
   "source": [
    "# Try out different models:\n",
    "# # Linear Model\n",
    "# fit_and_evaluate_model(X_data, y_data, model_type=\"linear\")\n",
    "\n",
    "# # Quadratic Model\n",
    "# polynomial_model, _ = fit_and_evaluate_model(X_data, y_data, model_type=\"polynomial\", degree=2)\n",
    "\n",
    "# # Log-Transformed Model\n",
    "# fit_and_evaluate_model(X_data, y_data, model_type=\"log\")\n",
    "\n",
    "# # Interaction Model (ND, NcD, ND*NcD)\n",
    "# fit_and_evaluate_model(X_data, y_data, model_type=\"interaction\")\n"
   ]
  },
  {
   "cell_type": "code",
   "execution_count": 202,
   "metadata": {},
   "outputs": [],
   "source": [
    "def evaluate_existing_model(model, X_new, y_new, poly_transformer=None):\n",
    "    \"\"\"\n",
    "    Evaluates an already trained model on new datasets.\n",
    "\n",
    "    Args:\n",
    "    - model: The pre-trained regression model.\n",
    "    - X_new (numpy array): Input features for the new dataset (shape: num_samples x num_features).\n",
    "    - y_new (numpy array): Actual target latencies (shape: num_samples,).\n",
    "    - poly_transformer (PolynomialFeatures or None): If polynomial features were used, apply the same transformation.\n",
    "\n",
    "    Returns:\n",
    "    - mae (float): Mean Absolute Error (MAE) on the new dataset.\n",
    "    \"\"\"\n",
    "    \n",
    "    y_pred = model.predict(X_new)\n",
    "\n",
    "    mae = mean_absolute_error(y_new, y_pred)\n",
    "    print(f\"Mean Absolute Error (MAE) on new dataset: {mae} ms\")\n",
    "\n",
    "    # Step 4: Visualize results\n",
    "    plt.figure(figsize=(8, 6))\n",
    "    plt.scatter(y_new, y_pred, label=\"Measured vs Predicted\", color='blue')\n",
    "    plt.plot([min(y_new), max(y_new)], [min(y_new), max(y_new)], color='red', linestyle='--')\n",
    "    plt.xlabel(\"Measured Latency (ms)\")\n",
    "    plt.ylabel(\"Predicted Latency (ms)\")\n",
    "    plt.title(\"Measured vs Predicted Latency (New Dataset)\")\n",
    "    plt.legend()\n",
    "    plt.show()\n",
    "\n",
    "    return mae\n"
   ]
  },
  {
   "cell_type": "markdown",
   "metadata": {},
   "source": [
    "Now evaluate on other datasets:"
   ]
  },
  {
   "cell_type": "code",
   "execution_count": null,
   "metadata": {},
   "outputs": [],
   "source": [
    "# train \n",
    "# dbname = \"SIFT10M\"\n",
    "xb, xq, gt, metric = load_dataset(\"SIFT1M\")\n",
    "xb, xq, gt, metric = load_dataset(dbname)\n",
    "\n",
    "input_features_new = []\n",
    "target_variable_y_new = []\n",
    "\n",
    "for Nc in [100, 15000]:\n",
    "    real_crack_index = CrackIVF(\n",
    "        nlist=Nc, \n",
    "        niter=0,\n",
    "        max_pts=256,\n",
    "        seed=1,\n",
    "        metric=metric\n",
    "    )\n",
    "    \n",
    "    num_steps = 3\n",
    "    step = max(1, xb.shape[0] // num_steps)\n",
    "    for subset in range(Nc, xb.shape[0], step):\n",
    "        real_crack_index.add(xb[:subset, :])\n",
    "\n",
    "        start_t = time.perf_counter()\n",
    "        _ = init_centroids_after_assignments(real_crack_index.index, debug=False, metric=metric)\n",
    "        end_t = time.perf_counter()\n",
    "\n",
    "        N, D = subset, real_crack_index.index.d\n",
    "        X1 = N * D\n",
    "        X2 = Nc * D\n",
    "\n",
    "        input_features_new.append([X1, X2])\n",
    "        target_variable_y_new.append((end_t - start_t) * 1000)\n",
    "\n",
    "X_new = np.array(input_features_new)\n",
    "y_new = np.array(target_variable_y_new)\n",
    "mae_new = evaluate_existing_model(model, X_new, y_new, None) # linear model, it's fine that it's off I just need some guesstimate in the ball park"
   ]
  },
  {
   "cell_type": "code",
   "execution_count": null,
   "metadata": {},
   "outputs": [],
   "source": []
  },
  {
   "cell_type": "markdown",
   "metadata": {},
   "source": [
    "## REORG: Putting it together (nthreads=16):\n",
    "- `T_reorg =` T_get_local_region + T_commit_reorg + T_init_centroids_after_assignments <-----\n",
    "- T_get_local_region : \n",
    "    - `X1 = N_crack_locs * Nc, X2 = N_vis * D`\n",
    "    - `w1 = 9.792029439425269e-07, w2 = 8.848264329863606e-07, b = 3.587780694965886`\n",
    "- T_commit_reorg :\n",
    "    - `X1 = Nc, X2 = N_vis * D`\n",
    "    - `w1 = 4.257400629274415e-05, w2 = 3.3919302537771467e-07, b = 0.7444031045620599`\n",
    "- T_init_centroids_after_assignments:\n",
    "    - `X1 = N * D, X2 = N * D + Nc * D`\n",
    "    - `w1 = -1.5951860751448968e-05, w2 = 1.7196139945158915e-05, b = 33.150811931567546`"
   ]
  },
  {
   "cell_type": "code",
   "execution_count": 3,
   "metadata": {},
   "outputs": [],
   "source": [
    "def __cost_estimate_get_local_region(N_crack_locs, Nc, N_vis, D):\n",
    "    X1, X2 = N_crack_locs * Nc, N_vis * D\n",
    "    w1, w2, b = 9.792029439425269e-07, 8.848264329863606e-07, 3.587780694965886\n",
    "    return w1*X1 + w2*X2 + b\n",
    "\n",
    "def __cost_estimate_commit_reorg(Nc, N_vis, D):\n",
    "    X1, X2 = Nc, N_vis * D\n",
    "    w1, w2, b = 4.257400629274415e-05, 3.3919302537771467e-07, 0.7444031045620599\n",
    "    return w1*X1 + w2*X2 + b\n",
    "\n",
    "def __cost_estimate_init_centroids_after_assignment(N, D, Nc):\n",
    "    X1, X2 = N*D, D*(N+Nc)\n",
    "    w1, w2, b = -1.5951860751448968e-05, 1.7196139945158915e-05, 33.150811931567546\n",
    "    return w1*X1 + w2*X2 + b\n",
    "\n",
    "def get_cost_estimate_reorg(N_crack_locs, Nc, N_vis, D, N):\n",
    "    '''\n",
    "    Simple model to estimate cost of reorg. Uses simple linear models for fast inference. \n",
    "    Coefficiens w1,w2,b of each are learned by fitting a simple multivariat linear regression model.\n",
    "    - NOTE: Has to be adjusted depending on number of threads\n",
    "    '''\n",
    "    # assert nthreads == 16 # because we hardcoded for 16 threads\n",
    "    T_get_local_region = __cost_estimate_get_local_region(N_crack_locs, Nc, N_vis, D)\n",
    "    T_commit_reorg = __cost_estimate_commit_reorg(Nc, N_vis, D)\n",
    "    T_init_centroids_after_assignment = __cost_estimate_init_centroids_after_assignment(N, D, Nc)\n",
    "    return T_get_local_region + T_commit_reorg + T_init_centroids_after_assignment\n"
   ]
  },
  {
   "cell_type": "code",
   "execution_count": null,
   "metadata": {},
   "outputs": [
    {
     "name": "stdout",
     "output_type": "stream",
     "text": [
      "Loading Dataset = SIFT10M\n"
     ]
    }
   ],
   "source": [
    "ANN_DATASETS = [\n",
    "    \"deep-image-96-angular\",\n",
    "    \"glove-25-angular\",\n",
    "    \"glove-50-angular\",\n",
    "    \"glove-100-angular\",\n",
    "    \"sift-128-euclidean\",\n",
    "    \"lastfm-64-dot\",\n",
    "]\n",
    "# dbname = \"glove-50-angular\"\n",
    "# dbname = \"sift-128-euclidean\"\n",
    "dbname = \"SIFT10M\"\n",
    "# dbname = \"lastfm-64-dot\"\n",
    "xb, xq, gt, metric = load_dataset(dbname)\n",
    "NUM_THREADS = 16\n",
    "faiss.omp_set_num_threads(NUM_THREADS)"
   ]
  },
  {
   "cell_type": "markdown",
   "metadata": {},
   "source": [
    "Copy-paste of the reorg to measure and see if fit is fine:"
   ]
  },
  {
   "cell_type": "code",
   "execution_count": 25,
   "metadata": {},
   "outputs": [],
   "source": [
    "np.random.seed(42)"
   ]
  },
  {
   "cell_type": "code",
   "execution_count": 26,
   "metadata": {},
   "outputs": [
    {
     "name": "stdout",
     "output_type": "stream",
     "text": [
      "Init Index... self.nlist=100 self.niter=0 self.max_pts=256 self.seed=1 self.d=128\n",
      "\t---> Index Train Time = 1138.0733120022342 ms | Add Time = 7369.9477359768935 ms | Assign Time (should be free if C++ implementation )= 2951.5086580067873<---\n"
     ]
    },
    {
     "data": {
      "text/plain": [
       "(1.1380733120022342, 7.3699477359768935)"
      ]
     },
     "execution_count": 26,
     "metadata": {},
     "output_type": "execute_result"
    },
    {
     "name": "stderr",
     "output_type": "stream",
     "text": [
      "  0%|          | 0/5 [00:00<?, ?it/s]"
     ]
    },
    {
     "name": "stdout",
     "output_type": "stream",
     "text": [
      "Init Index... self.nlist=100 self.niter=0 self.max_pts=256 self.seed=1 self.d=128\n"
     ]
    },
    {
     "name": "stderr",
     "output_type": "stream",
     "text": [
      "WARNING clustering 100 points to 100 centroids: please provide at least 3900 training points\n"
     ]
    },
    {
     "name": "stdout",
     "output_type": "stream",
     "text": [
      "\t---> Index Train Time = 0.7457380415871739 ms | Add Time = 2.992812020238489 ms | Assign Time (should be free if C++ implementation )= 1.1289480025880039<---\n"
     ]
    },
    {
     "data": {
      "text/plain": [
       "(0.0007457380415871739, 0.002992812020238489)"
      ]
     },
     "execution_count": 26,
     "metadata": {},
     "output_type": "execute_result"
    },
    {
     "name": "stderr",
     "output_type": "stream",
     "text": []
    },
    {
     "name": "stdout",
     "output_type": "stream",
     "text": [
      "Init Index... self.nlist=100 self.niter=0 self.max_pts=256 self.seed=1 self.d=128\n",
      "\t---> Index Train Time = 396.1632680147886 ms | Add Time = 1843.6139039695263 ms | Assign Time (should be free if C++ implementation )= 1126.7377720214427<---\n"
     ]
    },
    {
     "data": {
      "text/plain": [
       "(0.3961632680147886, 1.8436139039695263)"
      ]
     },
     "execution_count": 26,
     "metadata": {},
     "output_type": "execute_result"
    },
    {
     "name": "stderr",
     "output_type": "stream",
     "text": []
    },
    {
     "name": "stdout",
     "output_type": "stream",
     "text": [
      "Init Index... self.nlist=100 self.niter=0 self.max_pts=256 self.seed=1 self.d=128\n",
      "\t---> Index Train Time = 746.5737810125574 ms | Add Time = 4341.565447044559 ms | Assign Time (should be free if C++ implementation )= 1955.9622200322337<---\n"
     ]
    },
    {
     "data": {
      "text/plain": [
       "(0.7465737810125574, 4.341565447044559)"
      ]
     },
     "execution_count": 26,
     "metadata": {},
     "output_type": "execute_result"
    },
    {
     "name": "stderr",
     "output_type": "stream",
     "text": [
      "100%|██████████| 3/3 [00:15<00:00,  5.23s/it]\n",
      " 20%|██        | 1/5 [00:15<01:02, 15.71s/it]"
     ]
    },
    {
     "name": "stdout",
     "output_type": "stream",
     "text": [
      "Init Index... self.nlist=100 self.niter=0 self.max_pts=256 self.seed=1 self.d=128\n",
      "\t---> Index Train Time = 0.45632902765646577 ms | Add Time = 2.958082011900842 ms | Assign Time (should be free if C++ implementation )= 0.33910898491740227<---\n"
     ]
    },
    {
     "name": "stderr",
     "output_type": "stream",
     "text": [
      "WARNING clustering 100 points to 100 centroids: please provide at least 3900 training points\n"
     ]
    },
    {
     "data": {
      "text/plain": [
       "(0.00045632902765646577, 0.002958082011900842)"
      ]
     },
     "execution_count": 26,
     "metadata": {},
     "output_type": "execute_result"
    },
    {
     "name": "stderr",
     "output_type": "stream",
     "text": []
    },
    {
     "name": "stdout",
     "output_type": "stream",
     "text": [
      "Init Index... self.nlist=100 self.niter=0 self.max_pts=256 self.seed=1 self.d=128\n",
      "\t---> Index Train Time = 408.4619639907032 ms | Add Time = 1687.3669969500042 ms | Assign Time (should be free if C++ implementation )= 1123.8527600071393<---\n"
     ]
    },
    {
     "data": {
      "text/plain": [
       "(0.4084619639907032, 1.6873669969500042)"
      ]
     },
     "execution_count": 26,
     "metadata": {},
     "output_type": "execute_result"
    },
    {
     "name": "stderr",
     "output_type": "stream",
     "text": []
    },
    {
     "name": "stdout",
     "output_type": "stream",
     "text": [
      "Init Index... self.nlist=100 self.niter=0 self.max_pts=256 self.seed=1 self.d=128\n",
      "\t---> Index Train Time = 722.7041349979118 ms | Add Time = 3811.9388099876232 ms | Assign Time (should be free if C++ implementation )= 2128.5496540367603<---\n"
     ]
    },
    {
     "data": {
      "text/plain": [
       "(0.7227041349979118, 3.8119388099876232)"
      ]
     },
     "execution_count": 26,
     "metadata": {},
     "output_type": "execute_result"
    },
    {
     "name": "stderr",
     "output_type": "stream",
     "text": [
      "100%|██████████| 3/3 [00:15<00:00,  5.07s/it]\n",
      " 40%|████      | 2/5 [00:30<00:46, 15.42s/it]"
     ]
    },
    {
     "name": "stdout",
     "output_type": "stream",
     "text": [
      "Init Index... self.nlist=100 self.niter=0 self.max_pts=256 self.seed=1 self.d=128\n",
      "\t---> Index Train Time = 0.7626789738424122 ms | Add Time = 3.2256420236080885 ms | Assign Time (should be free if C++ implementation )= 0.32295897835865617<---\n"
     ]
    },
    {
     "name": "stderr",
     "output_type": "stream",
     "text": [
      "WARNING clustering 100 points to 100 centroids: please provide at least 3900 training points\n"
     ]
    },
    {
     "data": {
      "text/plain": [
       "(0.0007626789738424122, 0.0032256420236080885)"
      ]
     },
     "execution_count": 26,
     "metadata": {},
     "output_type": "execute_result"
    },
    {
     "name": "stderr",
     "output_type": "stream",
     "text": []
    },
    {
     "name": "stdout",
     "output_type": "stream",
     "text": [
      "Init Index... self.nlist=100 self.niter=0 self.max_pts=256 self.seed=1 self.d=128\n",
      "\t---> Index Train Time = 381.7268660059199 ms | Add Time = 1824.2636179784313 ms | Assign Time (should be free if C++ implementation )= 1230.0671309931204<---\n"
     ]
    },
    {
     "data": {
      "text/plain": [
       "(0.3817268660059199, 1.8242636179784313)"
      ]
     },
     "execution_count": 26,
     "metadata": {},
     "output_type": "execute_result"
    },
    {
     "name": "stderr",
     "output_type": "stream",
     "text": []
    },
    {
     "name": "stdout",
     "output_type": "stream",
     "text": [
      "Init Index... self.nlist=100 self.niter=0 self.max_pts=256 self.seed=1 self.d=128\n",
      "\t---> Index Train Time = 691.4449880132452 ms | Add Time = 3571.618973976001 ms | Assign Time (should be free if C++ implementation )= 2205.5762649979442<---\n"
     ]
    },
    {
     "data": {
      "text/plain": [
       "(0.6914449880132452, 3.571618973976001)"
      ]
     },
     "execution_count": 26,
     "metadata": {},
     "output_type": "execute_result"
    },
    {
     "name": "stderr",
     "output_type": "stream",
     "text": [
      "100%|██████████| 3/3 [00:15<00:00,  5.14s/it]\n",
      " 60%|██████    | 3/5 [00:46<00:30, 15.43s/it]"
     ]
    },
    {
     "name": "stdout",
     "output_type": "stream",
     "text": [
      "Init Index... self.nlist=100 self.niter=0 self.max_pts=256 self.seed=1 self.d=128\n",
      "\t---> Index Train Time = 0.9562780032865703 ms | Add Time = 2.9807730461470783 ms | Assign Time (should be free if C++ implementation )= 0.22913998691365123<---\n"
     ]
    },
    {
     "name": "stderr",
     "output_type": "stream",
     "text": [
      "WARNING clustering 100 points to 100 centroids: please provide at least 3900 training points\n"
     ]
    },
    {
     "data": {
      "text/plain": [
       "(0.0009562780032865703, 0.0029807730461470783)"
      ]
     },
     "execution_count": 26,
     "metadata": {},
     "output_type": "execute_result"
    },
    {
     "name": "stderr",
     "output_type": "stream",
     "text": []
    },
    {
     "name": "stdout",
     "output_type": "stream",
     "text": [
      "Init Index... self.nlist=100 self.niter=0 self.max_pts=256 self.seed=1 self.d=128\n",
      "\t---> Index Train Time = 400.93305899063125 ms | Add Time = 1753.4741310519166 ms | Assign Time (should be free if C++ implementation )= 1089.6349149988964<---\n"
     ]
    },
    {
     "data": {
      "text/plain": [
       "(0.40093305899063125, 1.7534741310519166)"
      ]
     },
     "execution_count": 26,
     "metadata": {},
     "output_type": "execute_result"
    },
    {
     "name": "stderr",
     "output_type": "stream",
     "text": []
    },
    {
     "name": "stdout",
     "output_type": "stream",
     "text": [
      "Init Index... self.nlist=100 self.niter=0 self.max_pts=256 self.seed=1 self.d=128\n",
      "\t---> Index Train Time = 693.2379640056752 ms | Add Time = 3643.5683479649015 ms | Assign Time (should be free if C++ implementation )= 2107.6636749785393<---\n"
     ]
    },
    {
     "data": {
      "text/plain": [
       "(0.6932379640056752, 3.6435683479649015)"
      ]
     },
     "execution_count": 26,
     "metadata": {},
     "output_type": "execute_result"
    },
    {
     "name": "stderr",
     "output_type": "stream",
     "text": [
      "100%|██████████| 3/3 [00:15<00:00,  5.16s/it]\n",
      " 80%|████████  | 4/5 [01:01<00:15, 15.45s/it]"
     ]
    },
    {
     "name": "stdout",
     "output_type": "stream",
     "text": [
      "Init Index... self.nlist=100 self.niter=0 self.max_pts=256 self.seed=1 self.d=128\n",
      "\t---> Index Train Time = 0.5768290138803422 ms | Add Time = 2.8447129880078137 ms | Assign Time (should be free if C++ implementation )= 0.22207997972145677<---\n"
     ]
    },
    {
     "name": "stderr",
     "output_type": "stream",
     "text": [
      "WARNING clustering 100 points to 100 centroids: please provide at least 3900 training points\n"
     ]
    },
    {
     "data": {
      "text/plain": [
       "(0.0005768290138803422, 0.0028447129880078137)"
      ]
     },
     "execution_count": 26,
     "metadata": {},
     "output_type": "execute_result"
    },
    {
     "name": "stderr",
     "output_type": "stream",
     "text": []
    },
    {
     "name": "stdout",
     "output_type": "stream",
     "text": [
      "Init Index... self.nlist=100 self.niter=0 self.max_pts=256 self.seed=1 self.d=128\n",
      "\t---> Index Train Time = 399.82997201150283 ms | Add Time = 1857.3220770340413 ms | Assign Time (should be free if C++ implementation )= 1081.3832539715804<---\n"
     ]
    },
    {
     "data": {
      "text/plain": [
       "(0.39982997201150283, 1.8573220770340413)"
      ]
     },
     "execution_count": 26,
     "metadata": {},
     "output_type": "execute_result"
    },
    {
     "name": "stderr",
     "output_type": "stream",
     "text": []
    },
    {
     "name": "stdout",
     "output_type": "stream",
     "text": [
      "Init Index... self.nlist=100 self.niter=0 self.max_pts=256 self.seed=1 self.d=128\n",
      "\t---> Index Train Time = 705.9888039948419 ms | Add Time = 3524.0352299879305 ms | Assign Time (should be free if C++ implementation )= 2158.63076003734<---\n"
     ]
    },
    {
     "data": {
      "text/plain": [
       "(0.7059888039948419, 3.5240352299879305)"
      ]
     },
     "execution_count": 26,
     "metadata": {},
     "output_type": "execute_result"
    },
    {
     "name": "stderr",
     "output_type": "stream",
     "text": [
      "100%|██████████| 3/3 [00:16<00:00,  5.38s/it]\n",
      "100%|██████████| 5/5 [01:18<00:00, 15.60s/it]\n"
     ]
    },
    {
     "name": "stdout",
     "output_type": "stream",
     "text": [
      "Init Index... self.nlist=1000 self.niter=0 self.max_pts=256 self.seed=1 self.d=128\n",
      "\t---> Index Train Time = 1168.2099520112388 ms | Add Time = 15672.214932972565 ms | Assign Time (should be free if C++ implementation )= 13959.112389013171<---\n"
     ]
    },
    {
     "data": {
      "text/plain": [
       "(1.1682099520112388, 15.672214932972565)"
      ]
     },
     "execution_count": 26,
     "metadata": {},
     "output_type": "execute_result"
    },
    {
     "name": "stderr",
     "output_type": "stream",
     "text": [
      "  0%|          | 0/5 [00:00<?, ?it/s]"
     ]
    },
    {
     "name": "stdout",
     "output_type": "stream",
     "text": [
      "Init Index... self.nlist=1000 self.niter=0 self.max_pts=256 self.seed=1 self.d=128\n",
      "\t---> Index Train Time = 1.0481469798833132 ms | Add Time = 18.38178699836135 ms | Assign Time (should be free if C++ implementation )= 1.4345870004035532<---\n"
     ]
    },
    {
     "name": "stderr",
     "output_type": "stream",
     "text": [
      "WARNING clustering 1000 points to 1000 centroids: please provide at least 39000 training points\n"
     ]
    },
    {
     "data": {
      "text/plain": [
       "(0.0010481469798833132, 0.01838178699836135)"
      ]
     },
     "execution_count": 26,
     "metadata": {},
     "output_type": "execute_result"
    },
    {
     "name": "stderr",
     "output_type": "stream",
     "text": []
    },
    {
     "name": "stdout",
     "output_type": "stream",
     "text": [
      "Init Index... self.nlist=1000 self.niter=0 self.max_pts=256 self.seed=1 self.d=128\n",
      "\t---> Index Train Time = 446.2150320177898 ms | Add Time = 4697.603466978762 ms | Assign Time (should be free if C++ implementation )= 4923.164993000682<---\n"
     ]
    },
    {
     "data": {
      "text/plain": [
       "(0.4462150320177898, 4.697603466978762)"
      ]
     },
     "execution_count": 26,
     "metadata": {},
     "output_type": "execute_result"
    },
    {
     "name": "stderr",
     "output_type": "stream",
     "text": []
    },
    {
     "name": "stdout",
     "output_type": "stream",
     "text": [
      "Init Index... self.nlist=1000 self.niter=0 self.max_pts=256 self.seed=1 self.d=128\n",
      "\t---> Index Train Time = 744.6789229870774 ms | Add Time = 12040.130054985639 ms | Assign Time (should be free if C++ implementation )= 8040.995210991241<---\n"
     ]
    },
    {
     "data": {
      "text/plain": [
       "(0.7446789229870774, 12.040130054985639)"
      ]
     },
     "execution_count": 26,
     "metadata": {},
     "output_type": "execute_result"
    },
    {
     "name": "stderr",
     "output_type": "stream",
     "text": [
      "100%|██████████| 3/3 [00:35<00:00, 11.97s/it]\n",
      " 20%|██        | 1/5 [00:35<02:23, 35.93s/it]WARNING clustering 1000 points to 1000 centroids: please provide at least 39000 training points\n"
     ]
    },
    {
     "name": "stdout",
     "output_type": "stream",
     "text": [
      "Init Index... self.nlist=1000 self.niter=0 self.max_pts=256 self.seed=1 self.d=128\n",
      "\t---> Index Train Time = 0.9549669921398163 ms | Add Time = 16.97440503630787 ms | Assign Time (should be free if C++ implementation )= 2.410023007541895<---\n"
     ]
    },
    {
     "data": {
      "text/plain": [
       "(0.0009549669921398163, 0.01697440503630787)"
      ]
     },
     "execution_count": 26,
     "metadata": {},
     "output_type": "execute_result"
    },
    {
     "name": "stderr",
     "output_type": "stream",
     "text": []
    },
    {
     "name": "stdout",
     "output_type": "stream",
     "text": [
      "Init Index... self.nlist=1000 self.niter=0 self.max_pts=256 self.seed=1 self.d=128\n",
      "\t---> Index Train Time = 469.69128301134333 ms | Add Time = 4649.831079004798 ms | Assign Time (should be free if C++ implementation )= 4080.602767004166<---\n"
     ]
    },
    {
     "data": {
      "text/plain": [
       "(0.46969128301134333, 4.649831079004798)"
      ]
     },
     "execution_count": 26,
     "metadata": {},
     "output_type": "execute_result"
    },
    {
     "name": "stderr",
     "output_type": "stream",
     "text": []
    },
    {
     "name": "stdout",
     "output_type": "stream",
     "text": [
      "Init Index... self.nlist=1000 self.niter=0 self.max_pts=256 self.seed=1 self.d=128\n",
      "\t---> Index Train Time = 713.4303399943747 ms | Add Time = 8973.333098983858 ms | Assign Time (should be free if C++ implementation )= 8839.355496980716<---\n"
     ]
    },
    {
     "data": {
      "text/plain": [
       "(0.7134303399943747, 8.973333098983858)"
      ]
     },
     "execution_count": 26,
     "metadata": {},
     "output_type": "execute_result"
    },
    {
     "name": "stderr",
     "output_type": "stream",
     "text": [
      "100%|██████████| 3/3 [00:33<00:00, 11.08s/it]\n",
      " 40%|████      | 2/5 [01:09<01:43, 34.34s/it]WARNING clustering 1000 points to 1000 centroids: please provide at least 39000 training points\n"
     ]
    },
    {
     "name": "stdout",
     "output_type": "stream",
     "text": [
      "Init Index... self.nlist=1000 self.niter=0 self.max_pts=256 self.seed=1 self.d=128\n",
      "\t---> Index Train Time = 0.8485480211675167 ms | Add Time = 16.42886095214635 ms | Assign Time (should be free if C++ implementation )= 5.501036997884512<---\n"
     ]
    },
    {
     "data": {
      "text/plain": [
       "(0.0008485480211675167, 0.01642886095214635)"
      ]
     },
     "execution_count": 26,
     "metadata": {},
     "output_type": "execute_result"
    },
    {
     "name": "stderr",
     "output_type": "stream",
     "text": []
    },
    {
     "name": "stdout",
     "output_type": "stream",
     "text": [
      "Init Index... self.nlist=1000 self.niter=0 self.max_pts=256 self.seed=1 self.d=128\n",
      "\t---> Index Train Time = 428.68431902024895 ms | Add Time = 4343.235576001462 ms | Assign Time (should be free if C++ implementation )= 4361.830922018271<---\n"
     ]
    },
    {
     "data": {
      "text/plain": [
       "(0.42868431902024895, 4.343235576001462)"
      ]
     },
     "execution_count": 26,
     "metadata": {},
     "output_type": "execute_result"
    },
    {
     "name": "stderr",
     "output_type": "stream",
     "text": []
    },
    {
     "name": "stdout",
     "output_type": "stream",
     "text": [
      "Init Index... self.nlist=1000 self.niter=0 self.max_pts=256 self.seed=1 self.d=128\n",
      "\t---> Index Train Time = 702.6276369579136 ms | Add Time = 9737.962006998714 ms | Assign Time (should be free if C++ implementation )= 7543.244374974165<---\n"
     ]
    },
    {
     "data": {
      "text/plain": [
       "(0.7026276369579136, 9.737962006998714)"
      ]
     },
     "execution_count": 26,
     "metadata": {},
     "output_type": "execute_result"
    },
    {
     "name": "stderr",
     "output_type": "stream",
     "text": [
      "100%|██████████| 3/3 [00:31<00:00, 10.64s/it]\n",
      " 60%|██████    | 3/5 [01:41<01:06, 33.24s/it]WARNING clustering 1000 points to 1000 centroids: please provide at least 39000 training points\n"
     ]
    },
    {
     "name": "stdout",
     "output_type": "stream",
     "text": [
      "Init Index... self.nlist=1000 self.niter=0 self.max_pts=256 self.seed=1 self.d=128\n",
      "\t---> Index Train Time = 0.4590179887600243 ms | Add Time = 15.69596299668774 ms | Assign Time (should be free if C++ implementation )= 2.719604002777487<---\n"
     ]
    },
    {
     "data": {
      "text/plain": [
       "(0.0004590179887600243, 0.01569596299668774)"
      ]
     },
     "execution_count": 26,
     "metadata": {},
     "output_type": "execute_result"
    },
    {
     "name": "stderr",
     "output_type": "stream",
     "text": []
    },
    {
     "name": "stdout",
     "output_type": "stream",
     "text": [
      "Init Index... self.nlist=1000 self.niter=0 self.max_pts=256 self.seed=1 self.d=128\n",
      "\t---> Index Train Time = 386.27272995654494 ms | Add Time = 4204.240497027058 ms | Assign Time (should be free if C++ implementation )= 3901.670983992517<---\n"
     ]
    },
    {
     "data": {
      "text/plain": [
       "(0.38627272995654494, 4.204240497027058)"
      ]
     },
     "execution_count": 26,
     "metadata": {},
     "output_type": "execute_result"
    },
    {
     "name": "stderr",
     "output_type": "stream",
     "text": []
    },
    {
     "name": "stdout",
     "output_type": "stream",
     "text": [
      "Init Index... self.nlist=1000 self.niter=0 self.max_pts=256 self.seed=1 self.d=128\n",
      "\t---> Index Train Time = 701.2272460269742 ms | Add Time = 9470.712184964214 ms | Assign Time (should be free if C++ implementation )= 8469.380748982076<---\n"
     ]
    },
    {
     "data": {
      "text/plain": [
       "(0.7012272460269742, 9.470712184964214)"
      ]
     },
     "execution_count": 26,
     "metadata": {},
     "output_type": "execute_result"
    },
    {
     "name": "stderr",
     "output_type": "stream",
     "text": [
      "100%|██████████| 3/3 [00:32<00:00, 10.82s/it]\n",
      " 80%|████████  | 4/5 [02:13<00:32, 32.93s/it]"
     ]
    },
    {
     "name": "stdout",
     "output_type": "stream",
     "text": [
      "Init Index... self.nlist=1000 self.niter=0 self.max_pts=256 self.seed=1 self.d=128\n",
      "\t---> Index Train Time = 0.5176489939913154 ms | Add Time = 15.010803006589413 ms | Assign Time (should be free if C++ implementation )= 1.780536025762558<---\n"
     ]
    },
    {
     "name": "stderr",
     "output_type": "stream",
     "text": [
      "WARNING clustering 1000 points to 1000 centroids: please provide at least 39000 training points\n"
     ]
    },
    {
     "data": {
      "text/plain": [
       "(0.0005176489939913154, 0.015010803006589413)"
      ]
     },
     "execution_count": 26,
     "metadata": {},
     "output_type": "execute_result"
    },
    {
     "name": "stderr",
     "output_type": "stream",
     "text": []
    },
    {
     "name": "stdout",
     "output_type": "stream",
     "text": [
      "Init Index... self.nlist=1000 self.niter=0 self.max_pts=256 self.seed=1 self.d=128\n",
      "\t---> Index Train Time = 355.64425599295646 ms | Add Time = 4152.071100019384 ms | Assign Time (should be free if C++ implementation )= 4429.63657603832<---\n"
     ]
    },
    {
     "data": {
      "text/plain": [
       "(0.35564425599295646, 4.152071100019384)"
      ]
     },
     "execution_count": 26,
     "metadata": {},
     "output_type": "execute_result"
    },
    {
     "name": "stderr",
     "output_type": "stream",
     "text": []
    },
    {
     "name": "stdout",
     "output_type": "stream",
     "text": [
      "Init Index... self.nlist=1000 self.niter=0 self.max_pts=256 self.seed=1 self.d=128\n",
      "\t---> Index Train Time = 697.4465450039133 ms | Add Time = 8446.74683402991 ms | Assign Time (should be free if C++ implementation )= 7696.009997045621<---\n"
     ]
    },
    {
     "data": {
      "text/plain": [
       "(0.6974465450039133, 8.44674683402991)"
      ]
     },
     "execution_count": 26,
     "metadata": {},
     "output_type": "execute_result"
    },
    {
     "name": "stderr",
     "output_type": "stream",
     "text": [
      "100%|██████████| 3/3 [00:31<00:00, 10.42s/it]\n",
      "100%|██████████| 5/5 [02:44<00:00, 32.96s/it]\n"
     ]
    },
    {
     "name": "stdout",
     "output_type": "stream",
     "text": [
      "Init Index... self.nlist=5000 self.niter=0 self.max_pts=256 self.seed=1 self.d=128\n",
      "\t---> Index Train Time = 1128.4194379695691 ms | Add Time = 62554.74128003698 ms | Assign Time (should be free if C++ implementation )= 52003.28526698286<---\n"
     ]
    },
    {
     "data": {
      "text/plain": [
       "(1.1284194379695691, 62.55474128003698)"
      ]
     },
     "execution_count": 26,
     "metadata": {},
     "output_type": "execute_result"
    },
    {
     "name": "stderr",
     "output_type": "stream",
     "text": [
      "  0%|          | 0/5 [00:00<?, ?it/s]"
     ]
    },
    {
     "name": "stdout",
     "output_type": "stream",
     "text": [
      "Init Index... self.nlist=5000 self.niter=0 self.max_pts=256 self.seed=1 self.d=128\n",
      "\t---> Index Train Time = 2.3182969889603555 ms | Add Time = 88.23422796558589 ms | Assign Time (should be free if C++ implementation )= 25.968700007069856<---\n"
     ]
    },
    {
     "name": "stderr",
     "output_type": "stream",
     "text": [
      "WARNING clustering 5000 points to 5000 centroids: please provide at least 195000 training points\n"
     ]
    },
    {
     "data": {
      "text/plain": [
       "(0.0023182969889603555, 0.08823422796558589)"
      ]
     },
     "execution_count": 26,
     "metadata": {},
     "output_type": "execute_result"
    },
    {
     "name": "stderr",
     "output_type": "stream",
     "text": []
    },
    {
     "name": "stdout",
     "output_type": "stream",
     "text": [
      "Init Index... self.nlist=5000 self.niter=0 self.max_pts=256 self.seed=1 self.d=128\n",
      "\t---> Index Train Time = 530.8110989863053 ms | Add Time = 22231.028278998565 ms | Assign Time (should be free if C++ implementation )= 18548.96543599898<---\n"
     ]
    },
    {
     "data": {
      "text/plain": [
       "(0.5308110989863053, 22.231028278998565)"
      ]
     },
     "execution_count": 26,
     "metadata": {},
     "output_type": "execute_result"
    },
    {
     "name": "stderr",
     "output_type": "stream",
     "text": []
    },
    {
     "name": "stdout",
     "output_type": "stream",
     "text": [
      "Init Index... self.nlist=5000 self.niter=0 self.max_pts=256 self.seed=1 self.d=128\n",
      "\t---> Index Train Time = 1854.7846790170297 ms | Add Time = 38500.931078975555 ms | Assign Time (should be free if C++ implementation )= 35350.84098594962<---\n"
     ]
    },
    {
     "data": {
      "text/plain": [
       "(1.8547846790170297, 38.500931078975555)"
      ]
     },
     "execution_count": 26,
     "metadata": {},
     "output_type": "execute_result"
    },
    {
     "name": "stderr",
     "output_type": "stream",
     "text": [
      "100%|██████████| 3/3 [02:02<00:00, 40.99s/it]\n",
      " 20%|██        | 1/5 [02:02<08:11, 122.98s/it]"
     ]
    },
    {
     "name": "stdout",
     "output_type": "stream",
     "text": [
      "Init Index... self.nlist=5000 self.niter=0 self.max_pts=256 self.seed=1 self.d=128\n",
      "\t---> Index Train Time = 2.1009459742344916 ms | Add Time = 91.81466395966709 ms | Assign Time (should be free if C++ implementation )= 28.17137201782316<---\n"
     ]
    },
    {
     "name": "stderr",
     "output_type": "stream",
     "text": [
      "WARNING clustering 5000 points to 5000 centroids: please provide at least 195000 training points\n"
     ]
    },
    {
     "data": {
      "text/plain": [
       "(0.0021009459742344916, 0.09181466395966709)"
      ]
     },
     "execution_count": 26,
     "metadata": {},
     "output_type": "execute_result"
    },
    {
     "name": "stderr",
     "output_type": "stream",
     "text": []
    },
    {
     "name": "stdout",
     "output_type": "stream",
     "text": [
      "Init Index... self.nlist=5000 self.niter=0 self.max_pts=256 self.seed=1 self.d=128\n",
      "\t---> Index Train Time = 1280.5635040276684 ms | Add Time = 18481.963545025792 ms | Assign Time (should be free if C++ implementation )= 22318.00582597498<---\n"
     ]
    },
    {
     "data": {
      "text/plain": [
       "(1.2805635040276684, 18.481963545025792)"
      ]
     },
     "execution_count": 26,
     "metadata": {},
     "output_type": "execute_result"
    },
    {
     "name": "stderr",
     "output_type": "stream",
     "text": []
    },
    {
     "name": "stdout",
     "output_type": "stream",
     "text": [
      "Init Index... self.nlist=5000 self.niter=0 self.max_pts=256 self.seed=1 self.d=128\n",
      "\t---> Index Train Time = 1685.6821019900963 ms | Add Time = 37472.28733304655 ms | Assign Time (should be free if C++ implementation )= 35513.92298704013<---\n"
     ]
    },
    {
     "data": {
      "text/plain": [
       "(1.6856821019900963, 37.47228733304655)"
      ]
     },
     "execution_count": 26,
     "metadata": {},
     "output_type": "execute_result"
    },
    {
     "name": "stderr",
     "output_type": "stream",
     "text": [
      "100%|██████████| 3/3 [02:00<00:00, 40.00s/it]\n",
      " 40%|████      | 2/5 [04:02<06:03, 121.23s/it]"
     ]
    },
    {
     "name": "stdout",
     "output_type": "stream",
     "text": [
      "Init Index... self.nlist=5000 self.niter=0 self.max_pts=256 self.seed=1 self.d=128\n",
      "\t---> Index Train Time = 1.924478041473776 ms | Add Time = 87.42575999349356 ms | Assign Time (should be free if C++ implementation )= 25.723908038344234<---\n"
     ]
    },
    {
     "name": "stderr",
     "output_type": "stream",
     "text": [
      "WARNING clustering 5000 points to 5000 centroids: please provide at least 195000 training points\n"
     ]
    },
    {
     "data": {
      "text/plain": [
       "(0.001924478041473776, 0.08742575999349356)"
      ]
     },
     "execution_count": 26,
     "metadata": {},
     "output_type": "execute_result"
    },
    {
     "name": "stderr",
     "output_type": "stream",
     "text": []
    },
    {
     "name": "stdout",
     "output_type": "stream",
     "text": [
      "Init Index... self.nlist=5000 self.niter=0 self.max_pts=256 self.seed=1 self.d=128\n",
      "\t---> Index Train Time = 516.4691040408798 ms | Add Time = 20329.216108017135 ms | Assign Time (should be free if C++ implementation )= 17750.930598005652<---\n"
     ]
    },
    {
     "data": {
      "text/plain": [
       "(0.5164691040408798, 20.329216108017135)"
      ]
     },
     "execution_count": 26,
     "metadata": {},
     "output_type": "execute_result"
    },
    {
     "name": "stderr",
     "output_type": "stream",
     "text": []
    },
    {
     "name": "stdout",
     "output_type": "stream",
     "text": [
      "Init Index... self.nlist=5000 self.niter=0 self.max_pts=256 self.seed=1 self.d=128\n",
      "\t---> Index Train Time = 1274.3867139797658 ms | Add Time = 40363.626857986674 ms | Assign Time (should be free if C++ implementation )= 35341.14380599931<---\n"
     ]
    },
    {
     "data": {
      "text/plain": [
       "(1.2743867139797658, 40.363626857986674)"
      ]
     },
     "execution_count": 26,
     "metadata": {},
     "output_type": "execute_result"
    },
    {
     "name": "stderr",
     "output_type": "stream",
     "text": [
      "100%|██████████| 3/3 [01:59<00:00, 39.69s/it]\n",
      " 60%|██████    | 3/5 [06:02<04:00, 120.25s/it]"
     ]
    },
    {
     "name": "stdout",
     "output_type": "stream",
     "text": [
      "Init Index... self.nlist=5000 self.niter=0 self.max_pts=256 self.seed=1 self.d=128\n",
      "\t---> Index Train Time = 1.877497008536011 ms | Add Time = 99.39729399047792 ms | Assign Time (should be free if C++ implementation )= 29.997968988027424<---\n"
     ]
    },
    {
     "name": "stderr",
     "output_type": "stream",
     "text": [
      "WARNING clustering 5000 points to 5000 centroids: please provide at least 195000 training points\n"
     ]
    },
    {
     "data": {
      "text/plain": [
       "(0.001877497008536011, 0.09939729399047792)"
      ]
     },
     "execution_count": 26,
     "metadata": {},
     "output_type": "execute_result"
    },
    {
     "name": "stderr",
     "output_type": "stream",
     "text": []
    },
    {
     "name": "stdout",
     "output_type": "stream",
     "text": [
      "Init Index... self.nlist=5000 self.niter=0 self.max_pts=256 self.seed=1 self.d=128\n",
      "\t---> Index Train Time = 431.780737999361 ms | Add Time = 20760.56627597427 ms | Assign Time (should be free if C++ implementation )= 19721.4913519565<---\n"
     ]
    },
    {
     "data": {
      "text/plain": [
       "(0.431780737999361, 20.76056627597427)"
      ]
     },
     "execution_count": 26,
     "metadata": {},
     "output_type": "execute_result"
    },
    {
     "name": "stderr",
     "output_type": "stream",
     "text": []
    },
    {
     "name": "stdout",
     "output_type": "stream",
     "text": [
      "Init Index... self.nlist=5000 self.niter=0 self.max_pts=256 self.seed=1 self.d=128\n",
      "\t---> Index Train Time = 1189.5754570141435 ms | Add Time = 41408.98033796111 ms | Assign Time (should be free if C++ implementation )= 34833.77315697726<---\n"
     ]
    },
    {
     "data": {
      "text/plain": [
       "(1.1895754570141435, 41.40898033796111)"
      ]
     },
     "execution_count": 26,
     "metadata": {},
     "output_type": "execute_result"
    },
    {
     "name": "stderr",
     "output_type": "stream",
     "text": [
      "100%|██████████| 3/3 [02:01<00:00, 40.47s/it]\n",
      " 80%|████████  | 4/5 [08:03<02:00, 120.71s/it]WARNING clustering 5000 points to 5000 centroids: please provide at least 195000 training points\n"
     ]
    },
    {
     "name": "stdout",
     "output_type": "stream",
     "text": [
      "Init Index... self.nlist=5000 self.niter=0 self.max_pts=256 self.seed=1 self.d=128\n",
      "\t---> Index Train Time = 1.08206900767982 ms | Add Time = 91.65244997711852 ms | Assign Time (should be free if C++ implementation )= 26.343901990912855<---\n"
     ]
    },
    {
     "data": {
      "text/plain": [
       "(0.00108206900767982, 0.09165244997711852)"
      ]
     },
     "execution_count": 26,
     "metadata": {},
     "output_type": "execute_result"
    },
    {
     "name": "stderr",
     "output_type": "stream",
     "text": []
    },
    {
     "name": "stdout",
     "output_type": "stream",
     "text": [
      "Init Index... self.nlist=5000 self.niter=0 self.max_pts=256 self.seed=1 self.d=128\n",
      "\t---> Index Train Time = 387.580220005475 ms | Add Time = 20787.58837899659 ms | Assign Time (should be free if C++ implementation )= 19995.54973602062<---\n"
     ]
    },
    {
     "data": {
      "text/plain": [
       "(0.387580220005475, 20.78758837899659)"
      ]
     },
     "execution_count": 26,
     "metadata": {},
     "output_type": "execute_result"
    },
    {
     "name": "stderr",
     "output_type": "stream",
     "text": []
    },
    {
     "name": "stdout",
     "output_type": "stream",
     "text": [
      "Init Index... self.nlist=5000 self.niter=0 self.max_pts=256 self.seed=1 self.d=128\n",
      "\t---> Index Train Time = 767.1103599714115 ms | Add Time = 48093.96263194503 ms | Assign Time (should be free if C++ implementation )= 36075.97285200609<---\n"
     ]
    },
    {
     "data": {
      "text/plain": [
       "(0.7671103599714115, 48.09396263194503)"
      ]
     },
     "execution_count": 26,
     "metadata": {},
     "output_type": "execute_result"
    },
    {
     "name": "stderr",
     "output_type": "stream",
     "text": [
      "100%|██████████| 3/3 [02:10<00:00, 43.66s/it]\n",
      "100%|██████████| 5/5 [10:14<00:00, 122.90s/it]\n"
     ]
    },
    {
     "name": "stdout",
     "output_type": "stream",
     "text": [
      "Init Index... self.nlist=10000 self.niter=0 self.max_pts=256 self.seed=1 self.d=128\n",
      "\t---> Index Train Time = 1230.0557410344481 ms | Add Time = 110787.50284702983 ms | Assign Time (should be free if C++ implementation )= 106712.29470596882<---\n"
     ]
    },
    {
     "data": {
      "text/plain": [
       "(1.2300557410344481, 110.78750284702983)"
      ]
     },
     "execution_count": 26,
     "metadata": {},
     "output_type": "execute_result"
    },
    {
     "name": "stderr",
     "output_type": "stream",
     "text": [
      "  0%|          | 0/5 [00:00<?, ?it/s]"
     ]
    },
    {
     "name": "stdout",
     "output_type": "stream",
     "text": [
      "Init Index... self.nlist=10000 self.niter=0 self.max_pts=256 self.seed=1 self.d=128\n"
     ]
    },
    {
     "name": "stderr",
     "output_type": "stream",
     "text": [
      "WARNING clustering 10000 points to 10000 centroids: please provide at least 390000 training points\n"
     ]
    },
    {
     "name": "stdout",
     "output_type": "stream",
     "text": [
      "\t---> Index Train Time = 3.2721470342949033 ms | Add Time = 238.9886899618432 ms | Assign Time (should be free if C++ implementation )= 115.42197002563626<---\n"
     ]
    },
    {
     "data": {
      "text/plain": [
       "(0.0032721470342949033, 0.2389886899618432)"
      ]
     },
     "execution_count": 26,
     "metadata": {},
     "output_type": "execute_result"
    },
    {
     "name": "stderr",
     "output_type": "stream",
     "text": []
    },
    {
     "name": "stdout",
     "output_type": "stream",
     "text": [
      "Init Index... self.nlist=10000 self.niter=0 self.max_pts=256 self.seed=1 self.d=128\n",
      "\t---> Index Train Time = 512.3536320170388 ms | Add Time = 37405.2217269782 ms | Assign Time (should be free if C++ implementation )= 35931.39575701207<---\n"
     ]
    },
    {
     "data": {
      "text/plain": [
       "(0.5123536320170388, 37.4052217269782)"
      ]
     },
     "execution_count": 26,
     "metadata": {},
     "output_type": "execute_result"
    },
    {
     "name": "stderr",
     "output_type": "stream",
     "text": []
    },
    {
     "name": "stdout",
     "output_type": "stream",
     "text": [
      "Init Index... self.nlist=10000 self.niter=0 self.max_pts=256 self.seed=1 self.d=128\n",
      "\t---> Index Train Time = 1684.4385029980913 ms | Add Time = 82557.15248303022 ms | Assign Time (should be free if C++ implementation )= 72184.72333496902<---\n"
     ]
    },
    {
     "data": {
      "text/plain": [
       "(1.6844385029980913, 82.55715248303022)"
      ]
     },
     "execution_count": 26,
     "metadata": {},
     "output_type": "execute_result"
    },
    {
     "name": "stderr",
     "output_type": "stream",
     "text": [
      "100%|██████████| 3/3 [03:54<00:00, 78.04s/it]\n",
      " 20%|██        | 1/5 [03:54<15:36, 234.13s/it]"
     ]
    },
    {
     "name": "stdout",
     "output_type": "stream",
     "text": [
      "Init Index... self.nlist=10000 self.niter=0 self.max_pts=256 self.seed=1 self.d=128\n"
     ]
    },
    {
     "name": "stderr",
     "output_type": "stream",
     "text": [
      "WARNING clustering 10000 points to 10000 centroids: please provide at least 390000 training points\n"
     ]
    },
    {
     "name": "stdout",
     "output_type": "stream",
     "text": [
      "\t---> Index Train Time = 2.4874169612303376 ms | Add Time = 251.0184819693677 ms | Assign Time (should be free if C++ implementation )= 129.3428320204839<---\n"
     ]
    },
    {
     "data": {
      "text/plain": [
       "(0.0024874169612303376, 0.2510184819693677)"
      ]
     },
     "execution_count": 26,
     "metadata": {},
     "output_type": "execute_result"
    },
    {
     "name": "stderr",
     "output_type": "stream",
     "text": []
    },
    {
     "name": "stdout",
     "output_type": "stream",
     "text": [
      "Init Index... self.nlist=10000 self.niter=0 self.max_pts=256 self.seed=1 self.d=128\n",
      "\t---> Index Train Time = 542.2720150090754 ms | Add Time = 41512.33112596674 ms | Assign Time (should be free if C++ implementation )= 36244.58900798345<---\n"
     ]
    },
    {
     "data": {
      "text/plain": [
       "(0.5422720150090754, 41.51233112596674)"
      ]
     },
     "execution_count": 26,
     "metadata": {},
     "output_type": "execute_result"
    },
    {
     "name": "stderr",
     "output_type": "stream",
     "text": []
    },
    {
     "name": "stdout",
     "output_type": "stream",
     "text": [
      "Init Index... self.nlist=10000 self.niter=0 self.max_pts=256 self.seed=1 self.d=128\n",
      "\t---> Index Train Time = 2005.5355920339935 ms | Add Time = 81774.44217301672 ms | Assign Time (should be free if C++ implementation )= 79986.63097800454<---\n"
     ]
    },
    {
     "data": {
      "text/plain": [
       "(2.0055355920339935, 81.77444217301672)"
      ]
     },
     "execution_count": 26,
     "metadata": {},
     "output_type": "execute_result"
    },
    {
     "name": "stderr",
     "output_type": "stream",
     "text": [
      "100%|██████████| 3/3 [04:06<00:00, 82.12s/it] \n",
      " 40%|████      | 2/5 [08:00<12:03, 241.33s/it]"
     ]
    },
    {
     "name": "stdout",
     "output_type": "stream",
     "text": [
      "Init Index... self.nlist=10000 self.niter=0 self.max_pts=256 self.seed=1 self.d=128\n"
     ]
    },
    {
     "name": "stderr",
     "output_type": "stream",
     "text": [
      "WARNING clustering 10000 points to 10000 centroids: please provide at least 390000 training points\n"
     ]
    },
    {
     "name": "stdout",
     "output_type": "stream",
     "text": [
      "\t---> Index Train Time = 2.8123469674028456 ms | Add Time = 255.2259939839132 ms | Assign Time (should be free if C++ implementation )= 126.73354800790548<---\n"
     ]
    },
    {
     "data": {
      "text/plain": [
       "(0.0028123469674028456, 0.2552259939839132)"
      ]
     },
     "execution_count": 26,
     "metadata": {},
     "output_type": "execute_result"
    },
    {
     "name": "stderr",
     "output_type": "stream",
     "text": []
    },
    {
     "name": "stdout",
     "output_type": "stream",
     "text": [
      "Init Index... self.nlist=10000 self.niter=0 self.max_pts=256 self.seed=1 self.d=128\n",
      "\t---> Index Train Time = 535.9616169589572 ms | Add Time = 36917.459227959625 ms | Assign Time (should be free if C++ implementation )= 35127.085388987325<---\n"
     ]
    },
    {
     "data": {
      "text/plain": [
       "(0.5359616169589572, 36.917459227959625)"
      ]
     },
     "execution_count": 26,
     "metadata": {},
     "output_type": "execute_result"
    },
    {
     "name": "stderr",
     "output_type": "stream",
     "text": []
    },
    {
     "name": "stdout",
     "output_type": "stream",
     "text": [
      "Init Index... self.nlist=10000 self.niter=0 self.max_pts=256 self.seed=1 self.d=128\n",
      "\t---> Index Train Time = 1500.0723399571143 ms | Add Time = 82610.56090297643 ms | Assign Time (should be free if C++ implementation )= 72887.65958003933<---\n"
     ]
    },
    {
     "data": {
      "text/plain": [
       "(1.5000723399571143, 82.61056090297643)"
      ]
     },
     "execution_count": 26,
     "metadata": {},
     "output_type": "execute_result"
    },
    {
     "name": "stderr",
     "output_type": "stream",
     "text": [
      "100%|██████████| 3/3 [03:53<00:00, 77.86s/it]\n",
      " 60%|██████    | 3/5 [11:54<07:55, 237.79s/it]"
     ]
    },
    {
     "name": "stdout",
     "output_type": "stream",
     "text": [
      "Init Index... self.nlist=10000 self.niter=0 self.max_pts=256 self.seed=1 self.d=128\n"
     ]
    },
    {
     "name": "stderr",
     "output_type": "stream",
     "text": [
      "WARNING clustering 10000 points to 10000 centroids: please provide at least 390000 training points\n"
     ]
    },
    {
     "name": "stdout",
     "output_type": "stream",
     "text": [
      "\t---> Index Train Time = 3.450435004197061 ms | Add Time = 242.55262000951916 ms | Assign Time (should be free if C++ implementation )= 117.27168399374932<---\n"
     ]
    },
    {
     "data": {
      "text/plain": [
       "(0.003450435004197061, 0.24255262000951916)"
      ]
     },
     "execution_count": 26,
     "metadata": {},
     "output_type": "execute_result"
    },
    {
     "name": "stderr",
     "output_type": "stream",
     "text": []
    },
    {
     "name": "stdout",
     "output_type": "stream",
     "text": [
      "Init Index... self.nlist=10000 self.niter=0 self.max_pts=256 self.seed=1 self.d=128\n",
      "\t---> Index Train Time = 831.9940089713782 ms | Add Time = 40227.43054898456 ms | Assign Time (should be free if C++ implementation )= 38750.923999992665<---\n"
     ]
    },
    {
     "data": {
      "text/plain": [
       "(0.8319940089713782, 40.22743054898456)"
      ]
     },
     "execution_count": 26,
     "metadata": {},
     "output_type": "execute_result"
    },
    {
     "name": "stderr",
     "output_type": "stream",
     "text": []
    },
    {
     "name": "stdout",
     "output_type": "stream",
     "text": [
      "Init Index... self.nlist=10000 self.niter=0 self.max_pts=256 self.seed=1 self.d=128\n",
      "\t---> Index Train Time = 1487.7891350188293 ms | Add Time = 74044.41880702507 ms | Assign Time (should be free if C++ implementation )= 77657.11786900647<---\n"
     ]
    },
    {
     "data": {
      "text/plain": [
       "(1.4877891350188293, 74.04441880702507)"
      ]
     },
     "execution_count": 26,
     "metadata": {},
     "output_type": "execute_result"
    },
    {
     "name": "stderr",
     "output_type": "stream",
     "text": [
      "100%|██████████| 3/3 [03:59<00:00, 79.72s/it]\n",
      " 80%|████████  | 4/5 [15:53<03:58, 238.33s/it]"
     ]
    },
    {
     "name": "stdout",
     "output_type": "stream",
     "text": [
      "Init Index... self.nlist=10000 self.niter=0 self.max_pts=256 self.seed=1 self.d=128\n"
     ]
    },
    {
     "name": "stderr",
     "output_type": "stream",
     "text": [
      "WARNING clustering 10000 points to 10000 centroids: please provide at least 390000 training points\n"
     ]
    },
    {
     "name": "stdout",
     "output_type": "stream",
     "text": [
      "\t---> Index Train Time = 2.8316070092841983 ms | Add Time = 233.2029899698682 ms | Assign Time (should be free if C++ implementation )= 124.40593499923125<---\n"
     ]
    },
    {
     "data": {
      "text/plain": [
       "(0.0028316070092841983, 0.2332029899698682)"
      ]
     },
     "execution_count": 26,
     "metadata": {},
     "output_type": "execute_result"
    },
    {
     "name": "stderr",
     "output_type": "stream",
     "text": []
    },
    {
     "name": "stdout",
     "output_type": "stream",
     "text": [
      "Init Index... self.nlist=10000 self.niter=0 self.max_pts=256 self.seed=1 self.d=128\n",
      "\t---> Index Train Time = 1755.2750770119019 ms | Add Time = 39155.14930599602 ms | Assign Time (should be free if C++ implementation )= 39192.43598898174<---\n"
     ]
    },
    {
     "data": {
      "text/plain": [
       "(1.7552750770119019, 39.15514930599602)"
      ]
     },
     "execution_count": 26,
     "metadata": {},
     "output_type": "execute_result"
    },
    {
     "name": "stderr",
     "output_type": "stream",
     "text": []
    },
    {
     "name": "stdout",
     "output_type": "stream",
     "text": [
      "Init Index... self.nlist=10000 self.niter=0 self.max_pts=256 self.seed=1 self.d=128\n",
      "\t---> Index Train Time = 1929.9797300482169 ms | Add Time = 81285.90407496085 ms | Assign Time (should be free if C++ implementation )= 79273.89789902372<---\n"
     ]
    },
    {
     "data": {
      "text/plain": [
       "(1.9299797300482169, 81.28590407496085)"
      ]
     },
     "execution_count": 26,
     "metadata": {},
     "output_type": "execute_result"
    },
    {
     "name": "stderr",
     "output_type": "stream",
     "text": [
      "100%|██████████| 3/3 [04:08<00:00, 82.68s/it] \n",
      "100%|██████████| 5/5 [20:01<00:00, 240.26s/it]\n"
     ]
    },
    {
     "name": "stdout",
     "output_type": "stream",
     "text": [
      "Init Index... self.nlist=15000 self.niter=0 self.max_pts=256 self.seed=1 self.d=128\n",
      "\t---> Index Train Time = 1732.3932749568485 ms | Add Time = 167074.41780297086 ms | Assign Time (should be free if C++ implementation )= 173388.98665702436<---\n"
     ]
    },
    {
     "data": {
      "text/plain": [
       "(1.7323932749568485, 167.07441780297086)"
      ]
     },
     "execution_count": 26,
     "metadata": {},
     "output_type": "execute_result"
    },
    {
     "name": "stderr",
     "output_type": "stream",
     "text": [
      "  0%|          | 0/5 [00:00<?, ?it/s]"
     ]
    },
    {
     "name": "stdout",
     "output_type": "stream",
     "text": [
      "Init Index... self.nlist=15000 self.niter=0 self.max_pts=256 self.seed=1 self.d=128\n"
     ]
    },
    {
     "name": "stderr",
     "output_type": "stream",
     "text": [
      "WARNING clustering 15000 points to 15000 centroids: please provide at least 585000 training points\n"
     ]
    },
    {
     "name": "stdout",
     "output_type": "stream",
     "text": [
      "\t---> Index Train Time = 9.27425897680223 ms | Add Time = 471.0588739835657 ms | Assign Time (should be free if C++ implementation )= 266.0745909670368<---\n"
     ]
    },
    {
     "data": {
      "text/plain": [
       "(0.00927425897680223, 0.4710588739835657)"
      ]
     },
     "execution_count": 26,
     "metadata": {},
     "output_type": "execute_result"
    },
    {
     "name": "stderr",
     "output_type": "stream",
     "text": []
    },
    {
     "name": "stdout",
     "output_type": "stream",
     "text": [
      "Init Index... self.nlist=15000 self.niter=0 self.max_pts=256 self.seed=1 self.d=128\n",
      "\t---> Index Train Time = 291.6829999885522 ms | Add Time = 54536.413783964235 ms | Assign Time (should be free if C++ implementation )= 53078.31361400895<---\n"
     ]
    },
    {
     "data": {
      "text/plain": [
       "(0.2916829999885522, 54.536413783964235)"
      ]
     },
     "execution_count": 26,
     "metadata": {},
     "output_type": "execute_result"
    },
    {
     "name": "stderr",
     "output_type": "stream",
     "text": []
    },
    {
     "name": "stdout",
     "output_type": "stream",
     "text": [
      "Init Index... self.nlist=15000 self.niter=0 self.max_pts=256 self.seed=1 self.d=128\n",
      "\t---> Index Train Time = 2931.406142015476 ms | Add Time = 109930.52638799418 ms | Assign Time (should be free if C++ implementation )= 104111.22973903548<---\n"
     ]
    },
    {
     "data": {
      "text/plain": [
       "(2.931406142015476, 109.93052638799418)"
      ]
     },
     "execution_count": 26,
     "metadata": {},
     "output_type": "execute_result"
    },
    {
     "name": "stderr",
     "output_type": "stream",
     "text": [
      "100%|██████████| 3/3 [05:30<00:00, 110.30s/it]\n",
      " 20%|██        | 1/5 [05:30<22:03, 330.90s/it]"
     ]
    },
    {
     "name": "stdout",
     "output_type": "stream",
     "text": [
      "Init Index... self.nlist=15000 self.niter=0 self.max_pts=256 self.seed=1 self.d=128\n"
     ]
    },
    {
     "name": "stderr",
     "output_type": "stream",
     "text": [
      "WARNING clustering 15000 points to 15000 centroids: please provide at least 585000 training points\n"
     ]
    },
    {
     "name": "stdout",
     "output_type": "stream",
     "text": [
      "\t---> Index Train Time = 3.3421359839849174 ms | Add Time = 453.9125359733589 ms | Assign Time (should be free if C++ implementation )= 251.97559298248962<---\n"
     ]
    },
    {
     "data": {
      "text/plain": [
       "(0.0033421359839849174, 0.4539125359733589)"
      ]
     },
     "execution_count": 26,
     "metadata": {},
     "output_type": "execute_result"
    },
    {
     "name": "stderr",
     "output_type": "stream",
     "text": []
    },
    {
     "name": "stdout",
     "output_type": "stream",
     "text": [
      "Init Index... self.nlist=15000 self.niter=0 self.max_pts=256 self.seed=1 self.d=128\n",
      "\t---> Index Train Time = 277.19287300715223 ms | Add Time = 51661.19857894955 ms | Assign Time (should be free if C++ implementation )= 51190.668591996655<---\n"
     ]
    },
    {
     "data": {
      "text/plain": [
       "(0.27719287300715223, 51.66119857894955)"
      ]
     },
     "execution_count": 26,
     "metadata": {},
     "output_type": "execute_result"
    },
    {
     "name": "stderr",
     "output_type": "stream",
     "text": []
    },
    {
     "name": "stdout",
     "output_type": "stream",
     "text": [
      "Init Index... self.nlist=15000 self.niter=0 self.max_pts=256 self.seed=1 self.d=128\n",
      "\t---> Index Train Time = 2741.4844590239227 ms | Add Time = 118000.91289897682 ms | Assign Time (should be free if C++ implementation )= 110093.55308295926<---\n"
     ]
    },
    {
     "data": {
      "text/plain": [
       "(2.7414844590239227, 118.00091289897682)"
      ]
     },
     "execution_count": 26,
     "metadata": {},
     "output_type": "execute_result"
    },
    {
     "name": "stderr",
     "output_type": "stream",
     "text": [
      "100%|██████████| 3/3 [05:39<00:00, 113.08s/it]\n",
      " 40%|████      | 2/5 [11:10<16:47, 335.80s/it]"
     ]
    },
    {
     "name": "stdout",
     "output_type": "stream",
     "text": [
      "Init Index... self.nlist=15000 self.niter=0 self.max_pts=256 self.seed=1 self.d=128\n"
     ]
    },
    {
     "name": "stderr",
     "output_type": "stream",
     "text": [
      "WARNING clustering 15000 points to 15000 centroids: please provide at least 585000 training points\n"
     ]
    },
    {
     "name": "stdout",
     "output_type": "stream",
     "text": [
      "\t---> Index Train Time = 4.096683987881988 ms | Add Time = 503.7178189959377 ms | Assign Time (should be free if C++ implementation )= 260.63675701152533<---\n"
     ]
    },
    {
     "data": {
      "text/plain": [
       "(0.004096683987881988, 0.5037178189959377)"
      ]
     },
     "execution_count": 26,
     "metadata": {},
     "output_type": "execute_result"
    },
    {
     "name": "stderr",
     "output_type": "stream",
     "text": []
    },
    {
     "name": "stdout",
     "output_type": "stream",
     "text": [
      "Init Index... self.nlist=15000 self.niter=0 self.max_pts=256 self.seed=1 self.d=128\n",
      "\t---> Index Train Time = 294.15939399041235 ms | Add Time = 57195.85945998551 ms | Assign Time (should be free if C++ implementation )= 58180.64720201073<---\n"
     ]
    },
    {
     "data": {
      "text/plain": [
       "(0.29415939399041235, 57.19585945998551)"
      ]
     },
     "execution_count": 26,
     "metadata": {},
     "output_type": "execute_result"
    },
    {
     "name": "stderr",
     "output_type": "stream",
     "text": []
    },
    {
     "name": "stdout",
     "output_type": "stream",
     "text": [
      "Init Index... self.nlist=15000 self.niter=0 self.max_pts=256 self.seed=1 self.d=128\n",
      "\t---> Index Train Time = 2714.666420011781 ms | Add Time = 120294.86570204608 ms | Assign Time (should be free if C++ implementation )= 120490.69260200486<---\n"
     ]
    },
    {
     "data": {
      "text/plain": [
       "(2.714666420011781, 120.29486570204608)"
      ]
     },
     "execution_count": 26,
     "metadata": {},
     "output_type": "execute_result"
    },
    {
     "name": "stderr",
     "output_type": "stream",
     "text": [
      "100%|██████████| 3/3 [06:07<00:00, 122.54s/it]\n",
      " 60%|██████    | 3/5 [17:17<11:40, 350.33s/it]"
     ]
    },
    {
     "name": "stdout",
     "output_type": "stream",
     "text": [
      "Init Index... self.nlist=15000 self.niter=0 self.max_pts=256 self.seed=1 self.d=128\n"
     ]
    },
    {
     "name": "stderr",
     "output_type": "stream",
     "text": [
      "WARNING clustering 15000 points to 15000 centroids: please provide at least 585000 training points\n"
     ]
    },
    {
     "name": "stdout",
     "output_type": "stream",
     "text": [
      "\t---> Index Train Time = 3.1776450341567397 ms | Add Time = 447.80089595587924 ms | Assign Time (should be free if C++ implementation )= 272.5758720189333<---\n"
     ]
    },
    {
     "data": {
      "text/plain": [
       "(0.0031776450341567397, 0.44780089595587924)"
      ]
     },
     "execution_count": 26,
     "metadata": {},
     "output_type": "execute_result"
    },
    {
     "name": "stderr",
     "output_type": "stream",
     "text": []
    },
    {
     "name": "stdout",
     "output_type": "stream",
     "text": [
      "Init Index... self.nlist=15000 self.niter=0 self.max_pts=256 self.seed=1 self.d=128\n",
      "\t---> Index Train Time = 475.4329530405812 ms | Add Time = 59772.876795963384 ms | Assign Time (should be free if C++ implementation )= 51838.86080799857<---\n"
     ]
    },
    {
     "data": {
      "text/plain": [
       "(0.4754329530405812, 59.772876795963384)"
      ]
     },
     "execution_count": 26,
     "metadata": {},
     "output_type": "execute_result"
    },
    {
     "name": "stderr",
     "output_type": "stream",
     "text": []
    },
    {
     "name": "stdout",
     "output_type": "stream",
     "text": [
      "Init Index... self.nlist=15000 self.niter=0 self.max_pts=256 self.seed=1 self.d=128\n",
      "\t---> Index Train Time = 3019.3176770117134 ms | Add Time = 105025.13960801298 ms | Assign Time (should be free if C++ implementation )= 105579.36341903405<---\n"
     ]
    },
    {
     "data": {
      "text/plain": [
       "(3.0193176770117134, 105.02513960801298)"
      ]
     },
     "execution_count": 26,
     "metadata": {},
     "output_type": "execute_result"
    },
    {
     "name": "stderr",
     "output_type": "stream",
     "text": [
      "100%|██████████| 3/3 [05:31<00:00, 110.48s/it]\n",
      " 80%|████████  | 4/5 [22:49<05:42, 342.87s/it]"
     ]
    },
    {
     "name": "stdout",
     "output_type": "stream",
     "text": [
      "Init Index... self.nlist=15000 self.niter=0 self.max_pts=256 self.seed=1 self.d=128\n"
     ]
    },
    {
     "name": "stderr",
     "output_type": "stream",
     "text": [
      "WARNING clustering 15000 points to 15000 centroids: please provide at least 585000 training points\n"
     ]
    },
    {
     "name": "stdout",
     "output_type": "stream",
     "text": [
      "\t---> Index Train Time = 3.5405560047365725 ms | Add Time = 420.71301996475086 ms | Assign Time (should be free if C++ implementation )= 248.11696400865912<---\n"
     ]
    },
    {
     "data": {
      "text/plain": [
       "(0.0035405560047365725, 0.42071301996475086)"
      ]
     },
     "execution_count": 26,
     "metadata": {},
     "output_type": "execute_result"
    },
    {
     "name": "stderr",
     "output_type": "stream",
     "text": []
    },
    {
     "name": "stdout",
     "output_type": "stream",
     "text": [
      "Init Index... self.nlist=15000 self.niter=0 self.max_pts=256 self.seed=1 self.d=128\n",
      "\t---> Index Train Time = 352.5942499982193 ms | Add Time = 51549.40748400986 ms | Assign Time (should be free if C++ implementation )= 50224.375067977235<---\n"
     ]
    },
    {
     "data": {
      "text/plain": [
       "(0.3525942499982193, 51.54940748400986)"
      ]
     },
     "execution_count": 26,
     "metadata": {},
     "output_type": "execute_result"
    },
    {
     "name": "stderr",
     "output_type": "stream",
     "text": []
    },
    {
     "name": "stdout",
     "output_type": "stream",
     "text": [
      "Init Index... self.nlist=15000 self.niter=0 self.max_pts=256 self.seed=1 self.d=128\n",
      "\t---> Index Train Time = 1950.4038920276798 ms | Add Time = 103119.76526398212 ms | Assign Time (should be free if C++ implementation )= 99540.04226496909<---\n"
     ]
    },
    {
     "data": {
      "text/plain": [
       "(1.9504038920276798, 103.11976526398212)"
      ]
     },
     "execution_count": 26,
     "metadata": {},
     "output_type": "execute_result"
    },
    {
     "name": "stderr",
     "output_type": "stream",
     "text": [
      "100%|██████████| 3/3 [05:12<00:00, 104.12s/it]\n",
      "100%|██████████| 5/5 [28:01<00:00, 336.31s/it]\n"
     ]
    }
   ],
   "source": [
    "import numpy as np\n",
    "import time\n",
    "from tqdm import tqdm\n",
    "\n",
    "# Assuming the necessary imports and definitions for CrackIVF, metric, xb, xq, etc.\n",
    "\n",
    "def get_N_visited(index, c_visited_ids):\n",
    "    N_visited = 0\n",
    "    D = index.d\n",
    "    # in case it's multiple\n",
    "    for cid in c_visited_ids:\n",
    "        N_visited += index.invlists.list_size(int(cid))\n",
    "    return N_visited, D\n",
    "\n",
    "predicted_y_ms = []  # To store X1 and X2 for each measurement\n",
    "target_variable_y_ms = []  # To store measured latency (T)\n",
    "\n",
    "np.random.seed(42)\n",
    "\n",
    "# Iterate over different values of Nc (number of centroids)\n",
    "# NOTE: Vary Nc\n",
    "for Nc in [100, 1000, 5000, 10000, 15000]:\n",
    "    # Create new index as you vary Nc\n",
    "    real_crack_index = CrackIVF(\n",
    "        nlist=Nc, \n",
    "        niter=0,\n",
    "        max_pts=256,  # faiss default\n",
    "        seed=1,\n",
    "        metric=metric\n",
    "    )\n",
    "    real_crack_index.verbose=False\n",
    "    real_crack_index.add(xb)  # Add 1M points to the index\n",
    "    real_crack_index.refine_nprobe = 1  # Control the number of invlists accessed by ncracks\n",
    "\n",
    "    # For varying N_crack_locs (number of crack locations)\n",
    "    num_points = 5  # Desired number of data points\n",
    "    step = max(1, real_crack_index.nlist // num_points)  # Ensure step is at least 1\n",
    "    # NOTE: Vary N_crack_locs\n",
    "    for N_crack_locs in tqdm(range(1, real_crack_index.nlist, step)):\n",
    "        num_steps = 3  # Desired number of data points\n",
    "        step2 = max(1, xb.shape[0] // num_steps)  # Ensure step is at least 1\n",
    "        # NOTE: Vary N\n",
    "        for N in tqdm(range(Nc, xb.shape[0], step2)):\n",
    "            real_crack_index.add(xb[:N, :])  # Add points to the index\n",
    "            # Take the first N_crack_locs crack locations\n",
    "            crack_locations = xq[:N_crack_locs, :]\n",
    "            \n",
    "            # NOTE: To estimate N_vis : you have to know c_visited_ids, and use the assignment histogram to see number of assigne points\n",
    "            # Get the number of visited points (N_vis) and dimensions (D)\n",
    "            \n",
    "            \n",
    "\n",
    "            ##---##---##---##---##---##---##---##---##---##---##---\n",
    "            start_t_1 = time.perf_counter()\n",
    "            \n",
    "            ## NOTE: Approximate, Copy-Pase of reorg:( not exactly the same, but what is cut should be ~0ms overhead )\n",
    "            c_visited_ids, c_visited, pids_visited, p_visited = real_crack_index._CrackIVF__get_local_region(crack_locations, 1)\n",
    "            end_t_1 = time.perf_counter()\n",
    "            \n",
    "            # NOTE: this is not included in calculation since it will be done before\n",
    "            # NOTE: Vary N_vis (depends on how points happened ot be distributed and affected by previous varied params)\n",
    "            N_vis, D = get_N_visited(real_crack_index.index, c_visited_ids)\n",
    "            prediction_ms = get_cost_estimate_reorg(N_crack_locs, Nc, N_vis, D, N)# Make a prediction \n",
    "            \n",
    "            start_t_2 = time.perf_counter()\n",
    "            # get some random assignments\n",
    "            RANDOM_running_assignments = np.random.randint(0, real_crack_index.nlist-1, size=pids_visited.shape[0], dtype=int) # if \"real\"\n",
    "            \n",
    "            # needed \n",
    "            local_quantizer = faiss.IndexFlat(real_crack_index.index.d, real_crack_index.metric)\n",
    "            local_quantizer.add(c_visited)\n",
    "\n",
    "            # measure commit reorg\n",
    "            _, _, _ = real_crack_index._CrackIVF__commit_reorg(\n",
    "                local_quantizer, \n",
    "                c_visited_ids, \n",
    "                pids_visited, \n",
    "                p_visited, \n",
    "                use_running_assignments=True,\n",
    "            )\n",
    "\n",
    "\n",
    "            _ = init_centroids_after_assignments(real_crack_index.index, debug=False, metric=metric)\n",
    "            end_t_2 = time.perf_counter()\n",
    "            ##---##---##---##---##---##---##---##---##---##---##---\n",
    "\n",
    "            # Append to input features and target latency\n",
    "            predicted_y_ms.append(prediction_ms)\n",
    "            target_variable_y_ms.append((end_t_1 - start_t_1)*1000 + (end_t_2 - start_t_2) * 1000)  # Latency in milliseconds\n",
    "\n",
    "# Convert input features and target variable to np.array\n",
    "y_pred = np.array(predicted_y_ms)  # Shape: (num_samples, 2)\n",
    "y_true = np.array(target_variable_y_ms)  # Shape: (num_samples, )\n",
    "# Now you can use X_data and y_data in the linear regression model  "
   ]
  },
  {
   "cell_type": "code",
   "execution_count": 27,
   "metadata": {},
   "outputs": [
    {
     "name": "stdout",
     "output_type": "stream",
     "text": [
      "dbname='SIFT10M'\n",
      "MSE (in ms^2): 70662.47466026989\n",
      "RMSE (in ms): 265.82414235781874\n",
      "R2 Score: 0.7524214600869532\n"
     ]
    }
   ],
   "source": [
    "import numpy as np\n",
    "from sklearn.metrics import mean_squared_error\n",
    "\n",
    "# Assuming y_true and y_pred are defined and y_true contains the true latencies (in ms)\n",
    "mse = mean_squared_error(y_true, y_pred)\n",
    "rmse = np.sqrt(mse)\n",
    "print(f\"{dbname=}\")\n",
    "print(\"MSE (in ms^2):\", mse)\n",
    "print(\"RMSE (in ms):\", rmse)\n",
    "r2 = r2_score(y_true, y_pred)\n",
    "print(\"R2 Score:\", r2)\n"
   ]
  },
  {
   "cell_type": "code",
   "execution_count": 28,
   "metadata": {},
   "outputs": [
    {
     "name": "stdout",
     "output_type": "stream",
     "text": [
      "MSE: 70662.47466026989\n",
      "R2 Score: 0.7524214600869532\n"
     ]
    }
   ],
   "source": [
    "mse = mean_squared_error(y_true, y_pred)\n",
    "r2 = r2_score(y_true, y_pred)\n",
    "print(\"MSE:\", mse)\n",
    "print(\"R2 Score:\", r2)"
   ]
  },
  {
   "cell_type": "code",
   "execution_count": 31,
   "metadata": {},
   "outputs": [
    {
     "data": {
      "text/plain": [
       "<Figure size 800x600 with 0 Axes>"
      ]
     },
     "execution_count": 31,
     "metadata": {},
     "output_type": "execute_result"
    },
    {
     "data": {
      "text/plain": [
       "<matplotlib.collections.PathCollection at 0x7f07bc56d820>"
      ]
     },
     "execution_count": 31,
     "metadata": {},
     "output_type": "execute_result"
    },
    {
     "data": {
      "text/plain": [
       "[<matplotlib.lines.Line2D at 0x7f07bc548e90>]"
      ]
     },
     "execution_count": 31,
     "metadata": {},
     "output_type": "execute_result"
    },
    {
     "data": {
      "text/plain": [
       "Text(0.5, 0, 'Measured Latency (ms)')"
      ]
     },
     "execution_count": 31,
     "metadata": {},
     "output_type": "execute_result"
    },
    {
     "data": {
      "text/plain": [
       "Text(0, 0.5, 'Predicted Latency (ms)')"
      ]
     },
     "execution_count": 31,
     "metadata": {},
     "output_type": "execute_result"
    },
    {
     "data": {
      "text/plain": [
       "Text(0.5, 1.0, 'Measured vs Predicted Latency - SIFT10M')"
      ]
     },
     "execution_count": 31,
     "metadata": {},
     "output_type": "execute_result"
    },
    {
     "data": {
      "text/plain": [
       "<matplotlib.legend.Legend at 0x7f07c06604a0>"
      ]
     },
     "execution_count": 31,
     "metadata": {},
     "output_type": "execute_result"
    },
    {
     "data": {
      "image/png": "[encoded data removed]",
      "text/plain": [
       "<Figure size 800x600 with 1 Axes>"
      ]
     },
     "metadata": {},
     "output_type": "display_data"
    }
   ],
   "source": [
    "import matplotlib.pyplot as plt\n",
    "\n",
    "# Visualize the results (Measured vs. Predicted Latency)\n",
    "plt.figure(figsize=(8, 6))\n",
    "plt.scatter(y_true, y_pred, label=\"Measured vs Predicted\", color='blue')\n",
    "plt.plot([min(y_true), max(y_true)], [min(y_true), max(y_true)], color='red', linestyle='--')\n",
    "plt.xlabel(\"Measured Latency (ms)\")\n",
    "plt.ylabel(\"Predicted Latency (ms)\")\n",
    "plt.title(f\"Measured vs Predicted Latency - {dbname}\")\n",
    "plt.legend()\n",
    "plt.show()\n"
   ]
  },
  {
   "cell_type": "code",
   "execution_count": 22,
   "metadata": {},
   "outputs": [
    {
     "data": {
      "text/plain": [
       "<Figure size 800x600 with 0 Axes>"
      ]
     },
     "execution_count": 22,
     "metadata": {},
     "output_type": "execute_result"
    },
    {
     "data": {
      "text/plain": [
       "<matplotlib.collections.PathCollection at 0x7f07c035f890>"
      ]
     },
     "execution_count": 22,
     "metadata": {},
     "output_type": "execute_result"
    },
    {
     "data": {
      "text/plain": [
       "[<matplotlib.lines.Line2D at 0x7f07c02edd60>]"
      ]
     },
     "execution_count": 22,
     "metadata": {},
     "output_type": "execute_result"
    },
    {
     "data": {
      "text/plain": [
       "Text(0.5, 0, 'Measured Latency (ms)')"
      ]
     },
     "execution_count": 22,
     "metadata": {},
     "output_type": "execute_result"
    },
    {
     "data": {
      "text/plain": [
       "Text(0, 0.5, 'Predicted Latency (ms)')"
      ]
     },
     "execution_count": 22,
     "metadata": {},
     "output_type": "execute_result"
    },
    {
     "data": {
      "text/plain": [
       "Text(0.5, 1.0, 'Measured vs Predicted Latency - lastfm-64-dot')"
      ]
     },
     "execution_count": 22,
     "metadata": {},
     "output_type": "execute_result"
    },
    {
     "data": {
      "text/plain": [
       "<matplotlib.legend.Legend at 0x7f0ce01c9910>"
      ]
     },
     "execution_count": 22,
     "metadata": {},
     "output_type": "execute_result"
    },
    {
     "data": {
      "image/png": "[encoded data removed]",
      "text/plain": [
       "<Figure size 800x600 with 1 Axes>"
      ]
     },
     "metadata": {},
     "output_type": "display_data"
    }
   ],
   "source": [
    "import matplotlib.pyplot as plt\n",
    "\n",
    "# Visualize the results (Measured vs. Predicted Latency)\n",
    "plt.figure(figsize=(8, 6))\n",
    "plt.scatter(y_true, y_pred, label=\"Measured vs Predicted\", color='blue')\n",
    "plt.plot([min(y_true), max(y_true)], [min(y_true), max(y_true)], color='red', linestyle='--')\n",
    "plt.xlabel(\"Measured Latency (ms)\")\n",
    "plt.ylabel(\"Predicted Latency (ms)\")\n",
    "plt.title(f\"Measured vs Predicted Latency - {dbname}\")\n",
    "plt.legend()\n",
    "plt.show()\n"
   ]
  },
  {
   "cell_type": "code",
   "execution_count": 17,
   "metadata": {},
   "outputs": [
    {
     "data": {
      "text/plain": [
       "<Figure size 800x600 with 0 Axes>"
      ]
     },
     "execution_count": 17,
     "metadata": {},
     "output_type": "execute_result"
    },
    {
     "data": {
      "text/plain": [
       "<matplotlib.collections.PathCollection at 0x7f07c03171d0>"
      ]
     },
     "execution_count": 17,
     "metadata": {},
     "output_type": "execute_result"
    },
    {
     "data": {
      "text/plain": [
       "[<matplotlib.lines.Line2D at 0x7f07c02c9b80>]"
      ]
     },
     "execution_count": 17,
     "metadata": {},
     "output_type": "execute_result"
    },
    {
     "data": {
      "text/plain": [
       "Text(0.5, 0, 'Measured Latency (ms)')"
      ]
     },
     "execution_count": 17,
     "metadata": {},
     "output_type": "execute_result"
    },
    {
     "data": {
      "text/plain": [
       "Text(0, 0.5, 'Predicted Latency (ms)')"
      ]
     },
     "execution_count": 17,
     "metadata": {},
     "output_type": "execute_result"
    },
    {
     "data": {
      "text/plain": [
       "Text(0.5, 1.0, 'Measured vs Predicted Latency - mnist-784-euclidean')"
      ]
     },
     "execution_count": 17,
     "metadata": {},
     "output_type": "execute_result"
    },
    {
     "data": {
      "text/plain": [
       "<matplotlib.legend.Legend at 0x7f07c02caf60>"
      ]
     },
     "execution_count": 17,
     "metadata": {},
     "output_type": "execute_result"
    },
    {
     "data": {
      "image/png": "[encoded data removed]",
      "text/plain": [
       "<Figure size 800x600 with 1 Axes>"
      ]
     },
     "metadata": {},
     "output_type": "display_data"
    }
   ],
   "source": [
    "import matplotlib.pyplot as plt\n",
    "\n",
    "# Visualize the results (Measured vs. Predicted Latency)\n",
    "plt.figure(figsize=(8, 6))\n",
    "plt.scatter(y_true, y_pred, label=\"Measured vs Predicted\", color='blue')\n",
    "plt.plot([min(y_true), max(y_true)], [min(y_true), max(y_true)], color='red', linestyle='--')\n",
    "plt.xlabel(\"Measured Latency (ms)\")\n",
    "plt.ylabel(\"Predicted Latency (ms)\")\n",
    "plt.title(f\"Measured vs Predicted Latency - {dbname}\")\n",
    "plt.legend()\n",
    "plt.show()\n"
   ]
  },
  {
   "cell_type": "code",
   "execution_count": 10,
   "metadata": {},
   "outputs": [
    {
     "data": {
      "text/plain": [
       "<Figure size 800x600 with 0 Axes>"
      ]
     },
     "execution_count": 10,
     "metadata": {},
     "output_type": "execute_result"
    },
    {
     "data": {
      "text/plain": [
       "<matplotlib.collections.PathCollection at 0x7f07c0583aa0>"
      ]
     },
     "execution_count": 10,
     "metadata": {},
     "output_type": "execute_result"
    },
    {
     "data": {
      "text/plain": [
       "[<matplotlib.lines.Line2D at 0x7f0cca48b8c0>]"
      ]
     },
     "execution_count": 10,
     "metadata": {},
     "output_type": "execute_result"
    },
    {
     "data": {
      "text/plain": [
       "Text(0.5, 0, 'Measured Latency (ms)')"
      ]
     },
     "execution_count": 10,
     "metadata": {},
     "output_type": "execute_result"
    },
    {
     "data": {
      "text/plain": [
       "Text(0, 0.5, 'Predicted Latency (ms)')"
      ]
     },
     "execution_count": 10,
     "metadata": {},
     "output_type": "execute_result"
    },
    {
     "data": {
      "text/plain": [
       "Text(0.5, 1.0, 'Measured vs Predicted Latency - glove-50-angular')"
      ]
     },
     "execution_count": 10,
     "metadata": {},
     "output_type": "execute_result"
    },
    {
     "data": {
      "text/plain": [
       "<matplotlib.legend.Legend at 0x7f07c057c230>"
      ]
     },
     "execution_count": 10,
     "metadata": {},
     "output_type": "execute_result"
    },
    {
     "data": {
      "image/png": "[encoded data removed]",
      "text/plain": [
       "<Figure size 800x600 with 1 Axes>"
      ]
     },
     "metadata": {},
     "output_type": "display_data"
    }
   ],
   "source": [
    "import matplotlib.pyplot as plt\n",
    "\n",
    "# Visualize the results (Measured vs. Predicted Latency)\n",
    "plt.figure(figsize=(8, 6))\n",
    "plt.scatter(y_true, y_pred, label=\"Measured vs Predicted\", color='blue')\n",
    "plt.plot([min(y_true), max(y_true)], [min(y_true), max(y_true)], color='red', linestyle='--')\n",
    "plt.xlabel(\"Measured Latency (ms)\")\n",
    "plt.ylabel(\"Predicted Latency (ms)\")\n",
    "plt.title(f\"Measured vs Predicted Latency - {dbname}\")\n",
    "plt.legend()\n",
    "plt.show()\n"
   ]
  },
  {
   "cell_type": "code",
   "execution_count": 37,
   "metadata": {},
   "outputs": [
    {
     "data": {
      "text/plain": [
       "<Figure size 800x600 with 0 Axes>"
      ]
     },
     "execution_count": 37,
     "metadata": {},
     "output_type": "execute_result"
    },
    {
     "data": {
      "text/plain": [
       "<matplotlib.collections.PathCollection at 0x7fdf7cab1cd0>"
      ]
     },
     "execution_count": 37,
     "metadata": {},
     "output_type": "execute_result"
    },
    {
     "data": {
      "text/plain": [
       "[<matplotlib.lines.Line2D at 0x7fdf7b24d940>]"
      ]
     },
     "execution_count": 37,
     "metadata": {},
     "output_type": "execute_result"
    },
    {
     "data": {
      "text/plain": [
       "Text(0.5, 0, 'Measured Latency (ms)')"
      ]
     },
     "execution_count": 37,
     "metadata": {},
     "output_type": "execute_result"
    },
    {
     "data": {
      "text/plain": [
       "Text(0, 0.5, 'Predicted Latency (ms)')"
      ]
     },
     "execution_count": 37,
     "metadata": {},
     "output_type": "execute_result"
    },
    {
     "data": {
      "text/plain": [
       "Text(0.5, 1.0, 'Measured vs Predicted Latency - sift-128-euclidean')"
      ]
     },
     "execution_count": 37,
     "metadata": {},
     "output_type": "execute_result"
    },
    {
     "data": {
      "text/plain": [
       "<matplotlib.legend.Legend at 0x7fdf7b210c20>"
      ]
     },
     "execution_count": 37,
     "metadata": {},
     "output_type": "execute_result"
    },
    {
     "data": {
      "image/png": "[encoded data removed]",
      "text/plain": [
       "<Figure size 800x600 with 1 Axes>"
      ]
     },
     "metadata": {},
     "output_type": "display_data"
    }
   ],
   "source": [
    "import matplotlib.pyplot as plt\n",
    "\n",
    "# Visualize the results (Measured vs. Predicted Latency)\n",
    "plt.figure(figsize=(8, 6))\n",
    "plt.scatter(y_true, y_pred, label=\"Measured vs Predicted\", color='blue')\n",
    "plt.plot([min(y_true), max(y_true)], [min(y_true), max(y_true)], color='red', linestyle='--')\n",
    "plt.xlabel(\"Measured Latency (ms)\")\n",
    "plt.ylabel(\"Predicted Latency (ms)\")\n",
    "plt.title(f\"Measured vs Predicted Latency - {dbname}\")\n",
    "plt.legend()\n",
    "plt.show()\n"
   ]
  },
  {
   "cell_type": "code",
   "execution_count": null,
   "metadata": {},
   "outputs": [],
   "source": []
  },
  {
   "cell_type": "code",
   "execution_count": null,
   "metadata": {},
   "outputs": [],
   "source": []
  },
  {
   "cell_type": "code",
   "execution_count": null,
   "metadata": {},
   "outputs": [],
   "source": []
  },
  {
   "cell_type": "markdown",
   "metadata": {},
   "source": [
    "# Refine"
   ]
  },
  {
   "cell_type": "code",
   "execution_count": null,
   "metadata": {},
   "outputs": [],
   "source": []
  },
  {
   "cell_type": "markdown",
   "metadata": {},
   "source": [
    "## Local Kmeans cost\n",
    "`def __refine_cracks_locally(self, c_visited_ids, c_visited, p_visited):`\n",
    "- `Final : T = w1 * ( n_iter *  N_train * C_vis * D ) + w2 *  ( Nc * D ) + b`\n",
    "    - where: N_train = min(max_pts*N_vis, N_vis)\n",
    "- `w1 = 9.311884586956287e-09, w2 = 7.437262586898243e-05, b = 191.62760060405162`\n"
   ]
  },
  {
   "cell_type": "markdown",
   "metadata": {},
   "source": [
    "``` python\n",
    "\n",
    "    def __refine_cracks_locally(self, c_visited_ids, c_visited, p_visited):\n",
    "\n",
    "        num_partitions = len(c_visited) # num partitions to refine/reorg\n",
    "            local_km = faiss.Kmeans(self.d, num_partitions, niter=1, max_points_per_centroid=self.max_pts)\n",
    "        local_km.verbose = self.verbose\n",
    "        # NOTE: Train is compute and data movement heavy, but same complexity so we can only take compute into account and have w1 learned parameter handle it\n",
    "        local_km.train(p_visited, init_centroids=c_visited)\n",
    "        \n",
    "        refined_local_quantizer = local_km.index # after it has been refined...\n",
    "        self.cracks[c_visited_ids] = local_km.centroids # update outer cracks\n",
    "        # NOTE: updating global quantizer is Data Movement heavy, where you just add the global centorid C and update them, we let paramete w2 handle this part of the kernel\n",
    "        refined_global_quantizer = faiss.IndexFlat(self.d, self.metric)\n",
    "        refined_global_quantizer.add(self.cracks)\n",
    "        \n",
    "        _ = replace_ivf_quantizer(self.index, refined_global_quantizer)\n",
    "        \n",
    "        return refined_local_quantizer\n",
    "```"
   ]
  },
  {
   "cell_type": "code",
   "execution_count": 23,
   "metadata": {},
   "outputs": [],
   "source": [
    "# Assuming the necessary imports and definitions for CrackIVF, metric, xb, xq, etc.\n",
    "\n",
    "def get_local_kmeans_measurements(xb,xq):\n",
    "    \n",
    "    def get_N_visited(index, c_visited_ids):\n",
    "        N_visited = 0\n",
    "        D = index.d\n",
    "        # in case it's multiple\n",
    "        for cid in c_visited_ids:\n",
    "            N_visited += index.invlists.list_size(int(cid))\n",
    "        return N_visited, D\n",
    "\n",
    "    input_features = []  # To store X1 and X2 for each measurement\n",
    "    target_variable_y_ms = []  # To store measured latency (T)\n",
    "\n",
    "    max_pts = 256 # FAISS DEFAULT\n",
    "    n_iter = 1 # we typically only do 1 iteration \n",
    "\n",
    "    # Iterate over different values of Nc (number of centroids)\n",
    "    for Nc in [100, 200, 500, 1000, 2000, 5000, 10000, 15000]:\n",
    "        \n",
    "        # Create new index as you vary Nc\n",
    "        real_crack_index = CrackIVF(\n",
    "            nlist=Nc, \n",
    "            niter=0,\n",
    "            max_pts=256,  # faiss default\n",
    "            seed=1,\n",
    "            metric=metric\n",
    "        )\n",
    "        real_crack_index.add(xb)  # Add 1M points to the index\n",
    "        GLOBAL_CRACKS = real_crack_index.index.reconstruct_n() # centroids\n",
    "\n",
    "        # For varying N_crack_locs (number of crack locations)\n",
    "        num_data_points = 10  # Desired number of data points\n",
    "        step = max(1, real_crack_index.nlist // num_data_points)  # Ensure step is at least 1\n",
    "\n",
    "        for C_vis in tqdm(range(1, real_crack_index.nlist, step)):\n",
    "            \n",
    "            real_crack_index.refine_nprobe = C_vis  # Control the number of invlists accessed by ncracks\n",
    "            \n",
    "            query = xq[0:1, :] # just get one query and then we vary local region size around it in C_vis\n",
    "            \n",
    "            # 1) get local region for C_vis \n",
    "            c_visited_ids, c_visited, pids_visited, p_visited = real_crack_index._CrackIVF__get_local_region(query, C_vis)\n",
    "            \n",
    "            # Get the number of visited points (N_vis) and dimensions (D)\n",
    "            # Get the number of poitns we run kmeans train N_train\n",
    "            N_vis, D = get_N_visited(real_crack_index.index, c_visited_ids)\n",
    "            N_train = min(max_pts*N_vis, N_vis)\n",
    "\n",
    "            start_t = time.perf_counter()\n",
    "            \n",
    "            # the compute heavy op (X1)\n",
    "            local_km = faiss.Kmeans(D, C_vis, niter=n_iter, max_points_per_centroid=max_pts)\n",
    "            local_km.train(p_visited) \n",
    "            # the data movement heavey op (X2)\n",
    "            GLOBAL_CRACKS[c_visited_ids] = local_km.centroids # update local cracks\n",
    "            refined_global_quantizer = faiss.IndexFlat(D)\n",
    "            refined_global_quantizer.add(GLOBAL_CRACKS) # add global cracks no need to add refine\n",
    "            end_t = time.perf_counter()\n",
    "\n",
    "            \n",
    "            # Store input features and target variable\n",
    "            X1 = n_iter * N_train * C_vis * D\n",
    "            X2 = Nc * D \n",
    "            \n",
    "            # Append to input features and target latency\n",
    "            input_features.append([X1, X2])\n",
    "            target_variable_y_ms.append((end_t - start_t) * 1000)  # Latency in milliseconds\n",
    "\n",
    "            # print(f\"{local_km.centroids.shape=}\")\n",
    "            # print(f\"{c_visited_ids=}\")\n",
    "            # print(f\"{GLOBAL_CRACKS.shape=}\")\n",
    "\n",
    "\n",
    "    # Convert input features and target variable to np.array\n",
    "    X_data = np.array(input_features)  # Shape: (num_samples, 2)\n",
    "    y_data = np.array(target_variable_y_ms)  # Shape: (num_samples, )\n",
    "    return X_data, y_data\n",
    "    # Now you can use X_data and y_data in the linear regression model"
   ]
  },
  {
   "cell_type": "code",
   "execution_count": null,
   "metadata": {},
   "outputs": [
    {
     "name": "stdout",
     "output_type": "stream",
     "text": [
      "Init Index... self.nlist=100 self.niter=0 self.max_pts=256 self.seed=1 self.d=128\n",
      "\t---> Index Train Time = 53.24513203231618 ms | Add Time = 478.7849700078368 ms | Assign Time (should be free if C++ implementation )= 257.9544589971192<---\n"
     ]
    },
    {
     "name": "stderr",
     "output_type": "stream",
     "text": [
      "100%|██████████| 10/10 [00:03<00:00,  2.66it/s]\n"
     ]
    },
    {
     "name": "stdout",
     "output_type": "stream",
     "text": [
      "Init Index... self.nlist=200 self.niter=0 self.max_pts=256 self.seed=1 self.d=128\n",
      "\t---> Index Train Time = 59.69765194458887 ms | Add Time = 522.0940920407884 ms | Assign Time (should be free if C++ implementation )= 334.6895099966787<---\n"
     ]
    },
    {
     "name": "stderr",
     "output_type": "stream",
     "text": [
      "100%|██████████| 10/10 [00:03<00:00,  2.65it/s]\n"
     ]
    },
    {
     "name": "stdout",
     "output_type": "stream",
     "text": [
      "Init Index... self.nlist=500 self.niter=0 self.max_pts=256 self.seed=1 self.d=128\n",
      "\t---> Index Train Time = 66.58722105203196 ms | Add Time = 864.9213460157625 ms | Assign Time (should be free if C++ implementation )= 701.9213430467062<---\n"
     ]
    },
    {
     "name": "stderr",
     "output_type": "stream",
     "text": [
      "100%|██████████| 10/10 [00:03<00:00,  2.50it/s]\n"
     ]
    },
    {
     "name": "stdout",
     "output_type": "stream",
     "text": [
      "Init Index... self.nlist=1000 self.niter=0 self.max_pts=256 self.seed=1 self.d=128\n",
      "\t---> Index Train Time = 80.50164999440312 ms | Add Time = 1437.8383760340512 ms | Assign Time (should be free if C++ implementation )= 1814.9766090209596<---\n"
     ]
    },
    {
     "name": "stderr",
     "output_type": "stream",
     "text": [
      "100%|██████████| 10/10 [00:05<00:00,  1.95it/s]\n"
     ]
    },
    {
     "name": "stdout",
     "output_type": "stream",
     "text": [
      "Init Index... self.nlist=2000 self.niter=0 self.max_pts=256 self.seed=1 self.d=128\n",
      "\t---> Index Train Time = 107.50523896422237 ms | Add Time = 2699.154217960313 ms | Assign Time (should be free if C++ implementation )= 2553.9931320236064<---\n"
     ]
    },
    {
     "name": "stderr",
     "output_type": "stream",
     "text": [
      "100%|██████████| 10/10 [00:08<00:00,  1.25it/s]\n"
     ]
    },
    {
     "name": "stdout",
     "output_type": "stream",
     "text": [
      "Init Index... self.nlist=5000 self.niter=0 self.max_pts=256 self.seed=1 self.d=128\n",
      "\t---> Index Train Time = 54.13682898506522 ms | Add Time = 6246.886861976236 ms | Assign Time (should be free if C++ implementation )= 6026.724579976872<---\n"
     ]
    },
    {
     "name": "stderr",
     "output_type": "stream",
     "text": [
      "100%|██████████| 10/10 [00:19<00:00,  1.98s/it]\n"
     ]
    },
    {
     "name": "stdout",
     "output_type": "stream",
     "text": [
      "Init Index... self.nlist=10000 self.niter=0 self.max_pts=256 self.seed=1 self.d=128\n",
      "\t---> Index Train Time = 52.212767011951655 ms | Add Time = 12383.480703982059 ms | Assign Time (should be free if C++ implementation )= 11958.674790977966<---\n"
     ]
    },
    {
     "name": "stderr",
     "output_type": "stream",
     "text": [
      "100%|██████████| 10/10 [00:35<00:00,  3.58s/it]\n"
     ]
    },
    {
     "name": "stdout",
     "output_type": "stream",
     "text": [
      "Init Index... self.nlist=15000 self.niter=0 self.max_pts=256 self.seed=1 self.d=128\n",
      "\t---> Index Train Time = 54.85441896598786 ms | Add Time = 16502.445323974825 ms | Assign Time (should be free if C++ implementation )= 16224.172385991551<---\n"
     ]
    },
    {
     "name": "stderr",
     "output_type": "stream",
     "text": [
      "  0%|          | 0/10 [00:00<?, ?it/s]WARNING clustering 17 points to 1 centroids: please provide at least 39 training points\n",
      "100%|██████████| 10/10 [00:52<00:00,  5.28s/it]\n"
     ]
    }
   ],
   "source": [
    "X_data, y_data = get_local_kmeans_measurements(xb,xq)"
   ]
  },
  {
   "cell_type": "code",
   "execution_count": 25,
   "metadata": {},
   "outputs": [
    {
     "name": "stdout",
     "output_type": "stream",
     "text": [
      "Fitted model: T = w1 * X1 + w2 * X2 + b\n",
      "w1 = 9.311884586956287e-09, w2 = 7.437262586898243e-05, b = 191.62760060405162\n",
      "Mean Absolute Error (MAE): 112.45251990426168 ms\n"
     ]
    },
    {
     "data": {
      "image/png": "[encoded data removed]",
      "text/plain": [
       "<Figure size 800x600 with 1 Axes>"
      ]
     },
     "metadata": {},
     "output_type": "display_data"
    },
    {
     "data": {
      "text/plain": [
       "9.311884586956287e-09"
      ]
     },
     "execution_count": 25,
     "metadata": {},
     "output_type": "execute_result"
    },
    {
     "data": {
      "text/plain": [
       "7.437262586898243e-05"
      ]
     },
     "execution_count": 25,
     "metadata": {},
     "output_type": "execute_result"
    },
    {
     "data": {
      "text/plain": [
       "191.62760060405162"
      ]
     },
     "execution_count": 25,
     "metadata": {},
     "output_type": "execute_result"
    },
    {
     "name": "stdout",
     "output_type": "stream",
     "text": [
      "dbname='sift-128-euclidean'\n",
      "MSE (in ms^2): 27064.24133044696\n",
      "RMSE (in ms): 164.51213125616894\n",
      "R2 Score: 0.9959943707444502\n"
     ]
    }
   ],
   "source": [
    "# X_data = np.array(input_features)  # Shape: (num_samples, 2)\n",
    "# y_data = np.array(target_variable_y_ms)  # Shape: (num_samples, )\n",
    "\n",
    "w1, w2, b, mae, localkm_model = fit_and_evaluate_model(X_data, y_data)\n",
    "w1\n",
    "w2\n",
    "b\n",
    "\n",
    "\n",
    "import numpy as np\n",
    "from sklearn.metrics import mean_squared_error\n",
    "\n",
    "# Assuming y_true and y_pred are defined and y_true contains the true latencies (in ms)\n",
    "\n",
    "y_pred = localkm_model.predict(X_data)\n",
    "mse = mean_squared_error(y_data, y_pred)\n",
    "rmse = np.sqrt(mse)\n",
    "print(f\"{dbname=}\")\n",
    "print(\"MSE (in ms^2):\", mse)\n",
    "print(\"RMSE (in ms):\", rmse)\n",
    "r2 = r2_score(y_data, y_pred)\n",
    "print(\"R2 Score:\", r2)"
   ]
  },
  {
   "cell_type": "code",
   "execution_count": 26,
   "metadata": {},
   "outputs": [],
   "source": [
    "def evaluate_existing_model(model, X_new, y_true, dbname, ):\n",
    "    \"\"\"\n",
    "    Evaluates an already trained model on new datasets.\n",
    "\n",
    "    Args:\n",
    "    - model: The pre-trained regression model.\n",
    "    - X_new (numpy array): Input features for the new dataset (shape: num_samples x num_features).\n",
    "    - y_true (numpy array): Actual target latencies (shape: num_samples,).\n",
    "\n",
    "    Returns:\n",
    "    - mae (float): Mean Absolute Error (MAE) on the new dataset.\n",
    "    \"\"\"\n",
    "    \n",
    "    y_pred = model.predict(X_new)\n",
    "\n",
    "    mae = mean_absolute_error(y_true, y_pred)\n",
    "    print(f\"Mean Absolute Error (MAE) on new dataset: {mae} ms\")\n",
    "\n",
    "    # Step 4: Visualize results\n",
    "    plt.figure(figsize=(8, 6))\n",
    "    plt.scatter(y_true, y_pred, label=\"Measured vs Predicted\", color='blue')\n",
    "    plt.plot([min(y_true), max(y_true)], [min(y_true), max(y_true)], color='red', linestyle='--')\n",
    "    plt.xlabel(\"Measured Latency (ms)\")\n",
    "    plt.ylabel(\"Predicted Latency (ms)\")\n",
    "    plt.title(f\"Measured vs Predicted Latency - {dbname}\")\n",
    "    plt.legend()\n",
    "    plt.show()\n",
    "    mse = mean_squared_error(y_true, y_pred)\n",
    "    rmse = np.sqrt(mse)\n",
    "    print(f\"{dbname=}\")\n",
    "    print(\"MSE (in ms^2):\", mse)\n",
    "    print(\"RMSE (in ms):\", rmse)\n",
    "    r2 = r2_score(y_true, y_pred)\n",
    "    print(\"R2 Score:\", r2)\n",
    "\n",
    "    return mae\n"
   ]
  },
  {
   "cell_type": "code",
   "execution_count": 27,
   "metadata": {},
   "outputs": [
    {
     "name": "stdout",
     "output_type": "stream",
     "text": [
      "Mean Absolute Error (MAE) on new dataset: 112.45251990426168 ms\n"
     ]
    },
    {
     "data": {
      "image/png": "[encoded data removed]",
      "text/plain": [
       "<Figure size 800x600 with 1 Axes>"
      ]
     },
     "metadata": {},
     "output_type": "display_data"
    },
    {
     "name": "stdout",
     "output_type": "stream",
     "text": [
      "dbname='sift-128-euclidean'\n",
      "MSE (in ms^2): 27064.24133044696\n",
      "RMSE (in ms): 164.51213125616894\n",
      "R2 Score: 0.9959943707444502\n"
     ]
    },
    {
     "data": {
      "text/plain": [
       "112.45251990426168"
      ]
     },
     "execution_count": 27,
     "metadata": {},
     "output_type": "execute_result"
    }
   ],
   "source": [
    "evaluate_existing_model(localkm_model, X_data,y_data,dbname)"
   ]
  },
  {
   "cell_type": "markdown",
   "metadata": {},
   "source": [
    "Evaluate on other datasets (don't fit again re-use same model:)"
   ]
  },
  {
   "cell_type": "code",
   "execution_count": null,
   "metadata": {},
   "outputs": [],
   "source": [
    "# dbname = \"sift-128-euclidean\"\n",
    "dbname = \"lastfm-64-dot\"\n",
    "# dbname = \"SIFT10M\"\n",
    "# dbname = \"deep-image-96-angular\"\n",
    "# xb, xq, gt, metric = load_dataset(\"SIFT1M\")\n",
    "xb, xq, gt, metric = load_dataset(dbname)\n",
    "NUM_THREADS = 16\n",
    "faiss.omp_set_num_threads(NUM_THREADS)\n",
    "\n",
    "X_new, y_new =  get_local_kmeans_measurements(xb,xq) # get measurements\n",
    "evaluate_existing_model(localkm_model, X_new, y_new, dbname) # test existing trained model"
   ]
  },
  {
   "cell_type": "code",
   "execution_count": null,
   "metadata": {},
   "outputs": [
    {
     "name": "stdout",
     "output_type": "stream",
     "text": [
      "Loading Dataset = SIFT10M\n",
      "Init Index... self.nlist=100 self.niter=0 self.max_pts=256 self.seed=1 self.d=128\n"
     ]
    }
   ],
   "source": [
    "# dbname = \"glove-200-angular\"\n",
    "dbname = \"SIFT10M\"\n",
    "# dbname = \"gist-960-euclidean\"\n",
    "# dbname = \"deep-image-96-angular\"\n",
    "# xb, xq, gt, metric = load_dataset(\"SIFT1M\")\n",
    "xb, xq, gt, metric = load_dataset(dbname)\n",
    "NUM_THREADS = 16\n",
    "faiss.omp_set_num_threads(NUM_THREADS)\n",
    "\n",
    "\n",
    "X_new, y_new =  get_local_kmeans_measurements(xb,xq) # get measurements\n",
    "evaluate_existing_model(localkm_model, X_new, y_new, dbname) # test existing trained model"
   ]
  },
  {
   "cell_type": "code",
   "execution_count": null,
   "metadata": {},
   "outputs": [],
   "source": []
  },
  {
   "cell_type": "markdown",
   "metadata": {},
   "source": [
    "## commit reorg with calculating runnign assignments\n",
    "- `T_commit_reorg = w1 * (N_vis * C_vis * D + Nc) + w2 * ( N_vis*D ) +b`\n",
    "```\n",
    "- w1 = 8.912474562983087e-09, w2 = 1.2000867199316712e-06, b = -8.689369633586466\n",
    "- X1 = N_vis * C_vis * D + Nc\n",
    "- X2 = N_vis * D \n",
    "```"
   ]
  },
  {
   "cell_type": "code",
   "execution_count": 18,
   "metadata": {},
   "outputs": [],
   "source": [
    "import numpy as np\n",
    "import time\n",
    "from tqdm import tqdm\n",
    "\n",
    "# Assuming the necessary imports and definitions for CrackIVF, metric, xb, xq, etc.\n",
    "def measure_commit_reorg_for_refine(xb,xq):\n",
    "    def get_N_visited(index, c_visited_ids):\n",
    "        N_visited = 0\n",
    "        D = index.d\n",
    "        # in case it's multiple\n",
    "        for cid in c_visited_ids:\n",
    "            N_visited += index.invlists.list_size(int(cid))\n",
    "        return N_visited, D\n",
    "\n",
    "    input_features = []  # To store X1 and X2 for each measurement\n",
    "    target_variable_y_ms = []  # To store measured latency (T)\n",
    "\n",
    "    # Iterate over different values of Nc (number of centroids)\n",
    "    for Nc in [100, 200, 500, 1000, 2000, 5000, 10000, 15000]:\n",
    "        # Create new index as you vary Nc\n",
    "        max_pts = 256\n",
    "        n_iter = 1\n",
    "        real_crack_index = CrackIVF(\n",
    "            nlist=Nc, \n",
    "            niter=0,\n",
    "            max_pts=max_pts,  # faiss default\n",
    "            seed=1,\n",
    "            metric=metric\n",
    "        )\n",
    "        real_crack_index.add(xb)  # Add 1M points to the index\n",
    "        GLOBAL_CRACKS = real_crack_index.index.reconstruct_n() # centroids # Nc\n",
    "\n",
    "\n",
    "        # For varying N_crack_locs (number of crack locations)\n",
    "        num_data_points = 10  # Desired number of data points\n",
    "        step = max(1, real_crack_index.nlist // num_data_points)  # Ensure step is at least 1\n",
    "\n",
    "        for C_vis in tqdm(range(1, real_crack_index.nlist, step)):\n",
    "\n",
    "            # # Take the first N_crack_locs crack locations\n",
    "            # crack_locations = xq[:N_crack_locs, :]\n",
    "\n",
    "            # c_visited_ids, c_visited, pids_visited, p_visited = real_crack_index._CrackIVF__get_local_region(crack_locations, 1)\n",
    "            \n",
    "            # # get some random assignments\n",
    "            # RANDOM_running_assignments = np.random.randint(0, real_crack_index.nlist-1, size=pids_visited.shape[0], dtype=int) # if \"real\"\n",
    "            # # needed \n",
    "            \n",
    "            real_crack_index.refine_nprobe = C_vis  # Control the number of invlists accessed by ncracks\n",
    "                \n",
    "            query = xq[0:1, :] # just get one query and then we vary local region size around it in C_vis\n",
    "            \n",
    "            # 1) get local region for C_vis \n",
    "            c_visited_ids, c_visited, pids_visited, p_visited = real_crack_index._CrackIVF__get_local_region(query, C_vis)\n",
    "            \n",
    "            # Get the number of poitns we run kmeans train N_train\n",
    "            N_vis, D = get_N_visited(real_crack_index.index, c_visited_ids)\n",
    "            N_train = min(max_pts*N_vis, N_vis)\n",
    "\n",
    "            # NOTE: can skip local km for now calculating the comit reorg cost here        \n",
    "            # local_km = faiss.Kmeans(D, C_vis, niter=n_iter, max_points_per_centroid=max_pts)\n",
    "            # local_km.train(p_visited) \n",
    "            \n",
    "            # GLOBAL_CRACKS[c_visited_ids] = local_km.centroids # update local cracks\n",
    "            # refined_global_quantizer = faiss.IndexFlat(D)\n",
    "            # refined_global_quantizer.add(GLOBAL_CRACKS) # add global cracks no need to add refine\n",
    "            # len(global cracks )== Nc\n",
    "\n",
    "            # need to also have the local quantizer...\n",
    "\n",
    "            local_quantizer = faiss.IndexFlat(real_crack_index.index.d, real_crack_index.metric)\n",
    "            local_quantizer.add(c_visited) # C_vis <---- local\n",
    "\n",
    "            print(f\"{local_quantizer.ntotal=} == {C_vis=}\")\n",
    "            assert local_quantizer.ntotal == C_vis\n",
    "\n",
    "            # Get the number of visited points (N_vis) and dimensions (D)\n",
    "            # measure commit reorg\n",
    "            start_t = time.perf_counter()\n",
    "            _, _, _ = real_crack_index._CrackIVF__commit_reorg(\n",
    "                local_quantizer, #C_vis\n",
    "                c_visited_ids, #C_vis\n",
    "                pids_visited, #N_vis\n",
    "                p_visited, #N_vis\n",
    "                use_running_assignments=False, # recalculate runnign assignments...\n",
    "        )\n",
    "            end_t = time.perf_counter()\n",
    "\n",
    "            # Get the number of visited points (N_vis) and dimensions (D)\n",
    "            N_vis, D = get_N_visited(real_crack_index.index, c_visited_ids)\n",
    "            \n",
    "            # Store input features and target variable\n",
    "            X1 = N_vis * C_vis * D + Nc\n",
    "            X2 = N_vis * D \n",
    "            \n",
    "            # Append to input features and target latency\n",
    "            input_features.append([X1, X2])\n",
    "            target_variable_y_ms.append((end_t - start_t) * 1000)  # Latency in milliseconds\n",
    "\n",
    "    # Convert input features and target variable to np.array\n",
    "    X_data = np.array(input_features)  # Shape: (num_samples, 2)\n",
    "    y_data = np.array(target_variable_y_ms)  # Shape: (num_samples, )\n",
    "    return X_data, y_data\n",
    "    # Now you can use X_data and y_data in the linear regression model"
   ]
  },
  {
   "cell_type": "code",
   "execution_count": 16,
   "metadata": {},
   "outputs": [],
   "source": [
    "# Load the dataset\n",
    "dbname = \"sift-128-euclidean\"  # Change the dataset name as needed\n",
    "NUM_THREADS = 16\n",
    "faiss.omp_set_num_threads(NUM_THREADS)\n"
   ]
  },
  {
   "cell_type": "code",
   "execution_count": 19,
   "metadata": {},
   "outputs": [
    {
     "name": "stdout",
     "output_type": "stream",
     "text": [
      "Init Index... self.nlist=100 self.niter=0 self.max_pts=256 self.seed=1 self.d=128\n",
      "\t---> Index Train Time = 54.8318310175091 ms | Add Time = 396.8567150295712 ms | Assign Time (should be free if C++ implementation )= 255.60553098330274<---\n"
     ]
    },
    {
     "name": "stderr",
     "output_type": "stream",
     "text": [
      " 30%|███       | 3/10 [00:00<00:00, 16.78it/s]"
     ]
    },
    {
     "name": "stdout",
     "output_type": "stream",
     "text": [
      "local_quantizer.ntotal=1 == C_vis=1\n",
      "local_quantizer.ntotal=11 == C_vis=11\n",
      "local_quantizer.ntotal=21 == C_vis=21\n",
      "local_quantizer.ntotal=31 == C_vis=31\n"
     ]
    },
    {
     "name": "stderr",
     "output_type": "stream",
     "text": [
      " 50%|█████     | 5/10 [00:00<00:00,  7.81it/s]"
     ]
    },
    {
     "name": "stdout",
     "output_type": "stream",
     "text": [
      "local_quantizer.ntotal=41 == C_vis=41\n",
      "local_quantizer.ntotal=51 == C_vis=51\n"
     ]
    },
    {
     "name": "stderr",
     "output_type": "stream",
     "text": [
      " 70%|███████   | 7/10 [00:01<00:00,  5.80it/s]"
     ]
    },
    {
     "name": "stdout",
     "output_type": "stream",
     "text": [
      "local_quantizer.ntotal=61 == C_vis=61\n"
     ]
    },
    {
     "name": "stderr",
     "output_type": "stream",
     "text": [
      " 80%|████████  | 8/10 [00:01<00:00,  5.03it/s]"
     ]
    },
    {
     "name": "stdout",
     "output_type": "stream",
     "text": [
      "local_quantizer.ntotal=71 == C_vis=71\n"
     ]
    },
    {
     "name": "stderr",
     "output_type": "stream",
     "text": [
      " 90%|█████████ | 9/10 [00:01<00:00,  4.28it/s]"
     ]
    },
    {
     "name": "stdout",
     "output_type": "stream",
     "text": [
      "local_quantizer.ntotal=81 == C_vis=81\n",
      "local_quantizer.ntotal=91 == C_vis=91\n"
     ]
    },
    {
     "name": "stderr",
     "output_type": "stream",
     "text": [
      "100%|██████████| 10/10 [00:02<00:00,  4.90it/s]\n"
     ]
    },
    {
     "name": "stdout",
     "output_type": "stream",
     "text": [
      "Init Index... self.nlist=200 self.niter=0 self.max_pts=256 self.seed=1 self.d=128\n",
      "\t---> Index Train Time = 61.50443002115935 ms | Add Time = 543.9996909699403 ms | Assign Time (should be free if C++ implementation )= 339.0522829722613<---\n"
     ]
    },
    {
     "name": "stderr",
     "output_type": "stream",
     "text": [
      "  0%|          | 0/10 [00:00<?, ?it/s]"
     ]
    },
    {
     "name": "stdout",
     "output_type": "stream",
     "text": [
      "local_quantizer.ntotal=1 == C_vis=1\n",
      "local_quantizer.ntotal=21 == C_vis=21\n"
     ]
    },
    {
     "name": "stderr",
     "output_type": "stream",
     "text": [
      " 30%|███       | 3/10 [00:00<00:00, 22.18it/s]"
     ]
    },
    {
     "name": "stdout",
     "output_type": "stream",
     "text": [
      "local_quantizer.ntotal=41 == C_vis=41\n",
      "local_quantizer.ntotal=61 == C_vis=61\n",
      "local_quantizer.ntotal=81 == C_vis=81\n",
      "local_quantizer.ntotal=101 == C_vis=101\n"
     ]
    },
    {
     "name": "stderr",
     "output_type": "stream",
     "text": [
      " 60%|██████    | 6/10 [00:00<00:00,  8.15it/s]"
     ]
    },
    {
     "name": "stdout",
     "output_type": "stream",
     "text": [
      "local_quantizer.ntotal=121 == C_vis=121\n"
     ]
    },
    {
     "name": "stderr",
     "output_type": "stream",
     "text": [
      " 80%|████████  | 8/10 [00:01<00:00,  5.64it/s]"
     ]
    },
    {
     "name": "stdout",
     "output_type": "stream",
     "text": [
      "local_quantizer.ntotal=141 == C_vis=141\n",
      "local_quantizer.ntotal=161 == C_vis=161\n"
     ]
    },
    {
     "name": "stderr",
     "output_type": "stream",
     "text": [
      " 90%|█████████ | 9/10 [00:01<00:00,  4.61it/s]"
     ]
    },
    {
     "name": "stdout",
     "output_type": "stream",
     "text": [
      "local_quantizer.ntotal=181 == C_vis=181\n"
     ]
    },
    {
     "name": "stderr",
     "output_type": "stream",
     "text": [
      "100%|██████████| 10/10 [00:02<00:00,  4.94it/s]\n"
     ]
    },
    {
     "name": "stdout",
     "output_type": "stream",
     "text": [
      "Init Index... self.nlist=500 self.niter=0 self.max_pts=256 self.seed=1 self.d=128\n",
      "\t---> Index Train Time = 64.54093102365732 ms | Add Time = 851.2054139864631 ms | Assign Time (should be free if C++ implementation )= 679.8970520030707<---\n"
     ]
    },
    {
     "name": "stderr",
     "output_type": "stream",
     "text": [
      "  0%|          | 0/10 [00:00<?, ?it/s]"
     ]
    },
    {
     "name": "stdout",
     "output_type": "stream",
     "text": [
      "local_quantizer.ntotal=1 == C_vis=1\n"
     ]
    },
    {
     "name": "stderr",
     "output_type": "stream",
     "text": [
      " 30%|███       | 3/10 [00:00<00:00, 15.81it/s]"
     ]
    },
    {
     "name": "stdout",
     "output_type": "stream",
     "text": [
      "local_quantizer.ntotal=51 == C_vis=51\n",
      "local_quantizer.ntotal=101 == C_vis=101\n",
      "local_quantizer.ntotal=151 == C_vis=151\n",
      "local_quantizer.ntotal=201 == C_vis=201\n"
     ]
    },
    {
     "name": "stderr",
     "output_type": "stream",
     "text": [
      " 50%|█████     | 5/10 [00:00<00:00,  7.15it/s]"
     ]
    },
    {
     "name": "stdout",
     "output_type": "stream",
     "text": [
      "local_quantizer.ntotal=251 == C_vis=251\n"
     ]
    },
    {
     "name": "stderr",
     "output_type": "stream",
     "text": [
      " 60%|██████    | 6/10 [00:00<00:00,  5.33it/s]"
     ]
    },
    {
     "name": "stdout",
     "output_type": "stream",
     "text": [
      "local_quantizer.ntotal=301 == C_vis=301\n"
     ]
    },
    {
     "name": "stderr",
     "output_type": "stream",
     "text": [
      " 70%|███████   | 7/10 [00:01<00:00,  4.17it/s]"
     ]
    },
    {
     "name": "stdout",
     "output_type": "stream",
     "text": [
      "local_quantizer.ntotal=351 == C_vis=351\n"
     ]
    },
    {
     "name": "stderr",
     "output_type": "stream",
     "text": [
      " 80%|████████  | 8/10 [00:01<00:00,  3.28it/s]"
     ]
    },
    {
     "name": "stdout",
     "output_type": "stream",
     "text": [
      "local_quantizer.ntotal=401 == C_vis=401\n"
     ]
    },
    {
     "name": "stderr",
     "output_type": "stream",
     "text": [
      " 90%|█████████ | 9/10 [00:02<00:00,  2.58it/s]"
     ]
    },
    {
     "name": "stdout",
     "output_type": "stream",
     "text": [
      "local_quantizer.ntotal=451 == C_vis=451\n"
     ]
    },
    {
     "name": "stderr",
     "output_type": "stream",
     "text": [
      "100%|██████████| 10/10 [00:03<00:00,  3.13it/s]\n"
     ]
    },
    {
     "name": "stdout",
     "output_type": "stream",
     "text": [
      "Init Index... self.nlist=1000 self.niter=0 self.max_pts=256 self.seed=1 self.d=128\n",
      "\t---> Index Train Time = 105.96867301501334 ms | Add Time = 1259.725732030347 ms | Assign Time (should be free if C++ implementation )= 1122.1232669777237<---\n"
     ]
    },
    {
     "name": "stderr",
     "output_type": "stream",
     "text": [
      " 20%|██        | 2/10 [00:00<00:00, 17.88it/s]"
     ]
    },
    {
     "name": "stdout",
     "output_type": "stream",
     "text": [
      "local_quantizer.ntotal=1 == C_vis=1\n",
      "local_quantizer.ntotal=101 == C_vis=101\n",
      "local_quantizer.ntotal=201 == C_vis=201\n"
     ]
    },
    {
     "name": "stderr",
     "output_type": "stream",
     "text": [
      " 40%|████      | 4/10 [00:00<00:00,  7.43it/s]"
     ]
    },
    {
     "name": "stdout",
     "output_type": "stream",
     "text": [
      "local_quantizer.ntotal=301 == C_vis=301\n",
      "local_quantizer.ntotal=401 == C_vis=401\n",
      "local_quantizer.ntotal=501 == C_vis=501\n"
     ]
    },
    {
     "name": "stderr",
     "output_type": "stream",
     "text": [
      " 60%|██████    | 6/10 [00:01<00:01,  3.69it/s]"
     ]
    },
    {
     "name": "stdout",
     "output_type": "stream",
     "text": [
      "local_quantizer.ntotal=601 == C_vis=601\n"
     ]
    },
    {
     "name": "stderr",
     "output_type": "stream",
     "text": [
      " 70%|███████   | 7/10 [00:01<00:01,  2.83it/s]"
     ]
    },
    {
     "name": "stdout",
     "output_type": "stream",
     "text": [
      "local_quantizer.ntotal=701 == C_vis=701\n"
     ]
    },
    {
     "name": "stderr",
     "output_type": "stream",
     "text": [
      " 80%|████████  | 8/10 [00:02<00:00,  2.17it/s]"
     ]
    },
    {
     "name": "stdout",
     "output_type": "stream",
     "text": [
      "local_quantizer.ntotal=801 == C_vis=801\n"
     ]
    },
    {
     "name": "stderr",
     "output_type": "stream",
     "text": [
      " 90%|█████████ | 9/10 [00:03<00:00,  1.69it/s]"
     ]
    },
    {
     "name": "stdout",
     "output_type": "stream",
     "text": [
      "local_quantizer.ntotal=901 == C_vis=901\n"
     ]
    },
    {
     "name": "stderr",
     "output_type": "stream",
     "text": [
      "100%|██████████| 10/10 [00:04<00:00,  2.04it/s]\n"
     ]
    },
    {
     "name": "stdout",
     "output_type": "stream",
     "text": [
      "Init Index... self.nlist=2000 self.niter=0 self.max_pts=256 self.seed=1 self.d=128\n",
      "\t---> Index Train Time = 97.53674996318296 ms | Add Time = 2400.8936699829064 ms | Assign Time (should be free if C++ implementation )= 2281.8348180153407<---\n"
     ]
    },
    {
     "name": "stderr",
     "output_type": "stream",
     "text": [
      "  0%|          | 0/10 [00:00<?, ?it/s]"
     ]
    },
    {
     "name": "stdout",
     "output_type": "stream",
     "text": [
      "local_quantizer.ntotal=1 == C_vis=1\n",
      "local_quantizer.ntotal=201 == C_vis=201\n",
      "local_quantizer.ntotal=401 == C_vis=401\n"
     ]
    },
    {
     "name": "stderr",
     "output_type": "stream",
     "text": [
      " 30%|███       | 3/10 [00:00<00:00, 10.12it/s]"
     ]
    },
    {
     "name": "stdout",
     "output_type": "stream",
     "text": [
      "local_quantizer.ntotal=601 == C_vis=601\n",
      "local_quantizer.ntotal=801 == C_vis=801\n"
     ]
    },
    {
     "name": "stderr",
     "output_type": "stream",
     "text": [
      " 50%|█████     | 5/10 [00:01<00:01,  3.99it/s]"
     ]
    },
    {
     "name": "stdout",
     "output_type": "stream",
     "text": [
      "local_quantizer.ntotal=1001 == C_vis=1001\n"
     ]
    },
    {
     "name": "stderr",
     "output_type": "stream",
     "text": [
      " 60%|██████    | 6/10 [00:01<00:01,  2.64it/s]"
     ]
    },
    {
     "name": "stdout",
     "output_type": "stream",
     "text": [
      "local_quantizer.ntotal=1201 == C_vis=1201\n"
     ]
    },
    {
     "name": "stderr",
     "output_type": "stream",
     "text": [
      " 70%|███████   | 7/10 [00:02<00:01,  1.91it/s]"
     ]
    },
    {
     "name": "stdout",
     "output_type": "stream",
     "text": [
      "local_quantizer.ntotal=1401 == C_vis=1401\n"
     ]
    },
    {
     "name": "stderr",
     "output_type": "stream",
     "text": [
      " 80%|████████  | 8/10 [00:03<00:01,  1.41it/s]"
     ]
    },
    {
     "name": "stdout",
     "output_type": "stream",
     "text": [
      "local_quantizer.ntotal=1601 == C_vis=1601\n"
     ]
    },
    {
     "name": "stderr",
     "output_type": "stream",
     "text": [
      " 90%|█████████ | 9/10 [00:05<00:00,  1.07it/s]"
     ]
    },
    {
     "name": "stdout",
     "output_type": "stream",
     "text": [
      "local_quantizer.ntotal=1801 == C_vis=1801\n"
     ]
    },
    {
     "name": "stderr",
     "output_type": "stream",
     "text": [
      "100%|██████████| 10/10 [00:07<00:00,  1.36it/s]\n"
     ]
    },
    {
     "name": "stdout",
     "output_type": "stream",
     "text": [
      "Init Index... self.nlist=5000 self.niter=0 self.max_pts=256 self.seed=1 self.d=128\n",
      "\t---> Index Train Time = 65.7912670285441 ms | Add Time = 5521.950980997644 ms | Assign Time (should be free if C++ implementation )= 5387.491517991293<---\n"
     ]
    },
    {
     "name": "stderr",
     "output_type": "stream",
     "text": [
      " 20%|██        | 2/10 [00:00<00:00, 13.43it/s]"
     ]
    },
    {
     "name": "stdout",
     "output_type": "stream",
     "text": [
      "local_quantizer.ntotal=1 == C_vis=1\n",
      "local_quantizer.ntotal=501 == C_vis=501\n",
      "local_quantizer.ntotal=1001 == C_vis=1001\n",
      "local_quantizer.ntotal=1501 == C_vis=1501\n"
     ]
    },
    {
     "name": "stderr",
     "output_type": "stream",
     "text": [
      " 40%|████      | 4/10 [00:01<00:02,  2.95it/s]"
     ]
    },
    {
     "name": "stdout",
     "output_type": "stream",
     "text": [
      "local_quantizer.ntotal=2001 == C_vis=2001\n"
     ]
    },
    {
     "name": "stderr",
     "output_type": "stream",
     "text": [
      " 50%|█████     | 5/10 [00:02<00:02,  1.80it/s]"
     ]
    },
    {
     "name": "stdout",
     "output_type": "stream",
     "text": [
      "local_quantizer.ntotal=2501 == C_vis=2501\n"
     ]
    },
    {
     "name": "stderr",
     "output_type": "stream",
     "text": [
      " 60%|██████    | 6/10 [00:03<00:03,  1.13it/s]"
     ]
    },
    {
     "name": "stdout",
     "output_type": "stream",
     "text": [
      "local_quantizer.ntotal=3001 == C_vis=3001\n"
     ]
    },
    {
     "name": "stderr",
     "output_type": "stream",
     "text": [
      " 70%|███████   | 7/10 [00:05<00:03,  1.23s/it]"
     ]
    },
    {
     "name": "stdout",
     "output_type": "stream",
     "text": [
      "local_quantizer.ntotal=3501 == C_vis=3501\n"
     ]
    },
    {
     "name": "stderr",
     "output_type": "stream",
     "text": [
      " 80%|████████  | 8/10 [00:08<00:03,  1.64s/it]"
     ]
    },
    {
     "name": "stdout",
     "output_type": "stream",
     "text": [
      "local_quantizer.ntotal=4001 == C_vis=4001\n"
     ]
    },
    {
     "name": "stderr",
     "output_type": "stream",
     "text": [
      " 90%|█████████ | 9/10 [00:12<00:02,  2.27s/it]"
     ]
    },
    {
     "name": "stdout",
     "output_type": "stream",
     "text": [
      "local_quantizer.ntotal=4501 == C_vis=4501\n"
     ]
    },
    {
     "name": "stderr",
     "output_type": "stream",
     "text": [
      "100%|██████████| 10/10 [00:17<00:00,  1.71s/it]\n"
     ]
    },
    {
     "name": "stdout",
     "output_type": "stream",
     "text": [
      "Init Index... self.nlist=10000 self.niter=0 self.max_pts=256 self.seed=1 self.d=128\n",
      "\t---> Index Train Time = 57.959650992415845 ms | Add Time = 11901.909217995126 ms | Assign Time (should be free if C++ implementation )= 11719.870853004977<---\n"
     ]
    },
    {
     "name": "stderr",
     "output_type": "stream",
     "text": [
      "  0%|          | 0/10 [00:00<?, ?it/s]"
     ]
    },
    {
     "name": "stdout",
     "output_type": "stream",
     "text": [
      "local_quantizer.ntotal=1 == C_vis=1\n",
      "local_quantizer.ntotal=1001 == C_vis=1001\n"
     ]
    },
    {
     "name": "stderr",
     "output_type": "stream",
     "text": [
      " 20%|██        | 2/10 [00:00<00:00,  9.06it/s]"
     ]
    },
    {
     "name": "stdout",
     "output_type": "stream",
     "text": [
      "local_quantizer.ntotal=2001 == C_vis=2001\n"
     ]
    },
    {
     "name": "stderr",
     "output_type": "stream",
     "text": [
      " 30%|███       | 3/10 [00:00<00:02,  3.07it/s]"
     ]
    },
    {
     "name": "stdout",
     "output_type": "stream",
     "text": [
      "local_quantizer.ntotal=3001 == C_vis=3001\n"
     ]
    },
    {
     "name": "stderr",
     "output_type": "stream",
     "text": [
      " 40%|████      | 4/10 [00:01<00:03,  1.60it/s]"
     ]
    },
    {
     "name": "stdout",
     "output_type": "stream",
     "text": [
      "local_quantizer.ntotal=4001 == C_vis=4001\n"
     ]
    },
    {
     "name": "stderr",
     "output_type": "stream",
     "text": [
      " 50%|█████     | 5/10 [00:03<00:05,  1.11s/it]"
     ]
    },
    {
     "name": "stdout",
     "output_type": "stream",
     "text": [
      "local_quantizer.ntotal=5001 == C_vis=5001\n"
     ]
    },
    {
     "name": "stderr",
     "output_type": "stream",
     "text": [
      " 60%|██████    | 6/10 [00:07<00:07,  1.82s/it]"
     ]
    },
    {
     "name": "stdout",
     "output_type": "stream",
     "text": [
      "local_quantizer.ntotal=6001 == C_vis=6001\n"
     ]
    },
    {
     "name": "stderr",
     "output_type": "stream",
     "text": [
      " 70%|███████   | 7/10 [00:11<00:07,  2.51s/it]"
     ]
    },
    {
     "name": "stdout",
     "output_type": "stream",
     "text": [
      "local_quantizer.ntotal=7001 == C_vis=7001\n"
     ]
    },
    {
     "name": "stderr",
     "output_type": "stream",
     "text": [
      " 80%|████████  | 8/10 [00:16<00:06,  3.35s/it]"
     ]
    },
    {
     "name": "stdout",
     "output_type": "stream",
     "text": [
      "local_quantizer.ntotal=8001 == C_vis=8001\n"
     ]
    },
    {
     "name": "stderr",
     "output_type": "stream",
     "text": [
      " 90%|█████████ | 9/10 [00:23<00:04,  4.56s/it]"
     ]
    },
    {
     "name": "stdout",
     "output_type": "stream",
     "text": [
      "local_quantizer.ntotal=9001 == C_vis=9001\n"
     ]
    },
    {
     "name": "stderr",
     "output_type": "stream",
     "text": [
      "100%|██████████| 10/10 [00:32<00:00,  3.22s/it]\n"
     ]
    },
    {
     "name": "stdout",
     "output_type": "stream",
     "text": [
      "Init Index... self.nlist=15000 self.niter=0 self.max_pts=256 self.seed=1 self.d=128\n",
      "\t---> Index Train Time = 55.8038370218128 ms | Add Time = 18109.356077038683 ms | Assign Time (should be free if C++ implementation )= 17775.43398598209<---\n"
     ]
    },
    {
     "name": "stderr",
     "output_type": "stream",
     "text": [
      "  0%|          | 0/10 [00:00<?, ?it/s]"
     ]
    },
    {
     "name": "stdout",
     "output_type": "stream",
     "text": [
      "local_quantizer.ntotal=1 == C_vis=1\n",
      "local_quantizer.ntotal=1501 == C_vis=1501\n"
     ]
    },
    {
     "name": "stderr",
     "output_type": "stream",
     "text": [
      " 20%|██        | 2/10 [00:00<00:01,  6.77it/s]"
     ]
    },
    {
     "name": "stdout",
     "output_type": "stream",
     "text": [
      "local_quantizer.ntotal=3001 == C_vis=3001\n"
     ]
    },
    {
     "name": "stderr",
     "output_type": "stream",
     "text": [
      " 30%|███       | 3/10 [00:01<00:02,  2.42it/s]"
     ]
    },
    {
     "name": "stdout",
     "output_type": "stream",
     "text": [
      "local_quantizer.ntotal=4501 == C_vis=4501\n"
     ]
    },
    {
     "name": "stderr",
     "output_type": "stream",
     "text": [
      " 40%|████      | 4/10 [00:02<00:05,  1.18it/s]"
     ]
    },
    {
     "name": "stdout",
     "output_type": "stream",
     "text": [
      "local_quantizer.ntotal=6001 == C_vis=6001\n"
     ]
    },
    {
     "name": "stderr",
     "output_type": "stream",
     "text": [
      " 50%|█████     | 5/10 [00:05<00:07,  1.57s/it]"
     ]
    },
    {
     "name": "stdout",
     "output_type": "stream",
     "text": [
      "local_quantizer.ntotal=7501 == C_vis=7501\n"
     ]
    },
    {
     "name": "stderr",
     "output_type": "stream",
     "text": [
      " 60%|██████    | 6/10 [00:10<00:10,  2.53s/it]"
     ]
    },
    {
     "name": "stdout",
     "output_type": "stream",
     "text": [
      "local_quantizer.ntotal=9001 == C_vis=9001\n"
     ]
    },
    {
     "name": "stderr",
     "output_type": "stream",
     "text": [
      " 70%|███████   | 7/10 [00:15<00:10,  3.44s/it]"
     ]
    },
    {
     "name": "stdout",
     "output_type": "stream",
     "text": [
      "local_quantizer.ntotal=10501 == C_vis=10501\n"
     ]
    },
    {
     "name": "stderr",
     "output_type": "stream",
     "text": [
      " 80%|████████  | 8/10 [00:22<00:09,  4.64s/it]"
     ]
    },
    {
     "name": "stdout",
     "output_type": "stream",
     "text": [
      "local_quantizer.ntotal=12001 == C_vis=12001\n"
     ]
    },
    {
     "name": "stderr",
     "output_type": "stream",
     "text": [
      " 90%|█████████ | 9/10 [00:33<00:06,  6.47s/it]"
     ]
    },
    {
     "name": "stdout",
     "output_type": "stream",
     "text": [
      "local_quantizer.ntotal=13501 == C_vis=13501\n"
     ]
    },
    {
     "name": "stderr",
     "output_type": "stream",
     "text": [
      "100%|██████████| 10/10 [00:47<00:00,  4.74s/it]\n"
     ]
    }
   ],
   "source": [
    "X_data, y_data = measure_commit_reorg_for_refine(xb,xq)"
   ]
  },
  {
   "cell_type": "code",
   "execution_count": 24,
   "metadata": {},
   "outputs": [
    {
     "name": "stdout",
     "output_type": "stream",
     "text": [
      "Fitted model: T = w1 * X1 + w2 * X2 + b\n",
      "w1 = 8.912474562983087e-09, w2 = 1.2000867199316712e-06, b = -8.689369633586466\n",
      "Mean Absolute Error (MAE): 73.16477176511876 ms\n"
     ]
    },
    {
     "data": {
      "image/png": "[encoded data removed]",
      "text/plain": [
       "<Figure size 800x600 with 1 Axes>"
      ]
     },
     "metadata": {},
     "output_type": "display_data"
    },
    {
     "name": "stdout",
     "output_type": "stream",
     "text": [
      "MSE (in ms^2): 28254.48174803881\n",
      "RMSE (in ms): 168.09069500730493\n",
      "R2 Score: 0.9953926913104097\n"
     ]
    },
    {
     "data": {
      "text/plain": [
       "8.912474562983087e-09"
      ]
     },
     "execution_count": 24,
     "metadata": {},
     "output_type": "execute_result"
    },
    {
     "data": {
      "text/plain": [
       "1.2000867199316712e-06"
      ]
     },
     "execution_count": 24,
     "metadata": {},
     "output_type": "execute_result"
    },
    {
     "data": {
      "text/plain": [
       "-8.689369633586466"
      ]
     },
     "execution_count": 24,
     "metadata": {},
     "output_type": "execute_result"
    }
   ],
   "source": [
    "# X_data = np.array(input_features)  # Shape: (num_samples, 2)\n",
    "# y_data = np.array(target_variable_y_ms)  # Shape: (num_samples, )\n",
    "\n",
    "w1, w2, b, mae, localkm_model = fit_and_evaluate_model(X_data, y_data)\n",
    "w1\n",
    "w2\n",
    "b\n",
    "#w1 = 8.912474562983087e-09, w2 = 1.2000867199316712e-06, b = -8.689369633586466"
   ]
  },
  {
   "cell_type": "markdown",
   "metadata": {},
   "source": [
    "Test on other datasets:"
   ]
  },
  {
   "cell_type": "code",
   "execution_count": null,
   "metadata": {},
   "outputs": [
    {
     "name": "stdout",
     "output_type": "stream",
     "text": [
      "Loading Dataset = lastfm-64-dot\n",
      "File already exists at /pub/scratch/vmageirakos/vdb-project-data/data/datasets/lastfm-64-dot.hdf5. Skipping download.\n",
      "Init Index... self.nlist=100 self.niter=0 self.max_pts=256 self.seed=1 self.d=65\n",
      "\t---> Index Train Time = 11.064436985179782 ms | Add Time = 103.13139704521745 ms | Assign Time (should be free if C++ implementation )= 52.72827099543065<---\n"
     ]
    },
    {
     "name": "stderr",
     "output_type": "stream",
     "text": [
      "  0%|          | 0/10 [00:00<?, ?it/s]"
     ]
    },
    {
     "name": "stdout",
     "output_type": "stream",
     "text": [
      "local_quantizer.ntotal=1 == C_vis=1\n"
     ]
    },
    {
     "name": "stderr",
     "output_type": "stream",
     "text": [
      " 70%|███████   | 7/10 [00:00<00:00, 45.68it/s]"
     ]
    },
    {
     "name": "stdout",
     "output_type": "stream",
     "text": [
      "local_quantizer.ntotal=11 == C_vis=11\n",
      "local_quantizer.ntotal=21 == C_vis=21\n",
      "local_quantizer.ntotal=31 == C_vis=31\n",
      "local_quantizer.ntotal=41 == C_vis=41\n",
      "local_quantizer.ntotal=51 == C_vis=51\n",
      "local_quantizer.ntotal=61 == C_vis=61\n",
      "local_quantizer.ntotal=71 == C_vis=71\n"
     ]
    },
    {
     "name": "stderr",
     "output_type": "stream",
     "text": [
      "100%|██████████| 10/10 [00:00<00:00, 25.02it/s]"
     ]
    },
    {
     "name": "stdout",
     "output_type": "stream",
     "text": [
      "local_quantizer.ntotal=81 == C_vis=81\n",
      "local_quantizer.ntotal=91 == C_vis=91\n",
      "Init Index... self.nlist=200 self.niter=0 self.max_pts=256 self.seed=1 self.d=65\n"
     ]
    },
    {
     "name": "stderr",
     "output_type": "stream",
     "text": [
      "\n"
     ]
    },
    {
     "name": "stdout",
     "output_type": "stream",
     "text": [
      "\t---> Index Train Time = 18.293065018951893 ms | Add Time = 113.78437501844019 ms | Assign Time (should be free if C++ implementation )= 80.93681500758976<---\n"
     ]
    },
    {
     "name": "stderr",
     "output_type": "stream",
     "text": [
      " 70%|███████   | 7/10 [00:00<00:00, 54.31it/s]"
     ]
    },
    {
     "name": "stdout",
     "output_type": "stream",
     "text": [
      "local_quantizer.ntotal=1 == C_vis=1\n",
      "local_quantizer.ntotal=21 == C_vis=21\n",
      "local_quantizer.ntotal=41 == C_vis=41\n",
      "local_quantizer.ntotal=61 == C_vis=61\n",
      "local_quantizer.ntotal=81 == C_vis=81\n",
      "local_quantizer.ntotal=101 == C_vis=101\n",
      "local_quantizer.ntotal=121 == C_vis=121\n",
      "local_quantizer.ntotal=141 == C_vis=141\n"
     ]
    },
    {
     "name": "stderr",
     "output_type": "stream",
     "text": [
      "100%|██████████| 10/10 [00:00<00:00, 26.05it/s]"
     ]
    },
    {
     "name": "stdout",
     "output_type": "stream",
     "text": [
      "local_quantizer.ntotal=161 == C_vis=161\n",
      "local_quantizer.ntotal=181 == C_vis=181\n",
      "Init Index... self.nlist=500 self.niter=0 self.max_pts=256 self.seed=1 self.d=65\n"
     ]
    },
    {
     "name": "stderr",
     "output_type": "stream",
     "text": [
      "\n"
     ]
    },
    {
     "name": "stdout",
     "output_type": "stream",
     "text": [
      "\t---> Index Train Time = 25.853772007394582 ms | Add Time = 200.86641103262082 ms | Assign Time (should be free if C++ implementation )= 160.02687497530133<---\n"
     ]
    },
    {
     "name": "stderr",
     "output_type": "stream",
     "text": [
      " 60%|██████    | 6/10 [00:00<00:00, 43.84it/s]"
     ]
    },
    {
     "name": "stdout",
     "output_type": "stream",
     "text": [
      "local_quantizer.ntotal=1 == C_vis=1\n",
      "local_quantizer.ntotal=51 == C_vis=51\n",
      "local_quantizer.ntotal=101 == C_vis=101\n",
      "local_quantizer.ntotal=151 == C_vis=151\n",
      "local_quantizer.ntotal=201 == C_vis=201\n",
      "local_quantizer.ntotal=251 == C_vis=251\n",
      "local_quantizer.ntotal=301 == C_vis=301\n",
      "local_quantizer.ntotal=351 == C_vis=351\n",
      "local_quantizer.ntotal=401 == C_vis=401\n"
     ]
    },
    {
     "name": "stderr",
     "output_type": "stream",
     "text": [
      "100%|██████████| 10/10 [00:00<00:00, 14.35it/s]"
     ]
    },
    {
     "name": "stdout",
     "output_type": "stream",
     "text": [
      "local_quantizer.ntotal=451 == C_vis=451\n",
      "Init Index... self.nlist=1000 self.niter=0 self.max_pts=256 self.seed=1 self.d=65\n"
     ]
    },
    {
     "name": "stderr",
     "output_type": "stream",
     "text": [
      "\n"
     ]
    },
    {
     "name": "stdout",
     "output_type": "stream",
     "text": [
      "\t---> Index Train Time = 42.94208995997906 ms | Add Time = 353.3502889913507 ms | Assign Time (should be free if C++ implementation )= 308.58106596861035<---\n"
     ]
    },
    {
     "name": "stderr",
     "output_type": "stream",
     "text": [
      " 50%|█████     | 5/10 [00:00<00:00, 43.77it/s]"
     ]
    },
    {
     "name": "stdout",
     "output_type": "stream",
     "text": [
      "local_quantizer.ntotal=1 == C_vis=1\n",
      "local_quantizer.ntotal=101 == C_vis=101\n",
      "local_quantizer.ntotal=201 == C_vis=201\n",
      "local_quantizer.ntotal=301 == C_vis=301\n",
      "local_quantizer.ntotal=401 == C_vis=401\n",
      "local_quantizer.ntotal=501 == C_vis=501\n",
      "local_quantizer.ntotal=601 == C_vis=601\n",
      "local_quantizer.ntotal=701 == C_vis=701\n",
      "local_quantizer.ntotal=801 == C_vis=801\n",
      "local_quantizer.ntotal=901 == C_vis=901\n"
     ]
    },
    {
     "name": "stderr",
     "output_type": "stream",
     "text": [
      "100%|██████████| 10/10 [00:01<00:00,  9.41it/s]\n"
     ]
    },
    {
     "name": "stdout",
     "output_type": "stream",
     "text": [
      "Init Index... self.nlist=2000 self.niter=0 self.max_pts=256 self.seed=1 self.d=65\n",
      "\t---> Index Train Time = 11.28460600739345 ms | Add Time = 657.9647169564851 ms | Assign Time (should be free if C++ implementation )= 600.8955790312029<---\n"
     ]
    },
    {
     "name": "stderr",
     "output_type": "stream",
     "text": [
      "  0%|          | 0/10 [00:00<?, ?it/s]"
     ]
    },
    {
     "name": "stdout",
     "output_type": "stream",
     "text": [
      "local_quantizer.ntotal=1 == C_vis=1\n",
      "local_quantizer.ntotal=201 == C_vis=201\n",
      "local_quantizer.ntotal=401 == C_vis=401\n",
      "local_quantizer.ntotal=601 == C_vis=601\n",
      "local_quantizer.ntotal=801 == C_vis=801\n"
     ]
    },
    {
     "name": "stderr",
     "output_type": "stream",
     "text": [
      " 50%|█████     | 5/10 [00:00<00:00, 26.10it/s]"
     ]
    },
    {
     "name": "stdout",
     "output_type": "stream",
     "text": [
      "local_quantizer.ntotal=1001 == C_vis=1001\n",
      "local_quantizer.ntotal=1201 == C_vis=1201\n",
      "local_quantizer.ntotal=1401 == C_vis=1401\n"
     ]
    },
    {
     "name": "stderr",
     "output_type": "stream",
     "text": [
      " 80%|████████  | 8/10 [00:00<00:00,  7.50it/s]"
     ]
    },
    {
     "name": "stdout",
     "output_type": "stream",
     "text": [
      "local_quantizer.ntotal=1601 == C_vis=1601\n",
      "local_quantizer.ntotal=1801 == C_vis=1801\n"
     ]
    },
    {
     "name": "stderr",
     "output_type": "stream",
     "text": [
      "100%|██████████| 10/10 [00:01<00:00,  5.24it/s]\n"
     ]
    },
    {
     "name": "stdout",
     "output_type": "stream",
     "text": [
      "Init Index... self.nlist=5000 self.niter=0 self.max_pts=256 self.seed=1 self.d=65\n",
      "\t---> Index Train Time = 9.89099097205326 ms | Add Time = 1573.734451958444 ms | Assign Time (should be free if C++ implementation )= 1469.7392079979181<---\n"
     ]
    },
    {
     "name": "stderr",
     "output_type": "stream",
     "text": [
      "  0%|          | 0/10 [00:00<?, ?it/s]"
     ]
    },
    {
     "name": "stdout",
     "output_type": "stream",
     "text": [
      "local_quantizer.ntotal=1 == C_vis=1\n",
      "local_quantizer.ntotal=501 == C_vis=501\n",
      "local_quantizer.ntotal=1001 == C_vis=1001\n",
      "local_quantizer.ntotal=1501 == C_vis=1501\n"
     ]
    },
    {
     "name": "stderr",
     "output_type": "stream",
     "text": [
      " 40%|████      | 4/10 [00:00<00:00, 19.58it/s]"
     ]
    },
    {
     "name": "stdout",
     "output_type": "stream",
     "text": [
      "local_quantizer.ntotal=2001 == C_vis=2001\n",
      "local_quantizer.ntotal=2501 == C_vis=2501\n"
     ]
    },
    {
     "name": "stderr",
     "output_type": "stream",
     "text": [
      " 60%|██████    | 6/10 [00:00<00:00,  6.50it/s]"
     ]
    },
    {
     "name": "stdout",
     "output_type": "stream",
     "text": [
      "local_quantizer.ntotal=3001 == C_vis=3001\n",
      "local_quantizer.ntotal=3501 == C_vis=3501\n"
     ]
    },
    {
     "name": "stderr",
     "output_type": "stream",
     "text": [
      " 80%|████████  | 8/10 [00:02<00:00,  2.85it/s]"
     ]
    },
    {
     "name": "stdout",
     "output_type": "stream",
     "text": [
      "local_quantizer.ntotal=4001 == C_vis=4001\n"
     ]
    },
    {
     "name": "stderr",
     "output_type": "stream",
     "text": [
      " 90%|█████████ | 9/10 [00:03<00:00,  2.00it/s]"
     ]
    },
    {
     "name": "stdout",
     "output_type": "stream",
     "text": [
      "local_quantizer.ntotal=4501 == C_vis=4501\n"
     ]
    },
    {
     "name": "stderr",
     "output_type": "stream",
     "text": [
      "100%|██████████| 10/10 [00:04<00:00,  2.21it/s]\n",
      "WARNING clustering 292385 points to 10000 centroids: please provide at least 390000 training points\n"
     ]
    },
    {
     "name": "stdout",
     "output_type": "stream",
     "text": [
      "Init Index... self.nlist=10000 self.niter=0 self.max_pts=256 self.seed=1 self.d=65\n",
      "\t---> Index Train Time = 10.111478972248733 ms | Add Time = 3099.008032993879 ms | Assign Time (should be free if C++ implementation )= 2934.379620011896<---\n"
     ]
    },
    {
     "name": "stderr",
     "output_type": "stream",
     "text": [
      " 30%|███       | 3/10 [00:00<00:00, 18.39it/s]"
     ]
    },
    {
     "name": "stdout",
     "output_type": "stream",
     "text": [
      "local_quantizer.ntotal=1 == C_vis=1\n",
      "local_quantizer.ntotal=1001 == C_vis=1001\n",
      "local_quantizer.ntotal=2001 == C_vis=2001\n",
      "local_quantizer.ntotal=3001 == C_vis=3001\n",
      "local_quantizer.ntotal=4001 == C_vis=4001\n"
     ]
    },
    {
     "name": "stderr",
     "output_type": "stream",
     "text": [
      " 50%|█████     | 5/10 [00:00<00:01,  4.83it/s]"
     ]
    },
    {
     "name": "stdout",
     "output_type": "stream",
     "text": [
      "local_quantizer.ntotal=5001 == C_vis=5001\n"
     ]
    },
    {
     "name": "stderr",
     "output_type": "stream",
     "text": [
      " 60%|██████    | 6/10 [00:01<00:01,  2.80it/s]"
     ]
    },
    {
     "name": "stdout",
     "output_type": "stream",
     "text": [
      "local_quantizer.ntotal=6001 == C_vis=6001\n"
     ]
    },
    {
     "name": "stderr",
     "output_type": "stream",
     "text": [
      " 70%|███████   | 7/10 [00:02<00:01,  1.70it/s]"
     ]
    },
    {
     "name": "stdout",
     "output_type": "stream",
     "text": [
      "local_quantizer.ntotal=7001 == C_vis=7001\n"
     ]
    },
    {
     "name": "stderr",
     "output_type": "stream",
     "text": [
      " 80%|████████  | 8/10 [00:04<00:01,  1.14it/s]"
     ]
    },
    {
     "name": "stdout",
     "output_type": "stream",
     "text": [
      "local_quantizer.ntotal=8001 == C_vis=8001\n"
     ]
    },
    {
     "name": "stderr",
     "output_type": "stream",
     "text": [
      " 90%|█████████ | 9/10 [00:06<00:01,  1.23s/it]"
     ]
    },
    {
     "name": "stdout",
     "output_type": "stream",
     "text": [
      "local_quantizer.ntotal=9001 == C_vis=9001\n"
     ]
    },
    {
     "name": "stderr",
     "output_type": "stream",
     "text": [
      "100%|██████████| 10/10 [00:09<00:00,  1.08it/s]\n",
      "WARNING clustering 292385 points to 15000 centroids: please provide at least 585000 training points\n"
     ]
    },
    {
     "name": "stdout",
     "output_type": "stream",
     "text": [
      "Init Index... self.nlist=15000 self.niter=0 self.max_pts=256 self.seed=1 self.d=65\n",
      "\t---> Index Train Time = 35.4319519829005 ms | Add Time = 4731.131288979668 ms | Assign Time (should be free if C++ implementation )= 4814.574446005281<---\n"
     ]
    },
    {
     "name": "stderr",
     "output_type": "stream",
     "text": [
      "  0%|          | 0/10 [00:00<?, ?it/s]"
     ]
    },
    {
     "name": "stdout",
     "output_type": "stream",
     "text": [
      "local_quantizer.ntotal=1 == C_vis=1\n",
      "local_quantizer.ntotal=1501 == C_vis=1501\n",
      "local_quantizer.ntotal=3001 == C_vis=3001\n"
     ]
    },
    {
     "name": "stderr",
     "output_type": "stream",
     "text": [
      " 30%|███       | 3/10 [00:00<00:00, 13.22it/s]"
     ]
    },
    {
     "name": "stdout",
     "output_type": "stream",
     "text": [
      "local_quantizer.ntotal=4501 == C_vis=4501\n",
      "local_quantizer.ntotal=6001 == C_vis=6001\n"
     ]
    },
    {
     "name": "stderr",
     "output_type": "stream",
     "text": [
      " 50%|█████     | 5/10 [00:01<00:01,  3.30it/s]"
     ]
    },
    {
     "name": "stdout",
     "output_type": "stream",
     "text": [
      "local_quantizer.ntotal=7501 == C_vis=7501\n"
     ]
    },
    {
     "name": "stderr",
     "output_type": "stream",
     "text": [
      " 60%|██████    | 6/10 [00:02<00:02,  1.94it/s]"
     ]
    },
    {
     "name": "stdout",
     "output_type": "stream",
     "text": [
      "local_quantizer.ntotal=9001 == C_vis=9001\n"
     ]
    },
    {
     "name": "stderr",
     "output_type": "stream",
     "text": [
      " 70%|███████   | 7/10 [00:04<00:02,  1.19it/s]"
     ]
    },
    {
     "name": "stdout",
     "output_type": "stream",
     "text": [
      "local_quantizer.ntotal=10501 == C_vis=10501\n"
     ]
    },
    {
     "name": "stderr",
     "output_type": "stream",
     "text": [
      " 80%|████████  | 8/10 [00:06<00:02,  1.27s/it]"
     ]
    },
    {
     "name": "stdout",
     "output_type": "stream",
     "text": [
      "local_quantizer.ntotal=12001 == C_vis=12001\n"
     ]
    },
    {
     "name": "stderr",
     "output_type": "stream",
     "text": [
      " 90%|█████████ | 9/10 [00:09<00:01,  1.80s/it]"
     ]
    },
    {
     "name": "stdout",
     "output_type": "stream",
     "text": [
      "local_quantizer.ntotal=13501 == C_vis=13501\n"
     ]
    },
    {
     "name": "stderr",
     "output_type": "stream",
     "text": [
      "100%|██████████| 10/10 [00:13<00:00,  1.35s/it]\n"
     ]
    },
    {
     "name": "stdout",
     "output_type": "stream",
     "text": [
      "Mean Absolute Error (MAE) on new dataset: 169.5101655637962 ms\n"
     ]
    },
    {
     "data": {
      "image/png": "[encoded data removed]",
      "text/plain": [
       "<Figure size 800x600 with 1 Axes>"
      ]
     },
     "metadata": {},
     "output_type": "display_data"
    },
    {
     "name": "stdout",
     "output_type": "stream",
     "text": [
      "dbname='lastfm-64-dot'\n",
      "MSE (in ms^2): 125450.58838846251\n",
      "RMSE (in ms): 354.1900455807059\n",
      "R2 Score: 0.7568807264517666\n"
     ]
    },
    {
     "data": {
      "text/plain": [
       "169.5101655637962"
      ]
     },
     "execution_count": 23,
     "metadata": {},
     "output_type": "execute_result"
    }
   ],
   "source": [
    "# dbname = \"sift-128-euclidean\"\n",
    "dbname = \"lastfm-64-dot\"\n",
    "# dbname = \"SIFT10M\"\n",
    "# dbname = \"deep-image-96-angular\"\n",
    "# xb, xq, gt, metric = load_dataset(\"SIFT1M\")\n",
    "xb, xq, gt, metric = load_dataset(dbname)\n",
    "NUM_THREADS = 16\n",
    "faiss.omp_set_num_threads(NUM_THREADS)\n",
    "\n",
    "X_new, y_new =  measure_commit_reorg_for_refine(xb,xq) # get measurements\n",
    "evaluate_existing_model(localkm_model, X_new, y_new, dbname) # test existing trained model"
   ]
  },
  {
   "cell_type": "code",
   "execution_count": 27,
   "metadata": {},
   "outputs": [
    {
     "name": "stdout",
     "output_type": "stream",
     "text": [
      "Loading Dataset = SIFT10M\n",
      "Init Index... self.nlist=100 self.niter=0 self.max_pts=256 self.seed=1 self.d=128\n",
      "\t---> Index Train Time = 26206.395159009844 ms | Add Time = 6474.800662021153 ms | Assign Time (should be free if C++ implementation )= 2990.8739490201697<---\n"
     ]
    },
    {
     "name": "stderr",
     "output_type": "stream",
     "text": [
      " 10%|█         | 1/10 [00:00<00:01,  7.63it/s]"
     ]
    },
    {
     "name": "stdout",
     "output_type": "stream",
     "text": [
      "local_quantizer.ntotal=1 == C_vis=1\n",
      "local_quantizer.ntotal=11 == C_vis=11\n"
     ]
    },
    {
     "name": "stderr",
     "output_type": "stream",
     "text": [
      " 20%|██        | 2/10 [00:01<00:04,  1.66it/s]"
     ]
    },
    {
     "name": "stdout",
     "output_type": "stream",
     "text": [
      "local_quantizer.ntotal=21 == C_vis=21\n"
     ]
    },
    {
     "name": "stderr",
     "output_type": "stream",
     "text": [
      " 30%|███       | 3/10 [00:02<00:06,  1.06it/s]"
     ]
    },
    {
     "name": "stdout",
     "output_type": "stream",
     "text": [
      "local_quantizer.ntotal=31 == C_vis=31\n"
     ]
    },
    {
     "name": "stderr",
     "output_type": "stream",
     "text": [
      " 40%|████      | 4/10 [00:04<00:07,  1.28s/it]"
     ]
    },
    {
     "name": "stdout",
     "output_type": "stream",
     "text": [
      "local_quantizer.ntotal=41 == C_vis=41\n"
     ]
    },
    {
     "name": "stderr",
     "output_type": "stream",
     "text": [
      " 50%|█████     | 5/10 [00:06<00:07,  1.59s/it]"
     ]
    },
    {
     "name": "stdout",
     "output_type": "stream",
     "text": [
      "local_quantizer.ntotal=51 == C_vis=51\n"
     ]
    },
    {
     "name": "stderr",
     "output_type": "stream",
     "text": [
      " 60%|██████    | 6/10 [00:09<00:08,  2.00s/it]"
     ]
    },
    {
     "name": "stdout",
     "output_type": "stream",
     "text": [
      "local_quantizer.ntotal=61 == C_vis=61\n"
     ]
    },
    {
     "name": "stderr",
     "output_type": "stream",
     "text": [
      " 70%|███████   | 7/10 [00:12<00:07,  2.46s/it]"
     ]
    },
    {
     "name": "stdout",
     "output_type": "stream",
     "text": [
      "local_quantizer.ntotal=71 == C_vis=71\n"
     ]
    },
    {
     "name": "stderr",
     "output_type": "stream",
     "text": [
      " 80%|████████  | 8/10 [00:16<00:05,  2.91s/it]"
     ]
    },
    {
     "name": "stdout",
     "output_type": "stream",
     "text": [
      "local_quantizer.ntotal=81 == C_vis=81\n"
     ]
    },
    {
     "name": "stderr",
     "output_type": "stream",
     "text": [
      " 90%|█████████ | 9/10 [00:20<00:03,  3.43s/it]"
     ]
    },
    {
     "name": "stdout",
     "output_type": "stream",
     "text": [
      "local_quantizer.ntotal=91 == C_vis=91\n"
     ]
    },
    {
     "name": "stderr",
     "output_type": "stream",
     "text": [
      "100%|██████████| 10/10 [00:26<00:00,  2.63s/it]\n"
     ]
    },
    {
     "name": "stdout",
     "output_type": "stream",
     "text": [
      "Init Index... self.nlist=200 self.niter=0 self.max_pts=256 self.seed=1 self.d=128\n",
      "\t---> Index Train Time = 1055.4001959972084 ms | Add Time = 6268.551753018983 ms | Assign Time (should be free if C++ implementation )= 3810.2559620165266<---\n"
     ]
    },
    {
     "name": "stderr",
     "output_type": "stream",
     "text": [
      "  0%|          | 0/10 [00:00<?, ?it/s]"
     ]
    },
    {
     "name": "stdout",
     "output_type": "stream",
     "text": [
      "local_quantizer.ntotal=1 == C_vis=1\n",
      "local_quantizer.ntotal=21 == C_vis=21\n"
     ]
    },
    {
     "name": "stderr",
     "output_type": "stream",
     "text": [
      " 20%|██        | 2/10 [00:00<00:02,  2.80it/s]"
     ]
    },
    {
     "name": "stdout",
     "output_type": "stream",
     "text": [
      "local_quantizer.ntotal=41 == C_vis=41\n"
     ]
    },
    {
     "name": "stderr",
     "output_type": "stream",
     "text": [
      " 30%|███       | 3/10 [00:01<00:05,  1.40it/s]"
     ]
    },
    {
     "name": "stdout",
     "output_type": "stream",
     "text": [
      "local_quantizer.ntotal=61 == C_vis=61\n"
     ]
    },
    {
     "name": "stderr",
     "output_type": "stream",
     "text": [
      " 40%|████      | 4/10 [00:03<00:06,  1.05s/it]"
     ]
    },
    {
     "name": "stdout",
     "output_type": "stream",
     "text": [
      "local_quantizer.ntotal=81 == C_vis=81\n"
     ]
    },
    {
     "name": "stderr",
     "output_type": "stream",
     "text": [
      " 50%|█████     | 5/10 [00:05<00:06,  1.35s/it]"
     ]
    },
    {
     "name": "stdout",
     "output_type": "stream",
     "text": [
      "local_quantizer.ntotal=101 == C_vis=101\n"
     ]
    },
    {
     "name": "stderr",
     "output_type": "stream",
     "text": [
      " 60%|██████    | 6/10 [00:08<00:07,  1.78s/it]"
     ]
    },
    {
     "name": "stdout",
     "output_type": "stream",
     "text": [
      "local_quantizer.ntotal=121 == C_vis=121\n"
     ]
    },
    {
     "name": "stderr",
     "output_type": "stream",
     "text": [
      " 70%|███████   | 7/10 [00:11<00:07,  2.44s/it]"
     ]
    },
    {
     "name": "stdout",
     "output_type": "stream",
     "text": [
      "local_quantizer.ntotal=141 == C_vis=141\n"
     ]
    },
    {
     "name": "stderr",
     "output_type": "stream",
     "text": [
      " 80%|████████  | 8/10 [00:16<00:06,  3.06s/it]"
     ]
    },
    {
     "name": "stdout",
     "output_type": "stream",
     "text": [
      "local_quantizer.ntotal=161 == C_vis=161\n"
     ]
    },
    {
     "name": "stderr",
     "output_type": "stream",
     "text": [
      " 90%|█████████ | 9/10 [00:21<00:03,  3.73s/it]"
     ]
    },
    {
     "name": "stdout",
     "output_type": "stream",
     "text": [
      "local_quantizer.ntotal=181 == C_vis=181\n"
     ]
    },
    {
     "name": "stderr",
     "output_type": "stream",
     "text": [
      "100%|██████████| 10/10 [00:28<00:00,  2.80s/it]\n"
     ]
    },
    {
     "name": "stdout",
     "output_type": "stream",
     "text": [
      "Init Index... self.nlist=500 self.niter=0 self.max_pts=256 self.seed=1 self.d=128\n",
      "\t---> Index Train Time = 1035.9888940001838 ms | Add Time = 9256.777775997762 ms | Assign Time (should be free if C++ implementation )= 7476.966579968575<---\n"
     ]
    },
    {
     "name": "stderr",
     "output_type": "stream",
     "text": [
      "  0%|          | 0/10 [00:00<?, ?it/s]"
     ]
    },
    {
     "name": "stdout",
     "output_type": "stream",
     "text": [
      "local_quantizer.ntotal=1 == C_vis=1\n",
      "local_quantizer.ntotal=51 == C_vis=51\n"
     ]
    },
    {
     "name": "stderr",
     "output_type": "stream",
     "text": [
      " 20%|██        | 2/10 [00:00<00:02,  2.91it/s]"
     ]
    },
    {
     "name": "stdout",
     "output_type": "stream",
     "text": [
      "local_quantizer.ntotal=101 == C_vis=101\n"
     ]
    },
    {
     "name": "stderr",
     "output_type": "stream",
     "text": [
      " 30%|███       | 3/10 [00:01<00:04,  1.56it/s]"
     ]
    },
    {
     "name": "stdout",
     "output_type": "stream",
     "text": [
      "local_quantizer.ntotal=151 == C_vis=151\n"
     ]
    },
    {
     "name": "stderr",
     "output_type": "stream",
     "text": [
      " 40%|████      | 4/10 [00:03<00:05,  1.01it/s]"
     ]
    },
    {
     "name": "stdout",
     "output_type": "stream",
     "text": [
      "local_quantizer.ntotal=201 == C_vis=201\n"
     ]
    },
    {
     "name": "stderr",
     "output_type": "stream",
     "text": [
      " 50%|█████     | 5/10 [00:05<00:06,  1.40s/it]"
     ]
    },
    {
     "name": "stdout",
     "output_type": "stream",
     "text": [
      "local_quantizer.ntotal=251 == C_vis=251\n"
     ]
    },
    {
     "name": "stderr",
     "output_type": "stream",
     "text": [
      " 60%|██████    | 6/10 [00:08<00:07,  1.95s/it]"
     ]
    },
    {
     "name": "stdout",
     "output_type": "stream",
     "text": [
      "local_quantizer.ntotal=301 == C_vis=301\n"
     ]
    },
    {
     "name": "stderr",
     "output_type": "stream",
     "text": [
      " 70%|███████   | 7/10 [00:12<00:08,  2.74s/it]"
     ]
    },
    {
     "name": "stdout",
     "output_type": "stream",
     "text": [
      "local_quantizer.ntotal=351 == C_vis=351\n"
     ]
    },
    {
     "name": "stderr",
     "output_type": "stream",
     "text": [
      " 80%|████████  | 8/10 [00:18<00:07,  3.67s/it]"
     ]
    },
    {
     "name": "stdout",
     "output_type": "stream",
     "text": [
      "local_quantizer.ntotal=401 == C_vis=401\n"
     ]
    },
    {
     "name": "stderr",
     "output_type": "stream",
     "text": [
      " 90%|█████████ | 9/10 [00:25<00:04,  4.75s/it]"
     ]
    },
    {
     "name": "stdout",
     "output_type": "stream",
     "text": [
      "local_quantizer.ntotal=451 == C_vis=451\n"
     ]
    },
    {
     "name": "stderr",
     "output_type": "stream",
     "text": [
      "100%|██████████| 10/10 [00:34<00:00,  3.43s/it]\n"
     ]
    },
    {
     "name": "stdout",
     "output_type": "stream",
     "text": [
      "Init Index... self.nlist=1000 self.niter=0 self.max_pts=256 self.seed=1 self.d=128\n",
      "\t---> Index Train Time = 1129.493591026403 ms | Add Time = 14514.126162976027 ms | Assign Time (should be free if C++ implementation )= 13406.857812020462<---\n"
     ]
    },
    {
     "name": "stderr",
     "output_type": "stream",
     "text": [
      "  0%|          | 0/10 [00:00<?, ?it/s]"
     ]
    },
    {
     "name": "stdout",
     "output_type": "stream",
     "text": [
      "local_quantizer.ntotal=1 == C_vis=1\n",
      "local_quantizer.ntotal=101 == C_vis=101\n"
     ]
    },
    {
     "name": "stderr",
     "output_type": "stream",
     "text": [
      " 20%|██        | 2/10 [00:00<00:02,  2.97it/s]"
     ]
    },
    {
     "name": "stdout",
     "output_type": "stream",
     "text": [
      "local_quantizer.ntotal=201 == C_vis=201\n"
     ]
    },
    {
     "name": "stderr",
     "output_type": "stream",
     "text": [
      " 30%|███       | 3/10 [00:01<00:05,  1.35it/s]"
     ]
    },
    {
     "name": "stdout",
     "output_type": "stream",
     "text": [
      "local_quantizer.ntotal=301 == C_vis=301\n"
     ]
    },
    {
     "name": "stderr",
     "output_type": "stream",
     "text": [
      " 40%|████      | 4/10 [00:04<00:07,  1.23s/it]"
     ]
    },
    {
     "name": "stdout",
     "output_type": "stream",
     "text": [
      "local_quantizer.ntotal=401 == C_vis=401\n"
     ]
    },
    {
     "name": "stderr",
     "output_type": "stream",
     "text": [
      " 50%|█████     | 5/10 [00:07<00:09,  1.85s/it]"
     ]
    },
    {
     "name": "stdout",
     "output_type": "stream",
     "text": [
      "local_quantizer.ntotal=501 == C_vis=501\n"
     ]
    },
    {
     "name": "stderr",
     "output_type": "stream",
     "text": [
      " 60%|██████    | 6/10 [00:11<00:10,  2.69s/it]"
     ]
    },
    {
     "name": "stdout",
     "output_type": "stream",
     "text": [
      "local_quantizer.ntotal=601 == C_vis=601\n"
     ]
    },
    {
     "name": "stderr",
     "output_type": "stream",
     "text": [
      " 70%|███████   | 7/10 [00:18<00:12,  4.03s/it]"
     ]
    },
    {
     "name": "stdout",
     "output_type": "stream",
     "text": [
      "local_quantizer.ntotal=701 == C_vis=701\n"
     ]
    },
    {
     "name": "stderr",
     "output_type": "stream",
     "text": [
      " 80%|████████  | 8/10 [00:27<00:11,  5.53s/it]"
     ]
    },
    {
     "name": "stdout",
     "output_type": "stream",
     "text": [
      "local_quantizer.ntotal=801 == C_vis=801\n"
     ]
    },
    {
     "name": "stderr",
     "output_type": "stream",
     "text": [
      " 90%|█████████ | 9/10 [00:38<00:07,  7.27s/it]"
     ]
    },
    {
     "name": "stdout",
     "output_type": "stream",
     "text": [
      "local_quantizer.ntotal=901 == C_vis=901\n"
     ]
    },
    {
     "name": "stderr",
     "output_type": "stream",
     "text": [
      "100%|██████████| 10/10 [00:51<00:00,  5.16s/it]\n"
     ]
    },
    {
     "name": "stdout",
     "output_type": "stream",
     "text": [
      "Init Index... self.nlist=2000 self.niter=0 self.max_pts=256 self.seed=1 self.d=128\n",
      "\t---> Index Train Time = 1194.4378180196509 ms | Add Time = 26898.066263995133 ms | Assign Time (should be free if C++ implementation )= 22467.455060977954<---\n"
     ]
    },
    {
     "name": "stderr",
     "output_type": "stream",
     "text": [
      "  0%|          | 0/10 [00:00<?, ?it/s]"
     ]
    },
    {
     "name": "stdout",
     "output_type": "stream",
     "text": [
      "local_quantizer.ntotal=1 == C_vis=1\n",
      "local_quantizer.ntotal=201 == C_vis=201\n"
     ]
    },
    {
     "name": "stderr",
     "output_type": "stream",
     "text": [
      " 20%|██        | 2/10 [00:00<00:03,  2.51it/s]"
     ]
    },
    {
     "name": "stdout",
     "output_type": "stream",
     "text": [
      "local_quantizer.ntotal=401 == C_vis=401\n"
     ]
    },
    {
     "name": "stderr",
     "output_type": "stream",
     "text": [
      " 30%|███       | 3/10 [00:02<00:06,  1.07it/s]"
     ]
    },
    {
     "name": "stdout",
     "output_type": "stream",
     "text": [
      "local_quantizer.ntotal=601 == C_vis=601\n"
     ]
    },
    {
     "name": "stderr",
     "output_type": "stream",
     "text": [
      " 40%|████      | 4/10 [00:05<00:10,  1.69s/it]"
     ]
    },
    {
     "name": "stdout",
     "output_type": "stream",
     "text": [
      "local_quantizer.ntotal=801 == C_vis=801\n"
     ]
    },
    {
     "name": "stderr",
     "output_type": "stream",
     "text": [
      " 50%|█████     | 5/10 [00:10<00:13,  2.75s/it]"
     ]
    },
    {
     "name": "stdout",
     "output_type": "stream",
     "text": [
      "local_quantizer.ntotal=1001 == C_vis=1001\n"
     ]
    },
    {
     "name": "stderr",
     "output_type": "stream",
     "text": [
      " 60%|██████    | 6/10 [00:17<00:16,  4.13s/it]"
     ]
    },
    {
     "name": "stdout",
     "output_type": "stream",
     "text": [
      "local_quantizer.ntotal=1201 == C_vis=1201\n"
     ]
    },
    {
     "name": "stderr",
     "output_type": "stream",
     "text": [
      " 70%|███████   | 7/10 [00:27<00:18,  6.28s/it]"
     ]
    },
    {
     "name": "stdout",
     "output_type": "stream",
     "text": [
      "local_quantizer.ntotal=1401 == C_vis=1401\n"
     ]
    },
    {
     "name": "stderr",
     "output_type": "stream",
     "text": [
      " 80%|████████  | 8/10 [00:41<00:17,  8.72s/it]"
     ]
    },
    {
     "name": "stdout",
     "output_type": "stream",
     "text": [
      "local_quantizer.ntotal=1601 == C_vis=1601\n"
     ]
    },
    {
     "name": "stderr",
     "output_type": "stream",
     "text": [
      " 90%|█████████ | 9/10 [00:58<00:11, 11.17s/it]"
     ]
    },
    {
     "name": "stdout",
     "output_type": "stream",
     "text": [
      "local_quantizer.ntotal=1801 == C_vis=1801\n"
     ]
    },
    {
     "name": "stderr",
     "output_type": "stream",
     "text": [
      "100%|██████████| 10/10 [01:20<00:00,  8.06s/it]\n"
     ]
    },
    {
     "name": "stdout",
     "output_type": "stream",
     "text": [
      "Init Index... self.nlist=5000 self.niter=0 self.max_pts=256 self.seed=1 self.d=128\n",
      "\t---> Index Train Time = 1435.499929008074 ms | Add Time = 59976.004918979015 ms | Assign Time (should be free if C++ implementation )= 59249.508507025894<---\n"
     ]
    },
    {
     "name": "stderr",
     "output_type": "stream",
     "text": [
      "  0%|          | 0/10 [00:00<?, ?it/s]"
     ]
    },
    {
     "name": "stdout",
     "output_type": "stream",
     "text": [
      "local_quantizer.ntotal=1 == C_vis=1\n",
      "local_quantizer.ntotal=501 == C_vis=501\n"
     ]
    },
    {
     "name": "stderr",
     "output_type": "stream",
     "text": [
      " 20%|██        | 2/10 [00:01<00:04,  1.76it/s]"
     ]
    },
    {
     "name": "stdout",
     "output_type": "stream",
     "text": [
      "local_quantizer.ntotal=1001 == C_vis=1001\n"
     ]
    },
    {
     "name": "stderr",
     "output_type": "stream",
     "text": [
      " 30%|███       | 3/10 [00:04<00:11,  1.58s/it]"
     ]
    },
    {
     "name": "stdout",
     "output_type": "stream",
     "text": [
      "local_quantizer.ntotal=1501 == C_vis=1501\n"
     ]
    },
    {
     "name": "stderr",
     "output_type": "stream",
     "text": [
      " 40%|████      | 4/10 [00:09<00:18,  3.07s/it]"
     ]
    },
    {
     "name": "stdout",
     "output_type": "stream",
     "text": [
      "local_quantizer.ntotal=2001 == C_vis=2001\n"
     ]
    },
    {
     "name": "stderr",
     "output_type": "stream",
     "text": [
      " 50%|█████     | 5/10 [00:18<00:25,  5.18s/it]"
     ]
    },
    {
     "name": "stdout",
     "output_type": "stream",
     "text": [
      "local_quantizer.ntotal=2501 == C_vis=2501\n"
     ]
    },
    {
     "name": "stderr",
     "output_type": "stream",
     "text": [
      " 60%|██████    | 6/10 [00:33<00:33,  8.26s/it]"
     ]
    },
    {
     "name": "stdout",
     "output_type": "stream",
     "text": [
      "local_quantizer.ntotal=3001 == C_vis=3001\n"
     ]
    },
    {
     "name": "stderr",
     "output_type": "stream",
     "text": [
      " 70%|███████   | 7/10 [00:54<00:37, 12.36s/it]"
     ]
    },
    {
     "name": "stdout",
     "output_type": "stream",
     "text": [
      "local_quantizer.ntotal=3501 == C_vis=3501\n"
     ]
    },
    {
     "name": "stderr",
     "output_type": "stream",
     "text": [
      " 80%|████████  | 8/10 [01:20<00:33, 16.86s/it]"
     ]
    },
    {
     "name": "stdout",
     "output_type": "stream",
     "text": [
      "local_quantizer.ntotal=4001 == C_vis=4001\n"
     ]
    },
    {
     "name": "stderr",
     "output_type": "stream",
     "text": [
      " 90%|█████████ | 9/10 [01:55<00:22, 22.25s/it]"
     ]
    },
    {
     "name": "stdout",
     "output_type": "stream",
     "text": [
      "local_quantizer.ntotal=4501 == C_vis=4501\n"
     ]
    },
    {
     "name": "stderr",
     "output_type": "stream",
     "text": [
      "100%|██████████| 10/10 [02:53<00:00, 17.35s/it]\n"
     ]
    },
    {
     "name": "stdout",
     "output_type": "stream",
     "text": [
      "Init Index... self.nlist=10000 self.niter=0 self.max_pts=256 self.seed=1 self.d=128\n",
      "\t---> Index Train Time = 2888.9473829767667 ms | Add Time = 125839.64501699666 ms | Assign Time (should be free if C++ implementation )= 118408.93358801259<---\n"
     ]
    },
    {
     "name": "stderr",
     "output_type": "stream",
     "text": [
      "  0%|          | 0/10 [00:00<?, ?it/s]"
     ]
    },
    {
     "name": "stdout",
     "output_type": "stream",
     "text": [
      "local_quantizer.ntotal=1 == C_vis=1\n",
      "local_quantizer.ntotal=1001 == C_vis=1001\n"
     ]
    },
    {
     "name": "stderr",
     "output_type": "stream",
     "text": [
      " 20%|██        | 2/10 [00:01<00:06,  1.33it/s]"
     ]
    },
    {
     "name": "stdout",
     "output_type": "stream",
     "text": [
      "local_quantizer.ntotal=2001 == C_vis=2001\n"
     ]
    },
    {
     "name": "stderr",
     "output_type": "stream",
     "text": [
      " 30%|███       | 3/10 [00:06<00:17,  2.50s/it]"
     ]
    },
    {
     "name": "stdout",
     "output_type": "stream",
     "text": [
      "local_quantizer.ntotal=3001 == C_vis=3001\n"
     ]
    },
    {
     "name": "stderr",
     "output_type": "stream",
     "text": [
      " 40%|████      | 4/10 [00:16<00:31,  5.19s/it]"
     ]
    },
    {
     "name": "stdout",
     "output_type": "stream",
     "text": [
      "local_quantizer.ntotal=4001 == C_vis=4001\n"
     ]
    },
    {
     "name": "stderr",
     "output_type": "stream",
     "text": [
      " 50%|█████     | 5/10 [00:34<00:48,  9.67s/it]"
     ]
    },
    {
     "name": "stdout",
     "output_type": "stream",
     "text": [
      "local_quantizer.ntotal=5001 == C_vis=5001\n"
     ]
    },
    {
     "name": "stderr",
     "output_type": "stream",
     "text": [
      " 60%|██████    | 6/10 [01:00<01:00, 15.02s/it]"
     ]
    },
    {
     "name": "stdout",
     "output_type": "stream",
     "text": [
      "local_quantizer.ntotal=6001 == C_vis=6001\n"
     ]
    },
    {
     "name": "stderr",
     "output_type": "stream",
     "text": [
      " 70%|███████   | 7/10 [01:40<01:09, 23.33s/it]"
     ]
    },
    {
     "name": "stdout",
     "output_type": "stream",
     "text": [
      "local_quantizer.ntotal=7001 == C_vis=7001\n"
     ]
    },
    {
     "name": "stderr",
     "output_type": "stream",
     "text": [
      " 80%|████████  | 8/10 [02:29<01:02, 31.43s/it]"
     ]
    },
    {
     "name": "stdout",
     "output_type": "stream",
     "text": [
      "local_quantizer.ntotal=8001 == C_vis=8001\n"
     ]
    },
    {
     "name": "stderr",
     "output_type": "stream",
     "text": [
      " 90%|█████████ | 9/10 [03:34<00:41, 41.70s/it]"
     ]
    },
    {
     "name": "stdout",
     "output_type": "stream",
     "text": [
      "local_quantizer.ntotal=9001 == C_vis=9001\n"
     ]
    },
    {
     "name": "stderr",
     "output_type": "stream",
     "text": [
      "100%|██████████| 10/10 [05:08<00:00, 30.90s/it]\n"
     ]
    },
    {
     "name": "stdout",
     "output_type": "stream",
     "text": [
      "Init Index... self.nlist=15000 self.niter=0 self.max_pts=256 self.seed=1 self.d=128\n",
      "\t---> Index Train Time = 3970.137830998283 ms | Add Time = 191480.75467103627 ms | Assign Time (should be free if C++ implementation )= 181774.4309679838<---\n"
     ]
    },
    {
     "name": "stderr",
     "output_type": "stream",
     "text": [
      "  0%|          | 0/10 [00:00<?, ?it/s]"
     ]
    },
    {
     "name": "stdout",
     "output_type": "stream",
     "text": [
      "local_quantizer.ntotal=1 == C_vis=1\n",
      "local_quantizer.ntotal=1501 == C_vis=1501\n"
     ]
    },
    {
     "name": "stderr",
     "output_type": "stream",
     "text": [
      " 20%|██        | 2/10 [00:02<00:08,  1.11s/it]"
     ]
    },
    {
     "name": "stdout",
     "output_type": "stream",
     "text": [
      "local_quantizer.ntotal=3001 == C_vis=3001\n"
     ]
    },
    {
     "name": "stderr",
     "output_type": "stream",
     "text": [
      " 30%|███       | 3/10 [00:09<00:24,  3.56s/it]"
     ]
    },
    {
     "name": "stdout",
     "output_type": "stream",
     "text": [
      "local_quantizer.ntotal=4501 == C_vis=4501\n"
     ]
    },
    {
     "name": "stderr",
     "output_type": "stream",
     "text": [
      " 40%|████      | 4/10 [00:23<00:44,  7.41s/it]"
     ]
    },
    {
     "name": "stdout",
     "output_type": "stream",
     "text": [
      "local_quantizer.ntotal=6001 == C_vis=6001\n"
     ]
    },
    {
     "name": "stderr",
     "output_type": "stream",
     "text": [
      " 50%|█████     | 5/10 [00:49<01:10, 14.09s/it]"
     ]
    },
    {
     "name": "stdout",
     "output_type": "stream",
     "text": [
      "local_quantizer.ntotal=7501 == C_vis=7501\n"
     ]
    },
    {
     "name": "stderr",
     "output_type": "stream",
     "text": [
      " 60%|██████    | 6/10 [01:33<01:35, 23.80s/it]"
     ]
    },
    {
     "name": "stdout",
     "output_type": "stream",
     "text": [
      "local_quantizer.ntotal=9001 == C_vis=9001\n"
     ]
    },
    {
     "name": "stderr",
     "output_type": "stream",
     "text": [
      " 70%|███████   | 7/10 [02:27<01:40, 33.64s/it]"
     ]
    },
    {
     "name": "stdout",
     "output_type": "stream",
     "text": [
      "local_quantizer.ntotal=10501 == C_vis=10501\n"
     ]
    },
    {
     "name": "stderr",
     "output_type": "stream",
     "text": [
      " 80%|████████  | 8/10 [03:44<01:34, 47.43s/it]"
     ]
    },
    {
     "name": "stdout",
     "output_type": "stream",
     "text": [
      "local_quantizer.ntotal=12001 == C_vis=12001\n"
     ]
    },
    {
     "name": "stderr",
     "output_type": "stream",
     "text": [
      " 90%|█████████ | 9/10 [05:29<01:05, 65.17s/it]"
     ]
    },
    {
     "name": "stdout",
     "output_type": "stream",
     "text": [
      "local_quantizer.ntotal=13501 == C_vis=13501\n"
     ]
    },
    {
     "name": "stderr",
     "output_type": "stream",
     "text": [
      "100%|██████████| 10/10 [07:49<00:00, 46.94s/it]\n"
     ]
    },
    {
     "name": "stdout",
     "output_type": "stream",
     "text": [
      "Mean Absolute Error (MAE) on new dataset: 642.2592157864101 ms\n"
     ]
    },
    {
     "data": {
      "image/png": "[encoded data removed]",
      "text/plain": [
       "<Figure size 800x600 with 1 Axes>"
      ]
     },
     "metadata": {},
     "output_type": "display_data"
    },
    {
     "name": "stdout",
     "output_type": "stream",
     "text": [
      "dbname='SIFT10M'\n",
      "MSE (in ms^2): 2739403.911519199\n",
      "RMSE (in ms): 1655.1144708204322\n",
      "R2 Score: 0.995622325516889\n"
     ]
    },
    {
     "data": {
      "text/plain": [
       "642.2592157864101"
      ]
     },
     "execution_count": 27,
     "metadata": {},
     "output_type": "execute_result"
    }
   ],
   "source": [
    "dbname = \"SIFT10M\"\n",
    "# dbname = \"gist-960-euclidean\"\n",
    "# dbname = \"deep-image-96-angular\"\n",
    "# xb, xq, gt, metric = load_dataset(\"SIFT1M\")\n",
    "xb, xq, gt, metric = load_dataset(dbname)\n",
    "NUM_THREADS = 16\n",
    "faiss.omp_set_num_threads(NUM_THREADS)\n",
    "\n",
    "X_new, y_new =  measure_commit_reorg_for_refine(xb,xq) # get measurements\n",
    "evaluate_existing_model(localkm_model, X_new, y_new, dbname) # test existing trained model"
   ]
  },
  {
   "cell_type": "code",
   "execution_count": 29,
   "metadata": {},
   "outputs": [
    {
     "name": "stdout",
     "output_type": "stream",
     "text": [
      "Loading Dataset = deep-image-96-angular\n",
      "File already exists at /pub/scratch/vmageirakos/vdb-project-data/data/datasets/deep-image-96-angular.hdf5. Skipping download.\n",
      "Init Index... self.nlist=100 self.niter=0 self.max_pts=256 self.seed=1 self.d=96\n",
      "\t---> Index Train Time = 424.4381469907239 ms | Add Time = 3757.158654043451 ms | Assign Time (should be free if C++ implementation )= 1916.4187359856442<---\n"
     ]
    },
    {
     "name": "stderr",
     "output_type": "stream",
     "text": [
      " 10%|█         | 1/10 [00:00<00:01,  5.99it/s]"
     ]
    },
    {
     "name": "stdout",
     "output_type": "stream",
     "text": [
      "local_quantizer.ntotal=1 == C_vis=1\n",
      "local_quantizer.ntotal=11 == C_vis=11\n"
     ]
    },
    {
     "name": "stderr",
     "output_type": "stream",
     "text": [
      " 20%|██        | 2/10 [00:00<00:03,  2.61it/s]"
     ]
    },
    {
     "name": "stdout",
     "output_type": "stream",
     "text": [
      "local_quantizer.ntotal=21 == C_vis=21\n"
     ]
    },
    {
     "name": "stderr",
     "output_type": "stream",
     "text": [
      " 30%|███       | 3/10 [00:01<00:04,  1.70it/s]"
     ]
    },
    {
     "name": "stdout",
     "output_type": "stream",
     "text": [
      "local_quantizer.ntotal=31 == C_vis=31\n"
     ]
    },
    {
     "name": "stderr",
     "output_type": "stream",
     "text": [
      " 40%|████      | 4/10 [00:02<00:05,  1.16it/s]"
     ]
    },
    {
     "name": "stdout",
     "output_type": "stream",
     "text": [
      "local_quantizer.ntotal=41 == C_vis=41\n"
     ]
    },
    {
     "name": "stderr",
     "output_type": "stream",
     "text": [
      " 50%|█████     | 5/10 [00:04<00:05,  1.09s/it]"
     ]
    },
    {
     "name": "stdout",
     "output_type": "stream",
     "text": [
      "local_quantizer.ntotal=51 == C_vis=51\n"
     ]
    },
    {
     "name": "stderr",
     "output_type": "stream",
     "text": [
      " 60%|██████    | 6/10 [00:05<00:04,  1.25s/it]"
     ]
    },
    {
     "name": "stdout",
     "output_type": "stream",
     "text": [
      "local_quantizer.ntotal=61 == C_vis=61\n"
     ]
    },
    {
     "name": "stderr",
     "output_type": "stream",
     "text": [
      " 70%|███████   | 7/10 [00:08<00:04,  1.54s/it]"
     ]
    },
    {
     "name": "stdout",
     "output_type": "stream",
     "text": [
      "local_quantizer.ntotal=71 == C_vis=71\n"
     ]
    },
    {
     "name": "stderr",
     "output_type": "stream",
     "text": [
      " 80%|████████  | 8/10 [00:10<00:03,  1.76s/it]"
     ]
    },
    {
     "name": "stdout",
     "output_type": "stream",
     "text": [
      "local_quantizer.ntotal=81 == C_vis=81\n"
     ]
    },
    {
     "name": "stderr",
     "output_type": "stream",
     "text": [
      " 90%|█████████ | 9/10 [00:12<00:02,  2.06s/it]"
     ]
    },
    {
     "name": "stdout",
     "output_type": "stream",
     "text": [
      "local_quantizer.ntotal=91 == C_vis=91\n"
     ]
    },
    {
     "name": "stderr",
     "output_type": "stream",
     "text": [
      "100%|██████████| 10/10 [00:16<00:00,  1.62s/it]\n"
     ]
    },
    {
     "name": "stdout",
     "output_type": "stream",
     "text": [
      "Init Index... self.nlist=200 self.niter=0 self.max_pts=256 self.seed=1 self.d=96\n",
      "\t---> Index Train Time = 417.71693603368476 ms | Add Time = 4365.185739996377 ms | Assign Time (should be free if C++ implementation )= 2830.908512987662<---\n"
     ]
    },
    {
     "name": "stderr",
     "output_type": "stream",
     "text": [
      "  0%|          | 0/10 [00:00<?, ?it/s]"
     ]
    },
    {
     "name": "stdout",
     "output_type": "stream",
     "text": [
      "local_quantizer.ntotal=1 == C_vis=1\n",
      "local_quantizer.ntotal=21 == C_vis=21\n"
     ]
    },
    {
     "name": "stderr",
     "output_type": "stream",
     "text": [
      " 20%|██        | 2/10 [00:00<00:01,  5.39it/s]"
     ]
    },
    {
     "name": "stdout",
     "output_type": "stream",
     "text": [
      "local_quantizer.ntotal=41 == C_vis=41\n"
     ]
    },
    {
     "name": "stderr",
     "output_type": "stream",
     "text": [
      " 30%|███       | 3/10 [00:00<00:02,  2.91it/s]"
     ]
    },
    {
     "name": "stdout",
     "output_type": "stream",
     "text": [
      "local_quantizer.ntotal=61 == C_vis=61\n"
     ]
    },
    {
     "name": "stderr",
     "output_type": "stream",
     "text": [
      " 40%|████      | 4/10 [00:01<00:03,  1.74it/s]"
     ]
    },
    {
     "name": "stdout",
     "output_type": "stream",
     "text": [
      "local_quantizer.ntotal=81 == C_vis=81\n"
     ]
    },
    {
     "name": "stderr",
     "output_type": "stream",
     "text": [
      " 50%|█████     | 5/10 [00:03<00:04,  1.15it/s]"
     ]
    },
    {
     "name": "stdout",
     "output_type": "stream",
     "text": [
      "local_quantizer.ntotal=101 == C_vis=101\n"
     ]
    },
    {
     "name": "stderr",
     "output_type": "stream",
     "text": [
      " 60%|██████    | 6/10 [00:05<00:04,  1.20s/it]"
     ]
    },
    {
     "name": "stdout",
     "output_type": "stream",
     "text": [
      "local_quantizer.ntotal=121 == C_vis=121\n"
     ]
    },
    {
     "name": "stderr",
     "output_type": "stream",
     "text": [
      " 70%|███████   | 7/10 [00:07<00:04,  1.56s/it]"
     ]
    },
    {
     "name": "stdout",
     "output_type": "stream",
     "text": [
      "local_quantizer.ntotal=141 == C_vis=141\n"
     ]
    },
    {
     "name": "stderr",
     "output_type": "stream",
     "text": [
      " 80%|████████  | 8/10 [00:10<00:03,  1.95s/it]"
     ]
    },
    {
     "name": "stdout",
     "output_type": "stream",
     "text": [
      "local_quantizer.ntotal=161 == C_vis=161\n"
     ]
    },
    {
     "name": "stderr",
     "output_type": "stream",
     "text": [
      " 90%|█████████ | 9/10 [00:13<00:02,  2.35s/it]"
     ]
    },
    {
     "name": "stdout",
     "output_type": "stream",
     "text": [
      "local_quantizer.ntotal=181 == C_vis=181\n"
     ]
    },
    {
     "name": "stderr",
     "output_type": "stream",
     "text": [
      "100%|██████████| 10/10 [00:17<00:00,  1.75s/it]\n"
     ]
    },
    {
     "name": "stdout",
     "output_type": "stream",
     "text": [
      "Init Index... self.nlist=500 self.niter=0 self.max_pts=256 self.seed=1 self.d=96\n",
      "\t---> Index Train Time = 453.9133720099926 ms | Add Time = 7476.802442979533 ms | Assign Time (should be free if C++ implementation )= 6143.95857200725<---\n"
     ]
    },
    {
     "name": "stderr",
     "output_type": "stream",
     "text": [
      "  0%|          | 0/10 [00:00<?, ?it/s]"
     ]
    },
    {
     "name": "stdout",
     "output_type": "stream",
     "text": [
      "local_quantizer.ntotal=1 == C_vis=1\n",
      "local_quantizer.ntotal=51 == C_vis=51\n"
     ]
    },
    {
     "name": "stderr",
     "output_type": "stream",
     "text": [
      " 20%|██        | 2/10 [00:00<00:01,  4.05it/s]"
     ]
    },
    {
     "name": "stdout",
     "output_type": "stream",
     "text": [
      "local_quantizer.ntotal=101 == C_vis=101\n"
     ]
    },
    {
     "name": "stderr",
     "output_type": "stream",
     "text": [
      " 30%|███       | 3/10 [00:01<00:03,  1.98it/s]"
     ]
    },
    {
     "name": "stdout",
     "output_type": "stream",
     "text": [
      "local_quantizer.ntotal=151 == C_vis=151\n"
     ]
    },
    {
     "name": "stderr",
     "output_type": "stream",
     "text": [
      " 40%|████      | 4/10 [00:02<00:04,  1.29it/s]"
     ]
    },
    {
     "name": "stdout",
     "output_type": "stream",
     "text": [
      "local_quantizer.ntotal=201 == C_vis=201\n"
     ]
    },
    {
     "name": "stderr",
     "output_type": "stream",
     "text": [
      " 50%|█████     | 5/10 [00:04<00:05,  1.18s/it]"
     ]
    },
    {
     "name": "stdout",
     "output_type": "stream",
     "text": [
      "local_quantizer.ntotal=251 == C_vis=251\n"
     ]
    },
    {
     "name": "stderr",
     "output_type": "stream",
     "text": [
      " 60%|██████    | 6/10 [00:07<00:06,  1.69s/it]"
     ]
    },
    {
     "name": "stdout",
     "output_type": "stream",
     "text": [
      "local_quantizer.ntotal=301 == C_vis=301\n"
     ]
    },
    {
     "name": "stderr",
     "output_type": "stream",
     "text": [
      " 70%|███████   | 7/10 [00:10<00:06,  2.25s/it]"
     ]
    },
    {
     "name": "stdout",
     "output_type": "stream",
     "text": [
      "local_quantizer.ntotal=351 == C_vis=351\n"
     ]
    },
    {
     "name": "stderr",
     "output_type": "stream",
     "text": [
      " 80%|████████  | 8/10 [00:14<00:05,  2.89s/it]"
     ]
    },
    {
     "name": "stdout",
     "output_type": "stream",
     "text": [
      "local_quantizer.ntotal=401 == C_vis=401\n"
     ]
    },
    {
     "name": "stderr",
     "output_type": "stream",
     "text": [
      " 90%|█████████ | 9/10 [00:20<00:03,  3.72s/it]"
     ]
    },
    {
     "name": "stdout",
     "output_type": "stream",
     "text": [
      "local_quantizer.ntotal=451 == C_vis=451\n"
     ]
    },
    {
     "name": "stderr",
     "output_type": "stream",
     "text": [
      "100%|██████████| 10/10 [00:26<00:00,  2.69s/it]\n"
     ]
    },
    {
     "name": "stdout",
     "output_type": "stream",
     "text": [
      "Init Index... self.nlist=1000 self.niter=0 self.max_pts=256 self.seed=1 self.d=96\n",
      "\t---> Index Train Time = 446.53245102381334 ms | Add Time = 10618.564959964715 ms | Assign Time (should be free if C++ implementation )= 11114.16985100368<---\n"
     ]
    },
    {
     "name": "stderr",
     "output_type": "stream",
     "text": [
      "  0%|          | 0/10 [00:00<?, ?it/s]"
     ]
    },
    {
     "name": "stdout",
     "output_type": "stream",
     "text": [
      "local_quantizer.ntotal=1 == C_vis=1\n",
      "local_quantizer.ntotal=101 == C_vis=101\n"
     ]
    },
    {
     "name": "stderr",
     "output_type": "stream",
     "text": [
      " 20%|██        | 2/10 [00:00<00:01,  5.20it/s]"
     ]
    },
    {
     "name": "stdout",
     "output_type": "stream",
     "text": [
      "local_quantizer.ntotal=201 == C_vis=201\n"
     ]
    },
    {
     "name": "stderr",
     "output_type": "stream",
     "text": [
      " 30%|███       | 3/10 [00:01<00:03,  2.03it/s]"
     ]
    },
    {
     "name": "stdout",
     "output_type": "stream",
     "text": [
      "local_quantizer.ntotal=301 == C_vis=301\n"
     ]
    },
    {
     "name": "stderr",
     "output_type": "stream",
     "text": [
      " 40%|████      | 4/10 [00:02<00:05,  1.09it/s]"
     ]
    },
    {
     "name": "stdout",
     "output_type": "stream",
     "text": [
      "local_quantizer.ntotal=401 == C_vis=401\n"
     ]
    },
    {
     "name": "stderr",
     "output_type": "stream",
     "text": [
      " 50%|█████     | 5/10 [00:05<00:07,  1.56s/it]"
     ]
    },
    {
     "name": "stdout",
     "output_type": "stream",
     "text": [
      "local_quantizer.ntotal=501 == C_vis=501\n"
     ]
    },
    {
     "name": "stderr",
     "output_type": "stream",
     "text": [
      " 60%|██████    | 6/10 [00:09<00:09,  2.36s/it]"
     ]
    },
    {
     "name": "stdout",
     "output_type": "stream",
     "text": [
      "local_quantizer.ntotal=601 == C_vis=601\n"
     ]
    },
    {
     "name": "stderr",
     "output_type": "stream",
     "text": [
      " 70%|███████   | 7/10 [00:15<00:10,  3.37s/it]"
     ]
    },
    {
     "name": "stdout",
     "output_type": "stream",
     "text": [
      "local_quantizer.ntotal=701 == C_vis=701\n"
     ]
    },
    {
     "name": "stderr",
     "output_type": "stream",
     "text": [
      " 80%|████████  | 8/10 [00:22<00:09,  4.54s/it]"
     ]
    },
    {
     "name": "stdout",
     "output_type": "stream",
     "text": [
      "local_quantizer.ntotal=801 == C_vis=801\n"
     ]
    },
    {
     "name": "stderr",
     "output_type": "stream",
     "text": [
      " 90%|█████████ | 9/10 [00:30<00:05,  5.80s/it]"
     ]
    },
    {
     "name": "stdout",
     "output_type": "stream",
     "text": [
      "local_quantizer.ntotal=901 == C_vis=901\n"
     ]
    },
    {
     "name": "stderr",
     "output_type": "stream",
     "text": [
      "100%|██████████| 10/10 [00:41<00:00,  4.15s/it]\n"
     ]
    },
    {
     "name": "stdout",
     "output_type": "stream",
     "text": [
      "Init Index... self.nlist=2000 self.niter=0 self.max_pts=256 self.seed=1 self.d=96\n",
      "\t---> Index Train Time = 509.1962890001014 ms | Add Time = 20185.924420016818 ms | Assign Time (should be free if C++ implementation )= 19305.688561988063<---\n"
     ]
    },
    {
     "name": "stderr",
     "output_type": "stream",
     "text": [
      "  0%|          | 0/10 [00:00<?, ?it/s]"
     ]
    },
    {
     "name": "stdout",
     "output_type": "stream",
     "text": [
      "local_quantizer.ntotal=1 == C_vis=1\n",
      "local_quantizer.ntotal=201 == C_vis=201\n"
     ]
    },
    {
     "name": "stderr",
     "output_type": "stream",
     "text": [
      " 20%|██        | 2/10 [00:00<00:02,  3.05it/s]"
     ]
    },
    {
     "name": "stdout",
     "output_type": "stream",
     "text": [
      "local_quantizer.ntotal=401 == C_vis=401\n"
     ]
    },
    {
     "name": "stderr",
     "output_type": "stream",
     "text": [
      " 30%|███       | 3/10 [00:02<00:06,  1.17it/s]"
     ]
    },
    {
     "name": "stdout",
     "output_type": "stream",
     "text": [
      "local_quantizer.ntotal=601 == C_vis=601\n"
     ]
    },
    {
     "name": "stderr",
     "output_type": "stream",
     "text": [
      " 40%|████      | 4/10 [00:05<00:09,  1.62s/it]"
     ]
    },
    {
     "name": "stdout",
     "output_type": "stream",
     "text": [
      "local_quantizer.ntotal=801 == C_vis=801\n"
     ]
    },
    {
     "name": "stderr",
     "output_type": "stream",
     "text": [
      " 50%|█████     | 5/10 [00:09<00:13,  2.65s/it]"
     ]
    },
    {
     "name": "stdout",
     "output_type": "stream",
     "text": [
      "local_quantizer.ntotal=1001 == C_vis=1001\n"
     ]
    },
    {
     "name": "stderr",
     "output_type": "stream",
     "text": [
      " 60%|██████    | 6/10 [00:16<00:15,  3.89s/it]"
     ]
    },
    {
     "name": "stdout",
     "output_type": "stream",
     "text": [
      "local_quantizer.ntotal=1201 == C_vis=1201\n"
     ]
    },
    {
     "name": "stderr",
     "output_type": "stream",
     "text": [
      " 70%|███████   | 7/10 [00:25<00:16,  5.53s/it]"
     ]
    },
    {
     "name": "stdout",
     "output_type": "stream",
     "text": [
      "local_quantizer.ntotal=1401 == C_vis=1401\n"
     ]
    },
    {
     "name": "stderr",
     "output_type": "stream",
     "text": [
      " 80%|████████  | 8/10 [00:36<00:14,  7.47s/it]"
     ]
    },
    {
     "name": "stdout",
     "output_type": "stream",
     "text": [
      "local_quantizer.ntotal=1601 == C_vis=1601\n"
     ]
    },
    {
     "name": "stderr",
     "output_type": "stream",
     "text": [
      " 90%|█████████ | 9/10 [00:52<00:10, 10.07s/it]"
     ]
    },
    {
     "name": "stdout",
     "output_type": "stream",
     "text": [
      "local_quantizer.ntotal=1801 == C_vis=1801\n"
     ]
    },
    {
     "name": "stderr",
     "output_type": "stream",
     "text": [
      "100%|██████████| 10/10 [01:11<00:00,  7.12s/it]\n"
     ]
    },
    {
     "name": "stdout",
     "output_type": "stream",
     "text": [
      "Init Index... self.nlist=5000 self.niter=0 self.max_pts=256 self.seed=1 self.d=96\n",
      "\t---> Index Train Time = 533.2759800367057 ms | Add Time = 49292.094212025404 ms | Assign Time (should be free if C++ implementation )= 48548.5964549589<---\n"
     ]
    },
    {
     "name": "stderr",
     "output_type": "stream",
     "text": [
      "  0%|          | 0/10 [00:00<?, ?it/s]"
     ]
    },
    {
     "name": "stdout",
     "output_type": "stream",
     "text": [
      "local_quantizer.ntotal=1 == C_vis=1\n",
      "local_quantizer.ntotal=501 == C_vis=501\n"
     ]
    },
    {
     "name": "stderr",
     "output_type": "stream",
     "text": [
      " 20%|██        | 2/10 [00:01<00:04,  1.79it/s]"
     ]
    },
    {
     "name": "stdout",
     "output_type": "stream",
     "text": [
      "local_quantizer.ntotal=1001 == C_vis=1001\n"
     ]
    },
    {
     "name": "stderr",
     "output_type": "stream",
     "text": [
      " 30%|███       | 3/10 [00:04<00:11,  1.58s/it]"
     ]
    },
    {
     "name": "stdout",
     "output_type": "stream",
     "text": [
      "local_quantizer.ntotal=1501 == C_vis=1501\n"
     ]
    },
    {
     "name": "stderr",
     "output_type": "stream",
     "text": [
      " 40%|████      | 4/10 [00:10<00:19,  3.25s/it]"
     ]
    },
    {
     "name": "stdout",
     "output_type": "stream",
     "text": [
      "local_quantizer.ntotal=2001 == C_vis=2001\n"
     ]
    },
    {
     "name": "stderr",
     "output_type": "stream",
     "text": [
      " 50%|█████     | 5/10 [00:19<00:26,  5.37s/it]"
     ]
    },
    {
     "name": "stdout",
     "output_type": "stream",
     "text": [
      "local_quantizer.ntotal=2501 == C_vis=2501\n"
     ]
    },
    {
     "name": "stderr",
     "output_type": "stream",
     "text": [
      " 60%|██████    | 6/10 [00:34<00:34,  8.58s/it]"
     ]
    },
    {
     "name": "stdout",
     "output_type": "stream",
     "text": [
      "local_quantizer.ntotal=3001 == C_vis=3001\n"
     ]
    },
    {
     "name": "stderr",
     "output_type": "stream",
     "text": [
      " 70%|███████   | 7/10 [00:56<00:38, 12.78s/it]"
     ]
    },
    {
     "name": "stdout",
     "output_type": "stream",
     "text": [
      "local_quantizer.ntotal=3501 == C_vis=3501\n"
     ]
    },
    {
     "name": "stderr",
     "output_type": "stream",
     "text": [
      " 80%|████████  | 8/10 [01:22<00:33, 16.92s/it]"
     ]
    },
    {
     "name": "stdout",
     "output_type": "stream",
     "text": [
      "local_quantizer.ntotal=4001 == C_vis=4001\n"
     ]
    },
    {
     "name": "stderr",
     "output_type": "stream",
     "text": [
      " 90%|█████████ | 9/10 [01:58<00:23, 23.02s/it]"
     ]
    },
    {
     "name": "stdout",
     "output_type": "stream",
     "text": [
      "local_quantizer.ntotal=4501 == C_vis=4501\n"
     ]
    },
    {
     "name": "stderr",
     "output_type": "stream",
     "text": [
      "100%|██████████| 10/10 [02:39<00:00, 15.91s/it]\n"
     ]
    },
    {
     "name": "stdout",
     "output_type": "stream",
     "text": [
      "Init Index... self.nlist=10000 self.niter=0 self.max_pts=256 self.seed=1 self.d=96\n",
      "\t---> Index Train Time = 584.4528300222009 ms | Add Time = 96520.68589703413 ms | Assign Time (should be free if C++ implementation )= 93889.72975302022<---\n"
     ]
    },
    {
     "name": "stderr",
     "output_type": "stream",
     "text": [
      "  0%|          | 0/10 [00:00<?, ?it/s]"
     ]
    },
    {
     "name": "stdout",
     "output_type": "stream",
     "text": [
      "local_quantizer.ntotal=1 == C_vis=1\n",
      "local_quantizer.ntotal=1001 == C_vis=1001\n"
     ]
    },
    {
     "name": "stderr",
     "output_type": "stream",
     "text": [
      " 20%|██        | 2/10 [00:01<00:06,  1.16it/s]"
     ]
    },
    {
     "name": "stdout",
     "output_type": "stream",
     "text": [
      "local_quantizer.ntotal=2001 == C_vis=2001\n"
     ]
    },
    {
     "name": "stderr",
     "output_type": "stream",
     "text": [
      " 30%|███       | 3/10 [00:07<00:19,  2.74s/it]"
     ]
    },
    {
     "name": "stdout",
     "output_type": "stream",
     "text": [
      "local_quantizer.ntotal=3001 == C_vis=3001\n"
     ]
    },
    {
     "name": "stderr",
     "output_type": "stream",
     "text": [
      " 40%|████      | 4/10 [00:17<00:33,  5.59s/it]"
     ]
    },
    {
     "name": "stdout",
     "output_type": "stream",
     "text": [
      "local_quantizer.ntotal=4001 == C_vis=4001\n"
     ]
    },
    {
     "name": "stderr",
     "output_type": "stream",
     "text": [
      " 50%|█████     | 5/10 [00:36<00:51, 10.21s/it]"
     ]
    },
    {
     "name": "stdout",
     "output_type": "stream",
     "text": [
      "local_quantizer.ntotal=5001 == C_vis=5001\n"
     ]
    },
    {
     "name": "stderr",
     "output_type": "stream",
     "text": [
      " 60%|██████    | 6/10 [01:05<01:05, 16.42s/it]"
     ]
    },
    {
     "name": "stdout",
     "output_type": "stream",
     "text": [
      "local_quantizer.ntotal=6001 == C_vis=6001\n"
     ]
    },
    {
     "name": "stderr",
     "output_type": "stream",
     "text": [
      " 70%|███████   | 7/10 [01:41<01:08, 22.78s/it]"
     ]
    },
    {
     "name": "stdout",
     "output_type": "stream",
     "text": [
      "local_quantizer.ntotal=7001 == C_vis=7001\n"
     ]
    },
    {
     "name": "stderr",
     "output_type": "stream",
     "text": [
      " 80%|████████  | 8/10 [02:35<01:05, 32.54s/it]"
     ]
    },
    {
     "name": "stdout",
     "output_type": "stream",
     "text": [
      "local_quantizer.ntotal=8001 == C_vis=8001\n"
     ]
    },
    {
     "name": "stderr",
     "output_type": "stream",
     "text": [
      " 90%|█████████ | 9/10 [03:45<00:44, 44.15s/it]"
     ]
    },
    {
     "name": "stdout",
     "output_type": "stream",
     "text": [
      "local_quantizer.ntotal=9001 == C_vis=9001\n"
     ]
    },
    {
     "name": "stderr",
     "output_type": "stream",
     "text": [
      "100%|██████████| 10/10 [05:02<00:00, 30.21s/it]\n"
     ]
    },
    {
     "name": "stdout",
     "output_type": "stream",
     "text": [
      "Init Index... self.nlist=15000 self.niter=0 self.max_pts=256 self.seed=1 self.d=96\n",
      "\t---> Index Train Time = 1012.5099929864518 ms | Add Time = 138425.2049670322 ms | Assign Time (should be free if C++ implementation )= 140171.8911419739<---\n"
     ]
    },
    {
     "name": "stderr",
     "output_type": "stream",
     "text": [
      "  0%|          | 0/10 [00:00<?, ?it/s]"
     ]
    },
    {
     "name": "stdout",
     "output_type": "stream",
     "text": [
      "local_quantizer.ntotal=1 == C_vis=1\n",
      "local_quantizer.ntotal=1501 == C_vis=1501\n"
     ]
    },
    {
     "name": "stderr",
     "output_type": "stream",
     "text": [
      " 20%|██        | 2/10 [00:02<00:09,  1.14s/it]"
     ]
    },
    {
     "name": "stdout",
     "output_type": "stream",
     "text": [
      "local_quantizer.ntotal=3001 == C_vis=3001\n"
     ]
    },
    {
     "name": "stderr",
     "output_type": "stream",
     "text": [
      " 30%|███       | 3/10 [00:09<00:24,  3.52s/it]"
     ]
    },
    {
     "name": "stdout",
     "output_type": "stream",
     "text": [
      "local_quantizer.ntotal=4501 == C_vis=4501\n"
     ]
    },
    {
     "name": "stderr",
     "output_type": "stream",
     "text": [
      " 40%|████      | 4/10 [00:23<00:45,  7.60s/it]"
     ]
    },
    {
     "name": "stdout",
     "output_type": "stream",
     "text": [
      "local_quantizer.ntotal=6001 == C_vis=6001\n"
     ]
    },
    {
     "name": "stderr",
     "output_type": "stream",
     "text": [
      " 50%|█████     | 5/10 [00:51<01:13, 14.68s/it]"
     ]
    },
    {
     "name": "stdout",
     "output_type": "stream",
     "text": [
      "local_quantizer.ntotal=7501 == C_vis=7501\n"
     ]
    },
    {
     "name": "stderr",
     "output_type": "stream",
     "text": [
      " 60%|██████    | 6/10 [01:29<01:29, 22.28s/it]"
     ]
    },
    {
     "name": "stdout",
     "output_type": "stream",
     "text": [
      "local_quantizer.ntotal=9001 == C_vis=9001\n"
     ]
    },
    {
     "name": "stderr",
     "output_type": "stream",
     "text": [
      " 70%|███████   | 7/10 [02:30<01:44, 34.78s/it]"
     ]
    },
    {
     "name": "stdout",
     "output_type": "stream",
     "text": [
      "local_quantizer.ntotal=10501 == C_vis=10501\n"
     ]
    },
    {
     "name": "stderr",
     "output_type": "stream",
     "text": [
      " 80%|████████  | 8/10 [03:42<01:33, 46.67s/it]"
     ]
    },
    {
     "name": "stdout",
     "output_type": "stream",
     "text": [
      "local_quantizer.ntotal=12001 == C_vis=12001\n"
     ]
    },
    {
     "name": "stderr",
     "output_type": "stream",
     "text": [
      " 90%|█████████ | 9/10 [05:12<01:00, 60.03s/it]"
     ]
    },
    {
     "name": "stdout",
     "output_type": "stream",
     "text": [
      "local_quantizer.ntotal=13501 == C_vis=13501\n"
     ]
    },
    {
     "name": "stderr",
     "output_type": "stream",
     "text": [
      "100%|██████████| 10/10 [07:28<00:00, 44.87s/it]\n"
     ]
    },
    {
     "name": "stdout",
     "output_type": "stream",
     "text": [
      "Mean Absolute Error (MAE) on new dataset: 1846.219606720841 ms\n"
     ]
    },
    {
     "data": {
      "image/png": "[encoded data removed]",
      "text/plain": [
       "<Figure size 800x600 with 1 Axes>"
      ]
     },
     "metadata": {},
     "output_type": "display_data"
    },
    {
     "name": "stdout",
     "output_type": "stream",
     "text": [
      "dbname='deep-image-96-angular'\n",
      "MSE (in ms^2): 19305610.639655314\n",
      "RMSE (in ms): 4393.8150438605535\n",
      "R2 Score: 0.9653038356940611\n"
     ]
    },
    {
     "data": {
      "text/plain": [
       "1846.219606720841"
      ]
     },
     "execution_count": 29,
     "metadata": {},
     "output_type": "execute_result"
    }
   ],
   "source": [
    "dbname = \"deep-image-96-angular\"\n",
    "# xb, xq, gt, metric = load_dataset(\"SIFT1M\")\n",
    "xb, xq, gt, metric = load_dataset(dbname)\n",
    "NUM_THREADS = 16\n",
    "faiss.omp_set_num_threads(NUM_THREADS)\n",
    "\n",
    "X_new, y_new =  measure_commit_reorg_for_refine(xb,xq) # get measurements\n",
    "evaluate_existing_model(localkm_model, X_new, y_new, dbname) # test existing trained model\n"
   ]
  },
  {
   "cell_type": "code",
   "execution_count": null,
   "metadata": {},
   "outputs": [],
   "source": []
  },
  {
   "cell_type": "markdown",
   "metadata": {},
   "source": [
    "## REFINE: Putting it together (nthreads=16)\n",
    "\n",
    "- `T_refine =` T_get_local_region(`SKIPED`) + T_local_kmeans + T_commit_reorg <-----\n",
    "- T_get_local_region : \n",
    "    - `TODO: SEE EFFECT - SKIPED THIS ONE`\n",
    "- T_local_kmeans :\n",
    "    - `X1 = n_iter * N_train * C_vis * D, X2 = Nc * D`\n",
    "    - `w1 = 9.311884586956287e-09, w2 = 7.437262586898243e-05, b = 191.62760060405162`\n",
    "- T_commit_reorg:\n",
    "    - `X1 = N_vis * C_vis * D + Nc, X2 = N_vis * D`\n",
    "    - `w1 = 8.912474562983087e-09, w2 = 1.2000867199316712e-06, b = -8.689369633586466`\n"
   ]
  },
  {
   "cell_type": "code",
   "execution_count": null,
   "metadata": {},
   "outputs": [],
   "source": [
    "def __refine_cost_estimate_get_local_region(N_crack_locs, Nc, N_vis, D):\n",
    "    # NOTE: Can I re-use this for REFINE? \n",
    "    # NOTE: N_crack_locs is like num queries, I think it's 1 for local refine\n",
    "    X1, X2 = N_crack_locs * Nc, N_vis * D\n",
    "    # w1, w2, b = 9.792029439425269e-07, 8.848264329863606e-07, 3.587780694965886\n",
    "    w1,w2, b = 0,0,0\n",
    "    return w1*X1 + w2*X2 + b\n",
    "\n",
    "def __refine_cost_estimate_commit_reorg(Nc, N_vis, C_vis, D):\n",
    "    # NOTE: Nc comes from compute bincount which is across all centroids\n",
    "    X1, X2 = N_vis * C_vis * D + Nc, N_vis * D\n",
    "    w1, w2, b = 8.912474562983087e-09, 1.2000867199316712e-06, -8.689369633586466\n",
    "    return w1*X1 + w2*X2 + b\n",
    "\n",
    "def __refine_cost_estimate_local_kmeans(N_vis, max_pts, n_iter, C_vis, D, Nc):\n",
    "    N_train = min(N_vis, max_pts * N_vis)\n",
    "    X1, X2 = n_iter * N_train * C_vis * D, Nc * D\n",
    "    w1, w2, b = 9.311884586956287e-09, 7.437262586898243e-05, 191.62760060405162\n",
    "    return w1*X1 + w2*X2 + b\n",
    "\n",
    "def get_cost_estimate_refine(N_crack_locs, Nc, N_vis, D, N, max_pts, n_iter, C_vis):\n",
    "    # assert nthreads == 16 # because we hardcoded for 16 threads\n",
    "    T_get_local_region = __refine_cost_estimate_get_local_region(N_crack_locs, Nc, N_vis, D)\n",
    "    T_local_kmeans = __refine_cost_estimate_local_kmeans(N_vis, max_pts, n_iter, C_vis, D, Nc)\n",
    "    T_commit_reorg = __refine_cost_estimate_commit_reorg(Nc, N_vis, C_vis, D)\n",
    "    return T_get_local_region + T_commit_reorg + T_local_kmeans\n"
   ]
  },
  {
   "cell_type": "code",
   "execution_count": null,
   "metadata": {},
   "outputs": [],
   "source": []
  },
  {
   "cell_type": "code",
   "execution_count": null,
   "metadata": {},
   "outputs": [],
   "source": []
  }
 ],
 "metadata": {
  "kernelspec": {
   "display_name": "faiss-dev-env",
   "language": "python",
   "name": "python3"
  },
  "language_info": {
   "codemirror_mode": {
    "name": "ipython",
    "version": 3
   },
   "file_extension": ".py",
   "mimetype": "text/x-python",
   "name": "python",
   "nbconvert_exporter": "python",
   "pygments_lexer": "ipython3",
   "version": "3.12.7"
  }
 },
 "nbformat": 4,
 "nbformat_minor": 2
}
