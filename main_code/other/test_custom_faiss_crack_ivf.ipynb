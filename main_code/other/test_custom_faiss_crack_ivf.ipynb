{
 "cells": [
  {
   "cell_type": "markdown",
   "metadata": {},
   "source": [
    "BUG:\n",
    "- omp_set_num_threads() doesn't work with local install of swigfaiss"
   ]
  },
  {
   "cell_type": "markdown",
   "metadata": {},
   "source": [
    "You can pip install faiss-cpu to do the release version.   \n",
    "But you can also install local faiss implementation.   \n",
    "For example the build-release version from the crack-ivf project with my custom methods:"
   ]
  },
  {
   "cell_type": "markdown",
   "metadata": {},
   "source": [
    "If in faiss-dev-env and not in the following project:\n",
    "`/home/vmageirakos/projects/crack-ivf`\n",
    "\n",
    "Then you need to navigate to the above and:\n",
    "- you may need to `pip uninstall faiss`"
   ]
  },
  {
   "cell_type": "markdown",
   "metadata": {},
   "source": [
    "Make sure you've compiled swiggfaiss with your changes:\n",
    "``` bash\n",
    "make -C build-release -j swigfaiss\n",
    "cd build-release/faiss/python\n",
    "python setup.py install\n",
    "```"
   ]
  },
  {
   "cell_type": "code",
   "execution_count": 1,
   "metadata": {},
   "outputs": [],
   "source": [
    "from IPython.core.interactiveshell import InteractiveShell\n",
    "InteractiveShell.ast_node_interactivity = \"all\"\n",
    "# InteractiveShell.ast_node_interactivity = \"last\"\n",
    "\n",
    "%load_ext autoreload\n",
    "%autoreload 2"
   ]
  },
  {
   "cell_type": "code",
   "execution_count": 2,
   "metadata": {},
   "outputs": [
    {
     "name": "stdout",
     "output_type": "stream",
     "text": [
      "/home/vmageirakos/enviroments/miniforge3/envs/faiss-dev-env/lib/python3.12/site-packages/faiss-1.9.0-py3.12.egg/faiss/__init__.py\n"
     ]
    }
   ],
   "source": [
    "import faiss\n",
    "print(faiss.__file__)"
   ]
  },
  {
   "cell_type": "code",
   "execution_count": 3,
   "metadata": {},
   "outputs": [],
   "source": [
    "import faiss\n",
    "import numpy as np\n",
    "import time"
   ]
  },
  {
   "cell_type": "code",
   "execution_count": 4,
   "metadata": {},
   "outputs": [],
   "source": [
    "def train_ivfflat(\n",
    "    data,\n",
    "    nlist=10,\n",
    "    km_n_iter=10,\n",
    "    km_max_pts=256,\n",
    "    seed=1,\n",
    "    nredo=1,\n",
    "    verbose=True,\n",
    "    store_dir=None,\n",
    "    metric='euclidean',\n",
    "    store = False,\n",
    "    train_pts=None,\n",
    "):\n",
    "    print(f\"Kmeans... {nlist=} {km_n_iter=} {km_max_pts=} {seed=} {nredo=}\")\n",
    "    nb, d = data.shape\n",
    "\n",
    "    quantizer = faiss.IndexFlatL2(d)\n",
    "    if metric == \"euclidean\":\n",
    "        index = faiss.IndexIVFFlat(quantizer, d, nlist, faiss.METRIC_L2)\n",
    "    elif metric == \"angular\":\n",
    "        index = faiss.IndexIVFFlat(quantizer, d, nlist, faiss.METRIC_INNER_PRODUCT)\n",
    "    \n",
    "    index.cp.seed = seed\n",
    "    index.cp.niter = km_n_iter\n",
    "    index.cp.max_points_per_centroid = km_max_pts\n",
    "    index.cp.nredo = nredo\n",
    "    index.verbose = verbose\n",
    "\n",
    "    strain = time.perf_counter()\n",
    "    if train_pts is not None:\n",
    "        index.train(train_pts)\n",
    "    else:\n",
    "        index.train(data)\n",
    "    etrain = time.perf_counter()\n",
    "\n",
    "    sadd = time.perf_counter()\n",
    "    index.add(data)\n",
    "    eadd = time.perf_counter()\n",
    "\n",
    "    if store_dir is not None:\n",
    "        filename = (\n",
    "            store_dir\n",
    "            + f\"/index-n_iter_{km_n_iter}-nlist_{nlist}-max_pts_{km_max_pts}-seed_{seed}.index\"\n",
    "        )\n",
    "        if store:\n",
    "            print(\"storing index\", filename)\n",
    "            faiss.write_index(index, filename)\n",
    "    \n",
    "    print(f\"\\t---> Index Train Time = {(etrain - strain)*1000} ms | Add Time = {(eadd - sadd)*1000} ms <---\")\n",
    "    return index, etrain - strain, eadd - sadd\n",
    "\n",
    "def create_random_dataset_fast(d=16, nb=100, nq=1, seed=1234):\n",
    "    '''\n",
    "    This is faster than calling SyntheticDataset from FAISS which returns ground truth etc.\n",
    "    '''\n",
    "    # nq = 1                       # nb of queries\n",
    "    np.random.seed(seed)             # make reproducible\n",
    "    xb = np.random.random((nb, d)).astype('float32')\n",
    "    xb[:, 0] += np.arange(nb) / 1000.\n",
    "    xq = np.random.random((nq, d)).astype('float32')\n",
    "    xq[:, 0] += np.arange(nq) / 1000.\n",
    "    print(\"dataset shape:\")\n",
    "    print(f\"{xb.shape=}\")\n",
    "    print(f\"{xq.shape=}\")\n",
    "    return xb, xq"
   ]
  },
  {
   "cell_type": "code",
   "execution_count": 10,
   "metadata": {},
   "outputs": [
    {
     "name": "stdout",
     "output_type": "stream",
     "text": [
      "dataset shape:\n",
      "xb.shape=(100, 5)\n",
      "xq.shape=(2, 5)\n"
     ]
    }
   ],
   "source": [
    "d = 5\n",
    "nb = 100\n",
    "nq = 2\n",
    "seed = 42\n",
    "xb, xq = create_random_dataset_fast(d, nb, nq, seed)"
   ]
  },
  {
   "cell_type": "code",
   "execution_count": 11,
   "metadata": {},
   "outputs": [],
   "source": [
    "nlist = 2\n",
    "n_iter = 0\n",
    "max_pts = 256\n",
    "seed = 42 \n",
    "result_dir= None\n",
    "metric='euclidean'"
   ]
  },
  {
   "cell_type": "code",
   "execution_count": 12,
   "metadata": {},
   "outputs": [],
   "source": [
    "faiss.omp_set_num_threads(1)"
   ]
  },
  {
   "cell_type": "code",
   "execution_count": 13,
   "metadata": {},
   "outputs": [
    {
     "name": "stdout",
     "output_type": "stream",
     "text": [
      "Kmeans... nlist=2 km_n_iter=10 km_max_pts=256 seed=42 nredo=1\n",
      "Training level-1 quantizer\n",
      "Training level-1 quantizer on 100 vectors in 5D\n",
      "Training IVF residual\n",
      "IndexIVF: no residual training\n",
      "\t---> Index Train Time = 97.33075399708468 ms | Add Time = 0.23175900059868582 ms <---\n",
      "IndexIVFFlat::add_core: added 100 / 100 vectors\n"
     ]
    }
   ],
   "source": [
    "index, train_time, add_time = train_ivfflat(\n",
    "    xb,\n",
    "    nlist=nlist,\n",
    "    km_n_iter=10,\n",
    "    km_max_pts=max_pts,\n",
    "    seed=seed,\n",
    "    store_dir=None,  # if you want to store the index\n",
    "    verbose=True,\n",
    "    metric=metric,\n",
    ")"
   ]
  },
  {
   "cell_type": "code",
   "execution_count": 14,
   "metadata": {},
   "outputs": [
    {
     "data": {
      "text/plain": [
       "2"
      ]
     },
     "execution_count": 14,
     "metadata": {},
     "output_type": "execute_result"
    },
    {
     "data": {
      "text/plain": [
       "2"
      ]
     },
     "execution_count": 14,
     "metadata": {},
     "output_type": "execute_result"
    }
   ],
   "source": [
    "index.nlist\n",
    "index.invlists.nlist"
   ]
  },
  {
   "cell_type": "markdown",
   "metadata": {},
   "source": [
    "Test if .add_empty_list() exists:\n",
    "\n",
    "It exists, but you have to downcast (dynamic cast) from inverted list to array inverted list and access it\n",
    "\n",
    "It does not update nlist of the index but it does update the nlist of the invlists..."
   ]
  },
  {
   "cell_type": "code",
   "execution_count": 15,
   "metadata": {},
   "outputs": [],
   "source": [
    "faiss.downcast_InvertedLists(index.invlists).add_empty_list()"
   ]
  },
  {
   "cell_type": "code",
   "execution_count": 16,
   "metadata": {},
   "outputs": [
    {
     "data": {
      "text/plain": [
       "2"
      ]
     },
     "execution_count": 16,
     "metadata": {},
     "output_type": "execute_result"
    },
    {
     "data": {
      "text/plain": [
       "3"
      ]
     },
     "execution_count": 16,
     "metadata": {},
     "output_type": "execute_result"
    }
   ],
   "source": [
    "index.nlist\n",
    "index.invlists.nlist"
   ]
  },
  {
   "cell_type": "code",
   "execution_count": 11,
   "metadata": {},
   "outputs": [
    {
     "data": {
      "text/plain": [
       "['INVALID_CODE_SIZE',\n",
       " 'SUBSET_TYPE_ELEMENT_RANGE',\n",
       " 'SUBSET_TYPE_ID_MOD',\n",
       " 'SUBSET_TYPE_ID_RANGE',\n",
       " 'SUBSET_TYPE_INVLIST',\n",
       " 'SUBSET_TYPE_INVLIST_FRACTION',\n",
       " '__class__',\n",
       " '__delattr__',\n",
       " '__dict__',\n",
       " '__dir__',\n",
       " '__doc__',\n",
       " '__eq__',\n",
       " '__format__',\n",
       " '__ge__',\n",
       " '__getattribute__',\n",
       " '__getstate__',\n",
       " '__gt__',\n",
       " '__hash__',\n",
       " '__init__',\n",
       " '__init_subclass__',\n",
       " '__le__',\n",
       " '__lt__',\n",
       " '__module__',\n",
       " '__ne__',\n",
       " '__new__',\n",
       " '__reduce__',\n",
       " '__reduce_ex__',\n",
       " '__repr__',\n",
       " '__setattr__',\n",
       " '__sizeof__',\n",
       " '__str__',\n",
       " '__subclasshook__',\n",
       " '__swig_destroy__',\n",
       " '__weakref__',\n",
       " 'add_entries',\n",
       " 'add_entry',\n",
       " 'code_size',\n",
       " 'compute_ntotal',\n",
       " 'copy_subset_to',\n",
       " 'get_codes',\n",
       " 'get_ids',\n",
       " 'get_iterator',\n",
       " 'get_single_code',\n",
       " 'get_single_id',\n",
       " 'imbalance_factor',\n",
       " 'is_empty',\n",
       " 'list_size',\n",
       " 'merge_from',\n",
       " 'nlist',\n",
       " 'prefetch_lists',\n",
       " 'print_stats',\n",
       " 'release_codes',\n",
       " 'release_ids',\n",
       " 'reset',\n",
       " 'resize',\n",
       " 'this',\n",
       " 'thisown',\n",
       " 'update_entries',\n",
       " 'update_entry',\n",
       " 'use_iterator']"
      ]
     },
     "execution_count": 11,
     "metadata": {},
     "output_type": "execute_result"
    }
   ],
   "source": [
    "dir(index.invlists)"
   ]
  },
  {
   "cell_type": "markdown",
   "metadata": {},
   "source": [
    "As you can see poitns still in the first two, and the third one is empty"
   ]
  },
  {
   "cell_type": "code",
   "execution_count": 12,
   "metadata": {},
   "outputs": [
    {
     "data": {
      "text/plain": [
       "72"
      ]
     },
     "execution_count": 12,
     "metadata": {},
     "output_type": "execute_result"
    },
    {
     "data": {
      "text/plain": [
       "28"
      ]
     },
     "execution_count": 12,
     "metadata": {},
     "output_type": "execute_result"
    },
    {
     "data": {
      "text/plain": [
       "0"
      ]
     },
     "execution_count": 12,
     "metadata": {},
     "output_type": "execute_result"
    },
    {
     "data": {
      "text/plain": [
       "False"
      ]
     },
     "execution_count": 12,
     "metadata": {},
     "output_type": "execute_result"
    },
    {
     "data": {
      "text/plain": [
       "False"
      ]
     },
     "execution_count": 12,
     "metadata": {},
     "output_type": "execute_result"
    },
    {
     "data": {
      "text/plain": [
       "True"
      ]
     },
     "execution_count": 12,
     "metadata": {},
     "output_type": "execute_result"
    }
   ],
   "source": [
    "index.invlists.list_size(0)\n",
    "index.invlists.list_size(1)\n",
    "index.invlists.list_size(2)\n",
    "# index.invlists.list_size(3) # will throw kernel error & out of bounds\n",
    "index.invlists.is_empty(0)\n",
    "index.invlists.is_empty(1)\n",
    "index.invlists.is_empty(2)"
   ]
  },
  {
   "cell_type": "markdown",
   "metadata": {},
   "source": [
    "Probably cracking works now "
   ]
  },
  {
   "cell_type": "markdown",
   "metadata": {},
   "source": []
  }
 ],
 "metadata": {
  "kernelspec": {
   "display_name": "faiss-dev-env",
   "language": "python",
   "name": "python3"
  },
  "language_info": {
   "codemirror_mode": {
    "name": "ipython",
    "version": 3
   },
   "file_extension": ".py",
   "mimetype": "text/x-python",
   "name": "python",
   "nbconvert_exporter": "python",
   "pygments_lexer": "ipython3",
   "version": "3.12.7"
  }
 },
 "nbformat": 4,
 "nbformat_minor": 2
}
